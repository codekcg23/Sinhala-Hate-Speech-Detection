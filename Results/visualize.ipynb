{
 "cells": [
  {
   "cell_type": "markdown",
   "source": [
    "## Objective\r\n",
    "\r\n",
    "1. Plot results to compare performence of three datasets\r\n",
    "    1. word embedding result gave by highest classifier\r\n",
    "    2. traditional feature result gave by  hig\r\n",
    "    3. ML classifier performence"
   ],
   "metadata": {}
  },
  {
   "cell_type": "markdown",
   "source": [
    "### plot f1 score for each feature set and classifier\r\n"
   ],
   "metadata": {}
  },
  {
   "cell_type": "code",
   "execution_count": 8,
   "source": [
    "## Read result csv files\r\n",
    "w2v = pd.read_csv('word2vec_df_A.csv')\r\n",
    "bow = pd.read_csv('bow_word_df_A.csv')\r\n",
    "bow_char = pd.read_csv('bow_char_df_A.csv')\r\n",
    "tfidf_word = pd.read_csv('tfidf_char_df_A.csv')\r\n",
    "tfidf_char = pd.read_csv('tfidf_word_df_A.csv')"
   ],
   "outputs": [],
   "metadata": {}
  },
  {
   "cell_type": "code",
   "execution_count": 9,
   "source": [
    "import pandas as pd\r\n",
    "df_ML = pd.DataFrame(index =['word freq (BOW)','Char freq','TFIDF word','TFIDF char','W2V CBOW','W2V skip-gram'] ,columns=['LR','SVM', 'NB','RF'])\r\n",
    "df_ML"
   ],
   "outputs": [
    {
     "output_type": "execute_result",
     "data": {
      "text/html": [
       "<div>\n",
       "<style scoped>\n",
       "    .dataframe tbody tr th:only-of-type {\n",
       "        vertical-align: middle;\n",
       "    }\n",
       "\n",
       "    .dataframe tbody tr th {\n",
       "        vertical-align: top;\n",
       "    }\n",
       "\n",
       "    .dataframe thead th {\n",
       "        text-align: right;\n",
       "    }\n",
       "</style>\n",
       "<table border=\"1\" class=\"dataframe\">\n",
       "  <thead>\n",
       "    <tr style=\"text-align: right;\">\n",
       "      <th></th>\n",
       "      <th>LR</th>\n",
       "      <th>SVM</th>\n",
       "      <th>NB</th>\n",
       "      <th>RF</th>\n",
       "    </tr>\n",
       "  </thead>\n",
       "  <tbody>\n",
       "    <tr>\n",
       "      <th>word freq (BOW)</th>\n",
       "      <td>NaN</td>\n",
       "      <td>NaN</td>\n",
       "      <td>NaN</td>\n",
       "      <td>NaN</td>\n",
       "    </tr>\n",
       "    <tr>\n",
       "      <th>Char freq</th>\n",
       "      <td>NaN</td>\n",
       "      <td>NaN</td>\n",
       "      <td>NaN</td>\n",
       "      <td>NaN</td>\n",
       "    </tr>\n",
       "    <tr>\n",
       "      <th>TFIDF word</th>\n",
       "      <td>NaN</td>\n",
       "      <td>NaN</td>\n",
       "      <td>NaN</td>\n",
       "      <td>NaN</td>\n",
       "    </tr>\n",
       "    <tr>\n",
       "      <th>TFIDF char</th>\n",
       "      <td>NaN</td>\n",
       "      <td>NaN</td>\n",
       "      <td>NaN</td>\n",
       "      <td>NaN</td>\n",
       "    </tr>\n",
       "    <tr>\n",
       "      <th>W2V CBOW</th>\n",
       "      <td>NaN</td>\n",
       "      <td>NaN</td>\n",
       "      <td>NaN</td>\n",
       "      <td>NaN</td>\n",
       "    </tr>\n",
       "    <tr>\n",
       "      <th>W2V skip-gram</th>\n",
       "      <td>NaN</td>\n",
       "      <td>NaN</td>\n",
       "      <td>NaN</td>\n",
       "      <td>NaN</td>\n",
       "    </tr>\n",
       "  </tbody>\n",
       "</table>\n",
       "</div>"
      ],
      "text/plain": [
       "                  LR  SVM   NB   RF\n",
       "word freq (BOW)  NaN  NaN  NaN  NaN\n",
       "Char freq        NaN  NaN  NaN  NaN\n",
       "TFIDF word       NaN  NaN  NaN  NaN\n",
       "TFIDF char       NaN  NaN  NaN  NaN\n",
       "W2V CBOW         NaN  NaN  NaN  NaN\n",
       "W2V skip-gram    NaN  NaN  NaN  NaN"
      ]
     },
     "metadata": {},
     "execution_count": 9
    }
   ],
   "metadata": {}
  },
  {
   "cell_type": "code",
   "execution_count": 7,
   "source": [
    "df_ML.iloc[4]=[1,2,3,4]\r\n",
    "df_ML.iloc[5]=\r\n",
    "df_ML"
   ],
   "outputs": [
    {
     "output_type": "error",
     "ename": "SyntaxError",
     "evalue": "invalid syntax (<ipython-input-7-3a6ade6274c9>, line 2)",
     "traceback": [
      "\u001b[1;36m  File \u001b[1;32m\"<ipython-input-7-3a6ade6274c9>\"\u001b[1;36m, line \u001b[1;32m2\u001b[0m\n\u001b[1;33m    df_ML.iloc[5]=\u001b[0m\n\u001b[1;37m                  ^\u001b[0m\n\u001b[1;31mSyntaxError\u001b[0m\u001b[1;31m:\u001b[0m invalid syntax\n"
     ]
    }
   ],
   "metadata": {}
  },
  {
   "cell_type": "markdown",
   "source": [
    "### Plot CNN result"
   ],
   "metadata": {}
  },
  {
   "cell_type": "code",
   "execution_count": null,
   "source": [
    "df_we.plot(kind='bar', figsize=(14, 8), color=['steelblue', 'limegreen', 'violet'])\r\n",
    "\r\n",
    "plt.xticks( rotation=0)\r\n",
    "plt.xlabel('Dataset')\r\n",
    "plt.ylabel('Average Accuracy (%)')\r\n",
    "plt.grid(axis='y')\r\n",
    "\r\n",
    "accuracies = df_we.values.flatten()\r\n",
    "\r\n",
    "plt.annotate(str(round(accuracies[0],1)), xy=(-0.24, accuracies[0]+0.5), color='black')\r\n",
    "plt.annotate(str(round(accuracies[1],1)), xy=(-0.08, accuracies[1]+0.5), color='black')\r\n",
    "plt.annotate(str(round(accuracies[2],1)), xy=(0.09, accuracies[2]+0.5), color='black')\r\n",
    "plt.annotate(str(round(accuracies[3],1)), xy=(0.76, accuracies[3]+0.5), color='black')\r\n",
    "plt.annotate(str(round(accuracies[4],1)), xy=(0.92, accuracies[4]+0.5), color='black')\r\n",
    "plt.annotate(str(round(accuracies[5],1)), xy=(1.09, accuracies[5]+0.5), color='black')\r\n",
    "plt.annotate(str(round(accuracies[6],1)), xy=(1.76, accuracies[6]+0.5), color='black')\r\n",
    "plt.annotate(str(round(accuracies[7],1)), xy=(1.92, accuracies[7]+0.5), color='black')\r\n",
    "plt.annotate(str(round(accuracies[8],1)), xy=(2.09, accuracies[8]+0.5), color='black')\r\n",
    "plt.annotate(str(round(accuracies[9],1)), xy=(2.76, accuracies[9]+0.5), color='black')\r\n",
    "plt.annotate(str(round(accuracies[10],1)), xy=(2.92, accuracies[10]+0.5), color='black')\r\n",
    "plt.annotate(str(round(accuracies[11],1)), xy=(3.09, accuracies[11]+0.5), color='black')\r\n",
    "plt.annotate(str(round(accuracies[12],1)), xy=(3.76, accuracies[12]+0.5), color='black')\r\n",
    "plt.annotate(str(round(accuracies[13],1)), xy=(3.92, accuracies[13]+0.5), color='black')\r\n",
    "plt.annotate(str(round(accuracies[14],1)), xy=(4.09, accuracies[14]+0.5), color='black')\r\n",
    "\r\n",
    "plt.show()\r\n",
    "\r\n"
   ],
   "outputs": [],
   "metadata": {}
  }
 ],
 "metadata": {
  "orig_nbformat": 4,
  "language_info": {
   "name": "python",
   "version": "3.7.6",
   "mimetype": "text/x-python",
   "codemirror_mode": {
    "name": "ipython",
    "version": 3
   },
   "pygments_lexer": "ipython3",
   "nbconvert_exporter": "python",
   "file_extension": ".py"
  },
  "kernelspec": {
   "name": "python3",
   "display_name": "Python 3.7.6 64-bit ('base': conda)"
  },
  "interpreter": {
   "hash": "fbbb7d2143a1d68e1cf272edf0974e702b621cb99b4ee39ce84db3bf0ffb588e"
  }
 },
 "nbformat": 4,
 "nbformat_minor": 2
}