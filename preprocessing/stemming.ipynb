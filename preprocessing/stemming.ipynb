{
 "cells": [
  {
   "cell_type": "code",
   "execution_count": null,
   "source": [],
   "outputs": [],
   "metadata": {}
  },
  {
   "cell_type": "code",
   "execution_count": 1,
   "source": [
    "import neptune\r\n",
    "from neptunecontrib.monitoring.metrics import expand_prediction, log_class_metrics, log_binary_classification_metrics, log_classification_report,log_confusion_matrix,log_prediction_distribution\r\n",
    "from neptunecontrib.api import log_table\r\n",
    "import os\r\n",
    "from dotenv import load_dotenv\r\n",
    "\r\n",
    "load_dotenv()\r\n",
    "NEPTUNE_PROJECT= os.getenv('NEPTUNE_PROJECT')\r\n",
    "NEPTUNE_API_TOKEN = os.getenv(('NEPTUNE_API_TOKEN'))\r\n",
    "neptune.init(project_qualified_name= NEPTUNE_PROJECT,api_token=NEPTUNE_API_TOKEN) \r\n",
    "             "
   ],
   "outputs": [
    {
     "output_type": "execute_result",
     "data": {
      "text/plain": [
       "Project(codekcg23/Research-Experiments)"
      ]
     },
     "metadata": {},
     "execution_count": 1
    }
   ],
   "metadata": {}
  },
  {
   "cell_type": "code",
   "execution_count": 14,
   "source": [
    "import pandas as pd\r\n",
    "import numpy as np\r\n",
    "import matplotlib.pyplot as plt\r\n",
    "from sklearn.feature_extraction.text import CountVectorizer, TfidfVectorizer\r\n",
    "from sklearn.linear_model import LogisticRegression\r\n",
    "from sklearn.naive_bayes import MultinomialNB\r\n",
    "from sklearn.svm import SVC\r\n",
    "from sklearn.model_selection import GridSearchCV,train_test_split\r\n",
    "from sklearn.pipeline import Pipeline\r\n",
    "from sklearn.metrics import classification_report\r\n",
    "#from sklearn.metrics import accuracy_score, f1_score, precision_score,roc_curve,roc_auc_score,confusion_matrix,recall_score\r\n",
    "from sklearn.pipeline import Pipeline\r\n",
    "import re\r\n",
    "import gensim\r\n",
    "pd.set_option('display.max_colwidth', 1000)\r\n",
    "# import helper function script\r\n",
    "import sys\r\n",
    "sys.path.insert(1,'G:\\\\Github\\\\Sinhala-Hate-Speech-Detection')\r\n",
    "import utills\r\n",
    "import sinhala_stemmer"
   ],
   "outputs": [],
   "metadata": {}
  },
  {
   "cell_type": "code",
   "execution_count": 3,
   "source": [
    "# load datasets\r\n",
    "path = '../Datasets/processed/no_preprocessing/'\r\n",
    "df_A = pd.read_csv(path+'df_A.csv')    \r\n",
    "df_B = pd.read_csv(path+'df_B.csv')    # fb dataset -kaggle \r\n",
    "df_A_B = pd.read_csv(path+'df_A_B.csv') \r\n"
   ],
   "outputs": [],
   "metadata": {}
  },
  {
   "cell_type": "markdown",
   "source": [
    "### Create four dataset for n=3 , 4, 5"
   ],
   "metadata": {}
  },
  {
   "cell_type": "code",
   "execution_count": 4,
   "source": [
    "df_A_cleaned = utills.preprocessor(df_A, 'comment')"
   ],
   "outputs": [
    {
     "output_type": "stream",
     "name": "stdout",
     "text": [
      "seperator\n",
      "-url-\n",
      "-mention-\n",
      "-non_sinhala-\n",
      "-special charactrer-\n",
      "-puntuation-\n",
      "-emoji remove-\n",
      "-number-\n"
     ]
    }
   ],
   "metadata": {}
  },
  {
   "cell_type": "code",
   "execution_count": 15,
   "source": [
    "df_A_cleaned.head(n=11)"
   ],
   "outputs": [
    {
     "output_type": "execute_result",
     "data": {
      "text/html": [
       "<div>\n",
       "<style scoped>\n",
       "    .dataframe tbody tr th:only-of-type {\n",
       "        vertical-align: middle;\n",
       "    }\n",
       "\n",
       "    .dataframe tbody tr th {\n",
       "        vertical-align: top;\n",
       "    }\n",
       "\n",
       "    .dataframe thead th {\n",
       "        text-align: right;\n",
       "    }\n",
       "</style>\n",
       "<table border=\"1\" class=\"dataframe\">\n",
       "  <thead>\n",
       "    <tr style=\"text-align: right;\">\n",
       "      <th></th>\n",
       "      <th>comment</th>\n",
       "      <th>label</th>\n",
       "      <th>df</th>\n",
       "      <th>cleaned</th>\n",
       "    </tr>\n",
       "  </thead>\n",
       "  <tbody>\n",
       "    <tr>\n",
       "      <th>0</th>\n",
       "      <td>මේ වේසිට නීතිය ක්‍රියාත්මක වෙන්නෙ කවදාද ?</td>\n",
       "      <td>1</td>\n",
       "      <td>A</td>\n",
       "      <td>මේ වේසිට නීතිය ක්‍රියාත්මක වෙන්නෙ කවදාද</td>\n",
       "    </tr>\n",
       "    <tr>\n",
       "      <th>1</th>\n",
       "      <td>තූ ෙනදකින්</td>\n",
       "      <td>1</td>\n",
       "      <td>A</td>\n",
       "      <td>තූ ෙනදකින්</td>\n",
       "    </tr>\n",
       "    <tr>\n",
       "      <th>2</th>\n",
       "      <td>අම්මා ලුසීඩා කියුවම මට හිතෙන්නම ෆලූඩා කියලා. හිකිස්. ඔව් ඔව් තරුණ වයසේ ගෑණු ළමයි විවිඪ රට වලින් ආශ්‍රය කලාට කමක් නෑ. ලෙඩක් කාරියේ හදා ගත්තම තේරෙයි අප්පගේ ආදර බර පුතාට​.</td>\n",
       "      <td>0</td>\n",
       "      <td>A</td>\n",
       "      <td>අම්මා ලුසීඩා කියුවම මට හිතෙන්නම ෆලූඩා කියලා   හිකිස්   ඔව් ඔව් තරුණ වයසේ ගෑණු ළමයි විවිඪ රට වලින් ආශ්‍රය කලාට කමක් නෑ   ලෙඩක් කාරියේ හදා ගත්තම තේරෙයි අප්පගේ ආදර බර පුතාට</td>\n",
       "    </tr>\n",
       "    <tr>\n",
       "      <th>3</th>\n",
       "      <td>දින ඒකාබද්ධ විපක්ෂයේ මාධ්‍ය ලේකම් රේණුක පෙරේරා මහතාගේ නිවේදනයට අදාාලව අමිත් වීරසිංහ කල මාධ්‍ය සාකච්ඡාව..…</td>\n",
       "      <td>0</td>\n",
       "      <td>A</td>\n",
       "      <td>දින ඒකාබද්ධ විපක්ෂයේ මාධ්‍ය ලේකම් රේණුක පෙරේරා මහතාගේ නිවේදනයට අදාාලව අමිත් වීරසිංහ කල මාධ්‍ය සාකච්ඡාව</td>\n",
       "    </tr>\n",
       "    <tr>\n",
       "      <th>4</th>\n",
       "      <td>පූදින්ෙන නැතුව ඉදිං</td>\n",
       "      <td>1</td>\n",
       "      <td>A</td>\n",
       "      <td>පූදින්ෙන නැතුව ඉදිං</td>\n",
       "    </tr>\n",
       "    <tr>\n",
       "      <th>5</th>\n",
       "      <td>ඇමති පඩිය ඇතිද කියල අහුවම මේකි කියන්නේ වාහන් දෙකයි එයාට තියෙන්නේ කියලා. එතකොට අප්පටයි</td>\n",
       "      <td>1</td>\n",
       "      <td>A</td>\n",
       "      <td>ඇමති පඩිය ඇතිද කියල අහුවම මේකි කියන්නේ වාහන් දෙකයි එයාට තියෙන්නේ කියලා   එතකොට අප්පටයි</td>\n",
       "    </tr>\n",
       "    <tr>\n",
       "      <th>6</th>\n",
       "      <td>මා හෝ ඒකාබද්ධ විපක්ෂය මගින් හෝ දැනට පවතින කිසිම පක්ෂයකින් ඡන්දයකට ඉදිරිපත් වෙනවා කියා නැ.. ඒකාබද්ධ විපක්ෂය වැනි වි…</td>\n",
       "      <td>0</td>\n",
       "      <td>A</td>\n",
       "      <td>මා හෝ ඒකාබද්ධ විපක්ෂය මගින් හෝ දැනට පවතින කිසිම පක්ෂයකින් ඡන්දයකට ඉදිරිපත් වෙනවා කියා නැ     ඒකාබද්ධ විපක්ෂය වැනි වි</td>\n",
       "    </tr>\n",
       "    <tr>\n",
       "      <th>7</th>\n",
       "      <td>උඹ එක්ක එකඟවෙන්න පුලුවන් කථාවක් තමයි අද බොලා කියලා තියෙන්නෙ...මුන්ගෙ සනුහරේම උපන් ගෙයි මරිමෝඩ හැත්තක්...මූ නීති විභාගයෙන් ලංකාවෙන්ම වැඩිම ලකුණු අරගෙන වාර්තා පිහිටුවාලු සමත් උනේ ඒත් උන්ගෙ හිතවතුන්ගෙ සියලුම නඩු වලට නීතිඥයො හොයාගෙන එන්නෙ පිටින්. ලොකු උන් වගේම පොඩි උනුත් කම්බා හොරු...මේ වසල පවුලේ සුබ සිද්දියට කාබාසිනියා කරපු මුදල් ලංකාවෙ සාවර්ධනයට යොදාගත්තා නම් ලංකාව මීට වඩා ගොඩාක් වෙනස් තැනක අද තියෙන්නෙ..තූ නෙදකින්</td>\n",
       "      <td>1</td>\n",
       "      <td>A</td>\n",
       "      <td>උඹ එක්ක එකඟවෙන්න පුලුවන් කථාවක් තමයි අද බොලා කියලා තියෙන්නෙ      මුන්ගෙ සනුහරේම උපන් ගෙයි මරිමෝඩ හැත්තක්      මූ නීති විභාගයෙන් ලංකාවෙන්ම වැඩිම ලකුණු අරගෙන වාර්තා පිහිටුවාලු සමත් උනේ ඒත් උන්ගෙ හිතවතුන්ගෙ සියලුම නඩු වලට නීතිඥයො හොයාගෙන එන්නෙ පිටින්   ලොකු උන් වගේම පොඩි උනුත් කම්බා හොරු      මේ වසල පවුලේ සුබ සිද්දියට කාබාසිනියා කරපු මුදල් ලංකාවෙ සාවර්ධනයට යොදාගත්තා නම් ලංකාව මීට වඩා ගොඩාක් වෙනස් තැනක අද තියෙන්නෙ    තූ නෙදකින්</td>\n",
       "    </tr>\n",
       "    <tr>\n",
       "      <th>8</th>\n",
       "      <td>කොළඹ යුගයේදී කියලා වෙන්න ඇති මගේ හිතේ කියන්න ඇත්තේ.... හිකිස්... ඒ පවුල හරි දැන උගත් පවුලක්නේ මචෝ</td>\n",
       "      <td>0</td>\n",
       "      <td>A</td>\n",
       "      <td>කොළඹ යුගයේදී කියලා වෙන්න ඇති මගේ හිතේ කියන්න ඇත්තේ         හිකිස්       ඒ පවුල හරි දැන උගත් පවුලක්නේ මචෝ</td>\n",
       "    </tr>\n",
       "    <tr>\n",
       "      <th>9</th>\n",
       "      <td>කිමද මේ තරම් කොහේදෝ ඇති විදපු ගලක් හා උරන මා මිතුරු පරය?</td>\n",
       "      <td>0</td>\n",
       "      <td>A</td>\n",
       "      <td>කිමද මේ තරම් කොහේදෝ ඇති විදපු ගලක් හා උරන මා මිතුරු පරය</td>\n",
       "    </tr>\n",
       "    <tr>\n",
       "      <th>10</th>\n",
       "      <td>අපි බෞද්ධයෝ විදිහට ස්භාව දහමටත් මනුෂ්‍යත්වයටත් ආදරේ නිසා</td>\n",
       "      <td>0</td>\n",
       "      <td>A</td>\n",
       "      <td>අපි බෞද්ධයෝ විදිහට ස්භාව දහමටත් මනුෂ්‍යත්වයටත් ආදරේ නිසා</td>\n",
       "    </tr>\n",
       "  </tbody>\n",
       "</table>\n",
       "</div>"
      ],
      "text/plain": [
       "                                                                                                                                                                                                                                                                                                                                                                                                                            comment  \\\n",
       "0                                                                                                                                                                                                                                                                                                                                                                                         මේ වේසිට නීතිය ක්‍රියාත්මක වෙන්නෙ කවදාද ?   \n",
       "1                                                                                                                                                                                                                                                                                                                                                                                                                        තූ ෙනදකින්   \n",
       "2                                                                                                                                                                                                                                                          අම්මා ලුසීඩා කියුවම මට හිතෙන්නම ෆලූඩා කියලා. හිකිස්. ඔව් ඔව් තරුණ වයසේ ගෑණු ළමයි විවිඪ රට වලින් ආශ්‍රය කලාට කමක් නෑ. ලෙඩක් කාරියේ හදා ගත්තම තේරෙයි අප්පගේ ආදර බර පුතාට​.   \n",
       "3                                                                                                                                                                                                                                                                                                                         දින ඒකාබද්ධ විපක්ෂයේ මාධ්‍ය ලේකම් රේණුක පෙරේරා මහතාගේ නිවේදනයට අදාාලව අමිත් වීරසිංහ කල මාධ්‍ය සාකච්ඡාව..…   \n",
       "4                                                                                                                                                                                                                                                                                                                                                                                                               පූදින්ෙන නැතුව ඉදිං   \n",
       "5                                                                                                                                                                                                                                                                                                                                             ඇමති පඩිය ඇතිද කියල අහුවම මේකි කියන්නේ වාහන් දෙකයි එයාට තියෙන්නේ කියලා. එතකොට අප්පටයි   \n",
       "6                                                                                                                                                                                                                                                                                                               මා හෝ ඒකාබද්ධ විපක්ෂය මගින් හෝ දැනට පවතින කිසිම පක්ෂයකින් ඡන්දයකට ඉදිරිපත් වෙනවා කියා නැ.. ඒකාබද්ධ විපක්ෂය වැනි වි…   \n",
       "7   උඹ එක්ක එකඟවෙන්න පුලුවන් කථාවක් තමයි අද බොලා කියලා තියෙන්නෙ...මුන්ගෙ සනුහරේම උපන් ගෙයි මරිමෝඩ හැත්තක්...මූ නීති විභාගයෙන් ලංකාවෙන්ම වැඩිම ලකුණු අරගෙන වාර්තා පිහිටුවාලු සමත් උනේ ඒත් උන්ගෙ හිතවතුන්ගෙ සියලුම නඩු වලට නීතිඥයො හොයාගෙන එන්නෙ පිටින්. ලොකු උන් වගේම පොඩි උනුත් කම්බා හොරු...මේ වසල පවුලේ සුබ සිද්දියට කාබාසිනියා කරපු මුදල් ලංකාවෙ සාවර්ධනයට යොදාගත්තා නම් ලංකාව මීට වඩා ගොඩාක් වෙනස් තැනක අද තියෙන්නෙ..තූ නෙදකින්   \n",
       "8                                                                                                                                                                                                                                                                                                                                 කොළඹ යුගයේදී කියලා වෙන්න ඇති මගේ හිතේ කියන්න ඇත්තේ.... හිකිස්... ඒ පවුල හරි දැන උගත් පවුලක්නේ මචෝ   \n",
       "9                                                                                                                                                                                                                                                                                                                                                                          කිමද මේ තරම් කොහේදෝ ඇති විදපු ගලක් හා උරන මා මිතුරු පරය?   \n",
       "10                                                                                                                                                                                                                                                                                                                                                                        අපි බෞද්ධයෝ විදිහට ස්භාව දහමටත් මනුෂ්‍යත්වයටත් ආදරේ නිසා   \n",
       "\n",
       "    label df  \\\n",
       "0       1  A   \n",
       "1       1  A   \n",
       "2       0  A   \n",
       "3       0  A   \n",
       "4       1  A   \n",
       "5       1  A   \n",
       "6       0  A   \n",
       "7       1  A   \n",
       "8       0  A   \n",
       "9       0  A   \n",
       "10      0  A   \n",
       "\n",
       "                                                                                                                                                                                                                                                                                                                                                                                                                                        cleaned  \n",
       "0                                                                                                                                                                                                                                                                                                                                                                                                    මේ වේසිට නීතිය ක්‍රියාත්මක වෙන්නෙ කවදාද     \n",
       "1                                                                                                                                                                                                                                                                                                                                                                                                                                    තූ ෙනදකින්  \n",
       "2                                                                                                                                                                                                                                                                   අම්මා ලුසීඩා කියුවම මට හිතෙන්නම ෆලූඩා කියලා   හිකිස්   ඔව් ඔව් තරුණ වයසේ ගෑණු ළමයි විවිඪ රට වලින් ආශ්‍රය කලාට කමක් නෑ   ලෙඩක් කාරියේ හදා ගත්තම තේරෙයි අප්පගේ ආදර බර පුතාට    \n",
       "3                                                                                                                                                                                                                                                                                                                                   දින ඒකාබද්ධ විපක්ෂයේ මාධ්‍ය ලේකම් රේණුක පෙරේරා මහතාගේ නිවේදනයට අදාාලව අමිත් වීරසිංහ කල මාධ්‍ය සාකච්ඡාව       \n",
       "4                                                                                                                                                                                                                                                                                                                                                                                                                           පූදින්ෙන නැතුව ඉදිං  \n",
       "5                                                                                                                                                                                                                                                                                                                                                        ඇමති පඩිය ඇතිද කියල අහුවම මේකි කියන්නේ වාහන් දෙකයි එයාට තියෙන්නේ කියලා   එතකොට අප්පටයි  \n",
       "6                                                                                                                                                                                                                                                                                                                         මා හෝ ඒකාබද්ධ විපක්ෂය මගින් හෝ දැනට පවතින කිසිම පක්ෂයකින් ඡන්දයකට ඉදිරිපත් වෙනවා කියා නැ     ඒකාබද්ධ විපක්ෂය වැනි වි   \n",
       "7   උඹ එක්ක එකඟවෙන්න පුලුවන් කථාවක් තමයි අද බොලා කියලා තියෙන්නෙ      මුන්ගෙ සනුහරේම උපන් ගෙයි මරිමෝඩ හැත්තක්      මූ නීති විභාගයෙන් ලංකාවෙන්ම වැඩිම ලකුණු අරගෙන වාර්තා පිහිටුවාලු සමත් උනේ ඒත් උන්ගෙ හිතවතුන්ගෙ සියලුම නඩු වලට නීතිඥයො හොයාගෙන එන්නෙ පිටින්   ලොකු උන් වගේම පොඩි උනුත් කම්බා හොරු      මේ වසල පවුලේ සුබ සිද්දියට කාබාසිනියා කරපු මුදල් ලංකාවෙ සාවර්ධනයට යොදාගත්තා නම් ලංකාව මීට වඩා ගොඩාක් වෙනස් තැනක අද තියෙන්නෙ    තූ නෙදකින්  \n",
       "8                                                                                                                                                                                                                                                                                                                                      කොළඹ යුගයේදී කියලා වෙන්න ඇති මගේ හිතේ කියන්න ඇත්තේ         හිකිස්       ඒ පවුල හරි දැන උගත් පවුලක්නේ මචෝ  \n",
       "9                                                                                                                                                                                                                                                                                                                                                                                     කිමද මේ තරම් කොහේදෝ ඇති විදපු ගලක් හා උරන මා මිතුරු පරය    \n",
       "10                                                                                                                                                                                                                                                                                                                                                                                    අපි බෞද්ධයෝ විදිහට ස්භාව දහමටත් මනුෂ්‍යත්වයටත් ආදරේ නිසා  "
      ]
     },
     "metadata": {},
     "execution_count": 15
    }
   ],
   "metadata": {}
  },
  {
   "cell_type": "code",
   "execution_count": 25,
   "source": [
    "df_A_len_3 = df_A_cleaned.copy()\r\n",
    "df_A_len_4 = df_A_cleaned.copy()\r\n",
    "df_A_len_5 = df_A_cleaned.copy()"
   ],
   "outputs": [],
   "metadata": {}
  },
  {
   "cell_type": "code",
   "execution_count": 26,
   "source": [
    "df_A_len_3['cleaned'] = df_A_len_3['cleaned'].apply( lambda x: utills.custom_stemmer_longerSuffix(x,3))\r\n",
    "df_A_len_4['cleaned'] = df_A_len_4['cleaned'].apply( lambda x: utills.custom_stemmer_longerSuffix(x,4))\r\n",
    "df_A_len_5['cleaned'] = df_A_len_5['cleaned'].apply( lambda x: utills.custom_stemmer_longerSuffix(x,5))\r\n"
   ],
   "outputs": [],
   "metadata": {}
  },
  {
   "cell_type": "code",
   "execution_count": 27,
   "source": [
    "df_A_len_3.head()"
   ],
   "outputs": [
    {
     "output_type": "execute_result",
     "data": {
      "text/html": [
       "<div>\n",
       "<style scoped>\n",
       "    .dataframe tbody tr th:only-of-type {\n",
       "        vertical-align: middle;\n",
       "    }\n",
       "\n",
       "    .dataframe tbody tr th {\n",
       "        vertical-align: top;\n",
       "    }\n",
       "\n",
       "    .dataframe thead th {\n",
       "        text-align: right;\n",
       "    }\n",
       "</style>\n",
       "<table border=\"1\" class=\"dataframe\">\n",
       "  <thead>\n",
       "    <tr style=\"text-align: right;\">\n",
       "      <th></th>\n",
       "      <th>comment</th>\n",
       "      <th>label</th>\n",
       "      <th>df</th>\n",
       "      <th>cleaned</th>\n",
       "    </tr>\n",
       "  </thead>\n",
       "  <tbody>\n",
       "    <tr>\n",
       "      <th>0</th>\n",
       "      <td>මේ වේසිට නීතිය ක්‍රියාත්මක වෙන්නෙ කවදාද ?</td>\n",
       "      <td>1</td>\n",
       "      <td>A</td>\n",
       "      <td>මේ වේසි නීත ක්‍රියාත් වෙ කවදා</td>\n",
       "    </tr>\n",
       "    <tr>\n",
       "      <th>1</th>\n",
       "      <td>තූ ෙනදකින්</td>\n",
       "      <td>1</td>\n",
       "      <td>A</td>\n",
       "      <td>තූ ෙනද</td>\n",
       "    </tr>\n",
       "    <tr>\n",
       "      <th>2</th>\n",
       "      <td>අම්මා ලුසීඩා කියුවම මට හිතෙන්නම ෆලූඩා කියලා. හිකිස්. ඔව් ඔව් තරුණ වයසේ ගෑණු ළමයි විවිඪ රට වලින් ආශ්‍රය කලාට කමක් නෑ. ලෙඩක් කාරියේ හදා ගත්තම තේරෙයි අප්පගේ ආදර බර පුතාට​.</td>\n",
       "      <td>0</td>\n",
       "      <td>A</td>\n",
       "      <td>අම්ම ලුසීඩ කියුව මට හිතෙන්න ෆලූඩ කිය හිකිස ඔව් ඔව් තර වයස ගෑණ ළම විවිඪ රට  ආශ්‍ර ක ක නෑ ලෙඩ කාරි හදා ගත්ත තේරෙ අප්ප ආදර බර පුත</td>\n",
       "    </tr>\n",
       "    <tr>\n",
       "      <th>3</th>\n",
       "      <td>දින ඒකාබද්ධ විපක්ෂයේ මාධ්‍ය ලේකම් රේණුක පෙරේරා මහතාගේ නිවේදනයට අදාාලව අමිත් වීරසිංහ කල මාධ්‍ය සාකච්ඡාව..…</td>\n",
       "      <td>0</td>\n",
       "      <td>A</td>\n",
       "      <td>දින ඒකාබද්ධ විපක්ෂ මාධ්‍ ලේක රේණුක පෙරේර මහත නිවේදන අදාාල අමි වීරසිංහ කල මාධ්‍ සාකච්ඡා</td>\n",
       "    </tr>\n",
       "    <tr>\n",
       "      <th>4</th>\n",
       "      <td>පූදින්ෙන නැතුව ඉදිං</td>\n",
       "      <td>1</td>\n",
       "      <td>A</td>\n",
       "      <td>පූදින්ෙ නැත ඉදිං</td>\n",
       "    </tr>\n",
       "  </tbody>\n",
       "</table>\n",
       "</div>"
      ],
      "text/plain": [
       "                                                                                                                                                                    comment  \\\n",
       "0                                                                                                                                 මේ වේසිට නීතිය ක්‍රියාත්මක වෙන්නෙ කවදාද ?   \n",
       "1                                                                                                                                                                තූ ෙනදකින්   \n",
       "2  අම්මා ලුසීඩා කියුවම මට හිතෙන්නම ෆලූඩා කියලා. හිකිස්. ඔව් ඔව් තරුණ වයසේ ගෑණු ළමයි විවිඪ රට වලින් ආශ්‍රය කලාට කමක් නෑ. ලෙඩක් කාරියේ හදා ගත්තම තේරෙයි අප්පගේ ආදර බර පුතාට​.   \n",
       "3                                                                 දින ඒකාබද්ධ විපක්ෂයේ මාධ්‍ය ලේකම් රේණුක පෙරේරා මහතාගේ නිවේදනයට අදාාලව අමිත් වීරසිංහ කල මාධ්‍ය සාකච්ඡාව..…   \n",
       "4                                                                                                                                                       පූදින්ෙන නැතුව ඉදිං   \n",
       "\n",
       "   label df  \\\n",
       "0      1  A   \n",
       "1      1  A   \n",
       "2      0  A   \n",
       "3      0  A   \n",
       "4      1  A   \n",
       "\n",
       "                                                                                                                          cleaned  \n",
       "0                                                                                                   මේ වේසි නීත ක්‍රියාත් වෙ කවදා  \n",
       "1                                                                                                                          තූ ෙනද  \n",
       "2  අම්ම ලුසීඩ කියුව මට හිතෙන්න ෆලූඩ කිය හිකිස ඔව් ඔව් තර වයස ගෑණ ළම විවිඪ රට  ආශ්‍ර ක ක නෑ ලෙඩ කාරි හදා ගත්ත තේරෙ අප්ප ආදර බර පුත  \n",
       "3                                          දින ඒකාබද්ධ විපක්ෂ මාධ්‍ ලේක රේණුක පෙරේර මහත නිවේදන අදාාල අමි වීරසිංහ කල මාධ්‍ සාකච්ඡා  \n",
       "4                                                                                                                පූදින්ෙ නැත ඉදිං  "
      ]
     },
     "metadata": {},
     "execution_count": 27
    }
   ],
   "metadata": {}
  },
  {
   "cell_type": "code",
   "execution_count": 28,
   "source": [
    "df_A_len_4.head()"
   ],
   "outputs": [
    {
     "output_type": "execute_result",
     "data": {
      "text/html": [
       "<div>\n",
       "<style scoped>\n",
       "    .dataframe tbody tr th:only-of-type {\n",
       "        vertical-align: middle;\n",
       "    }\n",
       "\n",
       "    .dataframe tbody tr th {\n",
       "        vertical-align: top;\n",
       "    }\n",
       "\n",
       "    .dataframe thead th {\n",
       "        text-align: right;\n",
       "    }\n",
       "</style>\n",
       "<table border=\"1\" class=\"dataframe\">\n",
       "  <thead>\n",
       "    <tr style=\"text-align: right;\">\n",
       "      <th></th>\n",
       "      <th>comment</th>\n",
       "      <th>label</th>\n",
       "      <th>df</th>\n",
       "      <th>cleaned</th>\n",
       "    </tr>\n",
       "  </thead>\n",
       "  <tbody>\n",
       "    <tr>\n",
       "      <th>0</th>\n",
       "      <td>මේ වේසිට නීතිය ක්‍රියාත්මක වෙන්නෙ කවදාද ?</td>\n",
       "      <td>1</td>\n",
       "      <td>A</td>\n",
       "      <td>මේ වේසි නීත ක්‍රියාත් වෙ කවදා</td>\n",
       "    </tr>\n",
       "    <tr>\n",
       "      <th>1</th>\n",
       "      <td>තූ ෙනදකින්</td>\n",
       "      <td>1</td>\n",
       "      <td>A</td>\n",
       "      <td>තූ ෙනද</td>\n",
       "    </tr>\n",
       "    <tr>\n",
       "      <th>2</th>\n",
       "      <td>අම්මා ලුසීඩා කියුවම මට හිතෙන්නම ෆලූඩා කියලා. හිකිස්. ඔව් ඔව් තරුණ වයසේ ගෑණු ළමයි විවිඪ රට වලින් ආශ්‍රය කලාට කමක් නෑ. ලෙඩක් කාරියේ හදා ගත්තම තේරෙයි අප්පගේ ආදර බර පුතාට​.</td>\n",
       "      <td>0</td>\n",
       "      <td>A</td>\n",
       "      <td>අම්ම ලුසීඩ කියුව මට හිතෙන්න ෆලූඩ කිය හිකිස ඔව් ඔව් තරුණ වයසේ ගෑණු ළමයි විවිඪ රට  ආශ්‍ර කලාට කමක් නෑ ලෙඩ කාරි හදා ගත්ත තේරෙ අප්ප ආදර බර පුත</td>\n",
       "    </tr>\n",
       "    <tr>\n",
       "      <th>3</th>\n",
       "      <td>දින ඒකාබද්ධ විපක්ෂයේ මාධ්‍ය ලේකම් රේණුක පෙරේරා මහතාගේ නිවේදනයට අදාාලව අමිත් වීරසිංහ කල මාධ්‍ය සාකච්ඡාව..…</td>\n",
       "      <td>0</td>\n",
       "      <td>A</td>\n",
       "      <td>දින ඒකාබද්ධ විපක්ෂ මාධ්‍ ලේක රේණුක පෙරේර මහත නිවේදන අදාාල අමි වීරසිංහ කල මාධ්‍ සාකච්ඡා</td>\n",
       "    </tr>\n",
       "    <tr>\n",
       "      <th>4</th>\n",
       "      <td>පූදින්ෙන නැතුව ඉදිං</td>\n",
       "      <td>1</td>\n",
       "      <td>A</td>\n",
       "      <td>පූදින්ෙ නැත ඉදිං</td>\n",
       "    </tr>\n",
       "  </tbody>\n",
       "</table>\n",
       "</div>"
      ],
      "text/plain": [
       "                                                                                                                                                                    comment  \\\n",
       "0                                                                                                                                 මේ වේසිට නීතිය ක්‍රියාත්මක වෙන්නෙ කවදාද ?   \n",
       "1                                                                                                                                                                තූ ෙනදකින්   \n",
       "2  අම්මා ලුසීඩා කියුවම මට හිතෙන්නම ෆලූඩා කියලා. හිකිස්. ඔව් ඔව් තරුණ වයසේ ගෑණු ළමයි විවිඪ රට වලින් ආශ්‍රය කලාට කමක් නෑ. ලෙඩක් කාරියේ හදා ගත්තම තේරෙයි අප්පගේ ආදර බර පුතාට​.   \n",
       "3                                                                 දින ඒකාබද්ධ විපක්ෂයේ මාධ්‍ය ලේකම් රේණුක පෙරේරා මහතාගේ නිවේදනයට අදාාලව අමිත් වීරසිංහ කල මාධ්‍ය සාකච්ඡාව..…   \n",
       "4                                                                                                                                                       පූදින්ෙන නැතුව ඉදිං   \n",
       "\n",
       "   label df  \\\n",
       "0      1  A   \n",
       "1      1  A   \n",
       "2      0  A   \n",
       "3      0  A   \n",
       "4      1  A   \n",
       "\n",
       "                                                                                                                                      cleaned  \n",
       "0                                                                                                               මේ වේසි නීත ක්‍රියාත් වෙ කවදා  \n",
       "1                                                                                                                                      තූ ෙනද  \n",
       "2  අම්ම ලුසීඩ කියුව මට හිතෙන්න ෆලූඩ කිය හිකිස ඔව් ඔව් තරුණ වයසේ ගෑණු ළමයි විවිඪ රට  ආශ්‍ර කලාට කමක් නෑ ලෙඩ කාරි හදා ගත්ත තේරෙ අප්ප ආදර බර පුත  \n",
       "3                                                      දින ඒකාබද්ධ විපක්ෂ මාධ්‍ ලේක රේණුක පෙරේර මහත නිවේදන අදාාල අමි වීරසිංහ කල මාධ්‍ සාකච්ඡා  \n",
       "4                                                                                                                            පූදින්ෙ නැත ඉදිං  "
      ]
     },
     "metadata": {},
     "execution_count": 28
    }
   ],
   "metadata": {}
  },
  {
   "cell_type": "code",
   "execution_count": 29,
   "source": [
    "df_A_len_5.head()"
   ],
   "outputs": [
    {
     "output_type": "execute_result",
     "data": {
      "text/html": [
       "<div>\n",
       "<style scoped>\n",
       "    .dataframe tbody tr th:only-of-type {\n",
       "        vertical-align: middle;\n",
       "    }\n",
       "\n",
       "    .dataframe tbody tr th {\n",
       "        vertical-align: top;\n",
       "    }\n",
       "\n",
       "    .dataframe thead th {\n",
       "        text-align: right;\n",
       "    }\n",
       "</style>\n",
       "<table border=\"1\" class=\"dataframe\">\n",
       "  <thead>\n",
       "    <tr style=\"text-align: right;\">\n",
       "      <th></th>\n",
       "      <th>comment</th>\n",
       "      <th>label</th>\n",
       "      <th>df</th>\n",
       "      <th>cleaned</th>\n",
       "    </tr>\n",
       "  </thead>\n",
       "  <tbody>\n",
       "    <tr>\n",
       "      <th>0</th>\n",
       "      <td>මේ වේසිට නීතිය ක්‍රියාත්මක වෙන්නෙ කවදාද ?</td>\n",
       "      <td>1</td>\n",
       "      <td>A</td>\n",
       "      <td>මේ වේසිට නීතිය ක්‍රියාත් වෙ කවදාද</td>\n",
       "    </tr>\n",
       "    <tr>\n",
       "      <th>1</th>\n",
       "      <td>තූ ෙනදකින්</td>\n",
       "      <td>1</td>\n",
       "      <td>A</td>\n",
       "      <td>තූ ෙනද</td>\n",
       "    </tr>\n",
       "    <tr>\n",
       "      <th>2</th>\n",
       "      <td>අම්මා ලුසීඩා කියුවම මට හිතෙන්නම ෆලූඩා කියලා. හිකිස්. ඔව් ඔව් තරුණ වයසේ ගෑණු ළමයි විවිඪ රට වලින් ආශ්‍රය කලාට කමක් නෑ. ලෙඩක් කාරියේ හදා ගත්තම තේරෙයි අප්පගේ ආදර බර පුතාට​.</td>\n",
       "      <td>0</td>\n",
       "      <td>A</td>\n",
       "      <td>අම්මා ලුසීඩ කියුව මට හිතෙන්න ෆලූඩා කියලා හිකිස ඔව් ඔව් තරුණ වයසේ ගෑණු ළමයි විවිඪ රට වලින් ආශ්‍ර කලාට කමක් නෑ ලෙඩක් කාරි හදා ගත්තම තේරෙ අප්ප ආදර බර පුතාට</td>\n",
       "    </tr>\n",
       "    <tr>\n",
       "      <th>3</th>\n",
       "      <td>දින ඒකාබද්ධ විපක්ෂයේ මාධ්‍ය ලේකම් රේණුක පෙරේරා මහතාගේ නිවේදනයට අදාාලව අමිත් වීරසිංහ කල මාධ්‍ය සාකච්ඡාව..…</td>\n",
       "      <td>0</td>\n",
       "      <td>A</td>\n",
       "      <td>දින ඒකාබද්ධ විපක්ෂ මාධ්‍ ලේකම් රේණුක පෙරේර මහත නිවේදන අදාාල අමිත් වීරසිංහ කල මාධ්‍ සාකච්ඡා</td>\n",
       "    </tr>\n",
       "    <tr>\n",
       "      <th>4</th>\n",
       "      <td>පූදින්ෙන නැතුව ඉදිං</td>\n",
       "      <td>1</td>\n",
       "      <td>A</td>\n",
       "      <td>පූදින්ෙ නැතුව ඉදිං</td>\n",
       "    </tr>\n",
       "  </tbody>\n",
       "</table>\n",
       "</div>"
      ],
      "text/plain": [
       "                                                                                                                                                                    comment  \\\n",
       "0                                                                                                                                 මේ වේසිට නීතිය ක්‍රියාත්මක වෙන්නෙ කවදාද ?   \n",
       "1                                                                                                                                                                තූ ෙනදකින්   \n",
       "2  අම්මා ලුසීඩා කියුවම මට හිතෙන්නම ෆලූඩා කියලා. හිකිස්. ඔව් ඔව් තරුණ වයසේ ගෑණු ළමයි විවිඪ රට වලින් ආශ්‍රය කලාට කමක් නෑ. ලෙඩක් කාරියේ හදා ගත්තම තේරෙයි අප්පගේ ආදර බර පුතාට​.   \n",
       "3                                                                 දින ඒකාබද්ධ විපක්ෂයේ මාධ්‍ය ලේකම් රේණුක පෙරේරා මහතාගේ නිවේදනයට අදාාලව අමිත් වීරසිංහ කල මාධ්‍ය සාකච්ඡාව..…   \n",
       "4                                                                                                                                                       පූදින්ෙන නැතුව ඉදිං   \n",
       "\n",
       "   label df  \\\n",
       "0      1  A   \n",
       "1      1  A   \n",
       "2      0  A   \n",
       "3      0  A   \n",
       "4      1  A   \n",
       "\n",
       "                                                                                                                                                    cleaned  \n",
       "0                                                                                                                         මේ වේසිට නීතිය ක්‍රියාත් වෙ කවදාද  \n",
       "1                                                                                                                                                    තූ ෙනද  \n",
       "2  අම්මා ලුසීඩ කියුව මට හිතෙන්න ෆලූඩා කියලා හිකිස ඔව් ඔව් තරුණ වයසේ ගෑණු ළමයි විවිඪ රට වලින් ආශ්‍ර කලාට කමක් නෑ ලෙඩක් කාරි හදා ගත්තම තේරෙ අප්ප ආදර බර පුතාට  \n",
       "3                                                                දින ඒකාබද්ධ විපක්ෂ මාධ්‍ ලේකම් රේණුක පෙරේර මහත නිවේදන අදාාල අමිත් වීරසිංහ කල මාධ්‍ සාකච්ඡා  \n",
       "4                                                                                                                                        පූදින්ෙ නැතුව ඉදිං  "
      ]
     },
     "metadata": {},
     "execution_count": 29
    }
   ],
   "metadata": {}
  },
  {
   "cell_type": "code",
   "execution_count": 30,
   "source": [
    "def log_result(Y_test, Y_pred, name, df_name, feature_name, model_name):\r\n",
    "\r\n",
    "    import neptune\r\n",
    "    from neptunecontrib.monitoring.metrics import expand_prediction, log_class_metrics, log_binary_classification_metrics, log_classification_report, log_confusion_matrix, log_prediction_distribution\r\n",
    "    from neptunecontrib.api import log_table\r\n",
    "    import os\r\n",
    "    from dotenv import load_dotenv\r\n",
    "\r\n",
    "    load_dotenv()\r\n",
    "    NEPTUNE_PROJECT = os.getenv('NEPTUNE_PROJECT')\r\n",
    "    NEPTUNE_API_TOKEN = os.getenv(('NEPTUNE_API_TOKEN'))\r\n",
    "    neptune.init(project_qualified_name=NEPTUNE_PROJECT,\r\n",
    "                 api_token=NEPTUNE_API_TOKEN)\r\n",
    "\r\n",
    "    print(\"========= Eperiment - \", name, \" =========\")\r\n",
    "    neptune.create_experiment(name)\r\n",
    "    neptune.append_tag([\"Stemming length check\",df_name,feature_name, model_name, name])\r\n",
    "\r\n",
    "    log_class_metrics(Y_test, Y_pred)\r\n",
    "    log_confusion_matrix(Y_test, Y_pred)\r\n",
    "    log_classification_report(Y_test, Y_pred)"
   ],
   "outputs": [],
   "metadata": {}
  },
  {
   "cell_type": "code",
   "execution_count": 31,
   "source": [
    "folder_path = 'G:\\\\Github\\\\Sinhala-Hate-Speech-Detection\\\\Datasets\\\\processed\\\\preprocessed\\\\'\r\n",
    "def classifier_feature(datasets,models,features):\r\n",
    "    final_result =pd.DataFrame(columns=['Accuracy','F1-score','Recall','Precision','AUC'])\r\n",
    "    for df_name,df in datasets.items():\r\n",
    "        df_result =pd.DataFrame(columns=['Accuracy','F1-score','Recall','Precision','AUC'])\r\n",
    "        #X_train,X_test,Y_train,Y_test = utills.prepare_dataset(df,df_name)\r\n",
    "\r\n",
    "        ## -- shorter stem --\r\n",
    "        #df = utills.preprocessor(df, 'comment',custom_stem_shorter=True)\r\n",
    "\r\n",
    "        ## -- longer stem --\r\n",
    "        #df = utills.preprocessor(df, 'comment')\r\n",
    "        #df.to_csv(os.path.join(folder_path,f'{df_name}.csv'), index=False)\r\n",
    "\r\n",
    "        X_train, X_test, Y_train, Y_test = train_test_split(df['cleaned'], df['label'], test_size=0.3, random_state=0, stratify=df['label'].values)\r\n",
    "        \r\n",
    "        for feature_name,feature in features.items():\r\n",
    "            feature_result =pd.DataFrame(columns=['Accuracy','F1-score','Recall','Precision','AUC'])\r\n",
    "            X_train_f,X_test_f = feature(X_train,X_test)\r\n",
    "            for model_name,model in models.items():\r\n",
    "                name = df_name + \"+\" + feature_name+ \"+\"+ model_name\r\n",
    "                print(name)\r\n",
    "                Y_pred = model(X_train_f,X_test_f,Y_train)\r\n",
    "                accuracy, f1_score, recall, precision, auc = utills.result(Y_test,Y_pred)\r\n",
    "                final_result.loc[name] = [accuracy, f1_score, recall, precision, auc]\r\n",
    "                feature_result.loc[model_name] =[accuracy, f1_score, recall, precision, auc]\r\n",
    "                key =model_name + \"+\"+ feature_name\r\n",
    "                df_result.loc[key] = [accuracy, f1_score, recall, precision, auc]\r\n",
    "                log_result(Y_test,Y_pred,name,df_name,feature_name,model_name)\r\n",
    "            print(\" ==== \",feature_name ,\" ==== \")\r\n",
    "            display(feature_result)\r\n",
    "            log_table(feature_name,feature_result)\r\n",
    "        print(\" ==== \",df_name ,\" ==== \")\r\n",
    "        display(df_result)\r\n",
    "        log_table(df_name,df_result)\r\n",
    "    display(final_result)\r\n",
    "    log_table(name,final_result)\r\n",
    "\r\n"
   ],
   "outputs": [],
   "metadata": {}
  },
  {
   "cell_type": "code",
   "execution_count": 33,
   "source": [
    "df_dict = {'df_A_len_3':df_A_len_3,'df_A_len_4': df_A_len_4,'df_A_len_5' :df_A_len_5}\r\n",
    "# model dict\r\n",
    "model_dict = {\"LR\":utills.lr}\r\n",
    "classifier_feature(df_dict, model_dict,{'bow':utills.bow_word})"
   ],
   "outputs": [
    {
     "output_type": "stream",
     "name": "stdout",
     "text": [
      "df_A_len_3+bow+LR\n",
      "              precision    recall  f1-score   support\n",
      "\n",
      "           0       0.85      0.94      0.89      1337\n",
      "           1       0.82      0.64      0.72       604\n",
      "\n",
      "    accuracy                           0.85      1941\n",
      "   macro avg       0.84      0.79      0.81      1941\n",
      "weighted avg       0.84      0.85      0.84      1941\n",
      "\n"
     ]
    },
    {
     "output_type": "display_data",
     "data": {
      "image/png": "[encoded data removed]",
      "text/plain": [
       "<Figure size 432x288 with 1 Axes>"
      ]
     },
     "metadata": {
      "needs_background": "light"
     }
    },
    {
     "output_type": "display_data",
     "data": {
      "application/vnd.plotly.v1+json": {
       "config": {
        "plotlyServerURL": "https://plot.ly"
       },
       "data": [
        {
         "line": {
          "color": "black",
          "dash": "dash"
         },
         "name": "TPR = FPR",
         "type": "scatter",
         "x": [
          0,
          1
         ],
         "y": [
          0,
          1
         ]
        },
        {
         "marker": {
          "color": "green"
         },
         "name": "LR(AUC=0.7901524119928475)",
         "type": "scatter",
         "x": [
          0,
          0.06207928197456993,
          1
         ],
         "y": [
          0,
          0.6423841059602649,
          1
         ]
        }
       ],
       "layout": {
        "template": {
         "data": {
          "bar": [
           {
            "error_x": {
             "color": "#2a3f5f"
            },
            "error_y": {
             "color": "#2a3f5f"
            },
            "marker": {
             "line": {
              "color": "#E5ECF6",
              "width": 0.5
             }
            },
            "type": "bar"
           }
          ],
          "barpolar": [
           {
            "marker": {
             "line": {
              "color": "#E5ECF6",
              "width": 0.5
             }
            },
            "type": "barpolar"
           }
          ],
          "carpet": [
           {
            "aaxis": {
             "endlinecolor": "#2a3f5f",
             "gridcolor": "white",
             "linecolor": "white",
             "minorgridcolor": "white",
             "startlinecolor": "#2a3f5f"
            },
            "baxis": {
             "endlinecolor": "#2a3f5f",
             "gridcolor": "white",
             "linecolor": "white",
             "minorgridcolor": "white",
             "startlinecolor": "#2a3f5f"
            },
            "type": "carpet"
           }
          ],
          "choropleth": [
           {
            "colorbar": {
             "outlinewidth": 0,
             "ticks": ""
            },
            "type": "choropleth"
           }
          ],
          "contour": [
           {
            "colorbar": {
             "outlinewidth": 0,
             "ticks": ""
            },
            "colorscale": [
             [
              0,
              "#0d0887"
             ],
             [
              0.1111111111111111,
              "#46039f"
             ],
             [
              0.2222222222222222,
              "#7201a8"
             ],
             [
              0.3333333333333333,
              "#9c179e"
             ],
             [
              0.4444444444444444,
              "#bd3786"
             ],
             [
              0.5555555555555556,
              "#d8576b"
             ],
             [
              0.6666666666666666,
              "#ed7953"
             ],
             [
              0.7777777777777778,
              "#fb9f3a"
             ],
             [
              0.8888888888888888,
              "#fdca26"
             ],
             [
              1,
              "#f0f921"
             ]
            ],
            "type": "contour"
           }
          ],
          "contourcarpet": [
           {
            "colorbar": {
             "outlinewidth": 0,
             "ticks": ""
            },
            "type": "contourcarpet"
           }
          ],
          "heatmap": [
           {
            "colorbar": {
             "outlinewidth": 0,
             "ticks": ""
            },
            "colorscale": [
             [
              0,
              "#0d0887"
             ],
             [
              0.1111111111111111,
              "#46039f"
             ],
             [
              0.2222222222222222,
              "#7201a8"
             ],
             [
              0.3333333333333333,
              "#9c179e"
             ],
             [
              0.4444444444444444,
              "#bd3786"
             ],
             [
              0.5555555555555556,
              "#d8576b"
             ],
             [
              0.6666666666666666,
              "#ed7953"
             ],
             [
              0.7777777777777778,
              "#fb9f3a"
             ],
             [
              0.8888888888888888,
              "#fdca26"
             ],
             [
              1,
              "#f0f921"
             ]
            ],
            "type": "heatmap"
           }
          ],
          "heatmapgl": [
           {
            "colorbar": {
             "outlinewidth": 0,
             "ticks": ""
            },
            "colorscale": [
             [
              0,
              "#0d0887"
             ],
             [
              0.1111111111111111,
              "#46039f"
             ],
             [
              0.2222222222222222,
              "#7201a8"
             ],
             [
              0.3333333333333333,
              "#9c179e"
             ],
             [
              0.4444444444444444,
              "#bd3786"
             ],
             [
              0.5555555555555556,
              "#d8576b"
             ],
             [
              0.6666666666666666,
              "#ed7953"
             ],
             [
              0.7777777777777778,
              "#fb9f3a"
             ],
             [
              0.8888888888888888,
              "#fdca26"
             ],
             [
              1,
              "#f0f921"
             ]
            ],
            "type": "heatmapgl"
           }
          ],
          "histogram": [
           {
            "marker": {
             "colorbar": {
              "outlinewidth": 0,
              "ticks": ""
             }
            },
            "type": "histogram"
           }
          ],
          "histogram2d": [
           {
            "colorbar": {
             "outlinewidth": 0,
             "ticks": ""
            },
            "colorscale": [
             [
              0,
              "#0d0887"
             ],
             [
              0.1111111111111111,
              "#46039f"
             ],
             [
              0.2222222222222222,
              "#7201a8"
             ],
             [
              0.3333333333333333,
              "#9c179e"
             ],
             [
              0.4444444444444444,
              "#bd3786"
             ],
             [
              0.5555555555555556,
              "#d8576b"
             ],
             [
              0.6666666666666666,
              "#ed7953"
             ],
             [
              0.7777777777777778,
              "#fb9f3a"
             ],
             [
              0.8888888888888888,
              "#fdca26"
             ],
             [
              1,
              "#f0f921"
             ]
            ],
            "type": "histogram2d"
           }
          ],
          "histogram2dcontour": [
           {
            "colorbar": {
             "outlinewidth": 0,
             "ticks": ""
            },
            "colorscale": [
             [
              0,
              "#0d0887"
             ],
             [
              0.1111111111111111,
              "#46039f"
             ],
             [
              0.2222222222222222,
              "#7201a8"
             ],
             [
              0.3333333333333333,
              "#9c179e"
             ],
             [
              0.4444444444444444,
              "#bd3786"
             ],
             [
              0.5555555555555556,
              "#d8576b"
             ],
             [
              0.6666666666666666,
              "#ed7953"
             ],
             [
              0.7777777777777778,
              "#fb9f3a"
             ],
             [
              0.8888888888888888,
              "#fdca26"
             ],
             [
              1,
              "#f0f921"
             ]
            ],
            "type": "histogram2dcontour"
           }
          ],
          "mesh3d": [
           {
            "colorbar": {
             "outlinewidth": 0,
             "ticks": ""
            },
            "type": "mesh3d"
           }
          ],
          "parcoords": [
           {
            "line": {
             "colorbar": {
              "outlinewidth": 0,
              "ticks": ""
             }
            },
            "type": "parcoords"
           }
          ],
          "pie": [
           {
            "automargin": true,
            "type": "pie"
           }
          ],
          "scatter": [
           {
            "marker": {
             "colorbar": {
              "outlinewidth": 0,
              "ticks": ""
             }
            },
            "type": "scatter"
           }
          ],
          "scatter3d": [
           {
            "line": {
             "colorbar": {
              "outlinewidth": 0,
              "ticks": ""
             }
            },
            "marker": {
             "colorbar": {
              "outlinewidth": 0,
              "ticks": ""
             }
            },
            "type": "scatter3d"
           }
          ],
          "scattercarpet": [
           {
            "marker": {
             "colorbar": {
              "outlinewidth": 0,
              "ticks": ""
             }
            },
            "type": "scattercarpet"
           }
          ],
          "scattergeo": [
           {
            "marker": {
             "colorbar": {
              "outlinewidth": 0,
              "ticks": ""
             }
            },
            "type": "scattergeo"
           }
          ],
          "scattergl": [
           {
            "marker": {
             "colorbar": {
              "outlinewidth": 0,
              "ticks": ""
             }
            },
            "type": "scattergl"
           }
          ],
          "scattermapbox": [
           {
            "marker": {
             "colorbar": {
              "outlinewidth": 0,
              "ticks": ""
             }
            },
            "type": "scattermapbox"
           }
          ],
          "scatterpolar": [
           {
            "marker": {
             "colorbar": {
              "outlinewidth": 0,
              "ticks": ""
             }
            },
            "type": "scatterpolar"
           }
          ],
          "scatterpolargl": [
           {
            "marker": {
             "colorbar": {
              "outlinewidth": 0,
              "ticks": ""
             }
            },
            "type": "scatterpolargl"
           }
          ],
          "scatterternary": [
           {
            "marker": {
             "colorbar": {
              "outlinewidth": 0,
              "ticks": ""
             }
            },
            "type": "scatterternary"
           }
          ],
          "surface": [
           {
            "colorbar": {
             "outlinewidth": 0,
             "ticks": ""
            },
            "colorscale": [
             [
              0,
              "#0d0887"
             ],
             [
              0.1111111111111111,
              "#46039f"
             ],
             [
              0.2222222222222222,
              "#7201a8"
             ],
             [
              0.3333333333333333,
              "#9c179e"
             ],
             [
              0.4444444444444444,
              "#bd3786"
             ],
             [
              0.5555555555555556,
              "#d8576b"
             ],
             [
              0.6666666666666666,
              "#ed7953"
             ],
             [
              0.7777777777777778,
              "#fb9f3a"
             ],
             [
              0.8888888888888888,
              "#fdca26"
             ],
             [
              1,
              "#f0f921"
             ]
            ],
            "type": "surface"
           }
          ],
          "table": [
           {
            "cells": {
             "fill": {
              "color": "#EBF0F8"
             },
             "line": {
              "color": "white"
             }
            },
            "header": {
             "fill": {
              "color": "#C8D4E3"
             },
             "line": {
              "color": "white"
             }
            },
            "type": "table"
           }
          ]
         },
         "layout": {
          "annotationdefaults": {
           "arrowcolor": "#2a3f5f",
           "arrowhead": 0,
           "arrowwidth": 1
          },
          "autotypenumbers": "strict",
          "coloraxis": {
           "colorbar": {
            "outlinewidth": 0,
            "ticks": ""
           }
          },
          "colorscale": {
           "diverging": [
            [
             0,
             "#8e0152"
            ],
            [
             0.1,
             "#c51b7d"
            ],
            [
             0.2,
             "#de77ae"
            ],
            [
             0.3,
             "#f1b6da"
            ],
            [
             0.4,
             "#fde0ef"
            ],
            [
             0.5,
             "#f7f7f7"
            ],
            [
             0.6,
             "#e6f5d0"
            ],
            [
             0.7,
             "#b8e186"
            ],
            [
             0.8,
             "#7fbc41"
            ],
            [
             0.9,
             "#4d9221"
            ],
            [
             1,
             "#276419"
            ]
           ],
           "sequential": [
            [
             0,
             "#0d0887"
            ],
            [
             0.1111111111111111,
             "#46039f"
            ],
            [
             0.2222222222222222,
             "#7201a8"
            ],
            [
             0.3333333333333333,
             "#9c179e"
            ],
            [
             0.4444444444444444,
             "#bd3786"
            ],
            [
             0.5555555555555556,
             "#d8576b"
            ],
            [
             0.6666666666666666,
             "#ed7953"
            ],
            [
             0.7777777777777778,
             "#fb9f3a"
            ],
            [
             0.8888888888888888,
             "#fdca26"
            ],
            [
             1,
             "#f0f921"
            ]
           ],
           "sequentialminus": [
            [
             0,
             "#0d0887"
            ],
            [
             0.1111111111111111,
             "#46039f"
            ],
            [
             0.2222222222222222,
             "#7201a8"
            ],
            [
             0.3333333333333333,
             "#9c179e"
            ],
            [
             0.4444444444444444,
             "#bd3786"
            ],
            [
             0.5555555555555556,
             "#d8576b"
            ],
            [
             0.6666666666666666,
             "#ed7953"
            ],
            [
             0.7777777777777778,
             "#fb9f3a"
            ],
            [
             0.8888888888888888,
             "#fdca26"
            ],
            [
             1,
             "#f0f921"
            ]
           ]
          },
          "colorway": [
           "#636efa",
           "#EF553B",
           "#00cc96",
           "#ab63fa",
           "#FFA15A",
           "#19d3f3",
           "#FF6692",
           "#B6E880",
           "#FF97FF",
           "#FECB52"
          ],
          "font": {
           "color": "#2a3f5f"
          },
          "geo": {
           "bgcolor": "white",
           "lakecolor": "white",
           "landcolor": "#E5ECF6",
           "showlakes": true,
           "showland": true,
           "subunitcolor": "white"
          },
          "hoverlabel": {
           "align": "left"
          },
          "hovermode": "closest",
          "mapbox": {
           "style": "light"
          },
          "paper_bgcolor": "white",
          "plot_bgcolor": "#E5ECF6",
          "polar": {
           "angularaxis": {
            "gridcolor": "white",
            "linecolor": "white",
            "ticks": ""
           },
           "bgcolor": "#E5ECF6",
           "radialaxis": {
            "gridcolor": "white",
            "linecolor": "white",
            "ticks": ""
           }
          },
          "scene": {
           "xaxis": {
            "backgroundcolor": "#E5ECF6",
            "gridcolor": "white",
            "gridwidth": 2,
            "linecolor": "white",
            "showbackground": true,
            "ticks": "",
            "zerolinecolor": "white"
           },
           "yaxis": {
            "backgroundcolor": "#E5ECF6",
            "gridcolor": "white",
            "gridwidth": 2,
            "linecolor": "white",
            "showbackground": true,
            "ticks": "",
            "zerolinecolor": "white"
           },
           "zaxis": {
            "backgroundcolor": "#E5ECF6",
            "gridcolor": "white",
            "gridwidth": 2,
            "linecolor": "white",
            "showbackground": true,
            "ticks": "",
            "zerolinecolor": "white"
           }
          },
          "shapedefaults": {
           "line": {
            "color": "#2a3f5f"
           }
          },
          "ternary": {
           "aaxis": {
            "gridcolor": "white",
            "linecolor": "white",
            "ticks": ""
           },
           "baxis": {
            "gridcolor": "white",
            "linecolor": "white",
            "ticks": ""
           },
           "bgcolor": "#E5ECF6",
           "caxis": {
            "gridcolor": "white",
            "linecolor": "white",
            "ticks": ""
           }
          },
          "title": {
           "x": 0.05
          },
          "xaxis": {
           "automargin": true,
           "gridcolor": "white",
           "linecolor": "white",
           "ticks": "",
           "title": {
            "standoff": 15
           },
           "zerolinecolor": "white",
           "zerolinewidth": 2
          },
          "yaxis": {
           "automargin": true,
           "gridcolor": "white",
           "linecolor": "white",
           "ticks": "",
           "title": {
            "standoff": 15
           },
           "zerolinecolor": "white",
           "zerolinewidth": 2
          }
         }
        },
        "title": {
         "text": "ROC curve"
        },
        "xaxis": {
         "title": {
          "text": "False Positive Rate"
         }
        },
        "yaxis": {
         "title": {
          "text": "True Positive Rate"
         }
        }
       }
      }
     },
     "metadata": {}
    },
    {
     "output_type": "stream",
     "name": "stdout",
     "text": [
      "========= Eperiment -  df_A_len_3+bow+LR  =========\n"
     ]
    },
    {
     "output_type": "stream",
     "name": "stderr",
     "text": [
      "Info (NVML): NVML Shared Library Not Found. GPU usage metrics may not be reported. For more information, see https://docs-legacy.neptune.ai/logging-and-managing-experiment-results/logging-experiment-data.html#hardware-consumption \n"
     ]
    },
    {
     "output_type": "stream",
     "name": "stdout",
     "text": [
      "https://app.neptune.ai/codekcg23/Research-Experiments/e/RES-425\n",
      " ====  bow  ==== \n"
     ]
    },
    {
     "output_type": "display_data",
     "data": {
      "text/html": [
       "<div>\n",
       "<style scoped>\n",
       "    .dataframe tbody tr th:only-of-type {\n",
       "        vertical-align: middle;\n",
       "    }\n",
       "\n",
       "    .dataframe tbody tr th {\n",
       "        vertical-align: top;\n",
       "    }\n",
       "\n",
       "    .dataframe thead th {\n",
       "        text-align: right;\n",
       "    }\n",
       "</style>\n",
       "<table border=\"1\" class=\"dataframe\">\n",
       "  <thead>\n",
       "    <tr style=\"text-align: right;\">\n",
       "      <th></th>\n",
       "      <th>Accuracy</th>\n",
       "      <th>F1-score</th>\n",
       "      <th>Recall</th>\n",
       "      <th>Precision</th>\n",
       "      <th>AUC</th>\n",
       "    </tr>\n",
       "  </thead>\n",
       "  <tbody>\n",
       "    <tr>\n",
       "      <th>LR</th>\n",
       "      <td>0.845956</td>\n",
       "      <td>0.72186</td>\n",
       "      <td>0.642384</td>\n",
       "      <td>0.823779</td>\n",
       "      <td>0.790152</td>\n",
       "    </tr>\n",
       "  </tbody>\n",
       "</table>\n",
       "</div>"
      ],
      "text/plain": [
       "    Accuracy  F1-score    Recall  Precision       AUC\n",
       "LR  0.845956   0.72186  0.642384   0.823779  0.790152"
      ]
     },
     "metadata": {}
    },
    {
     "output_type": "stream",
     "name": "stdout",
     "text": [
      " ====  df_A_len_3  ==== \n"
     ]
    },
    {
     "output_type": "display_data",
     "data": {
      "text/html": [
       "<div>\n",
       "<style scoped>\n",
       "    .dataframe tbody tr th:only-of-type {\n",
       "        vertical-align: middle;\n",
       "    }\n",
       "\n",
       "    .dataframe tbody tr th {\n",
       "        vertical-align: top;\n",
       "    }\n",
       "\n",
       "    .dataframe thead th {\n",
       "        text-align: right;\n",
       "    }\n",
       "</style>\n",
       "<table border=\"1\" class=\"dataframe\">\n",
       "  <thead>\n",
       "    <tr style=\"text-align: right;\">\n",
       "      <th></th>\n",
       "      <th>Accuracy</th>\n",
       "      <th>F1-score</th>\n",
       "      <th>Recall</th>\n",
       "      <th>Precision</th>\n",
       "      <th>AUC</th>\n",
       "    </tr>\n",
       "  </thead>\n",
       "  <tbody>\n",
       "    <tr>\n",
       "      <th>LR+bow</th>\n",
       "      <td>0.845956</td>\n",
       "      <td>0.72186</td>\n",
       "      <td>0.642384</td>\n",
       "      <td>0.823779</td>\n",
       "      <td>0.790152</td>\n",
       "    </tr>\n",
       "  </tbody>\n",
       "</table>\n",
       "</div>"
      ],
      "text/plain": [
       "        Accuracy  F1-score    Recall  Precision       AUC\n",
       "LR+bow  0.845956   0.72186  0.642384   0.823779  0.790152"
      ]
     },
     "metadata": {}
    },
    {
     "output_type": "stream",
     "name": "stdout",
     "text": [
      "df_A_len_4+bow+LR\n",
      "              precision    recall  f1-score   support\n",
      "\n",
      "           0       0.85      0.93      0.89      1337\n",
      "           1       0.80      0.64      0.71       604\n",
      "\n",
      "    accuracy                           0.84      1941\n",
      "   macro avg       0.83      0.78      0.80      1941\n",
      "weighted avg       0.84      0.84      0.83      1941\n",
      "\n"
     ]
    },
    {
     "output_type": "display_data",
     "data": {
      "image/png": "[encoded data removed]",
      "text/plain": [
       "<Figure size 432x288 with 1 Axes>"
      ]
     },
     "metadata": {
      "needs_background": "light"
     }
    },
    {
     "output_type": "display_data",
     "data": {
      "application/vnd.plotly.v1+json": {
       "config": {
        "plotlyServerURL": "https://plot.ly"
       },
       "data": [
        {
         "line": {
          "color": "black",
          "dash": "dash"
         },
         "name": "TPR = FPR",
         "type": "scatter",
         "x": [
          0,
          1
         ],
         "y": [
          0,
          1
         ]
        },
        {
         "marker": {
          "color": "green"
         },
         "name": "LR(AUC=0.7840889953290702)",
         "type": "scatter",
         "x": [
          0,
          0.07255048616305161,
          1
         ],
         "y": [
          0,
          0.640728476821192,
          1
         ]
        }
       ],
       "layout": {
        "template": {
         "data": {
          "bar": [
           {
            "error_x": {
             "color": "#2a3f5f"
            },
            "error_y": {
             "color": "#2a3f5f"
            },
            "marker": {
             "line": {
              "color": "#E5ECF6",
              "width": 0.5
             }
            },
            "type": "bar"
           }
          ],
          "barpolar": [
           {
            "marker": {
             "line": {
              "color": "#E5ECF6",
              "width": 0.5
             }
            },
            "type": "barpolar"
           }
          ],
          "carpet": [
           {
            "aaxis": {
             "endlinecolor": "#2a3f5f",
             "gridcolor": "white",
             "linecolor": "white",
             "minorgridcolor": "white",
             "startlinecolor": "#2a3f5f"
            },
            "baxis": {
             "endlinecolor": "#2a3f5f",
             "gridcolor": "white",
             "linecolor": "white",
             "minorgridcolor": "white",
             "startlinecolor": "#2a3f5f"
            },
            "type": "carpet"
           }
          ],
          "choropleth": [
           {
            "colorbar": {
             "outlinewidth": 0,
             "ticks": ""
            },
            "type": "choropleth"
           }
          ],
          "contour": [
           {
            "colorbar": {
             "outlinewidth": 0,
             "ticks": ""
            },
            "colorscale": [
             [
              0,
              "#0d0887"
             ],
             [
              0.1111111111111111,
              "#46039f"
             ],
             [
              0.2222222222222222,
              "#7201a8"
             ],
             [
              0.3333333333333333,
              "#9c179e"
             ],
             [
              0.4444444444444444,
              "#bd3786"
             ],
             [
              0.5555555555555556,
              "#d8576b"
             ],
             [
              0.6666666666666666,
              "#ed7953"
             ],
             [
              0.7777777777777778,
              "#fb9f3a"
             ],
             [
              0.8888888888888888,
              "#fdca26"
             ],
             [
              1,
              "#f0f921"
             ]
            ],
            "type": "contour"
           }
          ],
          "contourcarpet": [
           {
            "colorbar": {
             "outlinewidth": 0,
             "ticks": ""
            },
            "type": "contourcarpet"
           }
          ],
          "heatmap": [
           {
            "colorbar": {
             "outlinewidth": 0,
             "ticks": ""
            },
            "colorscale": [
             [
              0,
              "#0d0887"
             ],
             [
              0.1111111111111111,
              "#46039f"
             ],
             [
              0.2222222222222222,
              "#7201a8"
             ],
             [
              0.3333333333333333,
              "#9c179e"
             ],
             [
              0.4444444444444444,
              "#bd3786"
             ],
             [
              0.5555555555555556,
              "#d8576b"
             ],
             [
              0.6666666666666666,
              "#ed7953"
             ],
             [
              0.7777777777777778,
              "#fb9f3a"
             ],
             [
              0.8888888888888888,
              "#fdca26"
             ],
             [
              1,
              "#f0f921"
             ]
            ],
            "type": "heatmap"
           }
          ],
          "heatmapgl": [
           {
            "colorbar": {
             "outlinewidth": 0,
             "ticks": ""
            },
            "colorscale": [
             [
              0,
              "#0d0887"
             ],
             [
              0.1111111111111111,
              "#46039f"
             ],
             [
              0.2222222222222222,
              "#7201a8"
             ],
             [
              0.3333333333333333,
              "#9c179e"
             ],
             [
              0.4444444444444444,
              "#bd3786"
             ],
             [
              0.5555555555555556,
              "#d8576b"
             ],
             [
              0.6666666666666666,
              "#ed7953"
             ],
             [
              0.7777777777777778,
              "#fb9f3a"
             ],
             [
              0.8888888888888888,
              "#fdca26"
             ],
             [
              1,
              "#f0f921"
             ]
            ],
            "type": "heatmapgl"
           }
          ],
          "histogram": [
           {
            "marker": {
             "colorbar": {
              "outlinewidth": 0,
              "ticks": ""
             }
            },
            "type": "histogram"
           }
          ],
          "histogram2d": [
           {
            "colorbar": {
             "outlinewidth": 0,
             "ticks": ""
            },
            "colorscale": [
             [
              0,
              "#0d0887"
             ],
             [
              0.1111111111111111,
              "#46039f"
             ],
             [
              0.2222222222222222,
              "#7201a8"
             ],
             [
              0.3333333333333333,
              "#9c179e"
             ],
             [
              0.4444444444444444,
              "#bd3786"
             ],
             [
              0.5555555555555556,
              "#d8576b"
             ],
             [
              0.6666666666666666,
              "#ed7953"
             ],
             [
              0.7777777777777778,
              "#fb9f3a"
             ],
             [
              0.8888888888888888,
              "#fdca26"
             ],
             [
              1,
              "#f0f921"
             ]
            ],
            "type": "histogram2d"
           }
          ],
          "histogram2dcontour": [
           {
            "colorbar": {
             "outlinewidth": 0,
             "ticks": ""
            },
            "colorscale": [
             [
              0,
              "#0d0887"
             ],
             [
              0.1111111111111111,
              "#46039f"
             ],
             [
              0.2222222222222222,
              "#7201a8"
             ],
             [
              0.3333333333333333,
              "#9c179e"
             ],
             [
              0.4444444444444444,
              "#bd3786"
             ],
             [
              0.5555555555555556,
              "#d8576b"
             ],
             [
              0.6666666666666666,
              "#ed7953"
             ],
             [
              0.7777777777777778,
              "#fb9f3a"
             ],
             [
              0.8888888888888888,
              "#fdca26"
             ],
             [
              1,
              "#f0f921"
             ]
            ],
            "type": "histogram2dcontour"
           }
          ],
          "mesh3d": [
           {
            "colorbar": {
             "outlinewidth": 0,
             "ticks": ""
            },
            "type": "mesh3d"
           }
          ],
          "parcoords": [
           {
            "line": {
             "colorbar": {
              "outlinewidth": 0,
              "ticks": ""
             }
            },
            "type": "parcoords"
           }
          ],
          "pie": [
           {
            "automargin": true,
            "type": "pie"
           }
          ],
          "scatter": [
           {
            "marker": {
             "colorbar": {
              "outlinewidth": 0,
              "ticks": ""
             }
            },
            "type": "scatter"
           }
          ],
          "scatter3d": [
           {
            "line": {
             "colorbar": {
              "outlinewidth": 0,
              "ticks": ""
             }
            },
            "marker": {
             "colorbar": {
              "outlinewidth": 0,
              "ticks": ""
             }
            },
            "type": "scatter3d"
           }
          ],
          "scattercarpet": [
           {
            "marker": {
             "colorbar": {
              "outlinewidth": 0,
              "ticks": ""
             }
            },
            "type": "scattercarpet"
           }
          ],
          "scattergeo": [
           {
            "marker": {
             "colorbar": {
              "outlinewidth": 0,
              "ticks": ""
             }
            },
            "type": "scattergeo"
           }
          ],
          "scattergl": [
           {
            "marker": {
             "colorbar": {
              "outlinewidth": 0,
              "ticks": ""
             }
            },
            "type": "scattergl"
           }
          ],
          "scattermapbox": [
           {
            "marker": {
             "colorbar": {
              "outlinewidth": 0,
              "ticks": ""
             }
            },
            "type": "scattermapbox"
           }
          ],
          "scatterpolar": [
           {
            "marker": {
             "colorbar": {
              "outlinewidth": 0,
              "ticks": ""
             }
            },
            "type": "scatterpolar"
           }
          ],
          "scatterpolargl": [
           {
            "marker": {
             "colorbar": {
              "outlinewidth": 0,
              "ticks": ""
             }
            },
            "type": "scatterpolargl"
           }
          ],
          "scatterternary": [
           {
            "marker": {
             "colorbar": {
              "outlinewidth": 0,
              "ticks": ""
             }
            },
            "type": "scatterternary"
           }
          ],
          "surface": [
           {
            "colorbar": {
             "outlinewidth": 0,
             "ticks": ""
            },
            "colorscale": [
             [
              0,
              "#0d0887"
             ],
             [
              0.1111111111111111,
              "#46039f"
             ],
             [
              0.2222222222222222,
              "#7201a8"
             ],
             [
              0.3333333333333333,
              "#9c179e"
             ],
             [
              0.4444444444444444,
              "#bd3786"
             ],
             [
              0.5555555555555556,
              "#d8576b"
             ],
             [
              0.6666666666666666,
              "#ed7953"
             ],
             [
              0.7777777777777778,
              "#fb9f3a"
             ],
             [
              0.8888888888888888,
              "#fdca26"
             ],
             [
              1,
              "#f0f921"
             ]
            ],
            "type": "surface"
           }
          ],
          "table": [
           {
            "cells": {
             "fill": {
              "color": "#EBF0F8"
             },
             "line": {
              "color": "white"
             }
            },
            "header": {
             "fill": {
              "color": "#C8D4E3"
             },
             "line": {
              "color": "white"
             }
            },
            "type": "table"
           }
          ]
         },
         "layout": {
          "annotationdefaults": {
           "arrowcolor": "#2a3f5f",
           "arrowhead": 0,
           "arrowwidth": 1
          },
          "autotypenumbers": "strict",
          "coloraxis": {
           "colorbar": {
            "outlinewidth": 0,
            "ticks": ""
           }
          },
          "colorscale": {
           "diverging": [
            [
             0,
             "#8e0152"
            ],
            [
             0.1,
             "#c51b7d"
            ],
            [
             0.2,
             "#de77ae"
            ],
            [
             0.3,
             "#f1b6da"
            ],
            [
             0.4,
             "#fde0ef"
            ],
            [
             0.5,
             "#f7f7f7"
            ],
            [
             0.6,
             "#e6f5d0"
            ],
            [
             0.7,
             "#b8e186"
            ],
            [
             0.8,
             "#7fbc41"
            ],
            [
             0.9,
             "#4d9221"
            ],
            [
             1,
             "#276419"
            ]
           ],
           "sequential": [
            [
             0,
             "#0d0887"
            ],
            [
             0.1111111111111111,
             "#46039f"
            ],
            [
             0.2222222222222222,
             "#7201a8"
            ],
            [
             0.3333333333333333,
             "#9c179e"
            ],
            [
             0.4444444444444444,
             "#bd3786"
            ],
            [
             0.5555555555555556,
             "#d8576b"
            ],
            [
             0.6666666666666666,
             "#ed7953"
            ],
            [
             0.7777777777777778,
             "#fb9f3a"
            ],
            [
             0.8888888888888888,
             "#fdca26"
            ],
            [
             1,
             "#f0f921"
            ]
           ],
           "sequentialminus": [
            [
             0,
             "#0d0887"
            ],
            [
             0.1111111111111111,
             "#46039f"
            ],
            [
             0.2222222222222222,
             "#7201a8"
            ],
            [
             0.3333333333333333,
             "#9c179e"
            ],
            [
             0.4444444444444444,
             "#bd3786"
            ],
            [
             0.5555555555555556,
             "#d8576b"
            ],
            [
             0.6666666666666666,
             "#ed7953"
            ],
            [
             0.7777777777777778,
             "#fb9f3a"
            ],
            [
             0.8888888888888888,
             "#fdca26"
            ],
            [
             1,
             "#f0f921"
            ]
           ]
          },
          "colorway": [
           "#636efa",
           "#EF553B",
           "#00cc96",
           "#ab63fa",
           "#FFA15A",
           "#19d3f3",
           "#FF6692",
           "#B6E880",
           "#FF97FF",
           "#FECB52"
          ],
          "font": {
           "color": "#2a3f5f"
          },
          "geo": {
           "bgcolor": "white",
           "lakecolor": "white",
           "landcolor": "#E5ECF6",
           "showlakes": true,
           "showland": true,
           "subunitcolor": "white"
          },
          "hoverlabel": {
           "align": "left"
          },
          "hovermode": "closest",
          "mapbox": {
           "style": "light"
          },
          "paper_bgcolor": "white",
          "plot_bgcolor": "#E5ECF6",
          "polar": {
           "angularaxis": {
            "gridcolor": "white",
            "linecolor": "white",
            "ticks": ""
           },
           "bgcolor": "#E5ECF6",
           "radialaxis": {
            "gridcolor": "white",
            "linecolor": "white",
            "ticks": ""
           }
          },
          "scene": {
           "xaxis": {
            "backgroundcolor": "#E5ECF6",
            "gridcolor": "white",
            "gridwidth": 2,
            "linecolor": "white",
            "showbackground": true,
            "ticks": "",
            "zerolinecolor": "white"
           },
           "yaxis": {
            "backgroundcolor": "#E5ECF6",
            "gridcolor": "white",
            "gridwidth": 2,
            "linecolor": "white",
            "showbackground": true,
            "ticks": "",
            "zerolinecolor": "white"
           },
           "zaxis": {
            "backgroundcolor": "#E5ECF6",
            "gridcolor": "white",
            "gridwidth": 2,
            "linecolor": "white",
            "showbackground": true,
            "ticks": "",
            "zerolinecolor": "white"
           }
          },
          "shapedefaults": {
           "line": {
            "color": "#2a3f5f"
           }
          },
          "ternary": {
           "aaxis": {
            "gridcolor": "white",
            "linecolor": "white",
            "ticks": ""
           },
           "baxis": {
            "gridcolor": "white",
            "linecolor": "white",
            "ticks": ""
           },
           "bgcolor": "#E5ECF6",
           "caxis": {
            "gridcolor": "white",
            "linecolor": "white",
            "ticks": ""
           }
          },
          "title": {
           "x": 0.05
          },
          "xaxis": {
           "automargin": true,
           "gridcolor": "white",
           "linecolor": "white",
           "ticks": "",
           "title": {
            "standoff": 15
           },
           "zerolinecolor": "white",
           "zerolinewidth": 2
          },
          "yaxis": {
           "automargin": true,
           "gridcolor": "white",
           "linecolor": "white",
           "ticks": "",
           "title": {
            "standoff": 15
           },
           "zerolinecolor": "white",
           "zerolinewidth": 2
          }
         }
        },
        "title": {
         "text": "ROC curve"
        },
        "xaxis": {
         "title": {
          "text": "False Positive Rate"
         }
        },
        "yaxis": {
         "title": {
          "text": "True Positive Rate"
         }
        }
       }
      }
     },
     "metadata": {}
    },
    {
     "output_type": "stream",
     "name": "stdout",
     "text": [
      "========= Eperiment -  df_A_len_4+bow+LR  =========\n",
      "https://app.neptune.ai/codekcg23/Research-Experiments/e/RES-426\n",
      " ====  bow  ==== \n"
     ]
    },
    {
     "output_type": "display_data",
     "data": {
      "text/html": [
       "<div>\n",
       "<style scoped>\n",
       "    .dataframe tbody tr th:only-of-type {\n",
       "        vertical-align: middle;\n",
       "    }\n",
       "\n",
       "    .dataframe tbody tr th {\n",
       "        vertical-align: top;\n",
       "    }\n",
       "\n",
       "    .dataframe thead th {\n",
       "        text-align: right;\n",
       "    }\n",
       "</style>\n",
       "<table border=\"1\" class=\"dataframe\">\n",
       "  <thead>\n",
       "    <tr style=\"text-align: right;\">\n",
       "      <th></th>\n",
       "      <th>Accuracy</th>\n",
       "      <th>F1-score</th>\n",
       "      <th>Recall</th>\n",
       "      <th>Precision</th>\n",
       "      <th>AUC</th>\n",
       "    </tr>\n",
       "  </thead>\n",
       "  <tbody>\n",
       "    <tr>\n",
       "      <th>LR</th>\n",
       "      <td>0.838228</td>\n",
       "      <td>0.711397</td>\n",
       "      <td>0.640728</td>\n",
       "      <td>0.799587</td>\n",
       "      <td>0.784089</td>\n",
       "    </tr>\n",
       "  </tbody>\n",
       "</table>\n",
       "</div>"
      ],
      "text/plain": [
       "    Accuracy  F1-score    Recall  Precision       AUC\n",
       "LR  0.838228  0.711397  0.640728   0.799587  0.784089"
      ]
     },
     "metadata": {}
    },
    {
     "output_type": "stream",
     "name": "stdout",
     "text": [
      " ====  df_A_len_4  ==== \n"
     ]
    },
    {
     "output_type": "display_data",
     "data": {
      "text/html": [
       "<div>\n",
       "<style scoped>\n",
       "    .dataframe tbody tr th:only-of-type {\n",
       "        vertical-align: middle;\n",
       "    }\n",
       "\n",
       "    .dataframe tbody tr th {\n",
       "        vertical-align: top;\n",
       "    }\n",
       "\n",
       "    .dataframe thead th {\n",
       "        text-align: right;\n",
       "    }\n",
       "</style>\n",
       "<table border=\"1\" class=\"dataframe\">\n",
       "  <thead>\n",
       "    <tr style=\"text-align: right;\">\n",
       "      <th></th>\n",
       "      <th>Accuracy</th>\n",
       "      <th>F1-score</th>\n",
       "      <th>Recall</th>\n",
       "      <th>Precision</th>\n",
       "      <th>AUC</th>\n",
       "    </tr>\n",
       "  </thead>\n",
       "  <tbody>\n",
       "    <tr>\n",
       "      <th>LR+bow</th>\n",
       "      <td>0.838228</td>\n",
       "      <td>0.711397</td>\n",
       "      <td>0.640728</td>\n",
       "      <td>0.799587</td>\n",
       "      <td>0.784089</td>\n",
       "    </tr>\n",
       "  </tbody>\n",
       "</table>\n",
       "</div>"
      ],
      "text/plain": [
       "        Accuracy  F1-score    Recall  Precision       AUC\n",
       "LR+bow  0.838228  0.711397  0.640728   0.799587  0.784089"
      ]
     },
     "metadata": {}
    },
    {
     "output_type": "stream",
     "name": "stdout",
     "text": [
      "df_A_len_5+bow+LR\n",
      "              precision    recall  f1-score   support\n",
      "\n",
      "           0       0.85      0.92      0.88      1337\n",
      "           1       0.78      0.64      0.70       604\n",
      "\n",
      "    accuracy                           0.83      1941\n",
      "   macro avg       0.82      0.78      0.79      1941\n",
      "weighted avg       0.83      0.83      0.83      1941\n",
      "\n"
     ]
    },
    {
     "output_type": "display_data",
     "data": {
      "image/png": "[encoded data removed]",
      "text/plain": [
       "<Figure size 432x288 with 1 Axes>"
      ]
     },
     "metadata": {
      "needs_background": "light"
     }
    },
    {
     "output_type": "display_data",
     "data": {
      "application/vnd.plotly.v1+json": {
       "config": {
        "plotlyServerURL": "https://plot.ly"
       },
       "data": [
        {
         "line": {
          "color": "black",
          "dash": "dash"
         },
         "name": "TPR = FPR",
         "type": "scatter",
         "x": [
          0,
          1
         ],
         "y": [
          0,
          1
         ]
        },
        {
         "marker": {
          "color": "green"
         },
         "name": "LR(AUC=0.7778658358388605)",
         "type": "scatter",
         "x": [
          0,
          0.0800299177262528,
          1
         ],
         "y": [
          0,
          0.6357615894039735,
          1
         ]
        }
       ],
       "layout": {
        "template": {
         "data": {
          "bar": [
           {
            "error_x": {
             "color": "#2a3f5f"
            },
            "error_y": {
             "color": "#2a3f5f"
            },
            "marker": {
             "line": {
              "color": "#E5ECF6",
              "width": 0.5
             }
            },
            "type": "bar"
           }
          ],
          "barpolar": [
           {
            "marker": {
             "line": {
              "color": "#E5ECF6",
              "width": 0.5
             }
            },
            "type": "barpolar"
           }
          ],
          "carpet": [
           {
            "aaxis": {
             "endlinecolor": "#2a3f5f",
             "gridcolor": "white",
             "linecolor": "white",
             "minorgridcolor": "white",
             "startlinecolor": "#2a3f5f"
            },
            "baxis": {
             "endlinecolor": "#2a3f5f",
             "gridcolor": "white",
             "linecolor": "white",
             "minorgridcolor": "white",
             "startlinecolor": "#2a3f5f"
            },
            "type": "carpet"
           }
          ],
          "choropleth": [
           {
            "colorbar": {
             "outlinewidth": 0,
             "ticks": ""
            },
            "type": "choropleth"
           }
          ],
          "contour": [
           {
            "colorbar": {
             "outlinewidth": 0,
             "ticks": ""
            },
            "colorscale": [
             [
              0,
              "#0d0887"
             ],
             [
              0.1111111111111111,
              "#46039f"
             ],
             [
              0.2222222222222222,
              "#7201a8"
             ],
             [
              0.3333333333333333,
              "#9c179e"
             ],
             [
              0.4444444444444444,
              "#bd3786"
             ],
             [
              0.5555555555555556,
              "#d8576b"
             ],
             [
              0.6666666666666666,
              "#ed7953"
             ],
             [
              0.7777777777777778,
              "#fb9f3a"
             ],
             [
              0.8888888888888888,
              "#fdca26"
             ],
             [
              1,
              "#f0f921"
             ]
            ],
            "type": "contour"
           }
          ],
          "contourcarpet": [
           {
            "colorbar": {
             "outlinewidth": 0,
             "ticks": ""
            },
            "type": "contourcarpet"
           }
          ],
          "heatmap": [
           {
            "colorbar": {
             "outlinewidth": 0,
             "ticks": ""
            },
            "colorscale": [
             [
              0,
              "#0d0887"
             ],
             [
              0.1111111111111111,
              "#46039f"
             ],
             [
              0.2222222222222222,
              "#7201a8"
             ],
             [
              0.3333333333333333,
              "#9c179e"
             ],
             [
              0.4444444444444444,
              "#bd3786"
             ],
             [
              0.5555555555555556,
              "#d8576b"
             ],
             [
              0.6666666666666666,
              "#ed7953"
             ],
             [
              0.7777777777777778,
              "#fb9f3a"
             ],
             [
              0.8888888888888888,
              "#fdca26"
             ],
             [
              1,
              "#f0f921"
             ]
            ],
            "type": "heatmap"
           }
          ],
          "heatmapgl": [
           {
            "colorbar": {
             "outlinewidth": 0,
             "ticks": ""
            },
            "colorscale": [
             [
              0,
              "#0d0887"
             ],
             [
              0.1111111111111111,
              "#46039f"
             ],
             [
              0.2222222222222222,
              "#7201a8"
             ],
             [
              0.3333333333333333,
              "#9c179e"
             ],
             [
              0.4444444444444444,
              "#bd3786"
             ],
             [
              0.5555555555555556,
              "#d8576b"
             ],
             [
              0.6666666666666666,
              "#ed7953"
             ],
             [
              0.7777777777777778,
              "#fb9f3a"
             ],
             [
              0.8888888888888888,
              "#fdca26"
             ],
             [
              1,
              "#f0f921"
             ]
            ],
            "type": "heatmapgl"
           }
          ],
          "histogram": [
           {
            "marker": {
             "colorbar": {
              "outlinewidth": 0,
              "ticks": ""
             }
            },
            "type": "histogram"
           }
          ],
          "histogram2d": [
           {
            "colorbar": {
             "outlinewidth": 0,
             "ticks": ""
            },
            "colorscale": [
             [
              0,
              "#0d0887"
             ],
             [
              0.1111111111111111,
              "#46039f"
             ],
             [
              0.2222222222222222,
              "#7201a8"
             ],
             [
              0.3333333333333333,
              "#9c179e"
             ],
             [
              0.4444444444444444,
              "#bd3786"
             ],
             [
              0.5555555555555556,
              "#d8576b"
             ],
             [
              0.6666666666666666,
              "#ed7953"
             ],
             [
              0.7777777777777778,
              "#fb9f3a"
             ],
             [
              0.8888888888888888,
              "#fdca26"
             ],
             [
              1,
              "#f0f921"
             ]
            ],
            "type": "histogram2d"
           }
          ],
          "histogram2dcontour": [
           {
            "colorbar": {
             "outlinewidth": 0,
             "ticks": ""
            },
            "colorscale": [
             [
              0,
              "#0d0887"
             ],
             [
              0.1111111111111111,
              "#46039f"
             ],
             [
              0.2222222222222222,
              "#7201a8"
             ],
             [
              0.3333333333333333,
              "#9c179e"
             ],
             [
              0.4444444444444444,
              "#bd3786"
             ],
             [
              0.5555555555555556,
              "#d8576b"
             ],
             [
              0.6666666666666666,
              "#ed7953"
             ],
             [
              0.7777777777777778,
              "#fb9f3a"
             ],
             [
              0.8888888888888888,
              "#fdca26"
             ],
             [
              1,
              "#f0f921"
             ]
            ],
            "type": "histogram2dcontour"
           }
          ],
          "mesh3d": [
           {
            "colorbar": {
             "outlinewidth": 0,
             "ticks": ""
            },
            "type": "mesh3d"
           }
          ],
          "parcoords": [
           {
            "line": {
             "colorbar": {
              "outlinewidth": 0,
              "ticks": ""
             }
            },
            "type": "parcoords"
           }
          ],
          "pie": [
           {
            "automargin": true,
            "type": "pie"
           }
          ],
          "scatter": [
           {
            "marker": {
             "colorbar": {
              "outlinewidth": 0,
              "ticks": ""
             }
            },
            "type": "scatter"
           }
          ],
          "scatter3d": [
           {
            "line": {
             "colorbar": {
              "outlinewidth": 0,
              "ticks": ""
             }
            },
            "marker": {
             "colorbar": {
              "outlinewidth": 0,
              "ticks": ""
             }
            },
            "type": "scatter3d"
           }
          ],
          "scattercarpet": [
           {
            "marker": {
             "colorbar": {
              "outlinewidth": 0,
              "ticks": ""
             }
            },
            "type": "scattercarpet"
           }
          ],
          "scattergeo": [
           {
            "marker": {
             "colorbar": {
              "outlinewidth": 0,
              "ticks": ""
             }
            },
            "type": "scattergeo"
           }
          ],
          "scattergl": [
           {
            "marker": {
             "colorbar": {
              "outlinewidth": 0,
              "ticks": ""
             }
            },
            "type": "scattergl"
           }
          ],
          "scattermapbox": [
           {
            "marker": {
             "colorbar": {
              "outlinewidth": 0,
              "ticks": ""
             }
            },
            "type": "scattermapbox"
           }
          ],
          "scatterpolar": [
           {
            "marker": {
             "colorbar": {
              "outlinewidth": 0,
              "ticks": ""
             }
            },
            "type": "scatterpolar"
           }
          ],
          "scatterpolargl": [
           {
            "marker": {
             "colorbar": {
              "outlinewidth": 0,
              "ticks": ""
             }
            },
            "type": "scatterpolargl"
           }
          ],
          "scatterternary": [
           {
            "marker": {
             "colorbar": {
              "outlinewidth": 0,
              "ticks": ""
             }
            },
            "type": "scatterternary"
           }
          ],
          "surface": [
           {
            "colorbar": {
             "outlinewidth": 0,
             "ticks": ""
            },
            "colorscale": [
             [
              0,
              "#0d0887"
             ],
             [
              0.1111111111111111,
              "#46039f"
             ],
             [
              0.2222222222222222,
              "#7201a8"
             ],
             [
              0.3333333333333333,
              "#9c179e"
             ],
             [
              0.4444444444444444,
              "#bd3786"
             ],
             [
              0.5555555555555556,
              "#d8576b"
             ],
             [
              0.6666666666666666,
              "#ed7953"
             ],
             [
              0.7777777777777778,
              "#fb9f3a"
             ],
             [
              0.8888888888888888,
              "#fdca26"
             ],
             [
              1,
              "#f0f921"
             ]
            ],
            "type": "surface"
           }
          ],
          "table": [
           {
            "cells": {
             "fill": {
              "color": "#EBF0F8"
             },
             "line": {
              "color": "white"
             }
            },
            "header": {
             "fill": {
              "color": "#C8D4E3"
             },
             "line": {
              "color": "white"
             }
            },
            "type": "table"
           }
          ]
         },
         "layout": {
          "annotationdefaults": {
           "arrowcolor": "#2a3f5f",
           "arrowhead": 0,
           "arrowwidth": 1
          },
          "autotypenumbers": "strict",
          "coloraxis": {
           "colorbar": {
            "outlinewidth": 0,
            "ticks": ""
           }
          },
          "colorscale": {
           "diverging": [
            [
             0,
             "#8e0152"
            ],
            [
             0.1,
             "#c51b7d"
            ],
            [
             0.2,
             "#de77ae"
            ],
            [
             0.3,
             "#f1b6da"
            ],
            [
             0.4,
             "#fde0ef"
            ],
            [
             0.5,
             "#f7f7f7"
            ],
            [
             0.6,
             "#e6f5d0"
            ],
            [
             0.7,
             "#b8e186"
            ],
            [
             0.8,
             "#7fbc41"
            ],
            [
             0.9,
             "#4d9221"
            ],
            [
             1,
             "#276419"
            ]
           ],
           "sequential": [
            [
             0,
             "#0d0887"
            ],
            [
             0.1111111111111111,
             "#46039f"
            ],
            [
             0.2222222222222222,
             "#7201a8"
            ],
            [
             0.3333333333333333,
             "#9c179e"
            ],
            [
             0.4444444444444444,
             "#bd3786"
            ],
            [
             0.5555555555555556,
             "#d8576b"
            ],
            [
             0.6666666666666666,
             "#ed7953"
            ],
            [
             0.7777777777777778,
             "#fb9f3a"
            ],
            [
             0.8888888888888888,
             "#fdca26"
            ],
            [
             1,
             "#f0f921"
            ]
           ],
           "sequentialminus": [
            [
             0,
             "#0d0887"
            ],
            [
             0.1111111111111111,
             "#46039f"
            ],
            [
             0.2222222222222222,
             "#7201a8"
            ],
            [
             0.3333333333333333,
             "#9c179e"
            ],
            [
             0.4444444444444444,
             "#bd3786"
            ],
            [
             0.5555555555555556,
             "#d8576b"
            ],
            [
             0.6666666666666666,
             "#ed7953"
            ],
            [
             0.7777777777777778,
             "#fb9f3a"
            ],
            [
             0.8888888888888888,
             "#fdca26"
            ],
            [
             1,
             "#f0f921"
            ]
           ]
          },
          "colorway": [
           "#636efa",
           "#EF553B",
           "#00cc96",
           "#ab63fa",
           "#FFA15A",
           "#19d3f3",
           "#FF6692",
           "#B6E880",
           "#FF97FF",
           "#FECB52"
          ],
          "font": {
           "color": "#2a3f5f"
          },
          "geo": {
           "bgcolor": "white",
           "lakecolor": "white",
           "landcolor": "#E5ECF6",
           "showlakes": true,
           "showland": true,
           "subunitcolor": "white"
          },
          "hoverlabel": {
           "align": "left"
          },
          "hovermode": "closest",
          "mapbox": {
           "style": "light"
          },
          "paper_bgcolor": "white",
          "plot_bgcolor": "#E5ECF6",
          "polar": {
           "angularaxis": {
            "gridcolor": "white",
            "linecolor": "white",
            "ticks": ""
           },
           "bgcolor": "#E5ECF6",
           "radialaxis": {
            "gridcolor": "white",
            "linecolor": "white",
            "ticks": ""
           }
          },
          "scene": {
           "xaxis": {
            "backgroundcolor": "#E5ECF6",
            "gridcolor": "white",
            "gridwidth": 2,
            "linecolor": "white",
            "showbackground": true,
            "ticks": "",
            "zerolinecolor": "white"
           },
           "yaxis": {
            "backgroundcolor": "#E5ECF6",
            "gridcolor": "white",
            "gridwidth": 2,
            "linecolor": "white",
            "showbackground": true,
            "ticks": "",
            "zerolinecolor": "white"
           },
           "zaxis": {
            "backgroundcolor": "#E5ECF6",
            "gridcolor": "white",
            "gridwidth": 2,
            "linecolor": "white",
            "showbackground": true,
            "ticks": "",
            "zerolinecolor": "white"
           }
          },
          "shapedefaults": {
           "line": {
            "color": "#2a3f5f"
           }
          },
          "ternary": {
           "aaxis": {
            "gridcolor": "white",
            "linecolor": "white",
            "ticks": ""
           },
           "baxis": {
            "gridcolor": "white",
            "linecolor": "white",
            "ticks": ""
           },
           "bgcolor": "#E5ECF6",
           "caxis": {
            "gridcolor": "white",
            "linecolor": "white",
            "ticks": ""
           }
          },
          "title": {
           "x": 0.05
          },
          "xaxis": {
           "automargin": true,
           "gridcolor": "white",
           "linecolor": "white",
           "ticks": "",
           "title": {
            "standoff": 15
           },
           "zerolinecolor": "white",
           "zerolinewidth": 2
          },
          "yaxis": {
           "automargin": true,
           "gridcolor": "white",
           "linecolor": "white",
           "ticks": "",
           "title": {
            "standoff": 15
           },
           "zerolinecolor": "white",
           "zerolinewidth": 2
          }
         }
        },
        "title": {
         "text": "ROC curve"
        },
        "xaxis": {
         "title": {
          "text": "False Positive Rate"
         }
        },
        "yaxis": {
         "title": {
          "text": "True Positive Rate"
         }
        }
       }
      }
     },
     "metadata": {}
    },
    {
     "output_type": "stream",
     "name": "stdout",
     "text": [
      "========= Eperiment -  df_A_len_5+bow+LR  =========\n",
      "https://app.neptune.ai/codekcg23/Research-Experiments/e/RES-427\n",
      " ====  bow  ==== \n"
     ]
    },
    {
     "output_type": "display_data",
     "data": {
      "text/html": [
       "<div>\n",
       "<style scoped>\n",
       "    .dataframe tbody tr th:only-of-type {\n",
       "        vertical-align: middle;\n",
       "    }\n",
       "\n",
       "    .dataframe tbody tr th {\n",
       "        vertical-align: top;\n",
       "    }\n",
       "\n",
       "    .dataframe thead th {\n",
       "        text-align: right;\n",
       "    }\n",
       "</style>\n",
       "<table border=\"1\" class=\"dataframe\">\n",
       "  <thead>\n",
       "    <tr style=\"text-align: right;\">\n",
       "      <th></th>\n",
       "      <th>Accuracy</th>\n",
       "      <th>F1-score</th>\n",
       "      <th>Recall</th>\n",
       "      <th>Precision</th>\n",
       "      <th>AUC</th>\n",
       "    </tr>\n",
       "  </thead>\n",
       "  <tbody>\n",
       "    <tr>\n",
       "      <th>LR</th>\n",
       "      <td>0.83153</td>\n",
       "      <td>0.70137</td>\n",
       "      <td>0.635762</td>\n",
       "      <td>0.782077</td>\n",
       "      <td>0.777866</td>\n",
       "    </tr>\n",
       "  </tbody>\n",
       "</table>\n",
       "</div>"
      ],
      "text/plain": [
       "    Accuracy  F1-score    Recall  Precision       AUC\n",
       "LR   0.83153   0.70137  0.635762   0.782077  0.777866"
      ]
     },
     "metadata": {}
    },
    {
     "output_type": "stream",
     "name": "stdout",
     "text": [
      " ====  df_A_len_5  ==== \n"
     ]
    },
    {
     "output_type": "display_data",
     "data": {
      "text/html": [
       "<div>\n",
       "<style scoped>\n",
       "    .dataframe tbody tr th:only-of-type {\n",
       "        vertical-align: middle;\n",
       "    }\n",
       "\n",
       "    .dataframe tbody tr th {\n",
       "        vertical-align: top;\n",
       "    }\n",
       "\n",
       "    .dataframe thead th {\n",
       "        text-align: right;\n",
       "    }\n",
       "</style>\n",
       "<table border=\"1\" class=\"dataframe\">\n",
       "  <thead>\n",
       "    <tr style=\"text-align: right;\">\n",
       "      <th></th>\n",
       "      <th>Accuracy</th>\n",
       "      <th>F1-score</th>\n",
       "      <th>Recall</th>\n",
       "      <th>Precision</th>\n",
       "      <th>AUC</th>\n",
       "    </tr>\n",
       "  </thead>\n",
       "  <tbody>\n",
       "    <tr>\n",
       "      <th>LR+bow</th>\n",
       "      <td>0.83153</td>\n",
       "      <td>0.70137</td>\n",
       "      <td>0.635762</td>\n",
       "      <td>0.782077</td>\n",
       "      <td>0.777866</td>\n",
       "    </tr>\n",
       "  </tbody>\n",
       "</table>\n",
       "</div>"
      ],
      "text/plain": [
       "        Accuracy  F1-score    Recall  Precision       AUC\n",
       "LR+bow   0.83153   0.70137  0.635762   0.782077  0.777866"
      ]
     },
     "metadata": {}
    },
    {
     "output_type": "display_data",
     "data": {
      "text/html": [
       "<div>\n",
       "<style scoped>\n",
       "    .dataframe tbody tr th:only-of-type {\n",
       "        vertical-align: middle;\n",
       "    }\n",
       "\n",
       "    .dataframe tbody tr th {\n",
       "        vertical-align: top;\n",
       "    }\n",
       "\n",
       "    .dataframe thead th {\n",
       "        text-align: right;\n",
       "    }\n",
       "</style>\n",
       "<table border=\"1\" class=\"dataframe\">\n",
       "  <thead>\n",
       "    <tr style=\"text-align: right;\">\n",
       "      <th></th>\n",
       "      <th>Accuracy</th>\n",
       "      <th>F1-score</th>\n",
       "      <th>Recall</th>\n",
       "      <th>Precision</th>\n",
       "      <th>AUC</th>\n",
       "    </tr>\n",
       "  </thead>\n",
       "  <tbody>\n",
       "    <tr>\n",
       "      <th>df_A_len_3+bow+LR</th>\n",
       "      <td>0.845956</td>\n",
       "      <td>0.721860</td>\n",
       "      <td>0.642384</td>\n",
       "      <td>0.823779</td>\n",
       "      <td>0.790152</td>\n",
       "    </tr>\n",
       "    <tr>\n",
       "      <th>df_A_len_4+bow+LR</th>\n",
       "      <td>0.838228</td>\n",
       "      <td>0.711397</td>\n",
       "      <td>0.640728</td>\n",
       "      <td>0.799587</td>\n",
       "      <td>0.784089</td>\n",
       "    </tr>\n",
       "    <tr>\n",
       "      <th>df_A_len_5+bow+LR</th>\n",
       "      <td>0.831530</td>\n",
       "      <td>0.701370</td>\n",
       "      <td>0.635762</td>\n",
       "      <td>0.782077</td>\n",
       "      <td>0.777866</td>\n",
       "    </tr>\n",
       "  </tbody>\n",
       "</table>\n",
       "</div>"
      ],
      "text/plain": [
       "                   Accuracy  F1-score    Recall  Precision       AUC\n",
       "df_A_len_3+bow+LR  0.845956  0.721860  0.642384   0.823779  0.790152\n",
       "df_A_len_4+bow+LR  0.838228  0.711397  0.640728   0.799587  0.784089\n",
       "df_A_len_5+bow+LR  0.831530  0.701370  0.635762   0.782077  0.777866"
      ]
     },
     "metadata": {}
    },
    {
     "output_type": "stream",
     "name": "stderr",
     "text": [
      "Unexpected error in ping thread.\n",
      "Traceback (most recent call last):\n",
      "  File \"C:\\Users\\Kavishka\\anaconda3\\lib\\site-packages\\neptune\\internal\\threads\\ping_thread.py\", line 37, in run\n",
      "    self.__backend.ping_experiment(self.__experiment)\n",
      "  File \"C:\\Users\\Kavishka\\anaconda3\\lib\\site-packages\\neptune\\internal\\api_clients\\hosted_api_clients\\hosted_alpha_leaderboard_api_client.py\", line 392, in ping_experiment\n",
      "    self.leaderboard_swagger_client.api.ping(experimentId=str(experiment.internal_id)).response().result\n",
      "  File \"C:\\Users\\Kavishka\\anaconda3\\lib\\site-packages\\bravado\\http_future.py\", line 239, in response\n",
      "    six.reraise(*sys.exc_info())\n",
      "  File \"C:\\Users\\Kavishka\\anaconda3\\lib\\site-packages\\six.py\", line 703, in reraise\n",
      "    raise value\n",
      "  File \"C:\\Users\\Kavishka\\anaconda3\\lib\\site-packages\\bravado\\http_future.py\", line 200, in response\n",
      "    swagger_result = self._get_swagger_result(incoming_response)\n",
      "  File \"C:\\Users\\Kavishka\\anaconda3\\lib\\site-packages\\bravado\\http_future.py\", line 124, in wrapper\n",
      "    return func(self, *args, **kwargs)\n",
      "  File \"C:\\Users\\Kavishka\\anaconda3\\lib\\site-packages\\bravado\\http_future.py\", line 303, in _get_swagger_result\n",
      "    self.request_config.response_callbacks,\n",
      "  File \"C:\\Users\\Kavishka\\anaconda3\\lib\\site-packages\\bravado\\http_future.py\", line 334, in unmarshal_response\n",
      "    raise_on_unexpected(incoming_response)\n",
      "  File \"C:\\Users\\Kavishka\\anaconda3\\lib\\site-packages\\bravado\\http_future.py\", line 408, in raise_on_unexpected\n",
      "    raise make_http_exception(response=http_response)\n",
      "bravado.exception.HTTPServiceUnavailable: 503 Service Temporarily Unavailable: <html>\n",
      "<head><title>503 Service Temporarily Unavailable</title></head>\n",
      "<body>\n",
      "<center><h1>503 Service Temporarily Unavailable</h1></center>\n",
      "<hr><center>nginx</center>\n",
      "</body>\n",
      "</html>\n",
      "\n",
      "Unexpected error in ping thread.\n",
      "Traceback (most recent call last):\n",
      "  File \"C:\\Users\\Kavishka\\anaconda3\\lib\\site-packages\\neptune\\internal\\threads\\ping_thread.py\", line 37, in run\n",
      "    self.__backend.ping_experiment(self.__experiment)\n",
      "  File \"C:\\Users\\Kavishka\\anaconda3\\lib\\site-packages\\neptune\\internal\\api_clients\\hosted_api_clients\\hosted_alpha_leaderboard_api_client.py\", line 392, in ping_experiment\n",
      "    self.leaderboard_swagger_client.api.ping(experimentId=str(experiment.internal_id)).response().result\n",
      "  File \"C:\\Users\\Kavishka\\anaconda3\\lib\\site-packages\\bravado\\http_future.py\", line 239, in response\n",
      "    six.reraise(*sys.exc_info())\n",
      "  File \"C:\\Users\\Kavishka\\anaconda3\\lib\\site-packages\\six.py\", line 703, in reraise\n",
      "    raise value\n",
      "  File \"C:\\Users\\Kavishka\\anaconda3\\lib\\site-packages\\bravado\\http_future.py\", line 200, in response\n",
      "    swagger_result = self._get_swagger_result(incoming_response)\n",
      "  File \"C:\\Users\\Kavishka\\anaconda3\\lib\\site-packages\\bravado\\http_future.py\", line 124, in wrapper\n",
      "    return func(self, *args, **kwargs)\n",
      "  File \"C:\\Users\\Kavishka\\anaconda3\\lib\\site-packages\\bravado\\http_future.py\", line 303, in _get_swagger_result\n",
      "    self.request_config.response_callbacks,\n",
      "  File \"C:\\Users\\Kavishka\\anaconda3\\lib\\site-packages\\bravado\\http_future.py\", line 334, in unmarshal_response\n",
      "    raise_on_unexpected(incoming_response)\n",
      "  File \"C:\\Users\\Kavishka\\anaconda3\\lib\\site-packages\\bravado\\http_future.py\", line 408, in raise_on_unexpected\n",
      "    raise make_http_exception(response=http_response)\n",
      "bravado.exception.HTTPServiceUnavailable: 503 Service Temporarily Unavailable: <html>\n",
      "<head><title>503 Service Temporarily Unavailable</title></head>\n",
      "<body>\n",
      "<center><h1>503 Service Temporarily Unavailable</h1></center>\n",
      "<hr><center>nginx</center>\n",
      "</body>\n",
      "</html>\n",
      "\n",
      "Unexpected error in ping thread.\n",
      "Traceback (most recent call last):\n",
      "  File \"C:\\Users\\Kavishka\\anaconda3\\lib\\site-packages\\neptune\\internal\\threads\\ping_thread.py\", line 37, in run\n",
      "    self.__backend.ping_experiment(self.__experiment)\n",
      "  File \"C:\\Users\\Kavishka\\anaconda3\\lib\\site-packages\\neptune\\internal\\api_clients\\hosted_api_clients\\hosted_alpha_leaderboard_api_client.py\", line 392, in ping_experiment\n",
      "    self.leaderboard_swagger_client.api.ping(experimentId=str(experiment.internal_id)).response().result\n",
      "  File \"C:\\Users\\Kavishka\\anaconda3\\lib\\site-packages\\bravado\\http_future.py\", line 239, in response\n",
      "    six.reraise(*sys.exc_info())\n",
      "  File \"C:\\Users\\Kavishka\\anaconda3\\lib\\site-packages\\six.py\", line 703, in reraise\n",
      "    raise value\n",
      "  File \"C:\\Users\\Kavishka\\anaconda3\\lib\\site-packages\\bravado\\http_future.py\", line 200, in response\n",
      "    swagger_result = self._get_swagger_result(incoming_response)\n",
      "  File \"C:\\Users\\Kavishka\\anaconda3\\lib\\site-packages\\bravado\\http_future.py\", line 124, in wrapper\n",
      "    return func(self, *args, **kwargs)\n",
      "  File \"C:\\Users\\Kavishka\\anaconda3\\lib\\site-packages\\bravado\\http_future.py\", line 303, in _get_swagger_result\n",
      "    self.request_config.response_callbacks,\n",
      "  File \"C:\\Users\\Kavishka\\anaconda3\\lib\\site-packages\\bravado\\http_future.py\", line 334, in unmarshal_response\n",
      "    raise_on_unexpected(incoming_response)\n",
      "  File \"C:\\Users\\Kavishka\\anaconda3\\lib\\site-packages\\bravado\\http_future.py\", line 408, in raise_on_unexpected\n",
      "    raise make_http_exception(response=http_response)\n",
      "bravado.exception.HTTPServiceUnavailable: 503 Service Temporarily Unavailable: <html>\n",
      "<head><title>503 Service Temporarily Unavailable</title></head>\n",
      "<body>\n",
      "<center><h1>503 Service Temporarily Unavailable</h1></center>\n",
      "<hr><center>nginx</center>\n",
      "</body>\n",
      "</html>\n",
      "\n",
      "Unexpected error in ping thread.\n",
      "Traceback (most recent call last):\n",
      "  File \"C:\\Users\\Kavishka\\anaconda3\\lib\\site-packages\\neptune\\internal\\threads\\ping_thread.py\", line 37, in run\n",
      "    self.__backend.ping_experiment(self.__experiment)\n",
      "  File \"C:\\Users\\Kavishka\\anaconda3\\lib\\site-packages\\neptune\\internal\\api_clients\\hosted_api_clients\\hosted_alpha_leaderboard_api_client.py\", line 392, in ping_experiment\n",
      "    self.leaderboard_swagger_client.api.ping(experimentId=str(experiment.internal_id)).response().result\n",
      "  File \"C:\\Users\\Kavishka\\anaconda3\\lib\\site-packages\\bravado\\http_future.py\", line 239, in response\n",
      "    six.reraise(*sys.exc_info())\n",
      "  File \"C:\\Users\\Kavishka\\anaconda3\\lib\\site-packages\\six.py\", line 703, in reraise\n",
      "    raise value\n",
      "  File \"C:\\Users\\Kavishka\\anaconda3\\lib\\site-packages\\bravado\\http_future.py\", line 200, in response\n",
      "    swagger_result = self._get_swagger_result(incoming_response)\n",
      "  File \"C:\\Users\\Kavishka\\anaconda3\\lib\\site-packages\\bravado\\http_future.py\", line 124, in wrapper\n",
      "    return func(self, *args, **kwargs)\n",
      "  File \"C:\\Users\\Kavishka\\anaconda3\\lib\\site-packages\\bravado\\http_future.py\", line 303, in _get_swagger_result\n",
      "    self.request_config.response_callbacks,\n",
      "  File \"C:\\Users\\Kavishka\\anaconda3\\lib\\site-packages\\bravado\\http_future.py\", line 334, in unmarshal_response\n",
      "    raise_on_unexpected(incoming_response)\n",
      "  File \"C:\\Users\\Kavishka\\anaconda3\\lib\\site-packages\\bravado\\http_future.py\", line 408, in raise_on_unexpected\n",
      "    raise make_http_exception(response=http_response)\n",
      "bravado.exception.HTTPServiceUnavailable: 503 Service Temporarily Unavailable: <html>\n",
      "<head><title>503 Service Temporarily Unavailable</title></head>\n",
      "<body>\n",
      "<center><h1>503 Service Temporarily Unavailable</h1></center>\n",
      "<hr><center>nginx</center>\n",
      "</body>\n",
      "</html>\n",
      "\n",
      "Unexpected error in ping thread.\n",
      "Traceback (most recent call last):\n",
      "  File \"C:\\Users\\Kavishka\\anaconda3\\lib\\site-packages\\neptune\\internal\\threads\\ping_thread.py\", line 37, in run\n",
      "    self.__backend.ping_experiment(self.__experiment)\n",
      "  File \"C:\\Users\\Kavishka\\anaconda3\\lib\\site-packages\\neptune\\internal\\api_clients\\hosted_api_clients\\hosted_alpha_leaderboard_api_client.py\", line 392, in ping_experiment\n",
      "    self.leaderboard_swagger_client.api.ping(experimentId=str(experiment.internal_id)).response().result\n",
      "  File \"C:\\Users\\Kavishka\\anaconda3\\lib\\site-packages\\bravado\\http_future.py\", line 239, in response\n",
      "    six.reraise(*sys.exc_info())\n",
      "  File \"C:\\Users\\Kavishka\\anaconda3\\lib\\site-packages\\six.py\", line 703, in reraise\n",
      "    raise value\n",
      "  File \"C:\\Users\\Kavishka\\anaconda3\\lib\\site-packages\\bravado\\http_future.py\", line 200, in response\n",
      "    swagger_result = self._get_swagger_result(incoming_response)\n",
      "  File \"C:\\Users\\Kavishka\\anaconda3\\lib\\site-packages\\bravado\\http_future.py\", line 124, in wrapper\n",
      "    return func(self, *args, **kwargs)\n",
      "  File \"C:\\Users\\Kavishka\\anaconda3\\lib\\site-packages\\bravado\\http_future.py\", line 303, in _get_swagger_result\n",
      "    self.request_config.response_callbacks,\n",
      "  File \"C:\\Users\\Kavishka\\anaconda3\\lib\\site-packages\\bravado\\http_future.py\", line 334, in unmarshal_response\n",
      "    raise_on_unexpected(incoming_response)\n",
      "  File \"C:\\Users\\Kavishka\\anaconda3\\lib\\site-packages\\bravado\\http_future.py\", line 408, in raise_on_unexpected\n",
      "    raise make_http_exception(response=http_response)\n",
      "bravado.exception.HTTPServiceUnavailable: 503 Service Temporarily Unavailable: <html>\n",
      "<head><title>503 Service Temporarily Unavailable</title></head>\n",
      "<body>\n",
      "<center><h1>503 Service Temporarily Unavailable</h1></center>\n",
      "<hr><center>nginx</center>\n",
      "</body>\n",
      "</html>\n",
      "\n"
     ]
    }
   ],
   "metadata": {}
  }
 ],
 "metadata": {
  "orig_nbformat": 4,
  "language_info": {
   "name": "python",
   "version": "3.7.6",
   "mimetype": "text/x-python",
   "codemirror_mode": {
    "name": "ipython",
    "version": 3
   },
   "pygments_lexer": "ipython3",
   "nbconvert_exporter": "python",
   "file_extension": ".py"
  },
  "kernelspec": {
   "name": "python3",
   "display_name": "Python 3.7.6 64-bit ('base': conda)"
  },
  "interpreter": {
   "hash": "fbbb7d2143a1d68e1cf272edf0974e702b621cb99b4ee39ce84db3bf0ffb588e"
  }
 },
 "nbformat": 4,
 "nbformat_minor": 2
}