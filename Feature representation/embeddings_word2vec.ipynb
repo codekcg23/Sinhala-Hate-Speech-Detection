{
 "cells": [
  {
   "cell_type": "markdown",
   "source": [
    "## Resources\r\n",
    "\r\n",
    "https://drive.google.com/drive/folders/1VD8J-zYix3mD31jbIBhqK2fke-\r\n",
    "\r\n",
    "https://github.com/nlpcuom/WEIntrinsicEvaluation"
   ],
   "metadata": {}
  },
  {
   "cell_type": "markdown",
   "source": [
    "## Obectives\r\n",
    "\r\n",
    "1. Experiment CBOW and skip gram model with LOgistic regression, SVC, Random forest with df_A,df_B,df_C\r\n",
    "2. Train own wor2vec\r\n",
    "3. Fine tuning word2vec "
   ],
   "metadata": {}
  },
  {
   "cell_type": "markdown",
   "source": [
    "## Observations\r\n",
    "\r\n",
    "1. Word embedding CBOW and skip gram both perform worser than traditiona feature extraction methods\r\n",
    "2. It can be observed CBOW perform better than skipgram\r\n",
    "3. SVC perform worser and gave very low values\r\n",
    "4. Not only recall is low overall precison is low\r\n",
    "5. There is no punctuation,number, english words similarity in common crawl word2vec so all punctuation,numbers,noise need to be remove\r\n",
    "\r\n",
    "## Posible reasons\r\n",
    "1. Since we are averaging 300 dimentional vectors we are not getting maximum outcome of word2vec\r\n",
    "2. Word2vec cannot handle OOV which is very common in this hate speech detection\r\n",
    "3. Common Crawl and distribution dataset is different \r\n",
    "\r\n",
    "## Further investigations and solutions\r\n",
    "1. Training our own word2vec using informal sinhala text documents/ combining all four datasets?\r\n",
    "2. Fine tuning word2vec\r\n",
    "4. Possible solutions to handle OOV instead of setting random value\r\n",
    "5. Investigate affect of stemming"
   ],
   "metadata": {}
  },
  {
   "cell_type": "markdown",
   "source": [
    "## Word2vec model with logistic regression\r\n",
    "\r\n",
    "size: The number of dimensions of the embeddings and the default is 100.\r\n",
    "\r\n",
    "window: The maximum distance between a target word and words around the target word. The default window is 5.\r\n",
    "\r\n",
    "min_count: The minimum count of words to consider when training the model; words with occurrence less than this count will be ignored. The default for min_count is 5.\r\n",
    "\r\n",
    "workers: The number of partitions during training and the default workers is 3.\r\n",
    "\r\n",
    "sg: The training algorithm, either CBOW(0) or skip gram(1). The default training algorithm is CBOW"
   ],
   "metadata": {}
  },
  {
   "cell_type": "markdown",
   "source": [
    "## Load modules and datasets"
   ],
   "metadata": {}
  },
  {
   "cell_type": "code",
   "execution_count": 39,
   "source": [
    "import neptune\r\n",
    "from neptunecontrib.monitoring.metrics import expand_prediction, log_class_metrics, log_binary_classification_metrics, log_classification_report,log_confusion_matrix,log_prediction_distribution\r\n",
    "from neptunecontrib.api import log_table\r\n",
    "import os\r\n",
    "from dotenv import load_dotenv\r\n",
    "\r\n",
    "load_dotenv()\r\n",
    "NEPTUNE_PROJECT= os.getenv('NEPTUNE_PROJECT')\r\n",
    "NEPTUNE_API_TOKEN = os.getenv(('NEPTUNE_API_TOKEN'))\r\n",
    "neptune.init(project_qualified_name= NEPTUNE_PROJECT,api_token=NEPTUNE_API_TOKEN) \r\n",
    "             "
   ],
   "outputs": [
    {
     "output_type": "execute_result",
     "data": {
      "text/plain": [
       "Project(codekcg23/Research-Experiments)"
      ]
     },
     "metadata": {},
     "execution_count": 39
    }
   ],
   "metadata": {}
  },
  {
   "cell_type": "code",
   "execution_count": 32,
   "source": [
    "import pandas as pd\r\n",
    "import numpy as np\r\n",
    "import matplotlib.pyplot as plt\r\n",
    "from sklearn.feature_extraction.text import CountVectorizer, TfidfVectorizer\r\n",
    "from sklearn.linear_model import LogisticRegression\r\n",
    "from sklearn.naive_bayes import MultinomialNB\r\n",
    "from sklearn.svm import SVC\r\n",
    "from sklearn.model_selection import GridSearchCV,train_test_split\r\n",
    "from sklearn.pipeline import Pipeline\r\n",
    "from sklearn.metrics import classification_report\r\n",
    "#from sklearn.metrics import accuracy_score, f1_score, precision_score,roc_curve,roc_auc_score,confusion_matrix,recall_score\r\n",
    "from sklearn.pipeline import Pipeline\r\n",
    "import re\r\n",
    "import gensim\r\n",
    "\r\n",
    "# import helper function script\r\n",
    "import sys\r\n",
    "sys.path.insert(1,'G:\\\\Github\\\\Sinhala-Hate-Speech-Detection')\r\n",
    "import utills"
   ],
   "outputs": [],
   "metadata": {}
  },
  {
   "cell_type": "code",
   "execution_count": 2,
   "source": [
    "# load datasets\r\n",
    "path = '../Datasets/processed/no_preprocessing/'\r\n",
    "df_A = pd.read_csv(path+'df_A.csv')    \r\n",
    "df_B = pd.read_csv(path+'df_B.csv')    # fb dataset -kaggle \r\n",
    "df_A_B = pd.read_csv(path+'df_A_B.csv') \r\n"
   ],
   "outputs": [],
   "metadata": {}
  },
  {
   "cell_type": "code",
   "execution_count": 33,
   "source": [
    "# load datasets\r\n",
    "path = '../Datasets/processed/preprocessing/'\r\n",
    "df_A_p = pd.read_csv(path+'df_A.csv')    \r\n",
    "df_B_p = pd.read_csv(path+'df_B.csv')    # fb dataset -kaggle \r\n",
    "df_A_B_p = pd.read_csv(path+'df_A_B.csv') \r\n"
   ],
   "outputs": [],
   "metadata": {}
  },
  {
   "cell_type": "markdown",
   "source": [
    "## Load word2vec models and test"
   ],
   "metadata": {}
  },
  {
   "cell_type": "markdown",
   "source": [
    "### skip gram"
   ],
   "metadata": {}
  },
  {
   "cell_type": "code",
   "execution_count": 3,
   "source": [
    "from gensim.models import word2vec\r\n",
    "model = word2vec.Word2Vec.load(\"G:/Github/Sinhala-Hate-Speech-Detection/Embedding_models/word2vec/word2vec_300.w2v\")\r\n",
    "path = \"../Embedding_models/cbow_300.w2v\"\r\n",
    "\r\n"
   ],
   "outputs": [],
   "metadata": {}
  },
  {
   "cell_type": "code",
   "execution_count": 17,
   "source": [
    "print(model.wv.most_similar('ලැජ්ජයි'))\r\n",
    "print(model.wv.most_similar('මෑරෙන්න'))\r\n",
    "print(model.wv.most_similar('යකො'))\r\n",
    "print(model.wv.most_similar('හොරා'))\r\n",
    "print(model.wv.most_similar('බල්ලා'))\r\n",
    "print(model.wv.most_similar('තම්බි'))\r\n",
    "print(model.wv.most_similar('හුත්ති'))\r\n",
    "print(model_cbow.wv.most_similar('මුස්ලිම්'))\r\n",
    "print(model.wv.most_similar('මුස්ලිම'))\r\n",
    "print(model_cbow.wv.most_similar('සිංහල'))\r\n",
    "print(model_cbow.wv.most_similar('වෛරය'))\r\n",
    "print(model_cbow.wv.most_similar(['අම්මා']))\r\n",
    "print(model_cbow.wv.most_similar(['ගෙදර']))"
   ],
   "outputs": [
    {
     "output_type": "stream",
     "name": "stdout",
     "text": [
      "[('ෂිකේ.', 0.624288022518158), ('දැක්කහමමචං', 0.606025218963623), ('අසරනට', 0.6009397506713867), ('ගානවාවල', 0.5993783473968506), ('තිලකයියේ', 0.5935572385787964), ('නාගෙනදඟලන්න', 0.5622760057449341), ('හිත්න්නත්', 0.5605373978614807), ('ආණ්දුව', 0.5562554597854614), ('්ගමයාවිලි', 0.5535441637039185), ('දැක්කම\\tපිනා', 0.5499239563941956)]\n",
      "[('හෑබෑමයි', 0.6853367686271667), ('වෙන්නජීවත්', 0.615235447883606), ('වෙලාවකඉපදුනේ', 0.5789225101470947), ('හෙටවෙයිද', 0.5657752752304077), ('ලෑස්තිවෙයල්ල', 0.5579881072044373), ('\\u200dබොම්බ', 0.5476895570755005), ('දෙයක්අන්ඩුවට', 0.5422118306159973), ('දෑක්කනම්', 0.5235146880149841), ('ෆොන්නඩෝටත්', 0.5233187675476074), ('වෑස්සටවත්', 0.5230247974395752)]\n",
      "[('යකෝ', 0.6215049624443054), ('පුරුන්ග', 0.5947710871696472), ('හොයපි', 0.5878672003746033), ('වේසික', 0.5774468779563904), ('සඳරුවණ්', 0.5767057538032532), ('බන්', 0.5762976408004761), ('පෑන්චියො', 0.5738309621810913), ('මේරටෙ', 0.5726816058158875), ('තිරිසනාතොපෙ', 0.572677731513977), ('දුශ්ඨයෙක්ට', 0.5710520148277283)]\n",
      "[('නටලාඅදින්', 0.6168825030326843), ('හොරු', 0.6146227121353149), ('හික්ස්මොනා', 0.6000667810440063), ('මනතරය', 0.5816130638122559), ('දැනේපුහුල්', 0.5782788395881653), ('සමහ\\u200dරැ', 0.572026252746582), ('ඇබිත්තයෙක්ද', 0.5686741471290588), ('කරුන්ක', 0.5661405324935913), ('සුරමුරලියවෙඩරු', 0.5654687881469727), ('ලේන්සුවක්ගුලිකොරපු', 0.5644397735595703)]\n",
      "[('බල්ලෙක්', 0.6643838882446289), ('බලු', 0.6198811531066895), ('ඉදපුවල්', 0.6177517175674438), ('යන්නෙත්නෑ', 0.6120303869247437), ('සමහරක්ටලොකු', 0.6097180843353271), ('හපාකෑවට', 0.6055284738540649), ('බ්ල්ලා', 0.6013304591178894), ('බල්ලන්', 0.6007422804832458), ('දීතුරුලට', 0.5996413826942444), ('බල්ලාගේ', 0.5994368195533752)]\n",
      "[('ට\\tඅට', 0.5935885906219482), ('පකලායි', 0.5864574909210205), ('ගොන්නම්බෝ', 0.5847581624984741), ('තමයෝ', 0.5822669267654419), ('දූරෙයි', 0.5754526257514954), ('ජවාද්', 0.568507194519043), ('කැරියෙක්ද', 0.5635528564453125), ('එළවපියව්', 0.5571622848510742), ('ඉතිහාසෙන්ම', 0.5544460415840149), ('බල්ලොන්ටවත්', 0.5530412197113037)]\n",
      "[('ප\\u200dබා', 0.687384307384491), ('දාමිනි', 0.6762409210205078), ('සිංහරෙජිමන්ට්', 0.6521486639976501), ('හිකිල්ලක්', 0.641841471195221), ('එකහුත්ත', 0.6414088010787964), ('හුකෝලා', 0.6406844258308411), ('කපිය', 0.6329594254493713), ('හුකලයි', 0.6301551461219788), ('හුකපු', 0.6293245553970337), ('බේරගන්ඩසර්', 0.6260273456573486)]\n",
      "[('මුස්ලීම්', 0.6836668848991394), ('ඉස්ලාම්', 0.6413992643356323), ('මුසල්මානු', 0.5902478694915771), ('මුස්ලිම', 0.579169511795044), ('මුස්ලිම්වරුන්', 0.5695391893386841), ('දෙමල', 0.5664747953414917), ('සුන්නි', 0.5664048790931702), ('මුස්ලිම්වරු', 0.5649684071540833), ('මුස්ලිමුන්', 0.5477969646453857), ('මුස්ලිමි', 0.5462520122528076)]\n",
      "[('සිංහළ', 0.7231073379516602), ('සිහල', 0.6322635412216187), ('සින්හල', 0.6169859170913696), ('ඉංග්\\u200dරීසි', 0.5511385202407837), ('\\tසිංහල', 0.529215931892395), ('සංහල', 0.528056800365448), ('සි#', 0.5133110284805298), ('තෙළිඟු', 0.49875161051750183), ('සිංහලකම', 0.49794840812683105), ('හින්ගල', 0.4958285391330719)]\n",
      "[('වයිරය', 0.6465953588485718), ('ක්\\u200dරෝධය', 0.6393300294876099), ('ද්වේෂය', 0.6199361681938171), ('වෛරයක්', 0.612896203994751), ('ද්වේශය', 0.6088983416557312), ('අවිශ්වාසය', 0.5822460651397705), ('ඊර්ෂ්\\u200dයාව', 0.5819292664527893), ('කුහකකම', 0.5611708164215088), ('වෛරයෙන්', 0.561118483543396), ('තරහව', 0.5580742359161377)]\n"
     ]
    }
   ],
   "metadata": {}
  },
  {
   "cell_type": "code",
   "execution_count": 18,
   "source": [
    "words_skipgram = list(model.wv.vectors)\r\n",
    "print(len(words_skipgram))\r\n",
    "print(model)"
   ],
   "outputs": [
    {
     "output_type": "stream",
     "name": "stdout",
     "text": [
      "2137729\n"
     ]
    },
    {
     "output_type": "execute_result",
     "data": {
      "text/plain": [
       "array([ 5.08443177e-01,  1.32564828e-01,  4.31842469e-02,  2.70150937e-02,\n",
       "        1.51776105e-01, -2.16437578e-01,  3.10770035e-01, -6.40931353e-02,\n",
       "       -1.85485452e-01, -8.43153670e-02,  8.40954185e-02,  4.69647944e-01,\n",
       "        1.33402392e-01, -1.82146963e-03, -3.78949083e-02, -7.48745650e-02,\n",
       "       -1.57882899e-01, -2.19975427e-01,  1.52760357e-01,  5.83701581e-02,\n",
       "        1.58777058e-01, -5.03952499e-04, -3.73210385e-03,  3.13863993e-01,\n",
       "       -3.70983541e-01,  1.58641458e-01,  1.82556078e-01, -1.49595827e-01,\n",
       "        2.52814651e-01,  2.35548720e-01,  3.51897925e-02,  3.37331835e-03,\n",
       "        5.44968136e-02, -1.29849628e-01, -2.08024591e-01, -3.58635604e-01,\n",
       "       -9.72065553e-02, -4.44417819e-03, -5.19370213e-02, -1.21049806e-01,\n",
       "       -5.45403399e-02,  1.99535862e-01,  6.36142343e-02, -6.99187815e-02,\n",
       "       -3.42354774e-01,  1.07773028e-01, -6.28971159e-02,  2.28678752e-02,\n",
       "       -1.49989398e-02, -5.12099713e-02,  1.66838225e-02,  2.16112152e-01,\n",
       "       -3.54278833e-01,  1.33379981e-01, -2.50548780e-01,  3.01477909e-02,\n",
       "       -1.84393510e-01,  2.49450207e-01,  2.27635518e-01, -2.09769636e-01,\n",
       "       -4.74482030e-02,  9.99755487e-02, -7.80172423e-02,  3.98836881e-02,\n",
       "        3.09627086e-01,  1.87718198e-01, -1.55461907e-01,  5.08303121e-02,\n",
       "       -1.40218139e-01,  9.76788923e-02, -2.09263161e-01,  2.64361531e-01,\n",
       "        1.94697544e-01,  1.79866001e-01,  1.70907348e-01, -1.18746094e-01,\n",
       "        4.96799834e-02,  1.71821620e-02,  6.99211061e-02,  1.32705808e-01,\n",
       "       -1.00428639e-02, -8.65559876e-02, -2.03141436e-01, -7.34732822e-02,\n",
       "        3.08453273e-02,  9.84077230e-02,  1.89571679e-01,  5.17896488e-02,\n",
       "        3.05606484e-01,  1.17030896e-01,  1.34554133e-01, -2.00652406e-01,\n",
       "       -1.98557615e-01, -3.68425101e-02,  1.28552034e-01,  2.75200158e-02,\n",
       "       -4.62050103e-02, -1.14355989e-01,  9.52904969e-02,  8.29388562e-04,\n",
       "       -1.96447641e-01, -1.62946865e-01,  1.17750295e-01,  1.51088759e-01,\n",
       "       -4.78978716e-02,  2.61500657e-01, -2.26566628e-01,  2.19089672e-01,\n",
       "        3.55243869e-03,  5.49032725e-02,  2.30603099e-01,  1.33929998e-01,\n",
       "       -6.21930361e-02, -1.07639506e-01, -4.37461734e-02,  3.12883437e-01,\n",
       "       -4.52460237e-02, -1.56725701e-02, -2.90547553e-02, -8.60773623e-02,\n",
       "       -3.11273217e-01,  4.22868654e-02, -1.25005111e-01, -2.11508021e-01,\n",
       "       -1.46974191e-01, -2.07122087e-01, -8.42653066e-02,  3.31041902e-01,\n",
       "        1.65206701e-01, -3.20217162e-01, -1.52484728e-02, -2.55741440e-02,\n",
       "        7.78991133e-02, -8.76627564e-02, -2.86034793e-01,  1.79597318e-01,\n",
       "       -1.17283136e-01, -2.12086029e-02, -3.37414667e-02, -6.23346642e-02,\n",
       "        1.88917033e-02, -3.01534086e-01,  2.47194931e-01, -5.82906008e-02,\n",
       "        9.25137401e-02, -3.96093279e-02, -5.47468700e-02, -2.24115178e-01,\n",
       "       -4.48737621e-01,  6.94955811e-02,  1.73235536e-01,  1.98553473e-01,\n",
       "        2.27717713e-01, -1.43204585e-01,  4.41926196e-02,  5.65168709e-02,\n",
       "        1.63185388e-01, -2.25362495e-01,  1.13751270e-01, -9.69064832e-02,\n",
       "       -1.42628655e-01, -6.56861290e-02, -2.07351029e-01,  2.29319092e-02,\n",
       "        2.49184683e-01,  7.70319402e-02, -3.18473391e-02, -1.06779523e-01,\n",
       "        1.72051430e-01,  3.17864180e-01, -2.50200182e-01, -5.57571612e-02,\n",
       "       -1.55226320e-01,  1.44319013e-01,  1.92165375e-01, -1.83577299e-01,\n",
       "        1.15555584e-01,  2.79001534e-01, -8.25202763e-02, -1.66639268e-01,\n",
       "        3.97179574e-01,  1.90268397e-01, -3.00976753e-01, -1.11190163e-01,\n",
       "       -1.05011865e-01,  1.30095556e-01, -2.03733385e-01,  3.91827404e-01,\n",
       "       -5.80087751e-02, -1.07653685e-01,  2.47713745e-01, -2.35267758e-01,\n",
       "        1.58829167e-01, -6.77045435e-02,  6.18552268e-02, -1.03596278e-01,\n",
       "       -3.73663269e-02,  1.75729588e-01,  1.58535957e-01, -1.59810185e-02,\n",
       "        1.23523004e-01,  3.57770026e-01, -5.25693037e-02, -2.24715441e-01,\n",
       "       -9.82664824e-02,  1.46070689e-01,  1.50579765e-01, -9.09840465e-02,\n",
       "        9.08627212e-02,  6.58075660e-02, -8.01983252e-02, -1.06470168e-01,\n",
       "        2.24629223e-01, -1.85299307e-01,  2.44626045e-01, -3.53308348e-03,\n",
       "       -2.10096180e-01,  1.31411236e-02, -3.26655537e-01,  2.24560410e-01,\n",
       "        5.73351085e-02, -4.24530953e-02,  8.64341706e-02, -8.84720311e-02,\n",
       "       -3.27935606e-01, -6.66381866e-02, -5.60148545e-02,  1.90593272e-01,\n",
       "        1.51300896e-02,  5.32771684e-02,  9.11884084e-02, -7.53522813e-02,\n",
       "       -1.46454304e-01, -6.17331080e-02, -1.79497480e-01,  2.70878319e-02,\n",
       "        1.74379230e-01, -5.44730462e-02, -7.24171773e-02, -2.44508773e-01,\n",
       "       -2.02666298e-01, -1.14728697e-02, -1.63258240e-02, -1.26655493e-02,\n",
       "       -1.70515209e-01,  6.02076948e-03, -1.75933652e-02,  1.13437258e-01,\n",
       "        2.28255361e-01,  4.24944311e-02, -6.20389506e-02, -1.68676004e-01,\n",
       "       -9.14913192e-02,  1.31327316e-01,  2.19602659e-01,  1.18045025e-01,\n",
       "        2.39202052e-01,  5.04373312e-02, -3.60293277e-02,  6.53941706e-02,\n",
       "       -1.71449795e-01,  1.06528752e-01, -1.69517115e-01, -5.21158567e-03,\n",
       "       -1.60922054e-02,  1.98752373e-01, -8.20726529e-02,  1.86863437e-01,\n",
       "       -1.07955866e-01, -1.66199371e-01, -1.54715896e-01,  5.20532429e-02,\n",
       "        2.02051938e-01,  5.32912731e-01,  3.53577286e-02, -1.47267096e-02,\n",
       "        4.38562453e-01,  2.00961769e-01, -1.65070668e-01, -1.48638934e-01,\n",
       "        2.49151941e-02,  3.19989979e-01, -1.50040954e-01, -1.00922607e-01,\n",
       "       -2.37600252e-01,  2.18296170e-01, -1.17274083e-01, -1.29439816e-01,\n",
       "       -1.17961481e-01,  4.91471700e-02, -3.65508229e-01, -1.14704601e-01,\n",
       "       -2.00836658e-01,  2.15796679e-01,  1.70000434e-01, -1.86509624e-01,\n",
       "       -1.26043672e-03,  2.12175176e-01,  3.18012238e-01, -1.44375905e-01],\n",
       "      dtype=float32)"
      ]
     },
     "metadata": {},
     "execution_count": 18
    }
   ],
   "metadata": {}
  },
  {
   "cell_type": "markdown",
   "source": [
    "### CBOW"
   ],
   "metadata": {}
  },
  {
   "cell_type": "code",
   "execution_count": 5,
   "source": [
    "from gensim.models import word2vec\r\n",
    "model_cbow = word2vec.Word2Vec.load(\"G:/Github/Sinhala-Hate-Speech-Detection/Embedding_models/CBOW-word2vec/cbow_300.w2v\")\r\n",
    "path = \"../Embedding_models/cbow_300.w2v\""
   ],
   "outputs": [],
   "metadata": {}
  },
  {
   "cell_type": "code",
   "execution_count": 6,
   "source": [
    "print(model_cbow.wv.most_similar('ලැජ්ජයි'))\r\n",
    "print(model_cbow.wv.most_similar('මෑරෙන්න'))\r\n",
    "print(model_cbow.wv.most_similar('යකො'))\r\n",
    "print(model_cbow.wv.most_similar('හොරා'))\r\n",
    "print(model_cbow.wv.most_similar('බල්ලා'))\r\n",
    "print(model_cbow.wv.most_similar('හුත්ති'))\r\n",
    "print(model_cbow.wv.most_similar('තම්බි'))\r\n",
    "print(model_cbow.wv.most_similar('මුස්ලිම්'))\r\n",
    "print(model.wv.most_similar('මුස්ලිම'))\r\n",
    "print(model_cbow.wv.most_similar('සිංහල'))\r\n",
    "print(model_cbow.wv.most_similar('වෛරය'))\r\n",
    "print(model_cbow.wv.most_similar(['අම්මා']))\r\n",
    "print(model_cbow.wv.most_similar(['ගෙදර']))"
   ],
   "outputs": [
    {
     "output_type": "stream",
     "name": "stdout",
     "text": [
      "[('බයයි', 0.6065513491630554), ('කනගාටුයි', 0.5837079882621765), ('අප්පිරියයි', 0.5734831094741821), ('කේන්තියි', 0.5662340521812439), ('හිරිකිතයි', 0.5526554584503174), ('බෑ', 0.5475850701332092), ('ලෝබයි', 0.533913254737854), ('දුකයි', 0.5273364782333374), ('අමරුයි', 0.5127739310264587), ('බැහැනේ', 0.5030311346054077)]\n",
      "[('හෑබෑමයි', 0.6160866618156433), ('මැරුනහැකි', 0.4991958737373352), ('මැරෙන්න', 0.4926010072231293), ('මෑරෙන', 0.48189735412597656), ('මැාරන', 0.4802682399749756), ('කන්නමනෙ', 0.4776369631290436), ('නොකෑටික', 0.47728267312049866), ('මෑරෙන්නය', 0.4690975546836853), ('කබරගොයිවත්', 0.4473191499710083), ('අදරයකරන්නේ', 0.4471481740474701)]\n",
      "[('යකෝ', 0.6595990657806396), ('බන්', 0.6435429453849792), ('බොල', 0.586578369140625), ('හුත්තෝ', 0.584592342376709), ('😢', 0.5755847692489624), ('උබෙ', 0.5713131427764893), ('තොපෙ', 0.5639413595199585), ('🔫', 0.562926709651947), ('අඩො', 0.5561082363128662), ('මචන්', 0.5551674365997314)]\n",
      "[('හොරු', 0.5437721610069275), ('හොරෙන්', 0.5349410176277161), ('හොරෙක්', 0.5099231600761414), ('කොල්ල', 0.4588491916656494), ('හොරාට', 0.45322656631469727), ('ලොක්කා', 0.4522240161895752), ('හොරකම', 0.4468875825405121), ('මංකොල්ලා', 0.4411768913269043), ('මංකොල්ල', 0.43316587805747986), ('හොරෙකු', 0.4325586259365082)]\n",
      "[('බල්ලෙක්', 0.6867517232894897), ('බල්ලෙකු', 0.5932087898254395), ('බල්ල', 0.5784691572189331), ('බල්ලෝ', 0.567552924156189), ('ඌ', 0.5674609541893005), ('බල්ලන්', 0.5645824074745178), ('බල්ලාගේ', 0.5638853311538696), ('පූසා', 0.5564239621162415), ('බල්ලකු', 0.5560223460197449), ('බැල්ල', 0.553571879863739)]\n",
      "[('පුකෙ', 0.5124316811561584), ('පක', 0.5094996094703674), ('හුත්තෝ', 0.5023401975631714), ('තොගෙ', 0.49370935559272766), ('හුකයි', 0.48808029294013977), ('හුකල', 0.48400768637657166), ('ටොපා', 0.4780372679233551), ('ගෑනි', 0.47507378458976746), ('වේසි', 0.47073599696159363), ('පයිය', 0.46485796570777893)]\n",
      "[('හුකයි', 0.6160946488380432), ('මරක්කල', 0.5714790225028992), ('හම්බයෝ', 0.5374303460121155), ('මනවෙයි', 0.5232759714126587), ('හම්බයා', 0.519294798374176), ('ගෙරි', 0.5167688727378845), ('දෙමළු', 0.5025001168251038), ('තොපෙ', 0.49753767251968384), ('සිඥ්ඥෝර්ල', 0.49435603618621826), ('තම්බියා', 0.49090272188186646)]\n"
     ]
    }
   ],
   "metadata": {}
  },
  {
   "cell_type": "code",
   "execution_count": 7,
   "source": [
    "words = list(model_cbow.wv.vectors)\r\n",
    "print(len(words))\r\n",
    "print(model.wv)\r\n",
    "#print(words[10])"
   ],
   "outputs": [
    {
     "output_type": "stream",
     "name": "stdout",
     "text": [
      "2137729\n"
     ]
    }
   ],
   "metadata": {}
  },
  {
   "cell_type": "markdown",
   "source": [
    "## Embedding Mapping"
   ],
   "metadata": {}
  },
  {
   "cell_type": "code",
   "execution_count": 54,
   "source": [
    "def word_avg_vector(model,words_list):\r\n",
    "    if len(words_list) < 1:  # whole sentence has no words or nan\r\n",
    "        return np.zeros(300)\r\n",
    "    else:\r\n",
    "        vectorized = [model[word] if word in model else np.random.rand(300) for word in words_list]\r\n",
    "    # doc = [word for word in doc if word in model.wv.index_to_key else np.random.rand(k)]\r\n",
    "    return np.mean(vectorized, axis=0)\r\n",
    "\r\n",
    "# TODO function for word_tfidf_avg_vector\r\n",
    "\r\n",
    "\r\n",
    "def get_embedding(df,model):\r\n",
    "    # TODO add option to select TFIDF vs mean embedding\r\n",
    "    # avg vector\r\n",
    "    embeddings = df.apply(lambda x: word_avg_vector(model,x))\r\n",
    "\r\n",
    "    # tfidf weighted vector\r\n",
    "    return list(embeddings)\r\n",
    "def word2vec_skipgram_embedding(X_train,X_test):\r\n",
    "    # initialize model\r\n",
    "    # TODo initialize word2vec model here for partucular dataset\r\n",
    "    X_train_embeddings = get_embedding(X_train,model.wv)\r\n",
    "    X_test_embeddings = get_embedding(X_test,model.wv)\r\n",
    "    return X_train_embeddings,X_test_embeddings\r\n",
    "def word2vec_cbow_embedding(X_train,X_test):\r\n",
    "    # initialize model\r\n",
    "    \r\n",
    "    # TODo initialize word2vec model here for partucular dataset\r\n",
    "    X_train_embeddings = get_embedding(X_train,model_cbow.wv)\r\n",
    "    X_test_embeddings = get_embedding(X_test,model_cbow.wv)\r\n",
    "    return X_train_embeddings,X_test_embeddings\r\n",
    "    \r\n",
    "# also check evalaution metric from prediction\r\n",
    "# you can check both cross validated and hold out yureka cross validated only using trainig set"
   ],
   "outputs": [],
   "metadata": {}
  },
  {
   "cell_type": "markdown",
   "source": [
    "## Train wordvec model with dataset"
   ],
   "metadata": {}
  },
  {
   "cell_type": "code",
   "execution_count": null,
   "source": [
    "X_train, X_test, Y_train, Y_test = utills.prepare_dataset(df_A, \"df_A\")\r\n",
    "train_corpus = [x.split() for x in X_train]\r\n",
    "test_corpus = [x.split() for x in X_test]  "
   ],
   "outputs": [],
   "metadata": {}
  },
  {
   "cell_type": "code",
   "execution_count": null,
   "source": [
    "model = gensim.models.Word2Vec(train_corpus,\r\n",
    "                               vector_size=300,\r\n",
    "                               window=100,\r\n",
    "                               min_count=10,\r\n",
    "                               sample=1e-3)\r\n",
    "print(model.wv)\r\n",
    "print(len(model.wv.vectors))"
   ],
   "outputs": [],
   "metadata": {}
  },
  {
   "cell_type": "code",
   "execution_count": null,
   "source": [
    "def average_word_vectors(words, model, vocabulary, num_features):\r\n",
    "\r\n",
    "    feature_vector = np.zeros((num_features,), dtype=\"float64\")\r\n",
    "    nwords = 0.\r\n",
    "\r\n",
    "    for word in words:\r\n",
    "        if word in vocabulary:\r\n",
    "            nwords = nwords + 1.\r\n",
    "            feature_vector = np.add(feature_vector, model[word])\r\n",
    "\r\n",
    "    if nwords:\r\n",
    "        feature_vector = np.divide(feature_vector, nwords)\r\n",
    "\r\n",
    "    return feature_vector\r\n",
    "    \r\n",
    "def averaged_word_vectorizer(corpus, model, num_features):\r\n",
    "    vocabulary = set(model.index_to_key)\r\n",
    "    features = [average_word_vectors(tokenized_sentence, model, vocabulary, num_features)\r\n",
    "                for tokenized_sentence in corpus]\r\n",
    "    return np.array(features)"
   ],
   "outputs": [],
   "metadata": {}
  },
  {
   "cell_type": "code",
   "execution_count": null,
   "source": [
    "avg_wv_train_features = averaged_word_vectorizer(corpus=train_corpus,\r\n",
    "                                                 model=model.wv,\r\n",
    "                                                 num_features=300)\r\n",
    "avg_wv_test_features = averaged_word_vectorizer(corpus=test_corpus,\r\n",
    "                                                model=model.wv,\r\n",
    "                                                num_features=300)\r\n",
    "lr = LogisticRegression()\r\n",
    "lr.fit(avg_wv_train_features,Y_train)\r\n",
    "Y_pred_avg_w2v=lr.predict(avg_wv_test_features)"
   ],
   "outputs": [],
   "metadata": {}
  },
  {
   "cell_type": "markdown",
   "source": [
    "## Another apporach using pipeline"
   ],
   "metadata": {}
  },
  {
   "cell_type": "code",
   "execution_count": null,
   "source": [
    "\r\n",
    "\r\n",
    "\r\n",
    "# The train and test data was converted to list of strings since word2vec requires that\r\n",
    "#train_corpus = [\" \".join() for x in X_train]\r\n",
    "train_corpus = [x.split() for x in X_train]\r\n",
    "test_corpus = [x.split() for x in X_test]  \r\n",
    "\r\n",
    "import gensim\r\n",
    "# let X be a list of tokenized texts (i.e. list of lists of tokens)\r\n",
    "# skip gram model - good for high morphological languafes\r\n",
    "model = gensim.models.Word2Vec(train_corpus, vector_size=300,window = 10,min_count=1,sg=1)\r\n",
    "print(model.wv)\r\n",
    "print(len(model.wv.vectors))\r\n",
    "w2v = dict(zip(model.wv.index_to_key, model.wv.vectors))\r\n",
    "\r\n",
    "\r\n",
    "class MeanEmbeddingVectorizer(object):\r\n",
    "    def __init__(self, word2vec,size = 300):\r\n",
    "        self.word2vec = word2vec\r\n",
    "        # if a text is empty we should return a vector of zeros\r\n",
    "        # with the same dimensionality as all the other vectors\r\n",
    "        self.dim = size #len(word2vec.itervalues().next())\r\n",
    "\r\n",
    "    def fit(self, X, y):\r\n",
    "        return self\r\n",
    "\r\n",
    "    def transform(self, X):\r\n",
    "        return np.array([\r\n",
    "            np.mean([self.word2vec[w] for w in words if w in self.word2vec]\r\n",
    "                    or [np.zeros(self.dim)], axis=0)\r\n",
    "            for words in X\r\n",
    "        ])\r\n"
   ],
   "outputs": [],
   "metadata": {}
  },
  {
   "cell_type": "markdown",
   "source": [
    "## Test with logistic regression pretrained CBOW and skipgram (Common crawl)"
   ],
   "metadata": {}
  },
  {
   "cell_type": "markdown",
   "source": [
    "### Helper functions"
   ],
   "metadata": {}
  },
  {
   "cell_type": "code",
   "execution_count": 56,
   "source": [
    "def classifier_feature(datasets,models,features):\r\n",
    "    final_result =pd.DataFrame(columns=['Accuracy','F1-score','Recall','Precision','AUC'])\r\n",
    "    for df_name,df in datasets.items():\r\n",
    "        df_result =pd.DataFrame(columns=['Accuracy','F1-score','Recall','Precision','AUC'])\r\n",
    "        X_train,X_test,Y_train,Y_test = utills.prepare_dataset(df,df_name)\r\n",
    "        for feature_name,feature in features.items():\r\n",
    "            feature_result =pd.DataFrame(columns=['Accuracy','F1-score','Recall','Precision','AUC'])\r\n",
    "            X_train_f,X_test_f = feature(X_train,X_test)\r\n",
    "            for model_name,model in models.items():\r\n",
    "                name = df_name + \"+\" + feature_name+ \"+\"+ model_name\r\n",
    "                print(name)\r\n",
    "                Y_pred = model(X_train_f,X_test_f,Y_train)\r\n",
    "                accuracy, f1_score, recall, precision, auc = utills.result(Y_test,Y_pred)\r\n",
    "                final_result.loc[name] = [accuracy, f1_score, recall, precision, auc]\r\n",
    "                feature_result.loc[model_name] =[accuracy, f1_score, recall, precision, auc]\r\n",
    "                key =model_name + \"+\"+ feature_name\r\n",
    "                df_result.loc[key] = [accuracy, f1_score, recall, precision, auc]\r\n",
    "                log_result(Y_test,Y_pred,name,df_name,feature_name,model_name)\r\n",
    "            print(\" ==== \",feature_name ,\" ==== \")\r\n",
    "            display(feature_result)\r\n",
    "            log_table(feature_name,feature_result)\r\n",
    "        print(\" ==== \",df_name ,\" ==== \")\r\n",
    "        display(df_result)\r\n",
    "        log_table(df_name,df_result)\r\n",
    "    display(final_result)\r\n",
    "    log_table(name,final_result)\r\n",
    "\r\n"
   ],
   "outputs": [],
   "metadata": {}
  },
  {
   "cell_type": "code",
   "execution_count": 57,
   "source": [
    "def log_result(Y_test, Y_pred, name, df_name, feature_name, model_name):\r\n",
    "\r\n",
    "    import neptune\r\n",
    "    from neptunecontrib.monitoring.metrics import expand_prediction, log_class_metrics, log_binary_classification_metrics, log_classification_report, log_confusion_matrix, log_prediction_distribution\r\n",
    "    from neptunecontrib.api import log_table\r\n",
    "    import os\r\n",
    "    from dotenv import load_dotenv\r\n",
    "\r\n",
    "    load_dotenv()\r\n",
    "    NEPTUNE_PROJECT = os.getenv('NEPTUNE_PROJECT')\r\n",
    "    NEPTUNE_API_TOKEN = os.getenv(('NEPTUNE_API_TOKEN'))\r\n",
    "    neptune.init(project_qualified_name=NEPTUNE_PROJECT,\r\n",
    "                 api_token=NEPTUNE_API_TOKEN)\r\n",
    "\r\n",
    "    print(\"========= Eperiment - \", name, \" =========\")\r\n",
    "    neptune.create_experiment(name)\r\n",
    "    neptune.append_tag([df_name,feature_name, model_name, name])\r\n",
    "\r\n",
    "    log_class_metrics(Y_test, Y_pred)\r\n",
    "    log_confusion_matrix(Y_test, Y_pred)\r\n",
    "    log_classification_report(Y_test, Y_pred)"
   ],
   "outputs": [],
   "metadata": {}
  },
  {
   "cell_type": "code",
   "execution_count": 42,
   "source": [
    "def lr(X_train,X_test,Y_train):\r\n",
    "    lr = LogisticRegression(C=10,max_iter=350)\r\n",
    "    lr.fit(X_train,Y_train)\r\n",
    "    Y_pred = lr.predict(X_test)\r\n",
    "    return Y_pred"
   ],
   "outputs": [],
   "metadata": {}
  },
  {
   "cell_type": "markdown",
   "source": [
    "## Evaluate"
   ],
   "metadata": {}
  },
  {
   "cell_type": "code",
   "execution_count": 77,
   "source": [
    "df_dict = {'df_A':df_A,'df_A_p': df_A_p,'df_B': df_B,'df_B_p': df_B_p,'df_A_B' :df_A_B,'df_A_B_p' :df_A_B_p}\r\n",
    "# feature dict\r\n",
    "feature_dict={'W2V skipgram':word2vec_skipgram_embedding,'W2V CBOW':word2vec_cbow_embedding}\r\n",
    "# model dict\r\n",
    "model_dict = {\"LR\":lr,\"SVC\":utills.svc}\r\n",
    "classifier_feature(df_dict, model_dict, feature_dict)"
   ],
   "outputs": [],
   "metadata": {}
  },
  {
   "cell_type": "markdown",
   "source": [
    "## Test evaluaiton"
   ],
   "metadata": {}
  },
  {
   "cell_type": "code",
   "execution_count": 78,
   "source": [
    "def NB(X_train, X_test, Y_train):\r\n",
    "    from sklearn.naive_bayes import GaussianNB\r\n",
    "    nb = GaussianNB()\r\n",
    "    nb = nb.fit(X_train, Y_train)\r\n",
    "    Y_pred = nb.predict(X_test)\r\n",
    "    Y_prob = nb.predict_proba(X_test)[:, 1]\r\n",
    "    return Y_pred\r\n",
    "\r\n",
    "# Random Forest\r\n",
    "\r\n",
    "\r\n",
    "def RF(X_train, X_test, Y_train):\r\n",
    "    from sklearn.ensemble import RandomForestClassifier\r\n",
    "    rf = RandomForestClassifier(n_estimators=100)\r\n",
    "    rf.fit(X_train, Y_train)\r\n",
    "    Y_pred = rf.predict(X_test)\r\n",
    "    Y_prob = rf.predict_proba(X_test)[:, 1]\r\n",
    "    return Y_pred\r\n"
   ],
   "outputs": [],
   "metadata": {}
  },
  {
   "cell_type": "code",
   "execution_count": 80,
   "source": [
    "classifier_feature({'df_A':df_A,'df_B':df_B}, {'RF':RF,'NB':NB}, {'W2V skipgram':word2vec_skipgram_embedding,'W2V CBOW':word2vec_cbow_embedding})"
   ],
   "outputs": [
    {
     "output_type": "stream",
     "name": "stdout",
     "text": [
      "df_A 6468\n",
      "X train (4527,) Y train (4527,) X test (1941,) Y test (1941,)\n",
      "df_A+W2V skipgram+RF\n",
      "              precision    recall  f1-score   support\n",
      "\n",
      "           0       0.72      0.96      0.82      1337\n",
      "           1       0.65      0.16      0.26       604\n",
      "\n",
      "    accuracy                           0.71      1941\n",
      "   macro avg       0.68      0.56      0.54      1941\n",
      "weighted avg       0.70      0.71      0.65      1941\n",
      "\n"
     ]
    },
    {
     "output_type": "display_data",
     "data": {
      "image/png": "[encoded data removed]",
      "text/plain": [
       "<Figure size 432x288 with 1 Axes>"
      ]
     },
     "metadata": {
      "needs_background": "light"
     }
    },
    {
     "output_type": "stream",
     "name": "stdout",
     "text": [
      "========= Eperiment -  df_A+W2V skipgram+RF  =========\n",
      "https://app.neptune.ai/codekcg23/Research-Experiments/e/RES-209\n",
      "df_A+W2V skipgram+NB\n",
      "              precision    recall  f1-score   support\n",
      "\n",
      "           0       0.79      0.29      0.42      1337\n",
      "           1       0.35      0.83      0.49       604\n",
      "\n",
      "    accuracy                           0.46      1941\n",
      "   macro avg       0.57      0.56      0.46      1941\n",
      "weighted avg       0.65      0.46      0.44      1941\n",
      "\n"
     ]
    },
    {
     "output_type": "display_data",
     "data": {
      "image/png": "[encoded data removed]",
      "text/plain": [
       "<Figure size 432x288 with 1 Axes>"
      ]
     },
     "metadata": {
      "needs_background": "light"
     }
    },
    {
     "output_type": "stream",
     "name": "stdout",
     "text": [
      "========= Eperiment -  df_A+W2V skipgram+NB  =========\n",
      "https://app.neptune.ai/codekcg23/Research-Experiments/e/RES-210\n",
      " ====  W2V skipgram  ==== \n"
     ]
    },
    {
     "output_type": "display_data",
     "data": {
      "text/html": [
       "<div>\n",
       "<style scoped>\n",
       "    .dataframe tbody tr th:only-of-type {\n",
       "        vertical-align: middle;\n",
       "    }\n",
       "\n",
       "    .dataframe tbody tr th {\n",
       "        vertical-align: top;\n",
       "    }\n",
       "\n",
       "    .dataframe thead th {\n",
       "        text-align: right;\n",
       "    }\n",
       "</style>\n",
       "<table border=\"1\" class=\"dataframe\">\n",
       "  <thead>\n",
       "    <tr style=\"text-align: right;\">\n",
       "      <th></th>\n",
       "      <th>Accuracy</th>\n",
       "      <th>F1-score</th>\n",
       "      <th>Recall</th>\n",
       "      <th>Precision</th>\n",
       "      <th>AUC</th>\n",
       "    </tr>\n",
       "  </thead>\n",
       "  <tbody>\n",
       "    <tr>\n",
       "      <th>RF</th>\n",
       "      <td>0.712004</td>\n",
       "      <td>0.255659</td>\n",
       "      <td>0.15894</td>\n",
       "      <td>0.653061</td>\n",
       "      <td>0.560398</td>\n",
       "    </tr>\n",
       "    <tr>\n",
       "      <th>NB</th>\n",
       "      <td>0.458011</td>\n",
       "      <td>0.487829</td>\n",
       "      <td>0.82947</td>\n",
       "      <td>0.345517</td>\n",
       "      <td>0.559836</td>\n",
       "    </tr>\n",
       "  </tbody>\n",
       "</table>\n",
       "</div>"
      ],
      "text/plain": [
       "    Accuracy  F1-score   Recall  Precision       AUC\n",
       "RF  0.712004  0.255659  0.15894   0.653061  0.560398\n",
       "NB  0.458011  0.487829  0.82947   0.345517  0.559836"
      ]
     },
     "metadata": {}
    },
    {
     "output_type": "stream",
     "name": "stdout",
     "text": [
      "df_A+W2V CBOW+RF\n",
      "              precision    recall  f1-score   support\n",
      "\n",
      "           0       0.73      0.96      0.83      1337\n",
      "           1       0.69      0.20      0.30       604\n",
      "\n",
      "    accuracy                           0.72      1941\n",
      "   macro avg       0.71      0.58      0.57      1941\n",
      "weighted avg       0.72      0.72      0.66      1941\n",
      "\n"
     ]
    },
    {
     "output_type": "display_data",
     "data": {
      "image/png": "[encoded data removed]",
      "text/plain": [
       "<Figure size 432x288 with 1 Axes>"
      ]
     },
     "metadata": {
      "needs_background": "light"
     }
    },
    {
     "output_type": "stream",
     "name": "stdout",
     "text": [
      "========= Eperiment -  df_A+W2V CBOW+RF  =========\n",
      "https://app.neptune.ai/codekcg23/Research-Experiments/e/RES-211\n",
      "df_A+W2V CBOW+NB\n",
      "              precision    recall  f1-score   support\n",
      "\n",
      "           0       0.78      0.37      0.50      1337\n",
      "           1       0.36      0.77      0.49       604\n",
      "\n",
      "    accuracy                           0.49      1941\n",
      "   macro avg       0.57      0.57      0.49      1941\n",
      "weighted avg       0.65      0.49      0.50      1941\n",
      "\n"
     ]
    },
    {
     "output_type": "display_data",
     "data": {
      "image/png": "[encoded data removed]",
      "text/plain": [
       "<Figure size 432x288 with 1 Axes>"
      ]
     },
     "metadata": {
      "needs_background": "light"
     }
    },
    {
     "output_type": "stream",
     "name": "stdout",
     "text": [
      "========= Eperiment -  df_A+W2V CBOW+NB  =========\n",
      "https://app.neptune.ai/codekcg23/Research-Experiments/e/RES-212\n",
      " ====  W2V CBOW  ==== \n"
     ]
    },
    {
     "output_type": "display_data",
     "data": {
      "text/html": [
       "<div>\n",
       "<style scoped>\n",
       "    .dataframe tbody tr th:only-of-type {\n",
       "        vertical-align: middle;\n",
       "    }\n",
       "\n",
       "    .dataframe tbody tr th {\n",
       "        vertical-align: top;\n",
       "    }\n",
       "\n",
       "    .dataframe thead th {\n",
       "        text-align: right;\n",
       "    }\n",
       "</style>\n",
       "<table border=\"1\" class=\"dataframe\">\n",
       "  <thead>\n",
       "    <tr style=\"text-align: right;\">\n",
       "      <th></th>\n",
       "      <th>Accuracy</th>\n",
       "      <th>F1-score</th>\n",
       "      <th>Recall</th>\n",
       "      <th>Precision</th>\n",
       "      <th>AUC</th>\n",
       "    </tr>\n",
       "  </thead>\n",
       "  <tbody>\n",
       "    <tr>\n",
       "      <th>RF</th>\n",
       "      <td>0.722823</td>\n",
       "      <td>0.30491</td>\n",
       "      <td>0.195364</td>\n",
       "      <td>0.694118</td>\n",
       "      <td>0.578236</td>\n",
       "    </tr>\n",
       "    <tr>\n",
       "      <th>NB</th>\n",
       "      <td>0.493560</td>\n",
       "      <td>0.48561</td>\n",
       "      <td>0.768212</td>\n",
       "      <td>0.355011</td>\n",
       "      <td>0.568848</td>\n",
       "    </tr>\n",
       "  </tbody>\n",
       "</table>\n",
       "</div>"
      ],
      "text/plain": [
       "    Accuracy  F1-score    Recall  Precision       AUC\n",
       "RF  0.722823   0.30491  0.195364   0.694118  0.578236\n",
       "NB  0.493560   0.48561  0.768212   0.355011  0.568848"
      ]
     },
     "metadata": {}
    },
    {
     "output_type": "stream",
     "name": "stdout",
     "text": [
      " ====  df_A  ==== \n"
     ]
    },
    {
     "output_type": "display_data",
     "data": {
      "text/html": [
       "<div>\n",
       "<style scoped>\n",
       "    .dataframe tbody tr th:only-of-type {\n",
       "        vertical-align: middle;\n",
       "    }\n",
       "\n",
       "    .dataframe tbody tr th {\n",
       "        vertical-align: top;\n",
       "    }\n",
       "\n",
       "    .dataframe thead th {\n",
       "        text-align: right;\n",
       "    }\n",
       "</style>\n",
       "<table border=\"1\" class=\"dataframe\">\n",
       "  <thead>\n",
       "    <tr style=\"text-align: right;\">\n",
       "      <th></th>\n",
       "      <th>Accuracy</th>\n",
       "      <th>F1-score</th>\n",
       "      <th>Recall</th>\n",
       "      <th>Precision</th>\n",
       "      <th>AUC</th>\n",
       "    </tr>\n",
       "  </thead>\n",
       "  <tbody>\n",
       "    <tr>\n",
       "      <th>RF+W2V skipgram</th>\n",
       "      <td>0.712004</td>\n",
       "      <td>0.255659</td>\n",
       "      <td>0.158940</td>\n",
       "      <td>0.653061</td>\n",
       "      <td>0.560398</td>\n",
       "    </tr>\n",
       "    <tr>\n",
       "      <th>NB+W2V skipgram</th>\n",
       "      <td>0.458011</td>\n",
       "      <td>0.487829</td>\n",
       "      <td>0.829470</td>\n",
       "      <td>0.345517</td>\n",
       "      <td>0.559836</td>\n",
       "    </tr>\n",
       "    <tr>\n",
       "      <th>RF+W2V CBOW</th>\n",
       "      <td>0.722823</td>\n",
       "      <td>0.304910</td>\n",
       "      <td>0.195364</td>\n",
       "      <td>0.694118</td>\n",
       "      <td>0.578236</td>\n",
       "    </tr>\n",
       "    <tr>\n",
       "      <th>NB+W2V CBOW</th>\n",
       "      <td>0.493560</td>\n",
       "      <td>0.485610</td>\n",
       "      <td>0.768212</td>\n",
       "      <td>0.355011</td>\n",
       "      <td>0.568848</td>\n",
       "    </tr>\n",
       "  </tbody>\n",
       "</table>\n",
       "</div>"
      ],
      "text/plain": [
       "                 Accuracy  F1-score    Recall  Precision       AUC\n",
       "RF+W2V skipgram  0.712004  0.255659  0.158940   0.653061  0.560398\n",
       "NB+W2V skipgram  0.458011  0.487829  0.829470   0.345517  0.559836\n",
       "RF+W2V CBOW      0.722823  0.304910  0.195364   0.694118  0.578236\n",
       "NB+W2V CBOW      0.493560  0.485610  0.768212   0.355011  0.568848"
      ]
     },
     "metadata": {}
    },
    {
     "output_type": "stream",
     "name": "stdout",
     "text": [
      "df_B 6345\n",
      "X train (4441,) Y train (4441,) X test (1904,) Y test (1904,)\n",
      "df_B+W2V skipgram+RF\n",
      "              precision    recall  f1-score   support\n",
      "\n",
      "           0       0.70      0.70      0.70       867\n",
      "           1       0.75      0.74      0.75      1037\n",
      "\n",
      "    accuracy                           0.72      1904\n",
      "   macro avg       0.72      0.72      0.72      1904\n",
      "weighted avg       0.72      0.72      0.72      1904\n",
      "\n"
     ]
    },
    {
     "output_type": "display_data",
     "data": {
      "image/png": "[encoded data removed]",
      "text/plain": [
       "<Figure size 432x288 with 1 Axes>"
      ]
     },
     "metadata": {
      "needs_background": "light"
     }
    },
    {
     "output_type": "stream",
     "name": "stdout",
     "text": [
      "========= Eperiment -  df_B+W2V skipgram+RF  =========\n",
      "https://app.neptune.ai/codekcg23/Research-Experiments/e/RES-213\n",
      "df_B+W2V skipgram+NB\n",
      "              precision    recall  f1-score   support\n",
      "\n",
      "           0       0.64      0.37      0.47       867\n",
      "           1       0.61      0.83      0.70      1037\n",
      "\n",
      "    accuracy                           0.62      1904\n",
      "   macro avg       0.62      0.60      0.58      1904\n",
      "weighted avg       0.62      0.62      0.59      1904\n",
      "\n"
     ]
    },
    {
     "output_type": "display_data",
     "data": {
      "image/png": "[encoded data removed]",
      "text/plain": [
       "<Figure size 432x288 with 1 Axes>"
      ]
     },
     "metadata": {
      "needs_background": "light"
     }
    },
    {
     "output_type": "stream",
     "name": "stdout",
     "text": [
      "========= Eperiment -  df_B+W2V skipgram+NB  =========\n",
      "https://app.neptune.ai/codekcg23/Research-Experiments/e/RES-214\n"
     ]
    },
    {
     "output_type": "stream",
     "name": "stderr",
     "text": [
      "Unexpected error in ping thread.\n",
      "Traceback (most recent call last):\n",
      "  File \"C:\\Users\\Kavishka\\anaconda3\\lib\\site-packages\\urllib3\\connectionpool.py\", line 672, in urlopen\n",
      "    chunked=chunked,\n",
      "  File \"C:\\Users\\Kavishka\\anaconda3\\lib\\site-packages\\urllib3\\connectionpool.py\", line 421, in _make_request\n",
      "    six.raise_from(e, None)\n",
      "  File \"<string>\", line 3, in raise_from\n",
      "  File \"C:\\Users\\Kavishka\\anaconda3\\lib\\site-packages\\urllib3\\connectionpool.py\", line 416, in _make_request\n",
      "    httplib_response = conn.getresponse()\n",
      "  File \"C:\\Users\\Kavishka\\anaconda3\\lib\\http\\client.py\", line 1344, in getresponse\n",
      "    response.begin()\n",
      "  File \"C:\\Users\\Kavishka\\anaconda3\\lib\\http\\client.py\", line 306, in begin\n",
      "    version, status, reason = self._read_status()\n",
      "  File \"C:\\Users\\Kavishka\\anaconda3\\lib\\http\\client.py\", line 267, in _read_status\n",
      "    line = str(self.fp.readline(_MAXLINE + 1), \"iso-8859-1\")\n",
      "  File \"C:\\Users\\Kavishka\\anaconda3\\lib\\socket.py\", line 589, in readinto\n",
      "    return self._sock.recv_into(b)\n",
      "  File \"C:\\Users\\Kavishka\\anaconda3\\lib\\site-packages\\urllib3\\contrib\\pyopenssl.py\", line 318, in recv_into\n",
      "    raise SocketError(str(e))\n",
      "OSError: (10054, 'WSAECONNRESET')\n",
      "\n",
      "During handling of the above exception, another exception occurred:\n",
      "\n",
      "Traceback (most recent call last):\n",
      "  File \"C:\\Users\\Kavishka\\anaconda3\\lib\\site-packages\\requests\\adapters.py\", line 449, in send\n",
      "    timeout=timeout\n",
      "  File \"C:\\Users\\Kavishka\\anaconda3\\lib\\site-packages\\urllib3\\connectionpool.py\", line 720, in urlopen\n",
      "    method, url, error=e, _pool=self, _stacktrace=sys.exc_info()[2]\n",
      "  File \"C:\\Users\\Kavishka\\anaconda3\\lib\\site-packages\\urllib3\\util\\retry.py\", line 400, in increment\n",
      "    raise six.reraise(type(error), error, _stacktrace)\n",
      "  File \"C:\\Users\\Kavishka\\anaconda3\\lib\\site-packages\\urllib3\\packages\\six.py\", line 734, in reraise\n",
      "    raise value.with_traceback(tb)\n",
      "  File \"C:\\Users\\Kavishka\\anaconda3\\lib\\site-packages\\urllib3\\connectionpool.py\", line 672, in urlopen\n",
      "    chunked=chunked,\n",
      "  File \"C:\\Users\\Kavishka\\anaconda3\\lib\\site-packages\\urllib3\\connectionpool.py\", line 421, in _make_request\n",
      "    six.raise_from(e, None)\n",
      "  File \"<string>\", line 3, in raise_from\n",
      "  File \"C:\\Users\\Kavishka\\anaconda3\\lib\\site-packages\\urllib3\\connectionpool.py\", line 416, in _make_request\n",
      "    httplib_response = conn.getresponse()\n",
      "  File \"C:\\Users\\Kavishka\\anaconda3\\lib\\http\\client.py\", line 1344, in getresponse\n",
      "    response.begin()\n",
      "  File \"C:\\Users\\Kavishka\\anaconda3\\lib\\http\\client.py\", line 306, in begin\n",
      "    version, status, reason = self._read_status()\n",
      "  File \"C:\\Users\\Kavishka\\anaconda3\\lib\\http\\client.py\", line 267, in _read_status\n",
      "    line = str(self.fp.readline(_MAXLINE + 1), \"iso-8859-1\")\n",
      "  File \"C:\\Users\\Kavishka\\anaconda3\\lib\\socket.py\", line 589, in readinto\n",
      "    return self._sock.recv_into(b)\n",
      "  File \"C:\\Users\\Kavishka\\anaconda3\\lib\\site-packages\\urllib3\\contrib\\pyopenssl.py\", line 318, in recv_into\n",
      "    raise SocketError(str(e))\n",
      "urllib3.exceptions.ProtocolError: ('Connection aborted.', OSError(\"(10054, 'WSAECONNRESET')\"))\n",
      "\n",
      "During handling of the above exception, another exception occurred:\n",
      "\n",
      "Traceback (most recent call last):\n",
      "  File \"C:\\Users\\Kavishka\\anaconda3\\lib\\site-packages\\bravado\\http_future.py\", line 124, in wrapper\n",
      "    return func(self, *args, **kwargs)\n",
      "  File \"C:\\Users\\Kavishka\\anaconda3\\lib\\site-packages\\bravado\\http_future.py\", line 291, in _get_incoming_response\n",
      "    inner_response = self.future.result(timeout=timeout)\n",
      "  File \"C:\\Users\\Kavishka\\anaconda3\\lib\\site-packages\\bravado\\requests_client.py\", line 270, in result\n",
      "    **settings\n",
      "  File \"C:\\Users\\Kavishka\\anaconda3\\lib\\site-packages\\requests\\sessions.py\", line 646, in send\n",
      "    r = adapter.send(request, **kwargs)\n",
      "  File \"C:\\Users\\Kavishka\\anaconda3\\lib\\site-packages\\requests\\adapters.py\", line 498, in send\n",
      "    raise ConnectionError(err, request=request)\n",
      "requests.exceptions.ConnectionError: ('Connection aborted.', OSError(\"(10054, 'WSAECONNRESET')\"))\n",
      "\n",
      "During handling of the above exception, another exception occurred:\n",
      "\n",
      "Traceback (most recent call last):\n",
      "  File \"C:\\Users\\Kavishka\\anaconda3\\lib\\site-packages\\neptune\\internal\\threads\\ping_thread.py\", line 37, in run\n",
      "    self.__backend.ping_experiment(self.__experiment)\n",
      "  File \"C:\\Users\\Kavishka\\anaconda3\\lib\\site-packages\\neptune\\internal\\api_clients\\hosted_api_clients\\hosted_alpha_leaderboard_api_client.py\", line 392, in ping_experiment\n",
      "    self.leaderboard_swagger_client.api.ping(experimentId=str(experiment.internal_id)).response().result\n",
      "  File \"C:\\Users\\Kavishka\\anaconda3\\lib\\site-packages\\bravado\\http_future.py\", line 239, in response\n",
      "    six.reraise(*sys.exc_info())\n",
      "  File \"C:\\Users\\Kavishka\\anaconda3\\lib\\site-packages\\six.py\", line 703, in reraise\n",
      "    raise value\n",
      "  File \"C:\\Users\\Kavishka\\anaconda3\\lib\\site-packages\\bravado\\http_future.py\", line 197, in response\n",
      "    incoming_response = self._get_incoming_response(timeout)\n",
      "  File \"C:\\Users\\Kavishka\\anaconda3\\lib\\site-packages\\bravado\\http_future.py\", line 126, in wrapper\n",
      "    self.future._raise_connection_error(exception)\n",
      "  File \"C:\\Users\\Kavishka\\anaconda3\\lib\\site-packages\\bravado\\http_future.py\", line 91, in _raise_connection_error\n",
      "    self._raise_error(BravadoConnectionError, 'ConnectionError', exception)\n",
      "  File \"C:\\Users\\Kavishka\\anaconda3\\lib\\site-packages\\bravado\\http_future.py\", line 82, in _raise_error\n",
      "    sys.exc_info()[2],\n",
      "  File \"C:\\Users\\Kavishka\\anaconda3\\lib\\site-packages\\six.py\", line 702, in reraise\n",
      "    raise value.with_traceback(tb)\n",
      "  File \"C:\\Users\\Kavishka\\anaconda3\\lib\\site-packages\\bravado\\http_future.py\", line 124, in wrapper\n",
      "    return func(self, *args, **kwargs)\n",
      "  File \"C:\\Users\\Kavishka\\anaconda3\\lib\\site-packages\\bravado\\http_future.py\", line 291, in _get_incoming_response\n",
      "    inner_response = self.future.result(timeout=timeout)\n",
      "  File \"C:\\Users\\Kavishka\\anaconda3\\lib\\site-packages\\bravado\\requests_client.py\", line 270, in result\n",
      "    **settings\n",
      "  File \"C:\\Users\\Kavishka\\anaconda3\\lib\\site-packages\\requests\\sessions.py\", line 646, in send\n",
      "    r = adapter.send(request, **kwargs)\n",
      "  File \"C:\\Users\\Kavishka\\anaconda3\\lib\\site-packages\\requests\\adapters.py\", line 498, in send\n",
      "    raise ConnectionError(err, request=request)\n",
      "bravado.http_future.RequestsFutureAdapterConnectionError\n"
     ]
    },
    {
     "output_type": "stream",
     "name": "stdout",
     "text": [
      " ====  W2V skipgram  ==== \n"
     ]
    },
    {
     "output_type": "display_data",
     "data": {
      "text/html": [
       "<div>\n",
       "<style scoped>\n",
       "    .dataframe tbody tr th:only-of-type {\n",
       "        vertical-align: middle;\n",
       "    }\n",
       "\n",
       "    .dataframe tbody tr th {\n",
       "        vertical-align: top;\n",
       "    }\n",
       "\n",
       "    .dataframe thead th {\n",
       "        text-align: right;\n",
       "    }\n",
       "</style>\n",
       "<table border=\"1\" class=\"dataframe\">\n",
       "  <thead>\n",
       "    <tr style=\"text-align: right;\">\n",
       "      <th></th>\n",
       "      <th>Accuracy</th>\n",
       "      <th>F1-score</th>\n",
       "      <th>Recall</th>\n",
       "      <th>Precision</th>\n",
       "      <th>AUC</th>\n",
       "    </tr>\n",
       "  </thead>\n",
       "  <tbody>\n",
       "    <tr>\n",
       "      <th>RF</th>\n",
       "      <td>0.723739</td>\n",
       "      <td>0.745648</td>\n",
       "      <td>0.743491</td>\n",
       "      <td>0.747818</td>\n",
       "      <td>0.721803</td>\n",
       "    </tr>\n",
       "    <tr>\n",
       "      <th>NB</th>\n",
       "      <td>0.617122</td>\n",
       "      <td>0.701840</td>\n",
       "      <td>0.827387</td>\n",
       "      <td>0.609375</td>\n",
       "      <td>0.596508</td>\n",
       "    </tr>\n",
       "  </tbody>\n",
       "</table>\n",
       "</div>"
      ],
      "text/plain": [
       "    Accuracy  F1-score    Recall  Precision       AUC\n",
       "RF  0.723739  0.745648  0.743491   0.747818  0.721803\n",
       "NB  0.617122  0.701840  0.827387   0.609375  0.596508"
      ]
     },
     "metadata": {}
    },
    {
     "output_type": "stream",
     "name": "stdout",
     "text": [
      "df_B+W2V CBOW+RF\n",
      "              precision    recall  f1-score   support\n",
      "\n",
      "           0       0.71      0.69      0.70       867\n",
      "           1       0.75      0.76      0.76      1037\n",
      "\n",
      "    accuracy                           0.73      1904\n",
      "   macro avg       0.73      0.73      0.73      1904\n",
      "weighted avg       0.73      0.73      0.73      1904\n",
      "\n"
     ]
    },
    {
     "output_type": "display_data",
     "data": {
      "image/png": "[encoded data removed]",
      "text/plain": [
       "<Figure size 432x288 with 1 Axes>"
      ]
     },
     "metadata": {
      "needs_background": "light"
     }
    },
    {
     "output_type": "stream",
     "name": "stdout",
     "text": [
      "========= Eperiment -  df_B+W2V CBOW+RF  =========\n",
      "https://app.neptune.ai/codekcg23/Research-Experiments/e/RES-215\n",
      "df_B+W2V CBOW+NB\n",
      "              precision    recall  f1-score   support\n",
      "\n",
      "           0       0.65      0.42      0.51       867\n",
      "           1       0.63      0.81      0.71      1037\n",
      "\n",
      "    accuracy                           0.63      1904\n",
      "   macro avg       0.64      0.62      0.61      1904\n",
      "weighted avg       0.64      0.63      0.62      1904\n",
      "\n"
     ]
    },
    {
     "output_type": "display_data",
     "data": {
      "image/png": "[encoded data removed]",
      "text/plain": [
       "<Figure size 432x288 with 1 Axes>"
      ]
     },
     "metadata": {
      "needs_background": "light"
     }
    },
    {
     "output_type": "stream",
     "name": "stdout",
     "text": [
      "========= Eperiment -  df_B+W2V CBOW+NB  =========\n",
      "https://app.neptune.ai/codekcg23/Research-Experiments/e/RES-216\n",
      " ====  W2V CBOW  ==== \n"
     ]
    },
    {
     "output_type": "display_data",
     "data": {
      "text/html": [
       "<div>\n",
       "<style scoped>\n",
       "    .dataframe tbody tr th:only-of-type {\n",
       "        vertical-align: middle;\n",
       "    }\n",
       "\n",
       "    .dataframe tbody tr th {\n",
       "        vertical-align: top;\n",
       "    }\n",
       "\n",
       "    .dataframe thead th {\n",
       "        text-align: right;\n",
       "    }\n",
       "</style>\n",
       "<table border=\"1\" class=\"dataframe\">\n",
       "  <thead>\n",
       "    <tr style=\"text-align: right;\">\n",
       "      <th></th>\n",
       "      <th>Accuracy</th>\n",
       "      <th>F1-score</th>\n",
       "      <th>Recall</th>\n",
       "      <th>Precision</th>\n",
       "      <th>AUC</th>\n",
       "    </tr>\n",
       "  </thead>\n",
       "  <tbody>\n",
       "    <tr>\n",
       "      <th>RF</th>\n",
       "      <td>0.731092</td>\n",
       "      <td>0.755725</td>\n",
       "      <td>0.763742</td>\n",
       "      <td>0.747875</td>\n",
       "      <td>0.727892</td>\n",
       "    </tr>\n",
       "    <tr>\n",
       "      <th>NB</th>\n",
       "      <td>0.633929</td>\n",
       "      <td>0.707020</td>\n",
       "      <td>0.810993</td>\n",
       "      <td>0.626677</td>\n",
       "      <td>0.616569</td>\n",
       "    </tr>\n",
       "  </tbody>\n",
       "</table>\n",
       "</div>"
      ],
      "text/plain": [
       "    Accuracy  F1-score    Recall  Precision       AUC\n",
       "RF  0.731092  0.755725  0.763742   0.747875  0.727892\n",
       "NB  0.633929  0.707020  0.810993   0.626677  0.616569"
      ]
     },
     "metadata": {}
    },
    {
     "output_type": "stream",
     "name": "stdout",
     "text": [
      " ====  df_B  ==== \n"
     ]
    },
    {
     "output_type": "display_data",
     "data": {
      "text/html": [
       "<div>\n",
       "<style scoped>\n",
       "    .dataframe tbody tr th:only-of-type {\n",
       "        vertical-align: middle;\n",
       "    }\n",
       "\n",
       "    .dataframe tbody tr th {\n",
       "        vertical-align: top;\n",
       "    }\n",
       "\n",
       "    .dataframe thead th {\n",
       "        text-align: right;\n",
       "    }\n",
       "</style>\n",
       "<table border=\"1\" class=\"dataframe\">\n",
       "  <thead>\n",
       "    <tr style=\"text-align: right;\">\n",
       "      <th></th>\n",
       "      <th>Accuracy</th>\n",
       "      <th>F1-score</th>\n",
       "      <th>Recall</th>\n",
       "      <th>Precision</th>\n",
       "      <th>AUC</th>\n",
       "    </tr>\n",
       "  </thead>\n",
       "  <tbody>\n",
       "    <tr>\n",
       "      <th>RF+W2V skipgram</th>\n",
       "      <td>0.723739</td>\n",
       "      <td>0.745648</td>\n",
       "      <td>0.743491</td>\n",
       "      <td>0.747818</td>\n",
       "      <td>0.721803</td>\n",
       "    </tr>\n",
       "    <tr>\n",
       "      <th>NB+W2V skipgram</th>\n",
       "      <td>0.617122</td>\n",
       "      <td>0.701840</td>\n",
       "      <td>0.827387</td>\n",
       "      <td>0.609375</td>\n",
       "      <td>0.596508</td>\n",
       "    </tr>\n",
       "    <tr>\n",
       "      <th>RF+W2V CBOW</th>\n",
       "      <td>0.731092</td>\n",
       "      <td>0.755725</td>\n",
       "      <td>0.763742</td>\n",
       "      <td>0.747875</td>\n",
       "      <td>0.727892</td>\n",
       "    </tr>\n",
       "    <tr>\n",
       "      <th>NB+W2V CBOW</th>\n",
       "      <td>0.633929</td>\n",
       "      <td>0.707020</td>\n",
       "      <td>0.810993</td>\n",
       "      <td>0.626677</td>\n",
       "      <td>0.616569</td>\n",
       "    </tr>\n",
       "  </tbody>\n",
       "</table>\n",
       "</div>"
      ],
      "text/plain": [
       "                 Accuracy  F1-score    Recall  Precision       AUC\n",
       "RF+W2V skipgram  0.723739  0.745648  0.743491   0.747818  0.721803\n",
       "NB+W2V skipgram  0.617122  0.701840  0.827387   0.609375  0.596508\n",
       "RF+W2V CBOW      0.731092  0.755725  0.763742   0.747875  0.727892\n",
       "NB+W2V CBOW      0.633929  0.707020  0.810993   0.626677  0.616569"
      ]
     },
     "metadata": {}
    },
    {
     "output_type": "display_data",
     "data": {
      "text/html": [
       "<div>\n",
       "<style scoped>\n",
       "    .dataframe tbody tr th:only-of-type {\n",
       "        vertical-align: middle;\n",
       "    }\n",
       "\n",
       "    .dataframe tbody tr th {\n",
       "        vertical-align: top;\n",
       "    }\n",
       "\n",
       "    .dataframe thead th {\n",
       "        text-align: right;\n",
       "    }\n",
       "</style>\n",
       "<table border=\"1\" class=\"dataframe\">\n",
       "  <thead>\n",
       "    <tr style=\"text-align: right;\">\n",
       "      <th></th>\n",
       "      <th>Accuracy</th>\n",
       "      <th>F1-score</th>\n",
       "      <th>Recall</th>\n",
       "      <th>Precision</th>\n",
       "      <th>AUC</th>\n",
       "    </tr>\n",
       "  </thead>\n",
       "  <tbody>\n",
       "    <tr>\n",
       "      <th>df_A+W2V skipgram+RF</th>\n",
       "      <td>0.712004</td>\n",
       "      <td>0.255659</td>\n",
       "      <td>0.158940</td>\n",
       "      <td>0.653061</td>\n",
       "      <td>0.560398</td>\n",
       "    </tr>\n",
       "    <tr>\n",
       "      <th>df_A+W2V skipgram+NB</th>\n",
       "      <td>0.458011</td>\n",
       "      <td>0.487829</td>\n",
       "      <td>0.829470</td>\n",
       "      <td>0.345517</td>\n",
       "      <td>0.559836</td>\n",
       "    </tr>\n",
       "    <tr>\n",
       "      <th>df_A+W2V CBOW+RF</th>\n",
       "      <td>0.722823</td>\n",
       "      <td>0.304910</td>\n",
       "      <td>0.195364</td>\n",
       "      <td>0.694118</td>\n",
       "      <td>0.578236</td>\n",
       "    </tr>\n",
       "    <tr>\n",
       "      <th>df_A+W2V CBOW+NB</th>\n",
       "      <td>0.493560</td>\n",
       "      <td>0.485610</td>\n",
       "      <td>0.768212</td>\n",
       "      <td>0.355011</td>\n",
       "      <td>0.568848</td>\n",
       "    </tr>\n",
       "    <tr>\n",
       "      <th>df_B+W2V skipgram+RF</th>\n",
       "      <td>0.723739</td>\n",
       "      <td>0.745648</td>\n",
       "      <td>0.743491</td>\n",
       "      <td>0.747818</td>\n",
       "      <td>0.721803</td>\n",
       "    </tr>\n",
       "    <tr>\n",
       "      <th>df_B+W2V skipgram+NB</th>\n",
       "      <td>0.617122</td>\n",
       "      <td>0.701840</td>\n",
       "      <td>0.827387</td>\n",
       "      <td>0.609375</td>\n",
       "      <td>0.596508</td>\n",
       "    </tr>\n",
       "    <tr>\n",
       "      <th>df_B+W2V CBOW+RF</th>\n",
       "      <td>0.731092</td>\n",
       "      <td>0.755725</td>\n",
       "      <td>0.763742</td>\n",
       "      <td>0.747875</td>\n",
       "      <td>0.727892</td>\n",
       "    </tr>\n",
       "    <tr>\n",
       "      <th>df_B+W2V CBOW+NB</th>\n",
       "      <td>0.633929</td>\n",
       "      <td>0.707020</td>\n",
       "      <td>0.810993</td>\n",
       "      <td>0.626677</td>\n",
       "      <td>0.616569</td>\n",
       "    </tr>\n",
       "  </tbody>\n",
       "</table>\n",
       "</div>"
      ],
      "text/plain": [
       "                      Accuracy  F1-score    Recall  Precision       AUC\n",
       "df_A+W2V skipgram+RF  0.712004  0.255659  0.158940   0.653061  0.560398\n",
       "df_A+W2V skipgram+NB  0.458011  0.487829  0.829470   0.345517  0.559836\n",
       "df_A+W2V CBOW+RF      0.722823  0.304910  0.195364   0.694118  0.578236\n",
       "df_A+W2V CBOW+NB      0.493560  0.485610  0.768212   0.355011  0.568848\n",
       "df_B+W2V skipgram+RF  0.723739  0.745648  0.743491   0.747818  0.721803\n",
       "df_B+W2V skipgram+NB  0.617122  0.701840  0.827387   0.609375  0.596508\n",
       "df_B+W2V CBOW+RF      0.731092  0.755725  0.763742   0.747875  0.727892\n",
       "df_B+W2V CBOW+NB      0.633929  0.707020  0.810993   0.626677  0.616569"
      ]
     },
     "metadata": {}
    }
   ],
   "metadata": {}
  },
  {
   "cell_type": "markdown",
   "source": [
    "## Visualization of tsne"
   ],
   "metadata": {}
  },
  {
   "cell_type": "code",
   "execution_count": 71,
   "source": [
    "def tsne_plot(model):\r\n",
    "    from sklearn.manifold import TSNE\r\n",
    "    \"Create TSNE model and plot it\"\r\n",
    "    labels = []\r\n",
    "    tokens = []\r\n",
    "\r\n",
    "    for word in model.index_to_key:\r\n",
    "        tokens.append(model[word])\r\n",
    "        labels.append(word)\r\n",
    "    \r\n",
    "    tsne_model = TSNE(perplexity=40, n_components=2, init='pca', n_iter=2500, random_state=23)\r\n",
    "    new_values = tsne_model.fit_transform(tokens)\r\n",
    "\r\n",
    "    x = []\r\n",
    "    y = []\r\n",
    "    for value in new_values:\r\n",
    "        x.append(value[0])\r\n",
    "        y.append(value[1])\r\n",
    "        \r\n",
    "    plt.figure(figsize=(18, 18)) \r\n",
    "    for i in range(len(x)):\r\n",
    "        plt.scatter(x[i],y[i])\r\n",
    "        plt.annotate(labels[i],\r\n",
    "                     xy=(x[i], y[i]),\r\n",
    "                     xytext=(5, 2),\r\n",
    "                     textcoords='offset points',\r\n",
    "                     ha='right',\r\n",
    "                     va='bottom')\r\n",
    "    plt.show()\r\n",
    "   "
   ],
   "outputs": [],
   "metadata": {}
  },
  {
   "cell_type": "code",
   "execution_count": null,
   "source": [
    "tsne_plot(model_cbow.wv)"
   ],
   "outputs": [],
   "metadata": {}
  },
  {
   "cell_type": "markdown",
   "source": [
    "## fine tuned pretrained one"
   ],
   "metadata": {}
  },
  {
   "cell_type": "code",
   "execution_count": null,
   "source": [
    "new_model.build_vocab(df_A.comment.values, update = True)\r\n",
    "new_model.train(df_A.comment.values, total_examples=2, epochs = 1)\r\n",
    "new_model.wv.vocab"
   ],
   "outputs": [],
   "metadata": {}
  },
  {
   "cell_type": "markdown",
   "source": [
    "## How stemming affect the word embedding"
   ],
   "metadata": {}
  },
  {
   "cell_type": "code",
   "execution_count": 82,
   "source": [
    "print(model.wv.most_similar('සිසුන'))\r\n",
    "print(model.wv.most_similar('සිස'))\r\n",
    "print(model.wv.most_similar('සිසුන'))\r\n",
    "print(model.wv.most_similar('නොමැ'))  # නොමැති\r\n",
    "print(model.wv.most_similar('නොමැති'))\r\n",
    "\r\n"
   ],
   "outputs": [
    {
     "output_type": "stream",
     "name": "stdout",
     "text": [
      "[('්පොරෝජනයට', 0.7376485466957092), ('ක්\\u200dරියාපිළිවෙතකි', 0.7028831243515015), ('\\u200dසරසවි', 0.7002137899398804), ('බයින්ගෙන්', 0.6858236193656921), ('අටසහසකට', 0.658367395401001), ('වෘත්තීයවේදිනියන්', 0.6538061499595642), ('සිසුවියන්ය', 0.6532202959060669), ('සුසුවියන්', 0.6531831622123718), ('හැදැරූවන්ද', 0.6509316563606262), ('ශාස්ත\\u200d්\\u200dරපීඨ', 0.6508955359458923)]\n",
      "[('ඊට්ටිකුල', 0.5869222283363342), ('විශේෂඥයාවරයාගේ', 0.5849105715751648), ('බෙකර්ලි', 0.574848473072052), ('ගුරුවරියෙක්මි', 0.5744667649269104), ('සටනේ\\tකොළඹ', 0.5734717845916748), ('සිසසුන්ගෙ', 0.570600688457489), ('ජීක්ල්', 0.5696278214454651), ('ඒ.එෆ්', 0.5689621567726135), ('ඉංජිනේරුවිද්\\u200dයා', 0.5683059096336365), ('ලැට්ටෝවෛද්\\u200dය', 0.5654928684234619)]\n",
      "[('්පොරෝජනයට', 0.7376485466957092), ('ක්\\u200dරියාපිළිවෙතකි', 0.7028831243515015), ('\\u200dසරසවි', 0.7002137899398804), ('බයින්ගෙන්', 0.6858236193656921), ('අටසහසකට', 0.658367395401001), ('වෘත්තීයවේදිනියන්', 0.6538061499595642), ('සිසුවියන්ය', 0.6532202959060669), ('සුසුවියන්', 0.6531831622123718), ('හැදැරූවන්ද', 0.6509316563606262), ('ශාස්ත\\u200d්\\u200dරපීඨ', 0.6508955359458923)]\n",
      "[('මෙසවු', 0.6440242528915405), ('තමාබ', 0.6324357986450195), ('නළඹුවන්', 0.6217337846755981), ('නමාලො', 0.6076982021331787), ('මඳේ', 0.5934594869613647), ('සඳමහරජ', 0.5811733603477478), ('විටෙකමිහි', 0.5791265368461609), ('එබිසව', 0.5742981433868408), ('ශවලට', 0.5730603933334351), ('මඬලැ', 0.5650343894958496)]\n",
      "[('නැති', 0.6813704967498779), ('නොමැත', 0.6602133512496948), ('නොතිබූ', 0.6241862773895264), ('නොමැතිව', 0.6020440459251404), ('සැකසංකාවලට', 0.5911645889282227), ('කිසිදු', 0.5718554258346558), ('නොතිබියදීය', 0.5717719793319702), ('නිළධාරියාඑහිදී', 0.5688958168029785), ('නොහැකි', 0.568417489528656), ('ශ්\\u200dරීලංගමට', 0.5655225515365601)]\n"
     ]
    }
   ],
   "metadata": {}
  },
  {
   "cell_type": "markdown",
   "source": [
    "## Visualize word embedding "
   ],
   "metadata": {}
  }
 ],
 "metadata": {
  "orig_nbformat": 4,
  "language_info": {
   "name": "python",
   "version": "3.7.6",
   "mimetype": "text/x-python",
   "codemirror_mode": {
    "name": "ipython",
    "version": 3
   },
   "pygments_lexer": "ipython3",
   "nbconvert_exporter": "python",
   "file_extension": ".py"
  },
  "kernelspec": {
   "name": "python3",
   "display_name": "Python 3.7.6 64-bit ('base': conda)"
  },
  "interpreter": {
   "hash": "fbbb7d2143a1d68e1cf272edf0974e702b621cb99b4ee39ce84db3bf0ffb588e"
  }
 },
 "nbformat": 4,
 "nbformat_minor": 2
}