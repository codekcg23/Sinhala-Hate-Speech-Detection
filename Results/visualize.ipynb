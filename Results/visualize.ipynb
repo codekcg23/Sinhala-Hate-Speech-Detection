{
 "cells": [
  {
   "cell_type": "markdown",
   "source": [
    "## Objective\r\n",
    "\r\n",
    "1. Plot results to compare performence of three datasets\r\n",
    "    1. word embedding result gave by highest classifier\r\n",
    "    2. traditional feature result gave by  hig\r\n",
    "    3. ML classifier performence"
   ],
   "metadata": {}
  },
  {
   "cell_type": "markdown",
   "source": [
    "### Summary of feature algorithm results for df_A\r\n"
   ],
   "metadata": {}
  },
  {
   "cell_type": "code",
   "execution_count": 12,
   "source": [
    "## Read result csv files\r\n",
    "w2v = pd.read_csv('word2vec_df_A.csv',sep='\\t')\r\n",
    "bow = pd.read_csv('bow_word_df_A.csv',sep='\\t')\r\n",
    "bow_char = pd.read_csv('bow_char_df_A.csv',sep='\\t')\r\n",
    "tfidf_word = pd.read_csv('tfidf_char_df_A.csv',sep='\\t')\r\n",
    "tfidf_char = pd.read_csv('tfidf_word_df_A.csv',sep='\\t')"
   ],
   "outputs": [],
   "metadata": {}
  },
  {
   "cell_type": "code",
   "execution_count": 32,
   "source": [
    "import pandas as pd\r\n",
    "df_ML = pd.DataFrame(index =['BOW','Char n-gram','TFIDF word','TFIDF char','W2V CBOW','W2V skip-gram'] ,columns=['LR','SVM', 'NB','RF'])\r\n",
    "df_ML"
   ],
   "outputs": [
    {
     "output_type": "execute_result",
     "data": {
      "text/html": [
       "<div>\n",
       "<style scoped>\n",
       "    .dataframe tbody tr th:only-of-type {\n",
       "        vertical-align: middle;\n",
       "    }\n",
       "\n",
       "    .dataframe tbody tr th {\n",
       "        vertical-align: top;\n",
       "    }\n",
       "\n",
       "    .dataframe thead th {\n",
       "        text-align: right;\n",
       "    }\n",
       "</style>\n",
       "<table border=\"1\" class=\"dataframe\">\n",
       "  <thead>\n",
       "    <tr style=\"text-align: right;\">\n",
       "      <th></th>\n",
       "      <th>LR</th>\n",
       "      <th>SVM</th>\n",
       "      <th>NB</th>\n",
       "      <th>RF</th>\n",
       "    </tr>\n",
       "  </thead>\n",
       "  <tbody>\n",
       "    <tr>\n",
       "      <th>BOW</th>\n",
       "      <td>NaN</td>\n",
       "      <td>NaN</td>\n",
       "      <td>NaN</td>\n",
       "      <td>NaN</td>\n",
       "    </tr>\n",
       "    <tr>\n",
       "      <th>Char n-gram</th>\n",
       "      <td>NaN</td>\n",
       "      <td>NaN</td>\n",
       "      <td>NaN</td>\n",
       "      <td>NaN</td>\n",
       "    </tr>\n",
       "    <tr>\n",
       "      <th>TFIDF word</th>\n",
       "      <td>NaN</td>\n",
       "      <td>NaN</td>\n",
       "      <td>NaN</td>\n",
       "      <td>NaN</td>\n",
       "    </tr>\n",
       "    <tr>\n",
       "      <th>TFIDF char</th>\n",
       "      <td>NaN</td>\n",
       "      <td>NaN</td>\n",
       "      <td>NaN</td>\n",
       "      <td>NaN</td>\n",
       "    </tr>\n",
       "    <tr>\n",
       "      <th>W2V CBOW</th>\n",
       "      <td>NaN</td>\n",
       "      <td>NaN</td>\n",
       "      <td>NaN</td>\n",
       "      <td>NaN</td>\n",
       "    </tr>\n",
       "    <tr>\n",
       "      <th>W2V skip-gram</th>\n",
       "      <td>NaN</td>\n",
       "      <td>NaN</td>\n",
       "      <td>NaN</td>\n",
       "      <td>NaN</td>\n",
       "    </tr>\n",
       "  </tbody>\n",
       "</table>\n",
       "</div>"
      ],
      "text/plain": [
       "                LR  SVM   NB   RF\n",
       "BOW            NaN  NaN  NaN  NaN\n",
       "Char n-gram    NaN  NaN  NaN  NaN\n",
       "TFIDF word     NaN  NaN  NaN  NaN\n",
       "TFIDF char     NaN  NaN  NaN  NaN\n",
       "W2V CBOW       NaN  NaN  NaN  NaN\n",
       "W2V skip-gram  NaN  NaN  NaN  NaN"
      ]
     },
     "metadata": {},
     "execution_count": 32
    }
   ],
   "metadata": {}
  },
  {
   "cell_type": "code",
   "execution_count": 18,
   "source": [
    "bow"
   ],
   "outputs": [
    {
     "output_type": "execute_result",
     "data": {
      "text/html": [
       "<div>\n",
       "<style scoped>\n",
       "    .dataframe tbody tr th:only-of-type {\n",
       "        vertical-align: middle;\n",
       "    }\n",
       "\n",
       "    .dataframe tbody tr th {\n",
       "        vertical-align: top;\n",
       "    }\n",
       "\n",
       "    .dataframe thead th {\n",
       "        text-align: right;\n",
       "    }\n",
       "</style>\n",
       "<table border=\"1\" class=\"dataframe\">\n",
       "  <thead>\n",
       "    <tr style=\"text-align: right;\">\n",
       "      <th></th>\n",
       "      <th>Model</th>\n",
       "      <th>Accuracy</th>\n",
       "      <th>F1-score</th>\n",
       "      <th>Recall</th>\n",
       "      <th>Precision</th>\n",
       "      <th>AUC</th>\n",
       "    </tr>\n",
       "  </thead>\n",
       "  <tbody>\n",
       "    <tr>\n",
       "      <th>0</th>\n",
       "      <td>LR</td>\n",
       "      <td>0.830928</td>\n",
       "      <td>0.699634</td>\n",
       "      <td>0.632450</td>\n",
       "      <td>0.782787</td>\n",
       "      <td>0.776555</td>\n",
       "    </tr>\n",
       "    <tr>\n",
       "      <th>1</th>\n",
       "      <td>SVM_linear</td>\n",
       "      <td>0.816495</td>\n",
       "      <td>0.698305</td>\n",
       "      <td>0.682119</td>\n",
       "      <td>0.715278</td>\n",
       "      <td>0.779682</td>\n",
       "    </tr>\n",
       "    <tr>\n",
       "      <th>2</th>\n",
       "      <td>NB</td>\n",
       "      <td>0.611856</td>\n",
       "      <td>0.517617</td>\n",
       "      <td>0.668874</td>\n",
       "      <td>0.422153</td>\n",
       "      <td>0.627476</td>\n",
       "    </tr>\n",
       "    <tr>\n",
       "      <th>3</th>\n",
       "      <td>RF</td>\n",
       "      <td>0.836598</td>\n",
       "      <td>0.689520</td>\n",
       "      <td>0.582781</td>\n",
       "      <td>0.844125</td>\n",
       "      <td>0.767064</td>\n",
       "    </tr>\n",
       "  </tbody>\n",
       "</table>\n",
       "</div>"
      ],
      "text/plain": [
       "        Model  Accuracy  F1-score    Recall  Precision       AUC\n",
       "0          LR  0.830928  0.699634  0.632450   0.782787  0.776555\n",
       "1  SVM_linear  0.816495  0.698305  0.682119   0.715278  0.779682\n",
       "2          NB  0.611856  0.517617  0.668874   0.422153  0.627476\n",
       "3          RF  0.836598  0.689520  0.582781   0.844125  0.767064"
      ]
     },
     "metadata": {},
     "execution_count": 18
    }
   ],
   "metadata": {}
  },
  {
   "cell_type": "code",
   "execution_count": 13,
   "source": [
    "w2v"
   ],
   "outputs": [
    {
     "output_type": "execute_result",
     "data": {
      "text/html": [
       "<div>\n",
       "<style scoped>\n",
       "    .dataframe tbody tr th:only-of-type {\n",
       "        vertical-align: middle;\n",
       "    }\n",
       "\n",
       "    .dataframe tbody tr th {\n",
       "        vertical-align: top;\n",
       "    }\n",
       "\n",
       "    .dataframe thead th {\n",
       "        text-align: right;\n",
       "    }\n",
       "</style>\n",
       "<table border=\"1\" class=\"dataframe\">\n",
       "  <thead>\n",
       "    <tr style=\"text-align: right;\">\n",
       "      <th></th>\n",
       "      <th>Model</th>\n",
       "      <th>Accuracy</th>\n",
       "      <th>F1-score</th>\n",
       "      <th>Recall</th>\n",
       "      <th>Precision</th>\n",
       "      <th>AUC</th>\n",
       "    </tr>\n",
       "  </thead>\n",
       "  <tbody>\n",
       "    <tr>\n",
       "      <th>0</th>\n",
       "      <td>LR+W2V skipgram</td>\n",
       "      <td>0.711489</td>\n",
       "      <td>0.265092</td>\n",
       "      <td>0.167219</td>\n",
       "      <td>0.639241</td>\n",
       "      <td>0.562293</td>\n",
       "    </tr>\n",
       "    <tr>\n",
       "      <th>1</th>\n",
       "      <td>SVC linear+W2V skipgram</td>\n",
       "      <td>0.700155</td>\n",
       "      <td>0.093458</td>\n",
       "      <td>0.049669</td>\n",
       "      <td>0.789474</td>\n",
       "      <td>0.521843</td>\n",
       "    </tr>\n",
       "    <tr>\n",
       "      <th>2</th>\n",
       "      <td>NB+W2V skipgram</td>\n",
       "      <td>0.497682</td>\n",
       "      <td>0.502297</td>\n",
       "      <td>0.814570</td>\n",
       "      <td>0.363100</td>\n",
       "      <td>0.584547</td>\n",
       "    </tr>\n",
       "    <tr>\n",
       "      <th>3</th>\n",
       "      <td>RF+W2V skipgram</td>\n",
       "      <td>0.717671</td>\n",
       "      <td>0.267380</td>\n",
       "      <td>0.165563</td>\n",
       "      <td>0.694444</td>\n",
       "      <td>0.566327</td>\n",
       "    </tr>\n",
       "    <tr>\n",
       "      <th>4</th>\n",
       "      <td>LR+W2V CBOW</td>\n",
       "      <td>0.718187</td>\n",
       "      <td>0.346476</td>\n",
       "      <td>0.240066</td>\n",
       "      <td>0.622318</td>\n",
       "      <td>0.587124</td>\n",
       "    </tr>\n",
       "    <tr>\n",
       "      <th>5</th>\n",
       "      <td>SVC linear+W2V CBOW</td>\n",
       "      <td>0.704276</td>\n",
       "      <td>0.140719</td>\n",
       "      <td>0.077815</td>\n",
       "      <td>0.734375</td>\n",
       "      <td>0.532550</td>\n",
       "    </tr>\n",
       "    <tr>\n",
       "      <th>6</th>\n",
       "      <td>NB+W2V CBOW</td>\n",
       "      <td>0.487378</td>\n",
       "      <td>0.488957</td>\n",
       "      <td>0.788079</td>\n",
       "      <td>0.354430</td>\n",
       "      <td>0.569806</td>\n",
       "    </tr>\n",
       "    <tr>\n",
       "      <th>7</th>\n",
       "      <td>RF+W2V CBOW</td>\n",
       "      <td>0.719732</td>\n",
       "      <td>0.284211</td>\n",
       "      <td>0.178808</td>\n",
       "      <td>0.692308</td>\n",
       "      <td>0.571453</td>\n",
       "    </tr>\n",
       "  </tbody>\n",
       "</table>\n",
       "</div>"
      ],
      "text/plain": [
       "                     Model  Accuracy  F1-score    Recall  Precision       AUC\n",
       "0          LR+W2V skipgram  0.711489  0.265092  0.167219   0.639241  0.562293\n",
       "1  SVC linear+W2V skipgram  0.700155  0.093458  0.049669   0.789474  0.521843\n",
       "2          NB+W2V skipgram  0.497682  0.502297  0.814570   0.363100  0.584547\n",
       "3          RF+W2V skipgram  0.717671  0.267380  0.165563   0.694444  0.566327\n",
       "4              LR+W2V CBOW  0.718187  0.346476  0.240066   0.622318  0.587124\n",
       "5      SVC linear+W2V CBOW  0.704276  0.140719  0.077815   0.734375  0.532550\n",
       "6              NB+W2V CBOW  0.487378  0.488957  0.788079   0.354430  0.569806\n",
       "7              RF+W2V CBOW  0.719732  0.284211  0.178808   0.692308  0.571453"
      ]
     },
     "metadata": {},
     "execution_count": 13
    }
   ],
   "metadata": {}
  },
  {
   "cell_type": "code",
   "execution_count": 40,
   "source": [
    "df_ML.iloc[0]=bow.loc[:,'F1-score']*100\r\n",
    "df_ML.iloc[1]=bow_char.loc[:,'F1-score']*100\r\n",
    "df_ML.iloc[2]=tfidf_word.loc[:,'F1-score']*100\r\n",
    "df_ML.iloc[3]=tfidf_char.loc[:,'F1-score']*100\r\n",
    "df_ML.iloc[5] = w2v.loc[:3,'F1-score']*100\r\n",
    "df_ML.iloc[4] =w2v.loc[4:,'F1-score']*100\r\n",
    "df_ML.to_csv('summary_chart.csv',index_label=\"Feature\")\r\n",
    "df_ML"
   ],
   "outputs": [
    {
     "output_type": "execute_result",
     "data": {
      "text/html": [
       "<div>\n",
       "<style scoped>\n",
       "    .dataframe tbody tr th:only-of-type {\n",
       "        vertical-align: middle;\n",
       "    }\n",
       "\n",
       "    .dataframe tbody tr th {\n",
       "        vertical-align: top;\n",
       "    }\n",
       "\n",
       "    .dataframe thead th {\n",
       "        text-align: right;\n",
       "    }\n",
       "</style>\n",
       "<table border=\"1\" class=\"dataframe\">\n",
       "  <thead>\n",
       "    <tr style=\"text-align: right;\">\n",
       "      <th></th>\n",
       "      <th>LR</th>\n",
       "      <th>SVM</th>\n",
       "      <th>NB</th>\n",
       "      <th>RF</th>\n",
       "    </tr>\n",
       "  </thead>\n",
       "  <tbody>\n",
       "    <tr>\n",
       "      <th>BOW</th>\n",
       "      <td>69.9634</td>\n",
       "      <td>69.8305</td>\n",
       "      <td>51.7617</td>\n",
       "      <td>68.952</td>\n",
       "    </tr>\n",
       "    <tr>\n",
       "      <th>Char n-gram</th>\n",
       "      <td>73.7027</td>\n",
       "      <td>71.0813</td>\n",
       "      <td>46.4539</td>\n",
       "      <td>72.7273</td>\n",
       "    </tr>\n",
       "    <tr>\n",
       "      <th>TFIDF word</th>\n",
       "      <td>62.8009</td>\n",
       "      <td>73.2824</td>\n",
       "      <td>43.699</td>\n",
       "      <td>71.8101</td>\n",
       "    </tr>\n",
       "    <tr>\n",
       "      <th>TFIDF char</th>\n",
       "      <td>61.1588</td>\n",
       "      <td>71.0623</td>\n",
       "      <td>48.18</td>\n",
       "      <td>68.1452</td>\n",
       "    </tr>\n",
       "    <tr>\n",
       "      <th>W2V CBOW</th>\n",
       "      <td>34.6476</td>\n",
       "      <td>14.0719</td>\n",
       "      <td>48.8957</td>\n",
       "      <td>28.4211</td>\n",
       "    </tr>\n",
       "    <tr>\n",
       "      <th>W2V skip-gram</th>\n",
       "      <td>26.5092</td>\n",
       "      <td>9.3458</td>\n",
       "      <td>50.2297</td>\n",
       "      <td>26.738</td>\n",
       "    </tr>\n",
       "  </tbody>\n",
       "</table>\n",
       "</div>"
      ],
      "text/plain": [
       "                    LR      SVM       NB       RF\n",
       "BOW            69.9634  69.8305  51.7617   68.952\n",
       "Char n-gram    73.7027  71.0813  46.4539  72.7273\n",
       "TFIDF word     62.8009  73.2824   43.699  71.8101\n",
       "TFIDF char     61.1588  71.0623    48.18  68.1452\n",
       "W2V CBOW       34.6476  14.0719  48.8957  28.4211\n",
       "W2V skip-gram  26.5092   9.3458  50.2297   26.738"
      ]
     },
     "metadata": {},
     "execution_count": 40
    }
   ],
   "metadata": {}
  },
  {
   "cell_type": "code",
   "execution_count": 42,
   "source": [
    "df_M= pd.read_csv('summary_chart.csv',index_col='Feature')\r\n",
    "df_M"
   ],
   "outputs": [
    {
     "output_type": "execute_result",
     "data": {
      "text/html": [
       "<div>\n",
       "<style scoped>\n",
       "    .dataframe tbody tr th:only-of-type {\n",
       "        vertical-align: middle;\n",
       "    }\n",
       "\n",
       "    .dataframe tbody tr th {\n",
       "        vertical-align: top;\n",
       "    }\n",
       "\n",
       "    .dataframe thead th {\n",
       "        text-align: right;\n",
       "    }\n",
       "</style>\n",
       "<table border=\"1\" class=\"dataframe\">\n",
       "  <thead>\n",
       "    <tr style=\"text-align: right;\">\n",
       "      <th></th>\n",
       "      <th>LR</th>\n",
       "      <th>SVM</th>\n",
       "      <th>NB</th>\n",
       "      <th>RF</th>\n",
       "    </tr>\n",
       "    <tr>\n",
       "      <th>Feature</th>\n",
       "      <th></th>\n",
       "      <th></th>\n",
       "      <th></th>\n",
       "      <th></th>\n",
       "    </tr>\n",
       "  </thead>\n",
       "  <tbody>\n",
       "    <tr>\n",
       "      <th>BOW</th>\n",
       "      <td>69.9634</td>\n",
       "      <td>69.8305</td>\n",
       "      <td>51.7617</td>\n",
       "      <td>68.9520</td>\n",
       "    </tr>\n",
       "    <tr>\n",
       "      <th>Char n-gram</th>\n",
       "      <td>73.7027</td>\n",
       "      <td>71.0813</td>\n",
       "      <td>46.4539</td>\n",
       "      <td>72.7273</td>\n",
       "    </tr>\n",
       "    <tr>\n",
       "      <th>TFIDF word</th>\n",
       "      <td>62.8009</td>\n",
       "      <td>73.2824</td>\n",
       "      <td>43.6990</td>\n",
       "      <td>71.8101</td>\n",
       "    </tr>\n",
       "    <tr>\n",
       "      <th>TFIDF char</th>\n",
       "      <td>61.1588</td>\n",
       "      <td>71.0623</td>\n",
       "      <td>48.1800</td>\n",
       "      <td>68.1452</td>\n",
       "    </tr>\n",
       "    <tr>\n",
       "      <th>W2V CBOW</th>\n",
       "      <td>34.6476</td>\n",
       "      <td>14.0719</td>\n",
       "      <td>48.8957</td>\n",
       "      <td>28.4211</td>\n",
       "    </tr>\n",
       "    <tr>\n",
       "      <th>W2V skip-gram</th>\n",
       "      <td>26.5092</td>\n",
       "      <td>9.3458</td>\n",
       "      <td>50.2297</td>\n",
       "      <td>26.7380</td>\n",
       "    </tr>\n",
       "  </tbody>\n",
       "</table>\n",
       "</div>"
      ],
      "text/plain": [
       "                    LR      SVM       NB       RF\n",
       "Feature                                          \n",
       "BOW            69.9634  69.8305  51.7617  68.9520\n",
       "Char n-gram    73.7027  71.0813  46.4539  72.7273\n",
       "TFIDF word     62.8009  73.2824  43.6990  71.8101\n",
       "TFIDF char     61.1588  71.0623  48.1800  68.1452\n",
       "W2V CBOW       34.6476  14.0719  48.8957  28.4211\n",
       "W2V skip-gram  26.5092   9.3458  50.2297  26.7380"
      ]
     },
     "metadata": {},
     "execution_count": 42
    }
   ],
   "metadata": {}
  },
  {
   "cell_type": "markdown",
   "source": [
    "### Plot ML summary"
   ],
   "metadata": {}
  },
  {
   "cell_type": "code",
   "execution_count": 46,
   "source": [
    "from matplotlib import pyplot as plt\r\n",
    "import seaborn as sns\r\n",
    "df_M.plot(kind='bar', figsize=(14, 8), color=['steelblue', 'limegreen', 'violet'])\r\n",
    "\r\n",
    "plt.xticks( rotation=0)\r\n",
    "plt.xlabel('Feature Representaion')\r\n",
    "plt.ylabel('F1-score (%)')\r\n",
    "plt.grid(axis='y')\r\n",
    "\r\n",
    "f1_score = df_M.values.flatten()\r\n",
    "\r\n",
    "\r\n",
    "plt.show()\r\n",
    "plt.savefig('summary_of_ML_results.png')"
   ],
   "outputs": [
    {
     "output_type": "display_data",
     "data": {
      "image/png": "[encoded data removed]",
      "text/plain": [
       "<Figure size 1008x576 with 1 Axes>"
      ]
     },
     "metadata": {
      "needs_background": "light"
     }
    },
    {
     "output_type": "display_data",
     "data": {
      "text/plain": [
       "<Figure size 432x288 with 0 Axes>"
      ]
     },
     "metadata": {}
    }
   ],
   "metadata": {}
  },
  {
   "cell_type": "code",
   "execution_count": null,
   "source": [
    "plt.figure(figsize=(10, 8))\r\n",
    "df_M.reset_index()\r\n",
    "splot=sns.barplot(x=\"Education\", y=\"mean_salary\", hue=\"\", data=df_M)\r\n",
    "plt.ylabel(\"Mean Salary in US Dollars\", size=14)\r\n",
    "plt.xlabel(\"Education\", size=14)\r\n",
    "plt.title(\"Annotated Grouped Barplot: Gender Bias in Salary\", size=18)\r\n",
    "for p in splot.patches:\r\n",
    "    splot.annotate(format(p.get_height(), '.0f'), \r\n",
    "                   (p.get_x() + p.get_width() / 2., p.get_height()), \r\n",
    "                   ha = 'center', va = 'center', \r\n",
    "                   size=15,\r\n",
    "                   xytext = (0, -12), \r\n",
    "                   textcoords = 'offset points')\r\n",
    "plt.savefig('Annotating_Bars_in_Grouped_Barplot_Seaborn_Matplotlib_try1.png"
   ],
   "outputs": [],
   "metadata": {}
  },
  {
   "cell_type": "code",
   "execution_count": null,
   "source": [
    "plt.figure(figsize=(10, 8))\r\n",
    "splot=sns.barplot(x=\"Education\", y=\"mean_salary\", hue=\"Gender\", data=df)\r\n",
    "plt.ylabel(\"Mean Salary in US Dollars\", size=14)\r\n",
    "plt.xlabel(\"Education\", size=14)\r\n",
    "plt.title(\"Grouped Barplot: Gender Bias in Salary\", size=18)\r\n",
    "for p in splot.patches:\r\n",
    "    splot.annotate(format(round(p.get_height()/1000), '.0f')+\"K\", \r\n",
    "                   (p.get_x() + p.get_width() / 2., p.get_height()), \r\n",
    "                   ha = 'center', va = 'center', \r\n",
    "                   size=15,\r\n",
    "                   xytext = (0, -12), \r\n",
    "                   textcoords = 'offset points')"
   ],
   "outputs": [],
   "metadata": {}
  },
  {
   "cell_type": "markdown",
   "source": [
    "### Plot CNN"
   ],
   "metadata": {}
  },
  {
   "cell_type": "code",
   "execution_count": 47,
   "source": [
    "import pandas as pd\r\n",
    "df_CNN = pd.DataFrame(index =['Gossip Site (A)','Facebook (B)','Combination (A+B)'] ,columns=['Static','Random','Dynamic'])\r\n",
    "df_CNN"
   ],
   "outputs": [
    {
     "output_type": "execute_result",
     "data": {
      "text/html": [
       "<div>\n",
       "<style scoped>\n",
       "    .dataframe tbody tr th:only-of-type {\n",
       "        vertical-align: middle;\n",
       "    }\n",
       "\n",
       "    .dataframe tbody tr th {\n",
       "        vertical-align: top;\n",
       "    }\n",
       "\n",
       "    .dataframe thead th {\n",
       "        text-align: right;\n",
       "    }\n",
       "</style>\n",
       "<table border=\"1\" class=\"dataframe\">\n",
       "  <thead>\n",
       "    <tr style=\"text-align: right;\">\n",
       "      <th></th>\n",
       "      <th>Static</th>\n",
       "      <th>Random</th>\n",
       "      <th>Dynamic</th>\n",
       "    </tr>\n",
       "  </thead>\n",
       "  <tbody>\n",
       "    <tr>\n",
       "      <th>Gossip Site (A)</th>\n",
       "      <td>NaN</td>\n",
       "      <td>NaN</td>\n",
       "      <td>NaN</td>\n",
       "    </tr>\n",
       "    <tr>\n",
       "      <th>Facebook (B)</th>\n",
       "      <td>NaN</td>\n",
       "      <td>NaN</td>\n",
       "      <td>NaN</td>\n",
       "    </tr>\n",
       "    <tr>\n",
       "      <th>Combination (A+B)</th>\n",
       "      <td>NaN</td>\n",
       "      <td>NaN</td>\n",
       "      <td>NaN</td>\n",
       "    </tr>\n",
       "  </tbody>\n",
       "</table>\n",
       "</div>"
      ],
      "text/plain": [
       "                  Static Random Dynamic\n",
       "Gossip Site (A)      NaN    NaN     NaN\n",
       "Facebook (B)         NaN    NaN     NaN\n",
       "Combination (A+B)    NaN    NaN     NaN"
      ]
     },
     "metadata": {},
     "execution_count": 47
    }
   ],
   "metadata": {}
  },
  {
   "cell_type": "code",
   "execution_count": 51,
   "source": [
    "2*4"
   ],
   "outputs": [
    {
     "output_type": "execute_result",
     "data": {
      "text/plain": [
       "8"
      ]
     },
     "metadata": {},
     "execution_count": 51
    }
   ],
   "metadata": {}
  },
  {
   "cell_type": "code",
   "execution_count": 53,
   "source": [
    "df_CNN.iloc[0] = [0.740201*100,0.713472*100,0.695408*100]\r\n",
    "df_CNN.iloc[1] = [0.869522*100,0.874814*100,0.871422*100]\r\n",
    "df_CNN.iloc[2] = [0.765777*100,0.797522*100,0.803834*100]"
   ],
   "outputs": [],
   "metadata": {}
  },
  {
   "cell_type": "code",
   "execution_count": 54,
   "source": [
    "from matplotlib import pyplot as plt\r\n",
    "import seaborn as sns\r\n",
    "df_CNN.plot(kind='bar', figsize=(14, 8), color=['steelblue', 'limegreen', 'violet'])\r\n",
    "\r\n",
    "plt.xticks( rotation=0)\r\n",
    "plt.xlabel('Embedding Type')\r\n",
    "plt.ylabel('F1-score (%)')\r\n",
    "plt.grid(axis='y')\r\n",
    "\r\n",
    "f1_score = df_CNN.values.flatten()\r\n",
    "\r\n",
    "\r\n",
    "plt.show()\r\n",
    "plt.savefig('summary_of_CNN_results.png')"
   ],
   "outputs": [
    {
     "output_type": "display_data",
     "data": {
      "image/png": "[encoded data removed]",
      "text/plain": [
       "<Figure size 1008x576 with 1 Axes>"
      ]
     },
     "metadata": {
      "needs_background": "light"
     }
    },
    {
     "output_type": "display_data",
     "data": {
      "text/plain": [
       "<Figure size 432x288 with 0 Axes>"
      ]
     },
     "metadata": {}
    }
   ],
   "metadata": {}
  },
  {
   "cell_type": "code",
   "execution_count": null,
   "source": [
    "df_we.plot(kind='bar', figsize=(14, 8), color=['steelblue', 'limegreen', 'violet'])\r\n",
    "\r\n",
    "plt.xticks( rotation=0)\r\n",
    "plt.xlabel('Dataset')\r\n",
    "plt.ylabel('Average Accuracy (%)')\r\n",
    "plt.grid(axis='y')\r\n",
    "\r\n",
    "accuracies = df_we.values.flatten()\r\n",
    "\r\n",
    "plt.annotate(str(round(accuracies[0],1)), xy=(-0.24, accuracies[0]+0.5), color='black')\r\n",
    "plt.annotate(str(round(accuracies[1],1)), xy=(-0.08, accuracies[1]+0.5), color='black')\r\n",
    "plt.annotate(str(round(accuracies[2],1)), xy=(0.09, accuracies[2]+0.5), color='black')\r\n",
    "plt.annotate(str(round(accuracies[3],1)), xy=(0.76, accuracies[3]+0.5), color='black')\r\n",
    "plt.annotate(str(round(accuracies[4],1)), xy=(0.92, accuracies[4]+0.5), color='black')\r\n",
    "plt.annotate(str(round(accuracies[5],1)), xy=(1.09, accuracies[5]+0.5), color='black')\r\n",
    "plt.annotate(str(round(accuracies[6],1)), xy=(1.76, accuracies[6]+0.5), color='black')\r\n",
    "plt.annotate(str(round(accuracies[7],1)), xy=(1.92, accuracies[7]+0.5), color='black')\r\n",
    "plt.annotate(str(round(accuracies[8],1)), xy=(2.09, accuracies[8]+0.5), color='black')\r\n",
    "plt.annotate(str(round(accuracies[9],1)), xy=(2.76, accuracies[9]+0.5), color='black')\r\n",
    "plt.annotate(str(round(accuracies[10],1)), xy=(2.92, accuracies[10]+0.5), color='black')\r\n",
    "plt.annotate(str(round(accuracies[11],1)), xy=(3.09, accuracies[11]+0.5), color='black')\r\n",
    "plt.annotate(str(round(accuracies[12],1)), xy=(3.76, accuracies[12]+0.5), color='black')\r\n",
    "plt.annotate(str(round(accuracies[13],1)), xy=(3.92, accuracies[13]+0.5), color='black')\r\n",
    "plt.annotate(str(round(accuracies[14],1)), xy=(4.09, accuracies[14]+0.5), color='black')\r\n",
    "\r\n",
    "plt.show()\r\n",
    "\r\n"
   ],
   "outputs": [],
   "metadata": {}
  }
 ],
 "metadata": {
  "orig_nbformat": 4,
  "language_info": {
   "name": "python",
   "version": "3.7.6",
   "mimetype": "text/x-python",
   "codemirror_mode": {
    "name": "ipython",
    "version": 3
   },
   "pygments_lexer": "ipython3",
   "nbconvert_exporter": "python",
   "file_extension": ".py"
  },
  "kernelspec": {
   "name": "python3",
   "display_name": "Python 3.7.6 64-bit ('base': conda)"
  },
  "interpreter": {
   "hash": "fbbb7d2143a1d68e1cf272edf0974e702b621cb99b4ee39ce84db3bf0ffb588e"
  }
 },
 "nbformat": 4,
 "nbformat_minor": 2
}