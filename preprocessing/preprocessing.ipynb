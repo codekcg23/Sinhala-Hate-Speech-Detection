{
 "cells": [
  {
   "cell_type": "markdown",
   "source": [
    "## Dataset cleaning and preprocessing - Experimental setting\r\n",
    "Make proper sentence seperator add space after each full stop if there is no space\r\n",
    "1. Make generalizable code to work on given dataset\r\n",
    "2. Make generalizable code to work on given feature set\r\n",
    "3. Make generalizable code to work on given classifier\r\n",
    "4. save properly preprocessed dataset\r\n"
   ],
   "metadata": {}
  },
  {
   "cell_type": "markdown",
   "source": [
    "## Noise Removel\r\n",
    "\r\n",
    "1. URL and HTML code  special character removal\r\n",
    "2. user mention, email removal,retweet tags\r\n",
    "3. non sinhala word removal"
   ],
   "metadata": {}
  },
  {
   "cell_type": "markdown",
   "source": [
    "## Preprocessing\r\n",
    "\r\n",
    "1. puntuation removal\r\n",
    "2. pntuation removel keeping (! and ?)\r\n",
    "3. Emoji removal, replacement\r\n",
    "4. Stop words removal\r\n",
    "5. stemming - https://github.com/rksk/sinhala-news-analysis - citaion using singling tool\r\n",
    "6. text normalization\r\n",
    "7. Hashtag treatment - advance and ambiguous\r\n",
    "\r\n",
    "check words start with hashtag posibility of dividing it to words"
   ],
   "metadata": {}
  },
  {
   "cell_type": "code",
   "execution_count": null,
   "source": [
    "load_dotenv()\r\n",
    "NEPTUNE_PROJECT= os.getenv('NEPTUNE_PROJECT')\r\n",
    "NEPTUNE_API_TOKEN = os.getenv(('NEPTUNE_API_TOKEN'))\r\n",
    "neptune.init(project_qualified_name= NEPTUNE_PROJECT,api_token=NEPTUNE_API_TOKEN) "
   ],
   "outputs": [],
   "metadata": {}
  },
  {
   "cell_type": "code",
   "execution_count": 29,
   "source": [
    "import pandas as pd\r\n",
    "import matplotlib.pyplot as plt\r\n",
    "from sklearn.feature_extraction.text import CountVectorizer, TfidfVectorizer\r\n",
    "from sklearn.linear_model import LogisticRegression\r\n",
    "from sklearn.naive_bayes import MultinomialNB\r\n",
    "from sklearn.svm import SVC\r\n",
    "from sklearn.model_selection import GridSearchCV,train_test_split\r\n",
    "from sklearn.pipeline import Pipeline\r\n",
    "from sklearn.metrics import classification_report\r\n",
    "#from sklearn.metrics import accuracy_score, f1_score, precision_score,roc_curve,roc_auc_score,confusion_matrix,recall_score\r\n",
    "from sklearn.pipeline import Pipeline\r\n",
    "import re\r\n",
    "import gensim\r\n",
    "pd.set_option('display.max_colwidth', 1000)\r\n",
    "# import helper function script\r\n",
    "import sys\r\n",
    "sys.path.insert(1,'G:\\\\Github\\\\Sinhala-Hate-Speech-Detection')\r\n",
    "import utills\r\n",
    "import sinhala_stemmer"
   ],
   "outputs": [],
   "metadata": {}
  },
  {
   "cell_type": "code",
   "execution_count": 60,
   "source": [
    "# load datasets\r\n",
    "path = '../Datasets/processed/no_preprocessing/'\r\n",
    "df_A = pd.read_csv(path+'df_A.csv')    \r\n",
    "df_B = pd.read_csv(path+'df_B.csv') \r\n",
    "df_A_B = pd.read_csv(path+'df_A_B.csv')\r\n",
    "df_all = pd.read_csv(path+'df_all.csv') "
   ],
   "outputs": [],
   "metadata": {}
  },
  {
   "cell_type": "code",
   "execution_count": 70,
   "source": [
    "\r\n",
    "\r\n",
    "def sentenceSeperator(txt):\r\n",
    "    return re.sub(r'[\\.?;!,\\u2022]', r'\\g<0> ',txt)\r\n",
    "\r\n",
    "def removePunctuationSpecial(txt):\r\n",
    "    exclude = set(\r\n",
    "        \".…,‌ ¸‚\\\"/|—¦”‘\\'“’´`<>#@$%^=&*+\\-£˜()\\[\\]{\\}:;–_‪‬‏\")\r\n",
    "\r\n",
    "    return ''.join([(c if c not in exclude else \" \") for c in txt])\r\n",
    "\r\n",
    "def removePunctuation(txt):\r\n",
    "    \"\"\"\r\n",
    "    replace URL of a text\r\n",
    "    :param text: text to replace urls\r\n",
    "    :return: url removed text\r\n",
    "    \"\"\"\r\n",
    "    # set(\",.:;'\\\"-/´`%\")\r\n",
    "    exclude = set(\r\n",
    "        \".…,‌ ¸‚\\\"/|—¦”‘\\'“’´!?<>@#$%^=&*+\\-£˜()\\[\\]{\\}:;–_\")\r\n",
    "\r\n",
    "    return ''.join([(c if c not in exclude else \" \") for c in txt])\r\n",
    "\r\n",
    "def removeSpecialCharacters(txt):\r\n",
    "    exclude = set(\r\n",
    "        \"Ê�\\u00a0\\u2003\\ufffd\\uf020\\uf073\\uf06c\\uf190\\u202a\\u202c\\u200f\\u200c\\u0160\\u00ad\\u0088\\uf086\\u200b\\ufeff\")\r\n",
    "\r\n",
    "    return ''.join([(c if c not in exclude else '') for c in txt])\r\n",
    "# removing digits\r\n",
    "\r\n",
    "\r\n",
    "def removeNumber(txt):\r\n",
    "    \"\"\"\r\n",
    "    replace number of a text\r\n",
    "    :param text: text to replace number\r\n",
    "    :return: numbers removed text\r\n",
    "    \"\"\"\r\n",
    "    return ''.join(c for c in txt if not c.isnumeric())\r\n",
    "\r\n",
    "# Remove emojis\r\n",
    "\r\n",
    "\r\n",
    "def removeEmoji(txt):\r\n",
    "    \"\"\"\r\n",
    "    replace emoji of a text with ''\r\n",
    "    :param text: text to replace emojis\r\n",
    "    :return: emoji removed text\r\n",
    "    \"\"\"\r\n",
    "    import emoji\r\n",
    "    return emoji.get_emoji_regexp().sub(u'', txt)\r\n",
    "\r\n",
    "# def replaceEmoji(txt):\r\n",
    "#     print()\r\n",
    "\r\n",
    "def removeUrl(txt):\r\n",
    "    \"\"\"\r\n",
    "    replace URL of a text\r\n",
    "    :param text: text to replace urls\r\n",
    "    :return: url removed text\r\n",
    "    \"\"\"\r\n",
    "    import re\r\n",
    "    return re.sub(r'(http://www\\.|https://www\\.|http://|https://)[a-z0-9]+([\\-.]{1}[a-z0-9A-Z/]+)*', '', txt)\r\n",
    "\r\n",
    "\r\n",
    "def removeRetweetState(txt):\r\n",
    "    \"\"\"\r\n",
    "    remove retweet states in the beginning such as \"RT @sam92ky: \"\r\n",
    "    :param text: text\r\n",
    "    :return: text removed retweets state\r\n",
    "    \"\"\"\r\n",
    "\r\n",
    "    return re.sub(r'RT @\\w*: ', '', txt)\r\n",
    "\r\n",
    "\r\n",
    "def removeMention(txt):\r\n",
    "    \"\"\"\r\n",
    "    replace @username of a text\r\n",
    "    :param text: text to replace username\r\n",
    "    :return: username removed text\r\n",
    "    \"\"\"\r\n",
    "    return re.sub(r'@[a-zA-Z]+', '', txt)\r\n",
    "    #return re.sub(r'@\\w*', '', txt)\r\n",
    "\r\n",
    "\r\n",
    "def removeEnglishWords(txt):\r\n",
    "\r\n",
    "    return re.sub(r'[a-zA-Z]+', '', txt)\r\n",
    "\r\n",
    "\r\n",
    "def removeSentenceContainsEnglish(df, col):\r\n",
    "    \"\"\"\r\n",
    "    remove rows contains english letter string of a dataframe\r\n",
    "    :param df: Name of dataframe\r\n",
    "    :param col : Column inclding text\r\n",
    "    :return: Dataframe contains non englsih charachters\r\n",
    "    \"\"\"\r\n",
    "\r\n",
    "    print(\"Input dataframe size = \", len(df))\r\n",
    "    for s in df[col]:\r\n",
    "        english_list = re.findall(r'[a-zA-Z]+', s)\r\n",
    "        # print(english_list)\r\n",
    "        if (english_list != []):\r\n",
    "            i = df[df[col] == s].index\r\n",
    "            df.drop(i, axis=0, inplace=True)\r\n",
    "            # print(s)\r\n",
    "    print(\"Cleaned dataframe size - removed Strings contain Englishs letters \", len(df))\r\n",
    "    return df\r\n",
    "\r\n",
    "# remove stop words\r\n",
    "\r\n",
    "\r\n",
    "# def removeStopWords(txt, stop_words):\r\n",
    "#     #lst_text = text.split()\r\n",
    "#     #lst_text = [word for word in lst_text if word not in lst_stopwords]\r\n",
    "#     return ''.join([(w if w not in stop_words else \" \") for w in txt])\r\n",
    "\r\n",
    "\r\n",
    "def identifySinhalaText(txt):\r\n",
    "\r\n",
    "    sinhala_list = re.findall(r'[\\u0D80-\\u0DFF]+', txt)\r\n",
    "    return sinhala_list\r\n",
    "# def ignore_characters(txt):\r\n",
    "#     return ' '.join(c for c in txt if not c.startswith('\\u'))\r\n",
    "\r\n",
    "\r\n",
    "\r\n",
    "def stemWords(txt):\r\n",
    "    from sinling import SinhalaStemmer\r\n",
    "    stemmer = SinhalaStemmer()\r\n",
    "    \r\n",
    "    #stemmed = stemmer.stem(word)[0]\r\n",
    "    return ' '.join([ stemmer.stem(w)[0] for w in txt.split()])\r\n",
    "    #   text =[]\r\n",
    "    # for word in txt.split():\r\n",
    "    #     #print(word)\r\n",
    "    #     if len(word) < 4:\r\n",
    "    #         word = word\r\n",
    "\r\n",
    "    #     # remove 'ට'\r\n",
    "    #     if word[-1] == 'ට':\r\n",
    "    #         word =word[:-1]\r\n",
    "\r\n",
    "    #     # remove 'ද'\r\n",
    "    #     elif word[-1] == 'ද':\r\n",
    "    #         word =word[:-1]\r\n",
    "\r\n",
    "    #     # remove 'ටත්'\r\n",
    "    #     elif word[-3:] == 'ටත්':\r\n",
    "    #         word = word[:-3]\r\n",
    "\r\n",
    "    #     # remove 'එක්'\r\n",
    "    #     elif word[-3:] == 'ෙක්':\r\n",
    "    #         word = word[:-3]\r\n",
    "\r\n",
    "    #     # remove 'එ'\r\n",
    "    #     elif word[-1:] == 'ෙ':\r\n",
    "    #         word = word[:-1]\r\n",
    "\r\n",
    "    #     # remove 'ක්'\r\n",
    "    #     elif word[-2:] == 'ක්':\r\n",
    "    #         word =word[:-2]\r\n",
    "\r\n",
    "    #     # remove 'ගෙ' (instead of ගේ because this step comes after simplifying text)\r\n",
    "    #     elif word[-4:] == 'ගේ':\r\n",
    "    #         word = word[:-4]\r\n",
    "    #     elif word[-3:] == 'ෙන්':\r\n",
    "    #         word =word[:-3]\r\n",
    "    #     text.append(word)\r\n",
    "    #print(text)\r\n",
    "    # return ' '.join(text)\r\n",
    "        \r\n",
    "\r\n",
    "def custom_stemmer(txt):\r\n",
    "    ## custom stemmer longest prefix len >5\r\n",
    "    stemmer = sinhala_stemmer.SinhalaStemmer()\r\n",
    "    return ' '.join([stemmer.stem(w)[0] for w in txt.split()])\r\n",
    "    #w_list=[]\r\n",
    "    # for w in txt3.split():\r\n",
    "    \r\n",
    "    #     results = stemmer.stem(w)[0]\r\n",
    "    # #results = preprocess(w)\r\n",
    "#     w_list.append(results)\r\n",
    "# print(' '.join(w_list))\r\n",
    "\r\n",
    "#def text_normalize():\r\n",
    "\r\n",
    "\r\n",
    "def removeStopWords(txt):\r\n",
    "    \"\"\"\r\n",
    "    remove stop words\r\n",
    "    \"\"\"\r\n",
    "    stop_words = List = open('G:\\Github\\Sinhala-Hate-Speech-Detection\\Datasets\\stop_words.txt', encoding='utf-8').read().splitlines()\r\n",
    "    remove_stop_words = ['ඕහෝ','අනේ','අඳෝ','අපොයි','අපෝ','අයියෝ','ආයි','ඌයි','චී','චිහ්','චික්','නෑ', 'එම්බා','එම්බල','බොල']\r\n",
    "    for w in remove_stop_words:\r\n",
    "        if w in stop_words:\r\n",
    "            stop_words.remove(w)\r\n",
    "    return ' '.join([(w if w not in stop_words else ' ') for w in txt.split()])\r\n",
    "\r\n",
    "def removeUnicode(txt):\r\n",
    "    exclude = set(\r\n",
    "        \"\\u200c\\u200b\\u2063\")\r\n",
    "\r\n",
    "    return ''.join([(c if c not in exclude else '') for c in txt])\r\n",
    "# def POS_tags():\r\n",
    "\r\n",
    "# def NER():\r\n",
    "\r\n",
    "def preprocessor(df,col, seperator = False,url=False,mention=False,number=False,non_sinhala=False,special_characters=False,puntuation=False, puntuation_special = False, emoji_remove = False,  stop_word = False,stem=False,custom_stem=False):\r\n",
    "    \r\n",
    "\r\n",
    "   # if(tokenize):\r\n",
    "    df['cleaned'] = df[col]\r\n",
    "    if(seperator):\r\n",
    "        df['cleaned'] = df['cleaned'].apply(lambda x: sentenceSeperator(x))\r\n",
    "        print('seperator')\r\n",
    "    if(url):\r\n",
    "        df['cleaned'] = df['cleaned'].apply(lambda x: removeUrl(x))\r\n",
    "        print('-url-')\r\n",
    "    if(mention):\r\n",
    "        df['cleaned'] = df['cleaned'].apply(lambda x: removeMention(x))\r\n",
    "        print('-mention-')\r\n",
    "    if(number):\r\n",
    "        df['cleaned'] = df['cleaned'].apply(lambda x: removeNumber(x))\r\n",
    "        print('-number-')\r\n",
    "    if(non_sinhala):\r\n",
    "        df['cleaned'] = df['cleaned'].apply(lambda x: removeEnglishWords(x))\r\n",
    "        print('-non_sinhala-')\r\n",
    "    if(special_characters):\r\n",
    "        df['cleaned'] = df['cleaned'].apply(lambda x: removeSpecialCharacters(x))\r\n",
    "        print('-special charactrer-')\r\n",
    "    if(puntuation):\r\n",
    "        df['cleaned'] = df['cleaned'].apply(lambda x: removePunctuation(x))\r\n",
    "        print('-puntuation-')\r\n",
    "    if(puntuation_special):\r\n",
    "        df['cleaned'] = df['cleaned'].apply(lambda x: removePunctuationSpecial(x))\r\n",
    "        print('-puntuation_special-')\r\n",
    "    if(emoji_remove):\r\n",
    "        df['cleaned'] = df['cleaned'].apply(lambda x: removeEmoji(x))\r\n",
    "        print('-emoji remove-')\r\n",
    "    #if(emoji_replace):\r\n",
    "\r\n",
    "    if(stop_word):\r\n",
    "        df['cleaned'] = df['cleaned'].apply(lambda x: removeStopWords(x))\r\n",
    "        print('-stop word-')\r\n",
    "    df['cleaned'] = df['cleaned'].apply(lambda x: removeUnicode(x))\r\n",
    "    if(stem):\r\n",
    "        df['cleaned'] = df['cleaned'].apply(lambda x: stemWords(x))\r\n",
    "        print('-stem-')\r\n",
    "    if(custom_stem):\r\n",
    "        df['cleaned'] = df['cleaned'].apply(lambda x: custom_stemmer(x))\r\n",
    "        print('-custome stemmer-')\r\n",
    "    #if(text_normalize):\r\n",
    "\r\n",
    "    return df"
   ],
   "outputs": [],
   "metadata": {}
  },
  {
   "cell_type": "markdown",
   "source": [
    "## Stemming experiments"
   ],
   "metadata": {}
  },
  {
   "cell_type": "code",
   "execution_count": 19,
   "source": [
    "def stemWords(txt):\r\n",
    "    from sinling import SinhalaStemmer\r\n",
    "    stemmer = SinhalaStemmer()\r\n",
    "    \r\n",
    "    #stemmed = stemmer.stem(word)[0]\r\n",
    "    return ' '.join([ stemmer.stem(w)[0] for w in txt.split()])\r\n",
    "v = 'ගුරුවරියට ප්‍රකාශ'\r\n",
    "f=stemWords(txt3)\r\n",
    "print(f)\r\n",
    "f"
   ],
   "outputs": [
    {
     "output_type": "stream",
     "name": "stdout",
     "text": [
      "අනුයුක්‌ත කර ඇ අතර එ පාසල දෙමළ මාධ්‍ය කර්ණ සංගීත විෂය ඉගෙ ගන් සිස නැත.  නිස විදුහල්පතිවර ගුරු ප්‍රකාශ කර ඇත්ත වෙන විෂයයක්‌ උගන්ව ලෙසය.ඇතැ කලාප යෑව ගුරු පුරප්පාඩ නොමැ ව නිස පත්ව ලබාද නැ අතර මෙ තත්ත්ව යටත එ උපාධිධාර දැඩි අපහසුතා පත්ව\n"
     ]
    },
    {
     "output_type": "execute_result",
     "data": {
      "text/plain": [
       "'අනුයුක්\\u200cත කර ඇ අතර එ පාසල දෙමළ මාධ්\\u200dය කර්ණ සංගීත විෂය ඉගෙ ගන් සිස නැත.  නිස විදුහල්පතිවර ගුරු ප්\\u200dරකාශ කර ඇත්ත වෙන විෂයයක්\\u200c උගන්ව ලෙසය.ඇතැ කලාප යෑව ගුරු පුරප්පාඩ නොමැ ව නිස පත්ව ලබාද නැ අතර මෙ තත්ත්ව යටත එ උපාධිධාර දැඩි අපහසුතා පත්ව'"
      ]
     },
     "metadata": {},
     "execution_count": 19
    }
   ],
   "metadata": {}
  },
  {
   "cell_type": "code",
   "execution_count": 6,
   "source": [
    "# using singling word spitter\r\n",
    "from sinling import word_splitter\r\n",
    "\r\n",
    "txt3 = 'අනුයුක්‌ත කර ඇති අතර එම පාසලේ දෙමළ මාධ්‍යයෙන් කර්ණාට සංගීත විෂයය ඉගෙන ගන්නා සිසුන් නැත. මේ නිසා විදුහල්පතිවරයා ගුරුවරියට ප්‍රකාශ කර ඇත්තේ වෙනත් විෂයයක්‌ උගන්වන ලෙසය.ඇතැම් කලාපවලට යෑවූ ගුරුවරුන්ට පුරප්පාඩු නොමැති වීම නිසා පත්වීම් ලබාදී නැති අතර මෙම තත්ත්වය යටතේ එම උපාධිධාරීහු දැඩි අපහසුතාවට පත්වූහ'\r\n",
    "\r\n",
    "\r\n",
    "w_list=[]\r\n",
    "for w in txt3.split():\r\n",
    "    results = word_splitter.split(w)\r\n",
    "    w_list.append(results['base'])\r\n",
    "\r\n",
    "print(' '.join(w_list))"
   ],
   "outputs": [
    {
     "output_type": "stream",
     "name": "stdout",
     "text": [
      "අනුයුක්‌ ක් ඇත අත එ පාසල් දෙ මාධ්‍ය කර්ණ සං විෂය ඉ ගන්න සිසු නැත ම නි විදුහල්පති ගුරුවරිය ප්‍ර ක් ඇත්ත වෙන ව උ ලෙසය.ඇතැම කලාප යෑ ගුරුවරුන් පුර නොමැත වී නි පත්වී ලබා නැත අත ම තත්ත්ව යටත් එ උපාධිධාරී දැ අපහසුතා පත්වූ\n"
     ]
    }
   ],
   "metadata": {}
  },
  {
   "cell_type": "markdown",
   "source": [
    "word_splitter is much worser than singling stemming and time to process this is too much expensive"
   ],
   "metadata": {}
  },
  {
   "cell_type": "code",
   "execution_count": 16,
   "source": [
    "## without changes len >5 - orginal singling implmentaion\r\n",
    "txt3 = 'අනුයුක්‌ත කර ඇති අතර එම පාසලේ දෙමළ මාධ්‍යයෙන් කර්ණාට සංගීත විෂයය ඉගෙන ගන්නා සිසුන් නැත. මේ නිසා විදුහල්පතිවරයා ගුරුවරියට ප්‍රකාශ කර ඇත්තේ වෙනත් විෂයයක්‌ උගන්වන ලෙසය.ඇතැම් කලාපවලට යෑවූ ගුරුවරුන්ට පුරප්පාඩු නොමැති වීම නිසා පත්වීම් ලබාදී නැති අතර මෙම තත්ත්වය යටතේ එම උපාධිධාරීහු දැඩි අපහසුතාවට පත්වූහ'\r\n",
    "stemWords(txt3)"
   ],
   "outputs": [
    {
     "output_type": "execute_result",
     "data": {
      "text/plain": [
       "'අනුයුක්\\u200cත කර ඇ අතර එ පාසල දෙමළ මාධ්\\u200dය කර්ණ සංගීත විෂය ඉගෙ ගන් සිස නැත.  නිස විදුහල්පතිවර ගුරු ප්\\u200dරකාශ කර ඇත්ත වෙන විෂයයක්\\u200c උගන්ව ලෙසය.ඇතැ කලාප යෑව ගුරු පුරප්පාඩ නොමැ ව නිස පත්ව ලබාද නැ අතර මෙ තත්ත්ව යටත එ උපාධිධාර දැඩි අපහසුතා පත්ව'"
      ]
     },
     "metadata": {},
     "execution_count": 16
    }
   ],
   "metadata": {}
  },
  {
   "cell_type": "markdown",
   "source": [
    "### custom stemmer"
   ],
   "metadata": {}
  },
  {
   "cell_type": "code",
   "execution_count": 31,
   "source": [
    "## shortest prefix with len >5\r\n",
    "stemmer = sinhala_stemmer.SinhalaStemmer()\r\n",
    "w_list=[]\r\n",
    "for w in txt3.split():\r\n",
    "    #results = word_splitter.split(w)\r\n",
    "    results = stemmer.stem(w)[0]\r\n",
    "    #results = preprocess(w)\r\n",
    "    w_list.append(results)\r\n",
    "print(' '.join(w_list))"
   ],
   "outputs": [
    {
     "output_type": "stream",
     "name": "stdout",
     "text": [
      "අනුයුක්‌ත කර ඇති අතර එම පාසලේ දෙමළ මාධ්‍යයෙන කර්ණා සංගීත විෂයය ඉගෙන ගන්නා සිසුන නැත. මේ නිසා විදුහල්පතිවරය ගුරුවරිය ප්‍රකාශ කර ඇත්තේ වෙනත් විෂයයක්‌ උගන්ව ලෙසය.ඇතැම කලාපවල යෑවූ ගුරුවරුන් පුරප්පාඩ නොමැ වීම නිසා පත්වීම ලබාදී නැති අතර මෙම තත්ත්ව යටතේ එම උපාධිධාරීහ දැඩි අපහසුතාව පත්ව\n"
     ]
    }
   ],
   "metadata": {}
  },
  {
   "cell_type": "code",
   "execution_count": 5,
   "source": [
    "## custom stemmer longest prefix len >5\r\n",
    "stemmer = sinhala_stemmer.SinhalaStemmer()\r\n",
    "txt3 = 'අනුයුක්‌ත කර ඇති අතර එම පාසලේ දෙමළ මාධ්‍යයෙන් කර්ණාට සංගීත විෂයය ඉගෙන ගන්නා සිසුන් නැත. මේ නිසා විදුහල්පතිවරයා ගුරුවරියට ප්‍රකාශ කර ඇත්තේ වෙනත් විෂයයක්‌ උගන්වන ලෙසය.ඇතැම් කලාපවලට යෑවූ ගුරුවරුන්ට පුරප්පාඩු නොමැති වීම නිසා පත්වීම් ලබාදී නැති අතර මෙම තත්ත්වය යටතේ එම උපාධිධාරීහු දැඩි අපහසුතාවට පත්වූහ'\r\n",
    "w_list=[]\r\n",
    "for w in txt3.split():\r\n",
    "    #results = word_splitter.split(w)\r\n",
    "    results = stemmer.stem(w)[0]\r\n",
    "    #results = preprocess(w)\r\n",
    "    w_list.append(results)\r\n",
    "print(' '.join(w_list))"
   ],
   "outputs": [
    {
     "output_type": "stream",
     "name": "stdout",
     "text": [
      "අනුයුක්‌ත කර ඇති අතර එම පාසලේ දෙමළ මාධ්‍ය කර්ණ සංගීත විෂයය ඉගෙන ගන්නා සිස නැත. මේ නිසා විදුහල්පතිවර ගුරු ප්‍රකාශ කර ඇත්තේ වෙනත් විෂයයක්‌ උගන්ව ලෙසය.ඇතැ කලාප යෑවූ ගුරු පුරප්පාඩ නොමැ වීම නිසා පත්ව ලබාදී නැති අතර මෙම තත්ත්ව යටතේ එම උපාධිධාර දැඩි අපහසුතා පත්ව\n"
     ]
    }
   ],
   "metadata": {}
  },
  {
   "cell_type": "markdown",
   "source": [
    "It's decided to use modifies version of sinhala stemmer with longdes prefix and avioding stemming for words with len <5 and not included in stem dictinonary. This two stemming approaches singling and our custom stemmer will be experiment on BoW by feeding to LR classifier"
   ],
   "metadata": {}
  },
  {
   "cell_type": "markdown",
   "source": [
    "## other preprocessing"
   ],
   "metadata": {}
  },
  {
   "cell_type": "markdown",
   "source": [
    "Sentence seperator"
   ],
   "metadata": {}
  },
  {
   "cell_type": "code",
   "execution_count": 68,
   "source": [
    "\r\n",
    "t =sentenceSeperator('ඇති අතර?එම පාසලේ.දෙමළ සංගීත? විෂයය,නැත ? ')\r\n",
    "t"
   ],
   "outputs": [
    {
     "output_type": "execute_result",
     "data": {
      "text/plain": [
       "'ඇති අතර? එම පාසලේ. දෙමළ සංගීත?  විෂයය, නැත ?  '"
      ]
     },
     "metadata": {},
     "execution_count": 68
    }
   ],
   "metadata": {}
  },
  {
   "cell_type": "code",
   "execution_count": 23,
   "source": [
    "print('අනුයුක්‌ත කර ඇති   අතර?'.split())\r\n",
    "removeUnicode('අනුයුක්‌ත කර ඇති   අතර?').split()"
   ],
   "outputs": [
    {
     "output_type": "stream",
     "name": "stdout",
     "text": [
      "['අනුයුක්\\u200cත', 'කර', 'ඇති', 'අතර?']\n"
     ]
    },
    {
     "output_type": "execute_result",
     "data": {
      "text/plain": [
       "['අනුයුක්ත', 'කර', 'ඇති', 'අතර?']"
      ]
     },
     "metadata": {},
     "execution_count": 23
    }
   ],
   "metadata": {}
  },
  {
   "cell_type": "markdown",
   "source": [
    "special characters"
   ],
   "metadata": {}
  },
  {
   "cell_type": "code",
   "execution_count": 28,
   "source": [
    "d = removeSpecialCharacters('අනුයුක්‌ත කර ඇති අතර එම පාසලේ දෙමළ මාධ්‍යයෙන් කර්ණාට සංගීත විෂයය ඉගෙන ගන්නා සිසුන් නැත. මේ නිසා විදුහල්පතිවරයා')\r\n",
    "print(d)"
   ],
   "outputs": [
    {
     "output_type": "stream",
     "name": "stdout",
     "text": [
      "අනුයුක්ත කර ඇති අතර එම පාසලේ දෙමළ මාධ්‍යයෙන් කර්ණාට සංගීත විෂයය ඉගෙන ගන්නා සිසුන් නැත. මේ නිසා විදුහල්පතිවරයා\n"
     ]
    }
   ],
   "metadata": {}
  },
  {
   "cell_type": "code",
   "execution_count": 58,
   "source": [
    "txt1 = ' 😫හොදනම් 🚗🚉ᓚᘏᗢ:-):-)^_^(*/ω＼*)(^///^):-Dಥ_ಥ༼ つ ◕_◕ ༽つ¯\\_(ツ)_/¯(❁´◡`❁)😚😚😚😎'\r\n",
    "txt2 = \"අයියෝ?\"\r\n",
    "txt3 = 'අනුයුක්‌ත කර ඇති අතර එම පාසලේ දෙමළ මාධ්‍යයෙන් කර්ණාට සංගීත විෂයය ඉගෙන ගන්නා සිසුන් නැත. මේ නිසා විදුහල්පතිවරයා ගුරුවරියට ප්‍රකාශ කර ඇත්තේ වෙනත් විෂයයක්‌ උගන්වන ලෙසය.ඇතැම් කලාපවලට යෑවූ ගුරුවරුන්ට පුරප්පාඩු නොමැති වීම නිසා පත්වීම් ලබාදී නැති අතර මෙම තත්ත්වය යටතේ එම උපාධිධාරීහු දැඩි අපහසුතාවට පත්වූහ'\r\n",
    "txt5 = ' වැඩ?-)^  ^ හොදනම්?'\r\n",
    "txt6 = '34 හොදනම්34 2හොදනම්'\r\n",
    "txt7 = 'හොදනම්  https://stackoverflow.com/questions/4987327/how-do-i-check-if-a-string-is-unicode-or-ascii සපෝර්ට්https://stackoverflow.com/questions/4987327/how-do-i-check-if-a-string-is-unicode-or-ascii'\r\n",
    "txt9 = '@uilknk @සපෝර්ට් හොදනම්@ '\r\n",
    "txt10= 'Ai සපෝර්ට්klo '\r\n",
    "df = pd.DataFrame({'text':[txt1,txt2,txt3,txt5,txt6,txt7,txt9,txt10]},columns=['text'])\r\n",
    "df_clean = preprocessor(df,'text',url=True,mention=True,number=True,non_sinhala=True,puntuation=True,emoji_remove=True,stop_word=True)\r\n",
    "df"
   ],
   "outputs": [
    {
     "output_type": "execute_result",
     "data": {
      "text/html": [
       "<div>\n",
       "<style scoped>\n",
       "    .dataframe tbody tr th:only-of-type {\n",
       "        vertical-align: middle;\n",
       "    }\n",
       "\n",
       "    .dataframe tbody tr th {\n",
       "        vertical-align: top;\n",
       "    }\n",
       "\n",
       "    .dataframe thead th {\n",
       "        text-align: right;\n",
       "    }\n",
       "</style>\n",
       "<table border=\"1\" class=\"dataframe\">\n",
       "  <thead>\n",
       "    <tr style=\"text-align: right;\">\n",
       "      <th></th>\n",
       "      <th>text</th>\n",
       "      <th>cleaned</th>\n",
       "    </tr>\n",
       "  </thead>\n",
       "  <tbody>\n",
       "    <tr>\n",
       "      <th>0</th>\n",
       "      <td>😫හොදනම් 🚗🚉ᓚᘏᗢ:-):-)^_^(*/ω＼*)(^///^):-Dಥ_ಥ༼ つ ◕_◕ ༽つ¯\\_(ツ)_/¯(❁´◡`❁)😚😚😚😎</td>\n",
       "      <td>හොදනම් ᓚᘏᗢ ω＼ ಥ ಥ༼ つ ◕ ◕ ༽つ¯ ツ ¯ ❁ ◡`❁</td>\n",
       "    </tr>\n",
       "    <tr>\n",
       "      <th>1</th>\n",
       "      <td>අයියෝ?</td>\n",
       "      <td>අයියෝ</td>\n",
       "    </tr>\n",
       "    <tr>\n",
       "      <th>2</th>\n",
       "      <td>අනුයුක්‌ත කර ඇති අතර එම පාසලේ දෙමළ මාධ්‍යයෙන් කර්ණාට සංගීත විෂයය ඉගෙන ගන්නා සිසුන් නැත. මේ නිසා විදුහල්පතිවරයා ගුරුවරියට ප්‍රකාශ කර ඇත්තේ වෙනත් විෂයයක්‌ උගන්වන ලෙසය.ඇතැම් කලාපවලට යෑවූ ගුරුවරුන්ට පුරප්පාඩු නොමැති වීම නිසා පත්වීම් ලබාදී නැති අතර මෙම තත්ත්වය යටතේ එම උපාධිධාරීහු දැඩි අපහසුතාවට පත්වූහ</td>\n",
       "      <td>අනුයුක් ත කර       පාසලේ දෙමළ මාධ්‍යයෙන් කර්ණාට සංගීත විෂයය ඉගෙන ගන්නා සිසුන් නැත     විදුහල්පතිවරයා ගුරුවරියට ප්‍රකාශ කර ඇත්තේ වෙනත් විෂයයක් උගන්වන ලෙසය ඇතැම් කලාපවලට යෑවූ ගුරුවරුන්ට පුරප්පාඩු නොමැති වීම   පත්වීම් ලබාදී නැති     තත්ත්වය යටතේ   උපාධිධාරීහු දැඩි අපහසුතාවට පත්වූහ</td>\n",
       "    </tr>\n",
       "    <tr>\n",
       "      <th>3</th>\n",
       "      <td>වැඩ?-)^  ^ හොදනම්?</td>\n",
       "      <td>වැඩ හොදනම්</td>\n",
       "    </tr>\n",
       "    <tr>\n",
       "      <th>4</th>\n",
       "      <td>34 හොදනම්34 2හොදනම්</td>\n",
       "      <td>හොදනම් හොදනම්</td>\n",
       "    </tr>\n",
       "    <tr>\n",
       "      <th>5</th>\n",
       "      <td>හොදනම්  https://stackoverflow.com/questions/4987327/how-do-i-check-if-a-string-is-unicode-or-ascii සපෝර්ට්https://stackoverflow.com/questions/4987327/how-do-i-check-if-a-string-is-unicode-or-ascii</td>\n",
       "      <td>හොදනම් සපෝර්ට්</td>\n",
       "    </tr>\n",
       "    <tr>\n",
       "      <th>6</th>\n",
       "      <td>@uilknk @සපෝර්ට් හොදනම්@</td>\n",
       "      <td>සපෝර්ට් හොදනම්</td>\n",
       "    </tr>\n",
       "    <tr>\n",
       "      <th>7</th>\n",
       "      <td>Ai සපෝර්ට්klo</td>\n",
       "      <td>සපෝර්ට්</td>\n",
       "    </tr>\n",
       "  </tbody>\n",
       "</table>\n",
       "</div>"
      ],
      "text/plain": [
       "                                                                                                                                                                                                                                                                                                        text  \\\n",
       "0                                                                                                                                                                                                                                   😫හොදනම් 🚗🚉ᓚᘏᗢ:-):-)^_^(*/ω＼*)(^///^):-Dಥ_ಥ༼ つ ◕_◕ ༽つ¯\\_(ツ)_/¯(❁´◡`❁)😚😚😚😎   \n",
       "1                                                                                                                                                                                                                                                                                                     අයියෝ?   \n",
       "2  අනුයුක්‌ත කර ඇති අතර එම පාසලේ දෙමළ මාධ්‍යයෙන් කර්ණාට සංගීත විෂයය ඉගෙන ගන්නා සිසුන් නැත. මේ නිසා විදුහල්පතිවරයා ගුරුවරියට ප්‍රකාශ කර ඇත්තේ වෙනත් විෂයයක්‌ උගන්වන ලෙසය.ඇතැම් කලාපවලට යෑවූ ගුරුවරුන්ට පුරප්පාඩු නොමැති වීම නිසා පත්වීම් ලබාදී නැති අතර මෙම තත්ත්වය යටතේ එම උපාධිධාරීහු දැඩි අපහසුතාවට පත්වූහ   \n",
       "3                                                                                                                                                                                                                                                                                         වැඩ?-)^  ^ හොදනම්?   \n",
       "4                                                                                                                                                                                                                                                                                        34 හොදනම්34 2හොදනම්   \n",
       "5                                                                                                       හොදනම්  https://stackoverflow.com/questions/4987327/how-do-i-check-if-a-string-is-unicode-or-ascii සපෝර්ට්https://stackoverflow.com/questions/4987327/how-do-i-check-if-a-string-is-unicode-or-ascii   \n",
       "6                                                                                                                                                                                                                                                                                  @uilknk @සපෝර්ට් හොදනම්@    \n",
       "7                                                                                                                                                                                                                                                                                             Ai සපෝර්ට්klo    \n",
       "\n",
       "                                                                                                                                                                                                                                                                                  cleaned  \n",
       "0                                                                                                                                                                                                                                                  හොදනම් ᓚᘏᗢ ω＼ ಥ ಥ༼ つ ◕ ◕ ༽つ¯ ツ ¯ ❁ ◡`❁  \n",
       "1                                                                                                                                                                                                                                                                                   අයියෝ  \n",
       "2  අනුයුක් ත කර       පාසලේ දෙමළ මාධ්‍යයෙන් කර්ණාට සංගීත විෂයය ඉගෙන ගන්නා සිසුන් නැත     විදුහල්පතිවරයා ගුරුවරියට ප්‍රකාශ කර ඇත්තේ වෙනත් විෂයයක් උගන්වන ලෙසය ඇතැම් කලාපවලට යෑවූ ගුරුවරුන්ට පුරප්පාඩු නොමැති වීම   පත්වීම් ලබාදී නැති     තත්ත්වය යටතේ   උපාධිධාරීහු දැඩි අපහසුතාවට පත්වූහ  \n",
       "3                                                                                                                                                                                                                                                                              වැඩ හොදනම්  \n",
       "4                                                                                                                                                                                                                                                                           හොදනම් හොදනම්  \n",
       "5                                                                                                                                                                                                                                                                          හොදනම් සපෝර්ට්  \n",
       "6                                                                                                                                                                                                                                                                          සපෝර්ට් හොදනම්  \n",
       "7                                                                                                                                                                                                                                                                                 සපෝර්ට්  "
      ]
     },
     "metadata": {},
     "execution_count": 58
    }
   ],
   "metadata": {}
  },
  {
   "cell_type": "markdown",
   "source": [
    "## Evaluating preproceesing steps mutual exclusive"
   ],
   "metadata": {}
  },
  {
   "cell_type": "code",
   "execution_count": 71,
   "source": [
    "\r\n",
    "seperator = url= mention = number = non_sinhala = special_characters= puntuation =  puntuation_special = emoji_remove = stop_word =stem = custom_stem =False\r\n",
    "preprocessing_steps = [seperator, url,mention , number , non_sinhala ,special_characters, puntuation , puntuation_special ,emoji_remove , stop_word, stem,custom_stem ]\r\n",
    "step_names = ['seperator','url','mention' ,'number' , 'non_sinhala','special_characters', 'puntuation' , 'puntuation_special' ,'emoji_remove' , 'stop_word','stem','custom_stem']\r\n",
    "#preprocessing_steps = {'url':url}\r\n",
    "def check_preprocessing(df):\r\n",
    "    # TODO change this to work on any model, any feature\r\n",
    "    final_result =pd.DataFrame(columns=['Accuracy','F1-score','Recall','Precision','AUC'])\r\n",
    "    # baseline\r\n",
    "    X_train, X_test, Y_train, Y_test = train_test_split(df['comment'], df['label'], test_size=0.3, random_state=0, stratify=df['label'].values)\r\n",
    "    X_train_f,X_test_f = bow_word(X_train,X_test)\r\n",
    "    Y_pred = lr(X_train_f,X_test_f,Y_train)\r\n",
    "    print(\"baseline\")\r\n",
    "    accuracy, f1_score, recall, precision, auc = utills.result(Y_test,Y_pred)\r\n",
    "    final_result.loc['baseline'] = [accuracy, f1_score, recall, precision, auc]\r\n",
    "    i=0\r\n",
    "    for step in step_names:\r\n",
    "        print(step)\r\n",
    "        preprocessing_steps[i]= True\r\n",
    "        #print(df.head())\r\n",
    "        df_clean = preprocessor(df,'comment',*preprocessing_steps)\r\n",
    "        X_train, X_test, Y_train, Y_test = train_test_split(df_clean['cleaned'], df_clean['label'], test_size=0.3, random_state=0, stratify=df_clean['label'].values)\r\n",
    "        X_train_f,X_test_f = bow_word(X_train,X_test)\r\n",
    "        Y_pred = lr(X_train_f,X_test_f,Y_train)\r\n",
    "        accuracy, f1_score, recall, precision, auc = utills.result(Y_test,Y_pred)\r\n",
    "        final_result.loc[step] = [accuracy, f1_score, recall, precision, auc]\r\n",
    "        preprocessing_steps[i]= False\r\n",
    "        i+=1\r\n",
    "    \r\n",
    "    display(final_result)\r\n",
    "    return final_result,df_clean"
   ],
   "outputs": [],
   "metadata": {}
  },
  {
   "cell_type": "markdown",
   "source": [
    "## Helper functions"
   ],
   "metadata": {}
  },
  {
   "cell_type": "code",
   "execution_count": 36,
   "source": [
    "def lr(X_train,X_test,Y_train):\r\n",
    "    lr = LogisticRegression(C=10,max_iter=350)\r\n",
    "    lr.fit(X_train,Y_train)\r\n",
    "    Y_pred = lr.predict(X_test)\r\n",
    "    return Y_pred"
   ],
   "outputs": [],
   "metadata": {}
  },
  {
   "cell_type": "code",
   "execution_count": 37,
   "source": [
    "# bow - word\r\n",
    "def bow_word(X_train,X_test):\r\n",
    "    bow = CountVectorizer(analyzer=\"word\", tokenizer=lambda text: text.split(),ngram_range=(1,1),lowercase=False)\r\n",
    "    bow.fit(X_train)\r\n",
    "    X_train_bow = bow.transform(X_train)\r\n",
    "    X_test_bow = bow.transform(X_test)\r\n",
    "\r\n",
    "    #print(bow.get_feature_names()[:20])\r\n",
    "    #print('The shape is', bow.shape)\r\n",
    "    # postion\r\n",
    "    #print(bow.vocabulary_)\r\n",
    "\r\n",
    "    return X_train_bow,X_test_bow"
   ],
   "outputs": [],
   "metadata": {}
  },
  {
   "cell_type": "markdown",
   "source": [
    "## Gossip dataset preprocessing"
   ],
   "metadata": {}
  },
  {
   "cell_type": "markdown",
   "source": [
    "### Mutual exclusive evalaution"
   ],
   "metadata": {}
  },
  {
   "cell_type": "code",
   "execution_count": 46,
   "source": [
    "df_A.head()"
   ],
   "outputs": [
    {
     "output_type": "execute_result",
     "data": {
      "text/html": [
       "<div>\n",
       "<style scoped>\n",
       "    .dataframe tbody tr th:only-of-type {\n",
       "        vertical-align: middle;\n",
       "    }\n",
       "\n",
       "    .dataframe tbody tr th {\n",
       "        vertical-align: top;\n",
       "    }\n",
       "\n",
       "    .dataframe thead th {\n",
       "        text-align: right;\n",
       "    }\n",
       "</style>\n",
       "<table border=\"1\" class=\"dataframe\">\n",
       "  <thead>\n",
       "    <tr style=\"text-align: right;\">\n",
       "      <th></th>\n",
       "      <th>comment</th>\n",
       "      <th>label</th>\n",
       "      <th>df</th>\n",
       "    </tr>\n",
       "  </thead>\n",
       "  <tbody>\n",
       "    <tr>\n",
       "      <th>0</th>\n",
       "      <td>මේ වේසිට නීතිය ක්‍රියාත්මක වෙන්නෙ කවදාද ?</td>\n",
       "      <td>1</td>\n",
       "      <td>A</td>\n",
       "    </tr>\n",
       "    <tr>\n",
       "      <th>1</th>\n",
       "      <td>තූ ෙනදකින්</td>\n",
       "      <td>1</td>\n",
       "      <td>A</td>\n",
       "    </tr>\n",
       "    <tr>\n",
       "      <th>2</th>\n",
       "      <td>අම්මා ලුසීඩා කියුවම මට හිතෙන්නම ෆලූඩා කියලා. හිකිස්. ඔව් ඔව් තරුණ වයසේ ගෑණු ළමයි විවිඪ රට වලින් ආශ්‍රය කලාට කමක් නෑ. ලෙඩක් කාරියේ හදා ගත්තම තේරෙයි අප්පගේ ආදර බර පුතාට​.</td>\n",
       "      <td>0</td>\n",
       "      <td>A</td>\n",
       "    </tr>\n",
       "    <tr>\n",
       "      <th>3</th>\n",
       "      <td>දින ඒකාබද්ධ විපක්ෂයේ මාධ්‍ය ලේකම් රේණුක පෙරේරා මහතාගේ නිවේදනයට අදාාලව අමිත් වීරසිංහ කල මාධ්‍ය සාකච්ඡාව..…</td>\n",
       "      <td>0</td>\n",
       "      <td>A</td>\n",
       "    </tr>\n",
       "    <tr>\n",
       "      <th>4</th>\n",
       "      <td>පූදින්ෙන නැතුව ඉදිං</td>\n",
       "      <td>1</td>\n",
       "      <td>A</td>\n",
       "    </tr>\n",
       "  </tbody>\n",
       "</table>\n",
       "</div>"
      ],
      "text/plain": [
       "                                                                                                                                                                    comment  \\\n",
       "0                                                                                                                                 මේ වේසිට නීතිය ක්‍රියාත්මක වෙන්නෙ කවදාද ?   \n",
       "1                                                                                                                                                                තූ ෙනදකින්   \n",
       "2  අම්මා ලුසීඩා කියුවම මට හිතෙන්නම ෆලූඩා කියලා. හිකිස්. ඔව් ඔව් තරුණ වයසේ ගෑණු ළමයි විවිඪ රට වලින් ආශ්‍රය කලාට කමක් නෑ. ලෙඩක් කාරියේ හදා ගත්තම තේරෙයි අප්පගේ ආදර බර පුතාට​.   \n",
       "3                                                                 දින ඒකාබද්ධ විපක්ෂයේ මාධ්‍ය ලේකම් රේණුක පෙරේරා මහතාගේ නිවේදනයට අදාාලව අමිත් වීරසිංහ කල මාධ්‍ය සාකච්ඡාව..…   \n",
       "4                                                                                                                                                       පූදින්ෙන නැතුව ඉදිං   \n",
       "\n",
       "   label df  \n",
       "0      1  A  \n",
       "1      1  A  \n",
       "2      0  A  \n",
       "3      0  A  \n",
       "4      1  A  "
      ]
     },
     "metadata": {},
     "execution_count": 46
    }
   ],
   "metadata": {}
  },
  {
   "cell_type": "code",
   "execution_count": 61,
   "source": [
    "seperator = url= mention = number = non_sinhala = special_characters= puntuation =  puntuation_special = emoji_remove = stop_word =stem = custom_stem =False\r\n",
    "preprocessing_steps = [seperator, url,mention , number , non_sinhala ,special_characters, puntuation , puntuation_special ,emoji_remove , stop_word, stem,custom_stem ]\r\n",
    "final_result_A,df_cleaned_A = check_preprocessing(df_A)"
   ],
   "outputs": [
    {
     "output_type": "stream",
     "name": "stdout",
     "text": [
      "baseline\n",
      "              precision    recall  f1-score   support\n",
      "\n",
      "           0       0.82      0.92      0.87      1337\n",
      "           1       0.75      0.57      0.65       604\n",
      "\n",
      "    accuracy                           0.81      1941\n",
      "   macro avg       0.79      0.74      0.76      1941\n",
      "weighted avg       0.80      0.81      0.80      1941\n",
      "\n"
     ]
    },
    {
     "output_type": "display_data",
     "data": {
      "image/png": "[encoded data removed]",
      "text/plain": [
       "<Figure size 432x288 with 1 Axes>"
      ]
     },
     "metadata": {
      "needs_background": "light"
     }
    },
    {
     "output_type": "stream",
     "name": "stdout",
     "text": [
      "seperator\n",
      "seperator\n",
      "              precision    recall  f1-score   support\n",
      "\n",
      "           0       0.84      0.92      0.88      1337\n",
      "           1       0.78      0.62      0.69       604\n",
      "\n",
      "    accuracy                           0.83      1941\n",
      "   macro avg       0.81      0.77      0.79      1941\n",
      "weighted avg       0.82      0.83      0.82      1941\n",
      "\n"
     ]
    },
    {
     "output_type": "display_data",
     "data": {
      "image/png": "[encoded data removed]",
      "text/plain": [
       "<Figure size 432x288 with 1 Axes>"
      ]
     },
     "metadata": {
      "needs_background": "light"
     }
    },
    {
     "output_type": "stream",
     "name": "stdout",
     "text": [
      "url\n",
      "-url-\n",
      "              precision    recall  f1-score   support\n",
      "\n",
      "           0       0.82      0.92      0.87      1337\n",
      "           1       0.75      0.56      0.65       604\n",
      "\n",
      "    accuracy                           0.81      1941\n",
      "   macro avg       0.79      0.74      0.76      1941\n",
      "weighted avg       0.80      0.81      0.80      1941\n",
      "\n"
     ]
    },
    {
     "output_type": "display_data",
     "data": {
      "image/png": "[encoded data removed]",
      "text/plain": [
       "<Figure size 432x288 with 1 Axes>"
      ]
     },
     "metadata": {
      "needs_background": "light"
     }
    },
    {
     "output_type": "stream",
     "name": "stdout",
     "text": [
      "mention\n",
      "-mention-\n",
      "              precision    recall  f1-score   support\n",
      "\n",
      "           0       0.82      0.92      0.87      1337\n",
      "           1       0.75      0.56      0.65       604\n",
      "\n",
      "    accuracy                           0.81      1941\n",
      "   macro avg       0.79      0.74      0.76      1941\n",
      "weighted avg       0.80      0.81      0.80      1941\n",
      "\n"
     ]
    },
    {
     "output_type": "display_data",
     "data": {
      "image/png": "[encoded data removed]",
      "text/plain": [
       "<Figure size 432x288 with 1 Axes>"
      ]
     },
     "metadata": {
      "needs_background": "light"
     }
    },
    {
     "output_type": "stream",
     "name": "stdout",
     "text": [
      "number\n",
      "-number-\n",
      "              precision    recall  f1-score   support\n",
      "\n",
      "           0       0.82      0.91      0.87      1337\n",
      "           1       0.75      0.57      0.65       604\n",
      "\n",
      "    accuracy                           0.81      1941\n",
      "   macro avg       0.79      0.74      0.76      1941\n",
      "weighted avg       0.80      0.81      0.80      1941\n",
      "\n"
     ]
    },
    {
     "output_type": "display_data",
     "data": {
      "image/png": "[encoded data removed]",
      "text/plain": [
       "<Figure size 432x288 with 1 Axes>"
      ]
     },
     "metadata": {
      "needs_background": "light"
     }
    },
    {
     "output_type": "stream",
     "name": "stdout",
     "text": [
      "non_sinhala\n",
      "-non_sinhala-\n",
      "              precision    recall  f1-score   support\n",
      "\n",
      "           0       0.82      0.92      0.87      1337\n",
      "           1       0.75      0.56      0.65       604\n",
      "\n",
      "    accuracy                           0.81      1941\n",
      "   macro avg       0.79      0.74      0.76      1941\n",
      "weighted avg       0.80      0.81      0.80      1941\n",
      "\n"
     ]
    },
    {
     "output_type": "display_data",
     "data": {
      "image/png": "[encoded data removed]",
      "text/plain": [
       "<Figure size 432x288 with 1 Axes>"
      ]
     },
     "metadata": {
      "needs_background": "light"
     }
    },
    {
     "output_type": "stream",
     "name": "stdout",
     "text": [
      "special_characters\n",
      "-special charactrer-\n",
      "              precision    recall  f1-score   support\n",
      "\n",
      "           0       0.82      0.92      0.87      1337\n",
      "           1       0.75      0.56      0.65       604\n",
      "\n",
      "    accuracy                           0.81      1941\n",
      "   macro avg       0.79      0.74      0.76      1941\n",
      "weighted avg       0.80      0.81      0.80      1941\n",
      "\n"
     ]
    },
    {
     "output_type": "display_data",
     "data": {
      "image/png": "[encoded data removed]",
      "text/plain": [
       "<Figure size 432x288 with 1 Axes>"
      ]
     },
     "metadata": {
      "needs_background": "light"
     }
    },
    {
     "output_type": "stream",
     "name": "stdout",
     "text": [
      "puntuation\n",
      "-puntuation-\n",
      "              precision    recall  f1-score   support\n",
      "\n",
      "           0       0.85      0.91      0.88      1337\n",
      "           1       0.76      0.64      0.69       604\n",
      "\n",
      "    accuracy                           0.82      1941\n",
      "   macro avg       0.80      0.77      0.79      1941\n",
      "weighted avg       0.82      0.82      0.82      1941\n",
      "\n"
     ]
    },
    {
     "output_type": "display_data",
     "data": {
      "image/png": "[encoded data removed]",
      "text/plain": [
       "<Figure size 432x288 with 1 Axes>"
      ]
     },
     "metadata": {
      "needs_background": "light"
     }
    },
    {
     "output_type": "stream",
     "name": "stdout",
     "text": [
      "puntuation_special\n",
      "-puntuation_special-\n",
      "              precision    recall  f1-score   support\n",
      "\n",
      "           0       0.85      0.91      0.88      1337\n",
      "           1       0.76      0.64      0.70       604\n",
      "\n",
      "    accuracy                           0.83      1941\n",
      "   macro avg       0.80      0.78      0.79      1941\n",
      "weighted avg       0.82      0.83      0.82      1941\n",
      "\n"
     ]
    },
    {
     "output_type": "display_data",
     "data": {
      "image/png": "[encoded data removed]",
      "text/plain": [
       "<Figure size 432x288 with 1 Axes>"
      ]
     },
     "metadata": {
      "needs_background": "light"
     }
    },
    {
     "output_type": "stream",
     "name": "stdout",
     "text": [
      "emoji_remove\n",
      "-emoji remove-\n",
      "              precision    recall  f1-score   support\n",
      "\n",
      "           0       0.82      0.92      0.87      1337\n",
      "           1       0.75      0.56      0.65       604\n",
      "\n",
      "    accuracy                           0.81      1941\n",
      "   macro avg       0.79      0.74      0.76      1941\n",
      "weighted avg       0.80      0.81      0.80      1941\n",
      "\n"
     ]
    },
    {
     "output_type": "display_data",
     "data": {
      "image/png": "[encoded data removed]",
      "text/plain": [
       "<Figure size 432x288 with 1 Axes>"
      ]
     },
     "metadata": {
      "needs_background": "light"
     }
    },
    {
     "output_type": "stream",
     "name": "stdout",
     "text": [
      "stop_word\n",
      "-stop word-\n",
      "              precision    recall  f1-score   support\n",
      "\n",
      "           0       0.82      0.92      0.87      1337\n",
      "           1       0.76      0.56      0.65       604\n",
      "\n",
      "    accuracy                           0.81      1941\n",
      "   macro avg       0.79      0.74      0.76      1941\n",
      "weighted avg       0.80      0.81      0.80      1941\n",
      "\n"
     ]
    },
    {
     "output_type": "display_data",
     "data": {
      "image/png": "[encoded data removed]",
      "text/plain": [
       "<Figure size 432x288 with 1 Axes>"
      ]
     },
     "metadata": {
      "needs_background": "light"
     }
    },
    {
     "output_type": "stream",
     "name": "stdout",
     "text": [
      "stem\n",
      "-stem-\n",
      "              precision    recall  f1-score   support\n",
      "\n",
      "           0       0.83      0.92      0.87      1337\n",
      "           1       0.77      0.59      0.67       604\n",
      "\n",
      "    accuracy                           0.82      1941\n",
      "   macro avg       0.80      0.75      0.77      1941\n",
      "weighted avg       0.81      0.82      0.81      1941\n",
      "\n"
     ]
    },
    {
     "output_type": "display_data",
     "data": {
      "image/png": "[encoded data removed]",
      "text/plain": [
       "<Figure size 432x288 with 1 Axes>"
      ]
     },
     "metadata": {
      "needs_background": "light"
     }
    },
    {
     "output_type": "stream",
     "name": "stdout",
     "text": [
      "custom_stem\n",
      "-custome stemmer-\n",
      "              precision    recall  f1-score   support\n",
      "\n",
      "           0       0.84      0.91      0.87      1337\n",
      "           1       0.74      0.61      0.67       604\n",
      "\n",
      "    accuracy                           0.81      1941\n",
      "   macro avg       0.79      0.76      0.77      1941\n",
      "weighted avg       0.81      0.81      0.81      1941\n",
      "\n"
     ]
    },
    {
     "output_type": "display_data",
     "data": {
      "image/png": "[encoded data removed]",
      "text/plain": [
       "<Figure size 432x288 with 1 Axes>"
      ]
     },
     "metadata": {
      "needs_background": "light"
     }
    },
    {
     "output_type": "display_data",
     "data": {
      "text/html": [
       "<div>\n",
       "<style scoped>\n",
       "    .dataframe tbody tr th:only-of-type {\n",
       "        vertical-align: middle;\n",
       "    }\n",
       "\n",
       "    .dataframe tbody tr th {\n",
       "        vertical-align: top;\n",
       "    }\n",
       "\n",
       "    .dataframe thead th {\n",
       "        text-align: right;\n",
       "    }\n",
       "</style>\n",
       "<table border=\"1\" class=\"dataframe\">\n",
       "  <thead>\n",
       "    <tr style=\"text-align: right;\">\n",
       "      <th></th>\n",
       "      <th>Accuracy</th>\n",
       "      <th>F1-score</th>\n",
       "      <th>Recall</th>\n",
       "      <th>Precision</th>\n",
       "      <th>AUC</th>\n",
       "    </tr>\n",
       "  </thead>\n",
       "  <tbody>\n",
       "    <tr>\n",
       "      <th>baseline</th>\n",
       "      <td>0.807316</td>\n",
       "      <td>0.647170</td>\n",
       "      <td>0.567881</td>\n",
       "      <td>0.752193</td>\n",
       "      <td>0.741682</td>\n",
       "    </tr>\n",
       "    <tr>\n",
       "      <th>seperator</th>\n",
       "      <td>0.828439</td>\n",
       "      <td>0.692521</td>\n",
       "      <td>0.620861</td>\n",
       "      <td>0.782881</td>\n",
       "      <td>0.771537</td>\n",
       "    </tr>\n",
       "    <tr>\n",
       "      <th>url</th>\n",
       "      <td>0.806801</td>\n",
       "      <td>0.645222</td>\n",
       "      <td>0.564570</td>\n",
       "      <td>0.752759</td>\n",
       "      <td>0.740400</td>\n",
       "    </tr>\n",
       "    <tr>\n",
       "      <th>mention</th>\n",
       "      <td>0.806801</td>\n",
       "      <td>0.645222</td>\n",
       "      <td>0.564570</td>\n",
       "      <td>0.752759</td>\n",
       "      <td>0.740400</td>\n",
       "    </tr>\n",
       "    <tr>\n",
       "      <th>number</th>\n",
       "      <td>0.806285</td>\n",
       "      <td>0.646617</td>\n",
       "      <td>0.569536</td>\n",
       "      <td>0.747826</td>\n",
       "      <td>0.741388</td>\n",
       "    </tr>\n",
       "    <tr>\n",
       "      <th>non_sinhala</th>\n",
       "      <td>0.806801</td>\n",
       "      <td>0.645222</td>\n",
       "      <td>0.564570</td>\n",
       "      <td>0.752759</td>\n",
       "      <td>0.740400</td>\n",
       "    </tr>\n",
       "    <tr>\n",
       "      <th>special_characters</th>\n",
       "      <td>0.806801</td>\n",
       "      <td>0.645222</td>\n",
       "      <td>0.564570</td>\n",
       "      <td>0.752759</td>\n",
       "      <td>0.740400</td>\n",
       "    </tr>\n",
       "    <tr>\n",
       "      <th>puntuation</th>\n",
       "      <td>0.824317</td>\n",
       "      <td>0.693621</td>\n",
       "      <td>0.639073</td>\n",
       "      <td>0.758350</td>\n",
       "      <td>0.773538</td>\n",
       "    </tr>\n",
       "    <tr>\n",
       "      <th>puntuation_special</th>\n",
       "      <td>0.825348</td>\n",
       "      <td>0.696509</td>\n",
       "      <td>0.644040</td>\n",
       "      <td>0.758285</td>\n",
       "      <td>0.775647</td>\n",
       "    </tr>\n",
       "    <tr>\n",
       "      <th>emoji_remove</th>\n",
       "      <td>0.807316</td>\n",
       "      <td>0.645833</td>\n",
       "      <td>0.564570</td>\n",
       "      <td>0.754425</td>\n",
       "      <td>0.740774</td>\n",
       "    </tr>\n",
       "    <tr>\n",
       "      <th>stop_word</th>\n",
       "      <td>0.808861</td>\n",
       "      <td>0.647673</td>\n",
       "      <td>0.564570</td>\n",
       "      <td>0.759465</td>\n",
       "      <td>0.741896</td>\n",
       "    </tr>\n",
       "    <tr>\n",
       "      <th>stem</th>\n",
       "      <td>0.816074</td>\n",
       "      <td>0.665417</td>\n",
       "      <td>0.587748</td>\n",
       "      <td>0.766739</td>\n",
       "      <td>0.753485</td>\n",
       "    </tr>\n",
       "    <tr>\n",
       "      <th>custom_stem</th>\n",
       "      <td>0.813498</td>\n",
       "      <td>0.670909</td>\n",
       "      <td>0.610927</td>\n",
       "      <td>0.743952</td>\n",
       "      <td>0.757969</td>\n",
       "    </tr>\n",
       "  </tbody>\n",
       "</table>\n",
       "</div>"
      ],
      "text/plain": [
       "                    Accuracy  F1-score    Recall  Precision       AUC\n",
       "baseline            0.807316  0.647170  0.567881   0.752193  0.741682\n",
       "seperator           0.828439  0.692521  0.620861   0.782881  0.771537\n",
       "url                 0.806801  0.645222  0.564570   0.752759  0.740400\n",
       "mention             0.806801  0.645222  0.564570   0.752759  0.740400\n",
       "number              0.806285  0.646617  0.569536   0.747826  0.741388\n",
       "non_sinhala         0.806801  0.645222  0.564570   0.752759  0.740400\n",
       "special_characters  0.806801  0.645222  0.564570   0.752759  0.740400\n",
       "puntuation          0.824317  0.693621  0.639073   0.758350  0.773538\n",
       "puntuation_special  0.825348  0.696509  0.644040   0.758285  0.775647\n",
       "emoji_remove        0.807316  0.645833  0.564570   0.754425  0.740774\n",
       "stop_word           0.808861  0.647673  0.564570   0.759465  0.741896\n",
       "stem                0.816074  0.665417  0.587748   0.766739  0.753485\n",
       "custom_stem         0.813498  0.670909  0.610927   0.743952  0.757969"
      ]
     },
     "metadata": {}
    }
   ],
   "metadata": {}
  },
  {
   "cell_type": "markdown",
   "source": [
    "### With combination of removing all noise+ punctuation_special and doing stemming"
   ],
   "metadata": {}
  },
  {
   "cell_type": "code",
   "execution_count": 62,
   "source": [
    "seperator = url= mention = number = non_sinhala = special_characters= puntuation =  puntuation_special = emoji_remove = stop_word =stem = custom_stem =False\r\n",
    "preprocessing_steps = [True, True,True , number , True ,True, puntuation , True, True , stop_word, stem,True ]\r\n",
    "\r\n",
    "df_clean_A_final = preprocessor(df_A,'comment',*preprocessing_steps)\r\n",
    "X_train, X_test, Y_train, Y_test = train_test_split(df_clean_A_final['cleaned'], df_clean_A_final['label'], test_size=0.3, random_state=0, stratify=df_clean_A_final['label'].values)\r\n",
    "X_train_f,X_test_f = bow_word(X_train,X_test)\r\n",
    "Y_pred = lr(X_train_f,X_test_f,Y_train)\r\n",
    "accuracy, f1_score, recall, precision, auc = utills.result(Y_test,Y_pred)\r\n",
    "final_result_A.loc[\"Final\"] = [accuracy, f1_score, recall, precision, auc]"
   ],
   "outputs": [
    {
     "output_type": "stream",
     "name": "stdout",
     "text": [
      "seperator\n",
      "-url-\n",
      "-mention-\n",
      "-non_sinhala-\n",
      "-special charactrer-\n",
      "-puntuation_special-\n",
      "-emoji remove-\n",
      "-custome stemmer-\n",
      "              precision    recall  f1-score   support\n",
      "\n",
      "           0       0.86      0.90      0.88      1337\n",
      "           1       0.75      0.66      0.71       604\n",
      "\n",
      "    accuracy                           0.83      1941\n",
      "   macro avg       0.80      0.78      0.79      1941\n",
      "weighted avg       0.82      0.83      0.82      1941\n",
      "\n"
     ]
    },
    {
     "output_type": "display_data",
     "data": {
      "image/png": "[encoded data removed]",
      "text/plain": [
       "<Figure size 432x288 with 1 Axes>"
      ]
     },
     "metadata": {
      "needs_background": "light"
     }
    }
   ],
   "metadata": {}
  },
  {
   "cell_type": "code",
   "execution_count": 63,
   "source": [
    "final_result_A"
   ],
   "outputs": [
    {
     "output_type": "execute_result",
     "data": {
      "text/html": [
       "<div>\n",
       "<style scoped>\n",
       "    .dataframe tbody tr th:only-of-type {\n",
       "        vertical-align: middle;\n",
       "    }\n",
       "\n",
       "    .dataframe tbody tr th {\n",
       "        vertical-align: top;\n",
       "    }\n",
       "\n",
       "    .dataframe thead th {\n",
       "        text-align: right;\n",
       "    }\n",
       "</style>\n",
       "<table border=\"1\" class=\"dataframe\">\n",
       "  <thead>\n",
       "    <tr style=\"text-align: right;\">\n",
       "      <th></th>\n",
       "      <th>Accuracy</th>\n",
       "      <th>F1-score</th>\n",
       "      <th>Recall</th>\n",
       "      <th>Precision</th>\n",
       "      <th>AUC</th>\n",
       "    </tr>\n",
       "  </thead>\n",
       "  <tbody>\n",
       "    <tr>\n",
       "      <th>baseline</th>\n",
       "      <td>0.807316</td>\n",
       "      <td>0.647170</td>\n",
       "      <td>0.567881</td>\n",
       "      <td>0.752193</td>\n",
       "      <td>0.741682</td>\n",
       "    </tr>\n",
       "    <tr>\n",
       "      <th>seperator</th>\n",
       "      <td>0.828439</td>\n",
       "      <td>0.692521</td>\n",
       "      <td>0.620861</td>\n",
       "      <td>0.782881</td>\n",
       "      <td>0.771537</td>\n",
       "    </tr>\n",
       "    <tr>\n",
       "      <th>url</th>\n",
       "      <td>0.806801</td>\n",
       "      <td>0.645222</td>\n",
       "      <td>0.564570</td>\n",
       "      <td>0.752759</td>\n",
       "      <td>0.740400</td>\n",
       "    </tr>\n",
       "    <tr>\n",
       "      <th>mention</th>\n",
       "      <td>0.806801</td>\n",
       "      <td>0.645222</td>\n",
       "      <td>0.564570</td>\n",
       "      <td>0.752759</td>\n",
       "      <td>0.740400</td>\n",
       "    </tr>\n",
       "    <tr>\n",
       "      <th>number</th>\n",
       "      <td>0.806285</td>\n",
       "      <td>0.646617</td>\n",
       "      <td>0.569536</td>\n",
       "      <td>0.747826</td>\n",
       "      <td>0.741388</td>\n",
       "    </tr>\n",
       "    <tr>\n",
       "      <th>non_sinhala</th>\n",
       "      <td>0.806801</td>\n",
       "      <td>0.645222</td>\n",
       "      <td>0.564570</td>\n",
       "      <td>0.752759</td>\n",
       "      <td>0.740400</td>\n",
       "    </tr>\n",
       "    <tr>\n",
       "      <th>special_characters</th>\n",
       "      <td>0.806801</td>\n",
       "      <td>0.645222</td>\n",
       "      <td>0.564570</td>\n",
       "      <td>0.752759</td>\n",
       "      <td>0.740400</td>\n",
       "    </tr>\n",
       "    <tr>\n",
       "      <th>puntuation</th>\n",
       "      <td>0.824317</td>\n",
       "      <td>0.693621</td>\n",
       "      <td>0.639073</td>\n",
       "      <td>0.758350</td>\n",
       "      <td>0.773538</td>\n",
       "    </tr>\n",
       "    <tr>\n",
       "      <th>puntuation_special</th>\n",
       "      <td>0.825348</td>\n",
       "      <td>0.696509</td>\n",
       "      <td>0.644040</td>\n",
       "      <td>0.758285</td>\n",
       "      <td>0.775647</td>\n",
       "    </tr>\n",
       "    <tr>\n",
       "      <th>emoji_remove</th>\n",
       "      <td>0.807316</td>\n",
       "      <td>0.645833</td>\n",
       "      <td>0.564570</td>\n",
       "      <td>0.754425</td>\n",
       "      <td>0.740774</td>\n",
       "    </tr>\n",
       "    <tr>\n",
       "      <th>stop_word</th>\n",
       "      <td>0.808861</td>\n",
       "      <td>0.647673</td>\n",
       "      <td>0.564570</td>\n",
       "      <td>0.759465</td>\n",
       "      <td>0.741896</td>\n",
       "    </tr>\n",
       "    <tr>\n",
       "      <th>stem</th>\n",
       "      <td>0.816074</td>\n",
       "      <td>0.665417</td>\n",
       "      <td>0.587748</td>\n",
       "      <td>0.766739</td>\n",
       "      <td>0.753485</td>\n",
       "    </tr>\n",
       "    <tr>\n",
       "      <th>custom_stem</th>\n",
       "      <td>0.813498</td>\n",
       "      <td>0.670909</td>\n",
       "      <td>0.610927</td>\n",
       "      <td>0.743952</td>\n",
       "      <td>0.757969</td>\n",
       "    </tr>\n",
       "    <tr>\n",
       "      <th>Final</th>\n",
       "      <td>0.827409</td>\n",
       "      <td>0.705365</td>\n",
       "      <td>0.663907</td>\n",
       "      <td>0.752345</td>\n",
       "      <td>0.782589</td>\n",
       "    </tr>\n",
       "  </tbody>\n",
       "</table>\n",
       "</div>"
      ],
      "text/plain": [
       "                    Accuracy  F1-score    Recall  Precision       AUC\n",
       "baseline            0.807316  0.647170  0.567881   0.752193  0.741682\n",
       "seperator           0.828439  0.692521  0.620861   0.782881  0.771537\n",
       "url                 0.806801  0.645222  0.564570   0.752759  0.740400\n",
       "mention             0.806801  0.645222  0.564570   0.752759  0.740400\n",
       "number              0.806285  0.646617  0.569536   0.747826  0.741388\n",
       "non_sinhala         0.806801  0.645222  0.564570   0.752759  0.740400\n",
       "special_characters  0.806801  0.645222  0.564570   0.752759  0.740400\n",
       "puntuation          0.824317  0.693621  0.639073   0.758350  0.773538\n",
       "puntuation_special  0.825348  0.696509  0.644040   0.758285  0.775647\n",
       "emoji_remove        0.807316  0.645833  0.564570   0.754425  0.740774\n",
       "stop_word           0.808861  0.647673  0.564570   0.759465  0.741896\n",
       "stem                0.816074  0.665417  0.587748   0.766739  0.753485\n",
       "custom_stem         0.813498  0.670909  0.610927   0.743952  0.757969\n",
       "Final               0.827409  0.705365  0.663907   0.752345  0.782589"
      ]
     },
     "metadata": {},
     "execution_count": 63
    }
   ],
   "metadata": {}
  },
  {
   "cell_type": "code",
   "execution_count": 64,
   "source": [
    "df_clean_A_final.head(n=15)"
   ],
   "outputs": [
    {
     "output_type": "execute_result",
     "data": {
      "text/html": [
       "<div>\n",
       "<style scoped>\n",
       "    .dataframe tbody tr th:only-of-type {\n",
       "        vertical-align: middle;\n",
       "    }\n",
       "\n",
       "    .dataframe tbody tr th {\n",
       "        vertical-align: top;\n",
       "    }\n",
       "\n",
       "    .dataframe thead th {\n",
       "        text-align: right;\n",
       "    }\n",
       "</style>\n",
       "<table border=\"1\" class=\"dataframe\">\n",
       "  <thead>\n",
       "    <tr style=\"text-align: right;\">\n",
       "      <th></th>\n",
       "      <th>comment</th>\n",
       "      <th>label</th>\n",
       "      <th>df</th>\n",
       "      <th>cleaned</th>\n",
       "    </tr>\n",
       "  </thead>\n",
       "  <tbody>\n",
       "    <tr>\n",
       "      <th>0</th>\n",
       "      <td>මේ වේසිට නීතිය ක්‍රියාත්මක වෙන්නෙ කවදාද ?</td>\n",
       "      <td>1</td>\n",
       "      <td>A</td>\n",
       "      <td>මේ වේසිට නීතිය ක්‍රියාත් වෙ කවදාද ?</td>\n",
       "    </tr>\n",
       "    <tr>\n",
       "      <th>1</th>\n",
       "      <td>තූ ෙනදකින්</td>\n",
       "      <td>1</td>\n",
       "      <td>A</td>\n",
       "      <td>තූ ෙනද</td>\n",
       "    </tr>\n",
       "    <tr>\n",
       "      <th>2</th>\n",
       "      <td>අම්මා ලුසීඩා කියුවම මට හිතෙන්නම ෆලූඩා කියලා. හිකිස්. ඔව් ඔව් තරුණ වයසේ ගෑණු ළමයි විවිඪ රට වලින් ආශ්‍රය කලාට කමක් නෑ. ලෙඩක් කාරියේ හදා ගත්තම තේරෙයි අප්පගේ ආදර බර පුතාට​.</td>\n",
       "      <td>0</td>\n",
       "      <td>A</td>\n",
       "      <td>අම්මා ලුසීඩ කියුව මට හිතෙන්න ෆලූඩා කියලා හිකිස ඔව් ඔව් තරුණ වයසේ ගෑණු ළමයි විවිඪ රට වලින් ආශ්‍ර කලාට කමක් නෑ ලෙඩක් කාරි හදා ගත්තම තේරෙ අප්ප ආදර බර පුතාට</td>\n",
       "    </tr>\n",
       "    <tr>\n",
       "      <th>3</th>\n",
       "      <td>දින ඒකාබද්ධ විපක්ෂයේ මාධ්‍ය ලේකම් රේණුක පෙරේරා මහතාගේ නිවේදනයට අදාාලව අමිත් වීරසිංහ කල මාධ්‍ය සාකච්ඡාව..…</td>\n",
       "      <td>0</td>\n",
       "      <td>A</td>\n",
       "      <td>දින ඒකාබද්ධ විපක්ෂ මාධ්‍ ලේකම් රේණුක පෙරේර මහත නිවේදන අදාාල අමිත් වීරසිංහ කල මාධ්‍ සාකච්ඡා</td>\n",
       "    </tr>\n",
       "    <tr>\n",
       "      <th>4</th>\n",
       "      <td>පූදින්ෙන නැතුව ඉදිං</td>\n",
       "      <td>1</td>\n",
       "      <td>A</td>\n",
       "      <td>පූදින්ෙ නැතුව ඉදිං</td>\n",
       "    </tr>\n",
       "    <tr>\n",
       "      <th>5</th>\n",
       "      <td>ඇමති පඩිය ඇතිද කියල අහුවම මේකි කියන්නේ වාහන් දෙකයි එයාට තියෙන්නේ කියලා. එතකොට අප්පටයි</td>\n",
       "      <td>1</td>\n",
       "      <td>A</td>\n",
       "      <td>ඇමති පඩිය ඇතිද කියල අහුවම මේකි කිය වාහන් දෙකයි එයාට තියෙ කියලා එතකොට අප්පට</td>\n",
       "    </tr>\n",
       "    <tr>\n",
       "      <th>6</th>\n",
       "      <td>මා හෝ ඒකාබද්ධ විපක්ෂය මගින් හෝ දැනට පවතින කිසිම පක්ෂයකින් ඡන්දයකට ඉදිරිපත් වෙනවා කියා නැ.. ඒකාබද්ධ විපක්ෂය වැනි වි…</td>\n",
       "      <td>0</td>\n",
       "      <td>A</td>\n",
       "      <td>මා හෝ ඒකාබද්ධ විපක්ෂ මගින් හෝ දැනට පවතින කිසිම පක්ෂ ඡන්ද ඉදිරිප වෙනවා කියා නැ ඒකාබද්ධ විපක්ෂ වැනි වි</td>\n",
       "    </tr>\n",
       "    <tr>\n",
       "      <th>7</th>\n",
       "      <td>උඹ එක්ක එකඟවෙන්න පුලුවන් කථාවක් තමයි අද බොලා කියලා තියෙන්නෙ...මුන්ගෙ සනුහරේම උපන් ගෙයි මරිමෝඩ හැත්තක්...මූ නීති විභාගයෙන් ලංකාවෙන්ම වැඩිම ලකුණු අරගෙන වාර්තා පිහිටුවාලු සමත් උනේ ඒත් උන්ගෙ හිතවතුන්ගෙ සියලුම නඩු වලට නීතිඥයො හොයාගෙන එන්නෙ පිටින්. ලොකු උන් වගේම පොඩි උනුත් කම්බා හොරු...මේ වසල පවුලේ සුබ සිද්දියට කාබාසිනියා කරපු මුදල් ලංකාවෙ සාවර්ධනයට යොදාගත්තා නම් ලංකාව මීට වඩා ගොඩාක් වෙනස් තැනක අද තියෙන්නෙ..තූ නෙදකින්</td>\n",
       "      <td>1</td>\n",
       "      <td>A</td>\n",
       "      <td>උඹ එක්ක එකඟවෙ පුලු කථා තමයි අද බොලා කියලා තියෙ මුන් සනුහරේ උපන් ගෙයි මරිමෝඩ හැත්ත මූ නීති විභාග ලංකාවෙන් වැඩිම ලකුණු අරගෙන වාර්ත පිහිටුවාල සමත් උනේ ඒත් උන්ගෙ හිතවතුන් සියල නඩු වලට නීතිඥය හොයාගෙ එන්නෙ පිට ලොකු උන් වගේම පොඩි උනුත් කම්බා හොරු මේ වසල පවුලේ සුබ සිද්දි කාබාසිනි කරපු මුදල් ලංකා සාවර්ධන යොදාගත්ත නම් ලංකාව මීට වඩා ගොඩා වෙනස් තැනක අද තියෙ තූ නෙද</td>\n",
       "    </tr>\n",
       "    <tr>\n",
       "      <th>8</th>\n",
       "      <td>කොළඹ යුගයේදී කියලා වෙන්න ඇති මගේ හිතේ කියන්න ඇත්තේ.... හිකිස්... ඒ පවුල හරි දැන උගත් පවුලක්නේ මචෝ</td>\n",
       "      <td>0</td>\n",
       "      <td>A</td>\n",
       "      <td>කොළඹ යුග කියලා වෙන්න ඇති මගේ හිතේ කිය ඇත්තේ හිකිස ඒ පවුල හරි දැන උගත් පවුලක්න මචෝ</td>\n",
       "    </tr>\n",
       "    <tr>\n",
       "      <th>9</th>\n",
       "      <td>කිමද මේ තරම් කොහේදෝ ඇති විදපු ගලක් හා උරන මා මිතුරු පරය?</td>\n",
       "      <td>0</td>\n",
       "      <td>A</td>\n",
       "      <td>කිමද මේ තරම් කොහේද ඇති විදපු ගලක් හා උරන මා මිතුර පරය?</td>\n",
       "    </tr>\n",
       "    <tr>\n",
       "      <th>10</th>\n",
       "      <td>අපි බෞද්ධයෝ විදිහට ස්භාව දහමටත් මනුෂ්‍යත්වයටත් ආදරේ නිසා</td>\n",
       "      <td>0</td>\n",
       "      <td>A</td>\n",
       "      <td>අපි බෞද්ධ විදිහ ස්භාව දහම මනුෂ්‍යත්ව ආදරේ නිසා</td>\n",
       "    </tr>\n",
       "    <tr>\n",
       "      <th>11</th>\n",
       "      <td>එකට බුදියගෙන ළමයි හැදුවට පස්සෙ මොන මගුලද බං..මූට ගිහින් තියෙන්නෙ රෙජිස්ටර් කරන වියදම විතරයි</td>\n",
       "      <td>0</td>\n",
       "      <td>A</td>\n",
       "      <td>එකට බුදියගෙ ළමයි හැදු පස්සෙ මොන මගුලද බං මූට ගිහ තියෙ රෙජිස්ටර කරන වියදම විතර</td>\n",
       "    </tr>\n",
       "    <tr>\n",
       "      <th>12</th>\n",
       "      <td>ගොසිප්පෝ මේවගේ අවයව වෙන්වීමකදී ගතයුතු ක්‍රියාමාර්ග හරියට දැම්මනම් මේකත් එක්ක වටිනවා නේද​? අයිස්වල දාගෙන එන්න කියුවට</td>\n",
       "      <td>0</td>\n",
       "      <td>A</td>\n",
       "      <td>ගොසිප්ප මේවගේ අවයව වෙන්වීමකද ගතයුත ක්‍රියාමාර්ග හරියට දැම්මන මේකත් එක්ක වටි නේද? අයිස දාගෙන එන්න කියු</td>\n",
       "    </tr>\n",
       "    <tr>\n",
       "      <th>13</th>\n",
       "      <td>එහෙම කොහොමද උනේ 😂😂 පරය අපිව අයින් කරල නේ 😂</td>\n",
       "      <td>0</td>\n",
       "      <td>A</td>\n",
       "      <td>එහෙම කොහොම උනේ පරය අපිව අයින් කරල නේ</td>\n",
       "    </tr>\n",
       "    <tr>\n",
       "      <th>14</th>\n",
       "      <td>ඉතිං අපිට අඩන්නද බොල කියන්නෙ...මූ හෙන මෝඩ චූන් එකක්..</td>\n",
       "      <td>0</td>\n",
       "      <td>A</td>\n",
       "      <td>ඉතිං අපිට අඩන්න බොල කිය මූ හෙන මෝඩ චූන් එකක්</td>\n",
       "    </tr>\n",
       "  </tbody>\n",
       "</table>\n",
       "</div>"
      ],
      "text/plain": [
       "                                                                                                                                                                                                                                                                                                                                                                                                                            comment  \\\n",
       "0                                                                                                                                                                                                                                                                                                                                                                                         මේ වේසිට නීතිය ක්‍රියාත්මක වෙන්නෙ කවදාද ?   \n",
       "1                                                                                                                                                                                                                                                                                                                                                                                                                        තූ ෙනදකින්   \n",
       "2                                                                                                                                                                                                                                                          අම්මා ලුසීඩා කියුවම මට හිතෙන්නම ෆලූඩා කියලා. හිකිස්. ඔව් ඔව් තරුණ වයසේ ගෑණු ළමයි විවිඪ රට වලින් ආශ්‍රය කලාට කමක් නෑ. ලෙඩක් කාරියේ හදා ගත්තම තේරෙයි අප්පගේ ආදර බර පුතාට​.   \n",
       "3                                                                                                                                                                                                                                                                                                                         දින ඒකාබද්ධ විපක්ෂයේ මාධ්‍ය ලේකම් රේණුක පෙරේරා මහතාගේ නිවේදනයට අදාාලව අමිත් වීරසිංහ කල මාධ්‍ය සාකච්ඡාව..…   \n",
       "4                                                                                                                                                                                                                                                                                                                                                                                                               පූදින්ෙන නැතුව ඉදිං   \n",
       "5                                                                                                                                                                                                                                                                                                                                             ඇමති පඩිය ඇතිද කියල අහුවම මේකි කියන්නේ වාහන් දෙකයි එයාට තියෙන්නේ කියලා. එතකොට අප්පටයි   \n",
       "6                                                                                                                                                                                                                                                                                                               මා හෝ ඒකාබද්ධ විපක්ෂය මගින් හෝ දැනට පවතින කිසිම පක්ෂයකින් ඡන්දයකට ඉදිරිපත් වෙනවා කියා නැ.. ඒකාබද්ධ විපක්ෂය වැනි වි…   \n",
       "7   උඹ එක්ක එකඟවෙන්න පුලුවන් කථාවක් තමයි අද බොලා කියලා තියෙන්නෙ...මුන්ගෙ සනුහරේම උපන් ගෙයි මරිමෝඩ හැත්තක්...මූ නීති විභාගයෙන් ලංකාවෙන්ම වැඩිම ලකුණු අරගෙන වාර්තා පිහිටුවාලු සමත් උනේ ඒත් උන්ගෙ හිතවතුන්ගෙ සියලුම නඩු වලට නීතිඥයො හොයාගෙන එන්නෙ පිටින්. ලොකු උන් වගේම පොඩි උනුත් කම්බා හොරු...මේ වසල පවුලේ සුබ සිද්දියට කාබාසිනියා කරපු මුදල් ලංකාවෙ සාවර්ධනයට යොදාගත්තා නම් ලංකාව මීට වඩා ගොඩාක් වෙනස් තැනක අද තියෙන්නෙ..තූ නෙදකින්   \n",
       "8                                                                                                                                                                                                                                                                                                                                 කොළඹ යුගයේදී කියලා වෙන්න ඇති මගේ හිතේ කියන්න ඇත්තේ.... හිකිස්... ඒ පවුල හරි දැන උගත් පවුලක්නේ මචෝ   \n",
       "9                                                                                                                                                                                                                                                                                                                                                                          කිමද මේ තරම් කොහේදෝ ඇති විදපු ගලක් හා උරන මා මිතුරු පරය?   \n",
       "10                                                                                                                                                                                                                                                                                                                                                                        අපි බෞද්ධයෝ විදිහට ස්භාව දහමටත් මනුෂ්‍යත්වයටත් ආදරේ නිසා   \n",
       "11                                                                                                                                                                                                                                                                                                                                      එකට බුදියගෙන ළමයි හැදුවට පස්සෙ මොන මගුලද බං..මූට ගිහින් තියෙන්නෙ රෙජිස්ටර් කරන වියදම විතරයි   \n",
       "12                                                                                                                                                                                                                                                                                                              ගොසිප්පෝ මේවගේ අවයව වෙන්වීමකදී ගතයුතු ක්‍රියාමාර්ග හරියට දැම්මනම් මේකත් එක්ක වටිනවා නේද​? අයිස්වල දාගෙන එන්න කියුවට   \n",
       "13                                                                                                                                                                                                                                                                                                                                                                                       එහෙම කොහොමද උනේ 😂😂 පරය අපිව අයින් කරල නේ 😂   \n",
       "14                                                                                                                                                                                                                                                                                                                                                                            ඉතිං අපිට අඩන්නද බොල කියන්නෙ...මූ හෙන මෝඩ චූන් එකක්..   \n",
       "\n",
       "    label df  \\\n",
       "0       1  A   \n",
       "1       1  A   \n",
       "2       0  A   \n",
       "3       0  A   \n",
       "4       1  A   \n",
       "5       1  A   \n",
       "6       0  A   \n",
       "7       1  A   \n",
       "8       0  A   \n",
       "9       0  A   \n",
       "10      0  A   \n",
       "11      0  A   \n",
       "12      0  A   \n",
       "13      0  A   \n",
       "14      0  A   \n",
       "\n",
       "                                                                                                                                                                                                                                                                                                                                                               cleaned  \n",
       "0                                                                                                                                                                                                                                                                                                                                  මේ වේසිට නීතිය ක්‍රියාත් වෙ කවදාද ?  \n",
       "1                                                                                                                                                                                                                                                                                                                                                               තූ ෙනද  \n",
       "2                                                                                                                                                                                                             අම්මා ලුසීඩ කියුව මට හිතෙන්න ෆලූඩා කියලා හිකිස ඔව් ඔව් තරුණ වයසේ ගෑණු ළමයි විවිඪ රට වලින් ආශ්‍ර කලාට කමක් නෑ ලෙඩක් කාරි හදා ගත්තම තේරෙ අප්ප ආදර බර පුතාට  \n",
       "3                                                                                                                                                                                                                                                                           දින ඒකාබද්ධ විපක්ෂ මාධ්‍ ලේකම් රේණුක පෙරේර මහත නිවේදන අදාාල අමිත් වීරසිංහ කල මාධ්‍ සාකච්ඡා  \n",
       "4                                                                                                                                                                                                                                                                                                                                                   පූදින්ෙ නැතුව ඉදිං  \n",
       "5                                                                                                                                                                                                                                                                                           ඇමති පඩිය ඇතිද කියල අහුවම මේකි කිය වාහන් දෙකයි එයාට තියෙ කියලා එතකොට අප්පට  \n",
       "6                                                                                                                                                                                                                                                                 මා හෝ ඒකාබද්ධ විපක්ෂ මගින් හෝ දැනට පවතින කිසිම පක්ෂ ඡන්ද ඉදිරිප වෙනවා කියා නැ ඒකාබද්ධ විපක්ෂ වැනි වි  \n",
       "7   උඹ එක්ක එකඟවෙ පුලු කථා තමයි අද බොලා කියලා තියෙ මුන් සනුහරේ උපන් ගෙයි මරිමෝඩ හැත්ත මූ නීති විභාග ලංකාවෙන් වැඩිම ලකුණු අරගෙන වාර්ත පිහිටුවාල සමත් උනේ ඒත් උන්ගෙ හිතවතුන් සියල නඩු වලට නීතිඥය හොයාගෙ එන්නෙ පිට ලොකු උන් වගේම පොඩි උනුත් කම්බා හොරු මේ වසල පවුලේ සුබ සිද්දි කාබාසිනි කරපු මුදල් ලංකා සාවර්ධන යොදාගත්ත නම් ලංකාව මීට වඩා ගොඩා වෙනස් තැනක අද තියෙ තූ නෙද  \n",
       "8                                                                                                                                                                                                                                                                                    කොළඹ යුග කියලා වෙන්න ඇති මගේ හිතේ කිය ඇත්තේ හිකිස ඒ පවුල හරි දැන උගත් පවුලක්න මචෝ  \n",
       "9                                                                                                                                                                                                                                                                                                               කිමද මේ තරම් කොහේද ඇති විදපු ගලක් හා උරන මා මිතුර පරය?  \n",
       "10                                                                                                                                                                                                                                                                                                                     අපි බෞද්ධ විදිහ ස්භාව දහම මනුෂ්‍යත්ව ආදරේ නිසා  \n",
       "11                                                                                                                                                                                                                                                                                       එකට බුදියගෙ ළමයි හැදු පස්සෙ මොන මගුලද බං මූට ගිහ තියෙ රෙජිස්ටර කරන වියදම විතර  \n",
       "12                                                                                                                                                                                                                                                               ගොසිප්ප මේවගේ අවයව වෙන්වීමකද ගතයුත ක්‍රියාමාර්ග හරියට දැම්මන මේකත් එක්ක වටි නේද? අයිස දාගෙන එන්න කියු  \n",
       "13                                                                                                                                                                                                                                                                                                                                එහෙම කොහොම උනේ පරය අපිව අයින් කරල නේ  \n",
       "14                                                                                                                                                                                                                                                                                                                        ඉතිං අපිට අඩන්න බොල කිය මූ හෙන මෝඩ චූන් එකක්  "
      ]
     },
     "metadata": {},
     "execution_count": 64
    }
   ],
   "metadata": {}
  },
  {
   "cell_type": "markdown",
   "source": [
    "## Kaggle dataset preproceeing evaluation"
   ],
   "metadata": {}
  },
  {
   "cell_type": "code",
   "execution_count": 65,
   "source": [
    "df_B.head()"
   ],
   "outputs": [
    {
     "output_type": "execute_result",
     "data": {
      "text/html": [
       "<div>\n",
       "<style scoped>\n",
       "    .dataframe tbody tr th:only-of-type {\n",
       "        vertical-align: middle;\n",
       "    }\n",
       "\n",
       "    .dataframe tbody tr th {\n",
       "        vertical-align: top;\n",
       "    }\n",
       "\n",
       "    .dataframe thead th {\n",
       "        text-align: right;\n",
       "    }\n",
       "</style>\n",
       "<table border=\"1\" class=\"dataframe\">\n",
       "  <thead>\n",
       "    <tr style=\"text-align: right;\">\n",
       "      <th></th>\n",
       "      <th>comment</th>\n",
       "      <th>label</th>\n",
       "      <th>df</th>\n",
       "    </tr>\n",
       "  </thead>\n",
       "  <tbody>\n",
       "    <tr>\n",
       "      <th>0</th>\n",
       "      <td>`හුදෙකලා´ එකේ `ද´ ඇහෙනවද කාටහරි</td>\n",
       "      <td>0</td>\n",
       "      <td>B</td>\n",
       "    </tr>\n",
       "    <tr>\n",
       "      <th>1</th>\n",
       "      <td>18ක පෙනුමක් තියෙන්නේ</td>\n",
       "      <td>0</td>\n",
       "      <td>B</td>\n",
       "    </tr>\n",
       "    <tr>\n",
       "      <th>2</th>\n",
       "      <td>2020 එනවා කිව්නාට මෙහෙම එයි කියලා හිතුවේ නෑ පට්ට</td>\n",
       "      <td>0</td>\n",
       "      <td>B</td>\n",
       "    </tr>\n",
       "    <tr>\n",
       "      <th>3</th>\n",
       "      <td>25 කැල්ල..හම්මෝ..</td>\n",
       "      <td>0</td>\n",
       "      <td>B</td>\n",
       "    </tr>\n",
       "    <tr>\n",
       "      <th>4</th>\n",
       "      <td>25 කෙල්ල අයියලගෙ කාලද කොහෙද ඉන්නෙ</td>\n",
       "      <td>1</td>\n",
       "      <td>B</td>\n",
       "    </tr>\n",
       "  </tbody>\n",
       "</table>\n",
       "</div>"
      ],
      "text/plain": [
       "                                            comment  label df\n",
       "0                   `හුදෙකලා´ එකේ `ද´ ඇහෙනවද කාටහරි      0  B\n",
       "1                             18ක පෙනුමක් තියෙන්නේ       0  B\n",
       "2  2020 එනවා කිව්නාට මෙහෙම එයි කියලා හිතුවේ නෑ පට්ට      0  B\n",
       "3                                 25 කැල්ල..හම්මෝ..      0  B\n",
       "4                 25 කෙල්ල අයියලගෙ කාලද කොහෙද ඉන්නෙ      1  B"
      ]
     },
     "metadata": {},
     "execution_count": 65
    }
   ],
   "metadata": {}
  },
  {
   "cell_type": "markdown",
   "source": [
    "### Mutual exclusive evaluation for dataset B"
   ],
   "metadata": {}
  },
  {
   "cell_type": "code",
   "execution_count": 66,
   "source": [
    "seperator = url= mention = number = non_sinhala = special_characters= puntuation =  puntuation_special = emoji_remove = stop_word =stem = custom_stem =False\r\n",
    "preprocessing_steps = [seperator, url,mention , number , non_sinhala ,special_characters, puntuation , puntuation_special ,emoji_remove , stop_word, stem,custom_stem ]\r\n",
    "final_result_B,df_cleaned_B = check_preprocessing(df_B)"
   ],
   "outputs": [
    {
     "output_type": "stream",
     "name": "stdout",
     "text": [
      "baseline\n",
      "              precision    recall  f1-score   support\n",
      "\n",
      "           0       0.78      0.87      0.82       867\n",
      "           1       0.88      0.79      0.83      1037\n",
      "\n",
      "    accuracy                           0.83      1904\n",
      "   macro avg       0.83      0.83      0.83      1904\n",
      "weighted avg       0.83      0.83      0.83      1904\n",
      "\n"
     ]
    },
    {
     "output_type": "display_data",
     "data": {
      "image/png": "[encoded data removed]",
      "text/plain": [
       "<Figure size 432x288 with 1 Axes>"
      ]
     },
     "metadata": {
      "needs_background": "light"
     }
    },
    {
     "output_type": "stream",
     "name": "stdout",
     "text": [
      "seperator\n",
      "seperator\n",
      "              precision    recall  f1-score   support\n",
      "\n",
      "           0       0.79      0.88      0.83       867\n",
      "           1       0.88      0.80      0.84      1037\n",
      "\n",
      "    accuracy                           0.84      1904\n",
      "   macro avg       0.84      0.84      0.83      1904\n",
      "weighted avg       0.84      0.84      0.84      1904\n",
      "\n"
     ]
    },
    {
     "output_type": "display_data",
     "data": {
      "image/png": "[encoded data removed]",
      "text/plain": [
       "<Figure size 432x288 with 1 Axes>"
      ]
     },
     "metadata": {
      "needs_background": "light"
     }
    },
    {
     "output_type": "stream",
     "name": "stdout",
     "text": [
      "url\n",
      "-url-\n",
      "              precision    recall  f1-score   support\n",
      "\n",
      "           0       0.78      0.87      0.82       867\n",
      "           1       0.88      0.80      0.84      1037\n",
      "\n",
      "    accuracy                           0.83      1904\n",
      "   macro avg       0.83      0.83      0.83      1904\n",
      "weighted avg       0.83      0.83      0.83      1904\n",
      "\n"
     ]
    },
    {
     "output_type": "display_data",
     "data": {
      "image/png": "[encoded data removed]",
      "text/plain": [
       "<Figure size 432x288 with 1 Axes>"
      ]
     },
     "metadata": {
      "needs_background": "light"
     }
    },
    {
     "output_type": "stream",
     "name": "stdout",
     "text": [
      "mention\n",
      "-mention-\n",
      "              precision    recall  f1-score   support\n",
      "\n",
      "           0       0.78      0.87      0.82       867\n",
      "           1       0.88      0.80      0.84      1037\n",
      "\n",
      "    accuracy                           0.83      1904\n",
      "   macro avg       0.83      0.83      0.83      1904\n",
      "weighted avg       0.83      0.83      0.83      1904\n",
      "\n"
     ]
    },
    {
     "output_type": "display_data",
     "data": {
      "image/png": "[encoded data removed]",
      "text/plain": [
       "<Figure size 432x288 with 1 Axes>"
      ]
     },
     "metadata": {
      "needs_background": "light"
     }
    },
    {
     "output_type": "stream",
     "name": "stdout",
     "text": [
      "number\n",
      "-number-\n",
      "              precision    recall  f1-score   support\n",
      "\n",
      "           0       0.78      0.87      0.82       867\n",
      "           1       0.88      0.79      0.83      1037\n",
      "\n",
      "    accuracy                           0.83      1904\n",
      "   macro avg       0.83      0.83      0.83      1904\n",
      "weighted avg       0.83      0.83      0.83      1904\n",
      "\n"
     ]
    },
    {
     "output_type": "display_data",
     "data": {
      "image/png": "[encoded data removed]",
      "text/plain": [
       "<Figure size 432x288 with 1 Axes>"
      ]
     },
     "metadata": {
      "needs_background": "light"
     }
    },
    {
     "output_type": "stream",
     "name": "stdout",
     "text": [
      "non_sinhala\n",
      "-non_sinhala-\n",
      "              precision    recall  f1-score   support\n",
      "\n",
      "           0       0.78      0.87      0.82       867\n",
      "           1       0.88      0.80      0.83      1037\n",
      "\n",
      "    accuracy                           0.83      1904\n",
      "   macro avg       0.83      0.83      0.83      1904\n",
      "weighted avg       0.83      0.83      0.83      1904\n",
      "\n"
     ]
    },
    {
     "output_type": "display_data",
     "data": {
      "image/png": "[encoded data removed]",
      "text/plain": [
       "<Figure size 432x288 with 1 Axes>"
      ]
     },
     "metadata": {
      "needs_background": "light"
     }
    },
    {
     "output_type": "stream",
     "name": "stdout",
     "text": [
      "special_characters\n",
      "-special charactrer-\n",
      "              precision    recall  f1-score   support\n",
      "\n",
      "           0       0.78      0.87      0.82       867\n",
      "           1       0.88      0.80      0.84      1037\n",
      "\n",
      "    accuracy                           0.83      1904\n",
      "   macro avg       0.83      0.83      0.83      1904\n",
      "weighted avg       0.83      0.83      0.83      1904\n",
      "\n"
     ]
    },
    {
     "output_type": "display_data",
     "data": {
      "image/png": "[encoded data removed]",
      "text/plain": [
       "<Figure size 432x288 with 1 Axes>"
      ]
     },
     "metadata": {
      "needs_background": "light"
     }
    },
    {
     "output_type": "stream",
     "name": "stdout",
     "text": [
      "puntuation\n",
      "-puntuation-\n",
      "              precision    recall  f1-score   support\n",
      "\n",
      "           0       0.80      0.87      0.83       867\n",
      "           1       0.88      0.81      0.85      1037\n",
      "\n",
      "    accuracy                           0.84      1904\n",
      "   macro avg       0.84      0.84      0.84      1904\n",
      "weighted avg       0.84      0.84      0.84      1904\n",
      "\n"
     ]
    },
    {
     "output_type": "display_data",
     "data": {
      "image/png": "[encoded data removed]",
      "text/plain": [
       "<Figure size 432x288 with 1 Axes>"
      ]
     },
     "metadata": {
      "needs_background": "light"
     }
    },
    {
     "output_type": "stream",
     "name": "stdout",
     "text": [
      "puntuation_special\n",
      "-puntuation_special-\n",
      "              precision    recall  f1-score   support\n",
      "\n",
      "           0       0.80      0.87      0.83       867\n",
      "           1       0.89      0.81      0.85      1037\n",
      "\n",
      "    accuracy                           0.84      1904\n",
      "   macro avg       0.84      0.84      0.84      1904\n",
      "weighted avg       0.85      0.84      0.84      1904\n",
      "\n"
     ]
    },
    {
     "output_type": "display_data",
     "data": {
      "image/png": "[encoded data removed]",
      "text/plain": [
       "<Figure size 432x288 with 1 Axes>"
      ]
     },
     "metadata": {
      "needs_background": "light"
     }
    },
    {
     "output_type": "stream",
     "name": "stdout",
     "text": [
      "emoji_remove\n",
      "-emoji remove-\n",
      "              precision    recall  f1-score   support\n",
      "\n",
      "           0       0.78      0.87      0.82       867\n",
      "           1       0.88      0.80      0.84      1037\n",
      "\n",
      "    accuracy                           0.83      1904\n",
      "   macro avg       0.83      0.83      0.83      1904\n",
      "weighted avg       0.83      0.83      0.83      1904\n",
      "\n"
     ]
    },
    {
     "output_type": "display_data",
     "data": {
      "image/png": "[encoded data removed]",
      "text/plain": [
       "<Figure size 432x288 with 1 Axes>"
      ]
     },
     "metadata": {
      "needs_background": "light"
     }
    },
    {
     "output_type": "stream",
     "name": "stdout",
     "text": [
      "stop_word\n",
      "-stop word-\n",
      "              precision    recall  f1-score   support\n",
      "\n",
      "           0       0.78      0.88      0.83       867\n",
      "           1       0.89      0.79      0.83      1037\n",
      "\n",
      "    accuracy                           0.83      1904\n",
      "   macro avg       0.83      0.83      0.83      1904\n",
      "weighted avg       0.84      0.83      0.83      1904\n",
      "\n"
     ]
    },
    {
     "output_type": "display_data",
     "data": {
      "image/png": "[encoded data removed]",
      "text/plain": [
       "<Figure size 432x288 with 1 Axes>"
      ]
     },
     "metadata": {
      "needs_background": "light"
     }
    },
    {
     "output_type": "stream",
     "name": "stdout",
     "text": [
      "stem\n",
      "-stem-\n",
      "              precision    recall  f1-score   support\n",
      "\n",
      "           0       0.78      0.86      0.82       867\n",
      "           1       0.87      0.80      0.83      1037\n",
      "\n",
      "    accuracy                           0.83      1904\n",
      "   macro avg       0.83      0.83      0.83      1904\n",
      "weighted avg       0.83      0.83      0.83      1904\n",
      "\n"
     ]
    },
    {
     "output_type": "display_data",
     "data": {
      "image/png": "[encoded data removed]",
      "text/plain": [
       "<Figure size 432x288 with 1 Axes>"
      ]
     },
     "metadata": {
      "needs_background": "light"
     }
    },
    {
     "output_type": "stream",
     "name": "stdout",
     "text": [
      "custom_stem\n",
      "-custome stemmer-\n",
      "              precision    recall  f1-score   support\n",
      "\n",
      "           0       0.80      0.88      0.83       867\n",
      "           1       0.89      0.81      0.85      1037\n",
      "\n",
      "    accuracy                           0.84      1904\n",
      "   macro avg       0.84      0.84      0.84      1904\n",
      "weighted avg       0.85      0.84      0.84      1904\n",
      "\n"
     ]
    },
    {
     "output_type": "display_data",
     "data": {
      "image/png": "[encoded data removed]",
      "text/plain": [
       "<Figure size 432x288 with 1 Axes>"
      ]
     },
     "metadata": {
      "needs_background": "light"
     }
    },
    {
     "output_type": "display_data",
     "data": {
      "text/html": [
       "<div>\n",
       "<style scoped>\n",
       "    .dataframe tbody tr th:only-of-type {\n",
       "        vertical-align: middle;\n",
       "    }\n",
       "\n",
       "    .dataframe tbody tr th {\n",
       "        vertical-align: top;\n",
       "    }\n",
       "\n",
       "    .dataframe thead th {\n",
       "        text-align: right;\n",
       "    }\n",
       "</style>\n",
       "<table border=\"1\" class=\"dataframe\">\n",
       "  <thead>\n",
       "    <tr style=\"text-align: right;\">\n",
       "      <th></th>\n",
       "      <th>Accuracy</th>\n",
       "      <th>F1-score</th>\n",
       "      <th>Recall</th>\n",
       "      <th>Precision</th>\n",
       "      <th>AUC</th>\n",
       "    </tr>\n",
       "  </thead>\n",
       "  <tbody>\n",
       "    <tr>\n",
       "      <th>baseline</th>\n",
       "      <td>0.827731</td>\n",
       "      <td>0.834008</td>\n",
       "      <td>0.794600</td>\n",
       "      <td>0.877529</td>\n",
       "      <td>0.830979</td>\n",
       "    </tr>\n",
       "    <tr>\n",
       "      <th>seperator</th>\n",
       "      <td>0.835084</td>\n",
       "      <td>0.841093</td>\n",
       "      <td>0.801350</td>\n",
       "      <td>0.884984</td>\n",
       "      <td>0.838391</td>\n",
       "    </tr>\n",
       "    <tr>\n",
       "      <th>url</th>\n",
       "      <td>0.829832</td>\n",
       "      <td>0.836198</td>\n",
       "      <td>0.797493</td>\n",
       "      <td>0.878852</td>\n",
       "      <td>0.833002</td>\n",
       "    </tr>\n",
       "    <tr>\n",
       "      <th>mention</th>\n",
       "      <td>0.829832</td>\n",
       "      <td>0.836198</td>\n",
       "      <td>0.797493</td>\n",
       "      <td>0.878852</td>\n",
       "      <td>0.833002</td>\n",
       "    </tr>\n",
       "    <tr>\n",
       "      <th>number</th>\n",
       "      <td>0.825630</td>\n",
       "      <td>0.831984</td>\n",
       "      <td>0.792671</td>\n",
       "      <td>0.875399</td>\n",
       "      <td>0.828862</td>\n",
       "    </tr>\n",
       "    <tr>\n",
       "      <th>non_sinhala</th>\n",
       "      <td>0.827731</td>\n",
       "      <td>0.834176</td>\n",
       "      <td>0.795564</td>\n",
       "      <td>0.876727</td>\n",
       "      <td>0.830885</td>\n",
       "    </tr>\n",
       "    <tr>\n",
       "      <th>special_characters</th>\n",
       "      <td>0.829832</td>\n",
       "      <td>0.836198</td>\n",
       "      <td>0.797493</td>\n",
       "      <td>0.878852</td>\n",
       "      <td>0.833002</td>\n",
       "    </tr>\n",
       "    <tr>\n",
       "      <th>puntuation</th>\n",
       "      <td>0.840336</td>\n",
       "      <td>0.847236</td>\n",
       "      <td>0.812922</td>\n",
       "      <td>0.884575</td>\n",
       "      <td>0.843024</td>\n",
       "    </tr>\n",
       "    <tr>\n",
       "      <th>puntuation_special</th>\n",
       "      <td>0.841912</td>\n",
       "      <td>0.848820</td>\n",
       "      <td>0.814851</td>\n",
       "      <td>0.885744</td>\n",
       "      <td>0.844565</td>\n",
       "    </tr>\n",
       "    <tr>\n",
       "      <th>emoji_remove</th>\n",
       "      <td>0.829832</td>\n",
       "      <td>0.836198</td>\n",
       "      <td>0.797493</td>\n",
       "      <td>0.878852</td>\n",
       "      <td>0.833002</td>\n",
       "    </tr>\n",
       "    <tr>\n",
       "      <th>stop_word</th>\n",
       "      <td>0.830357</td>\n",
       "      <td>0.834951</td>\n",
       "      <td>0.787850</td>\n",
       "      <td>0.888043</td>\n",
       "      <td>0.834525</td>\n",
       "    </tr>\n",
       "    <tr>\n",
       "      <th>stem</th>\n",
       "      <td>0.826155</td>\n",
       "      <td>0.833249</td>\n",
       "      <td>0.797493</td>\n",
       "      <td>0.872363</td>\n",
       "      <td>0.828966</td>\n",
       "    </tr>\n",
       "    <tr>\n",
       "      <th>custom_stem</th>\n",
       "      <td>0.841387</td>\n",
       "      <td>0.847936</td>\n",
       "      <td>0.811958</td>\n",
       "      <td>0.887250</td>\n",
       "      <td>0.844272</td>\n",
       "    </tr>\n",
       "  </tbody>\n",
       "</table>\n",
       "</div>"
      ],
      "text/plain": [
       "                    Accuracy  F1-score    Recall  Precision       AUC\n",
       "baseline            0.827731  0.834008  0.794600   0.877529  0.830979\n",
       "seperator           0.835084  0.841093  0.801350   0.884984  0.838391\n",
       "url                 0.829832  0.836198  0.797493   0.878852  0.833002\n",
       "mention             0.829832  0.836198  0.797493   0.878852  0.833002\n",
       "number              0.825630  0.831984  0.792671   0.875399  0.828862\n",
       "non_sinhala         0.827731  0.834176  0.795564   0.876727  0.830885\n",
       "special_characters  0.829832  0.836198  0.797493   0.878852  0.833002\n",
       "puntuation          0.840336  0.847236  0.812922   0.884575  0.843024\n",
       "puntuation_special  0.841912  0.848820  0.814851   0.885744  0.844565\n",
       "emoji_remove        0.829832  0.836198  0.797493   0.878852  0.833002\n",
       "stop_word           0.830357  0.834951  0.787850   0.888043  0.834525\n",
       "stem                0.826155  0.833249  0.797493   0.872363  0.828966\n",
       "custom_stem         0.841387  0.847936  0.811958   0.887250  0.844272"
      ]
     },
     "metadata": {}
    }
   ],
   "metadata": {}
  },
  {
   "cell_type": "code",
   "execution_count": 50,
   "source": [
    "df_cleaned_B.head()"
   ],
   "outputs": [
    {
     "output_type": "execute_result",
     "data": {
      "text/html": [
       "<div>\n",
       "<style scoped>\n",
       "    .dataframe tbody tr th:only-of-type {\n",
       "        vertical-align: middle;\n",
       "    }\n",
       "\n",
       "    .dataframe tbody tr th {\n",
       "        vertical-align: top;\n",
       "    }\n",
       "\n",
       "    .dataframe thead th {\n",
       "        text-align: right;\n",
       "    }\n",
       "</style>\n",
       "<table border=\"1\" class=\"dataframe\">\n",
       "  <thead>\n",
       "    <tr style=\"text-align: right;\">\n",
       "      <th></th>\n",
       "      <th>comment</th>\n",
       "      <th>label</th>\n",
       "      <th>df</th>\n",
       "      <th>cleaned</th>\n",
       "    </tr>\n",
       "  </thead>\n",
       "  <tbody>\n",
       "    <tr>\n",
       "      <th>0</th>\n",
       "      <td>`හුදෙකලා´ එකේ `ද´ ඇහෙනවද කාටහරි</td>\n",
       "      <td>0</td>\n",
       "      <td>B</td>\n",
       "      <td>`හුදෙකලා´ එ `ද´ ඇහෙන කාටහරි</td>\n",
       "    </tr>\n",
       "    <tr>\n",
       "      <th>1</th>\n",
       "      <td>18ක පෙනුමක් තියෙන්නේ</td>\n",
       "      <td>0</td>\n",
       "      <td>B</td>\n",
       "      <td>18ක පෙන තියෙ</td>\n",
       "    </tr>\n",
       "    <tr>\n",
       "      <th>2</th>\n",
       "      <td>2020 එනවා කිව්නාට මෙහෙම එයි කියලා හිතුවේ නෑ පට්ට</td>\n",
       "      <td>0</td>\n",
       "      <td>B</td>\n",
       "      <td>2020 එ කිව්න මෙහෙ එ කිය හිත නෑ පට්</td>\n",
       "    </tr>\n",
       "    <tr>\n",
       "      <th>3</th>\n",
       "      <td>25 කැල්ල..හම්මෝ..</td>\n",
       "      <td>0</td>\n",
       "      <td>B</td>\n",
       "      <td>25 කැල්ල..හම්මෝ..</td>\n",
       "    </tr>\n",
       "    <tr>\n",
       "      <th>4</th>\n",
       "      <td>25 කෙල්ල අයියලගෙ කාලද කොහෙද ඉන්නෙ</td>\n",
       "      <td>1</td>\n",
       "      <td>B</td>\n",
       "      <td>25 කෙල් අයියල කාල කොහෙ ඉ</td>\n",
       "    </tr>\n",
       "  </tbody>\n",
       "</table>\n",
       "</div>"
      ],
      "text/plain": [
       "                                            comment  label df  \\\n",
       "0                   `හුදෙකලා´ එකේ `ද´ ඇහෙනවද කාටහරි      0  B   \n",
       "1                             18ක පෙනුමක් තියෙන්නේ       0  B   \n",
       "2  2020 එනවා කිව්නාට මෙහෙම එයි කියලා හිතුවේ නෑ පට්ට      0  B   \n",
       "3                                 25 කැල්ල..හම්මෝ..      0  B   \n",
       "4                 25 කෙල්ල අයියලගෙ කාලද කොහෙද ඉන්නෙ      1  B   \n",
       "\n",
       "                              cleaned  \n",
       "0         `හුදෙකලා´ එ `ද´ ඇහෙන කාටහරි  \n",
       "1                        18ක පෙන තියෙ  \n",
       "2  2020 එ කිව්න මෙහෙ එ කිය හිත නෑ පට්  \n",
       "3                   25 කැල්ල..හම්මෝ..  \n",
       "4            25 කෙල් අයියල කාල කොහෙ ඉ  "
      ]
     },
     "metadata": {},
     "execution_count": 50
    }
   ],
   "metadata": {}
  },
  {
   "cell_type": "markdown",
   "source": [
    "### Best performed combination removing number, emoji, puctuation"
   ],
   "metadata": {}
  },
  {
   "cell_type": "code",
   "execution_count": 73,
   "source": [
    "seperator = url= mention = number = non_sinhala = special_characters= puntuation =  puntuation_special = emoji_remove = stop_word =stem = custom_stem =False\r\n",
    "preprocessing_steps = [True, True,True , number , True ,True, puntuation , True ,True, stop_word, stem,True ]\r\n",
    "df_clean_B_final = preprocessor(df_B,'comment',*preprocessing_steps)\r\n",
    "X_train, X_test, Y_train, Y_test = train_test_split(df_clean_B_final['cleaned'], df_clean_B_final['label'], test_size=0.3, random_state=0, stratify=df_clean_B_final['label'].values)\r\n",
    "X_train_f,X_test_f = bow_word(X_train,X_test)\r\n",
    "Y_pred = lr(X_train_f,X_test_f,Y_train)\r\n",
    "accuracy, f1_score, recall, precision, auc = utills.result(Y_test,Y_pred)\r\n",
    "final_result_B.loc[\"Final\"] = [accuracy, f1_score, recall, precision, auc]"
   ],
   "outputs": [
    {
     "output_type": "stream",
     "name": "stdout",
     "text": [
      "seperator\n",
      "-url-\n",
      "-mention-\n",
      "-non_sinhala-\n",
      "-special charactrer-\n",
      "-puntuation_special-\n",
      "-emoji remove-\n",
      "-custome stemmer-\n",
      "              precision    recall  f1-score   support\n",
      "\n",
      "           0       0.81      0.88      0.84       867\n",
      "           1       0.89      0.82      0.86      1037\n",
      "\n",
      "    accuracy                           0.85      1904\n",
      "   macro avg       0.85      0.85      0.85      1904\n",
      "weighted avg       0.85      0.85      0.85      1904\n",
      "\n"
     ]
    },
    {
     "output_type": "display_data",
     "data": {
      "image/png": "[encoded data removed]",
      "text/plain": [
       "<Figure size 432x288 with 1 Axes>"
      ]
     },
     "metadata": {
      "needs_background": "light"
     }
    }
   ],
   "metadata": {}
  },
  {
   "cell_type": "code",
   "execution_count": 74,
   "source": [
    "final_result_B"
   ],
   "outputs": [
    {
     "output_type": "execute_result",
     "data": {
      "text/html": [
       "<div>\n",
       "<style scoped>\n",
       "    .dataframe tbody tr th:only-of-type {\n",
       "        vertical-align: middle;\n",
       "    }\n",
       "\n",
       "    .dataframe tbody tr th {\n",
       "        vertical-align: top;\n",
       "    }\n",
       "\n",
       "    .dataframe thead th {\n",
       "        text-align: right;\n",
       "    }\n",
       "</style>\n",
       "<table border=\"1\" class=\"dataframe\">\n",
       "  <thead>\n",
       "    <tr style=\"text-align: right;\">\n",
       "      <th></th>\n",
       "      <th>Accuracy</th>\n",
       "      <th>F1-score</th>\n",
       "      <th>Recall</th>\n",
       "      <th>Precision</th>\n",
       "      <th>AUC</th>\n",
       "    </tr>\n",
       "  </thead>\n",
       "  <tbody>\n",
       "    <tr>\n",
       "      <th>baseline</th>\n",
       "      <td>0.827731</td>\n",
       "      <td>0.834008</td>\n",
       "      <td>0.794600</td>\n",
       "      <td>0.877529</td>\n",
       "      <td>0.830979</td>\n",
       "    </tr>\n",
       "    <tr>\n",
       "      <th>seperator</th>\n",
       "      <td>0.835084</td>\n",
       "      <td>0.841093</td>\n",
       "      <td>0.801350</td>\n",
       "      <td>0.884984</td>\n",
       "      <td>0.838391</td>\n",
       "    </tr>\n",
       "    <tr>\n",
       "      <th>url</th>\n",
       "      <td>0.829832</td>\n",
       "      <td>0.836198</td>\n",
       "      <td>0.797493</td>\n",
       "      <td>0.878852</td>\n",
       "      <td>0.833002</td>\n",
       "    </tr>\n",
       "    <tr>\n",
       "      <th>mention</th>\n",
       "      <td>0.829832</td>\n",
       "      <td>0.836198</td>\n",
       "      <td>0.797493</td>\n",
       "      <td>0.878852</td>\n",
       "      <td>0.833002</td>\n",
       "    </tr>\n",
       "    <tr>\n",
       "      <th>number</th>\n",
       "      <td>0.825630</td>\n",
       "      <td>0.831984</td>\n",
       "      <td>0.792671</td>\n",
       "      <td>0.875399</td>\n",
       "      <td>0.828862</td>\n",
       "    </tr>\n",
       "    <tr>\n",
       "      <th>non_sinhala</th>\n",
       "      <td>0.827731</td>\n",
       "      <td>0.834176</td>\n",
       "      <td>0.795564</td>\n",
       "      <td>0.876727</td>\n",
       "      <td>0.830885</td>\n",
       "    </tr>\n",
       "    <tr>\n",
       "      <th>special_characters</th>\n",
       "      <td>0.829832</td>\n",
       "      <td>0.836198</td>\n",
       "      <td>0.797493</td>\n",
       "      <td>0.878852</td>\n",
       "      <td>0.833002</td>\n",
       "    </tr>\n",
       "    <tr>\n",
       "      <th>puntuation</th>\n",
       "      <td>0.840336</td>\n",
       "      <td>0.847236</td>\n",
       "      <td>0.812922</td>\n",
       "      <td>0.884575</td>\n",
       "      <td>0.843024</td>\n",
       "    </tr>\n",
       "    <tr>\n",
       "      <th>puntuation_special</th>\n",
       "      <td>0.841912</td>\n",
       "      <td>0.848820</td>\n",
       "      <td>0.814851</td>\n",
       "      <td>0.885744</td>\n",
       "      <td>0.844565</td>\n",
       "    </tr>\n",
       "    <tr>\n",
       "      <th>emoji_remove</th>\n",
       "      <td>0.829832</td>\n",
       "      <td>0.836198</td>\n",
       "      <td>0.797493</td>\n",
       "      <td>0.878852</td>\n",
       "      <td>0.833002</td>\n",
       "    </tr>\n",
       "    <tr>\n",
       "      <th>stop_word</th>\n",
       "      <td>0.830357</td>\n",
       "      <td>0.834951</td>\n",
       "      <td>0.787850</td>\n",
       "      <td>0.888043</td>\n",
       "      <td>0.834525</td>\n",
       "    </tr>\n",
       "    <tr>\n",
       "      <th>stem</th>\n",
       "      <td>0.826155</td>\n",
       "      <td>0.833249</td>\n",
       "      <td>0.797493</td>\n",
       "      <td>0.872363</td>\n",
       "      <td>0.828966</td>\n",
       "    </tr>\n",
       "    <tr>\n",
       "      <th>custom_stem</th>\n",
       "      <td>0.841387</td>\n",
       "      <td>0.847936</td>\n",
       "      <td>0.811958</td>\n",
       "      <td>0.887250</td>\n",
       "      <td>0.844272</td>\n",
       "    </tr>\n",
       "    <tr>\n",
       "      <th>Final</th>\n",
       "      <td>0.849265</td>\n",
       "      <td>0.855996</td>\n",
       "      <td>0.822565</td>\n",
       "      <td>0.892259</td>\n",
       "      <td>0.851882</td>\n",
       "    </tr>\n",
       "  </tbody>\n",
       "</table>\n",
       "</div>"
      ],
      "text/plain": [
       "                    Accuracy  F1-score    Recall  Precision       AUC\n",
       "baseline            0.827731  0.834008  0.794600   0.877529  0.830979\n",
       "seperator           0.835084  0.841093  0.801350   0.884984  0.838391\n",
       "url                 0.829832  0.836198  0.797493   0.878852  0.833002\n",
       "mention             0.829832  0.836198  0.797493   0.878852  0.833002\n",
       "number              0.825630  0.831984  0.792671   0.875399  0.828862\n",
       "non_sinhala         0.827731  0.834176  0.795564   0.876727  0.830885\n",
       "special_characters  0.829832  0.836198  0.797493   0.878852  0.833002\n",
       "puntuation          0.840336  0.847236  0.812922   0.884575  0.843024\n",
       "puntuation_special  0.841912  0.848820  0.814851   0.885744  0.844565\n",
       "emoji_remove        0.829832  0.836198  0.797493   0.878852  0.833002\n",
       "stop_word           0.830357  0.834951  0.787850   0.888043  0.834525\n",
       "stem                0.826155  0.833249  0.797493   0.872363  0.828966\n",
       "custom_stem         0.841387  0.847936  0.811958   0.887250  0.844272\n",
       "Final               0.849265  0.855996  0.822565   0.892259  0.851882"
      ]
     },
     "metadata": {},
     "execution_count": 74
    }
   ],
   "metadata": {}
  },
  {
   "cell_type": "code",
   "execution_count": 76,
   "source": [
    "df_clean_B_final.tail()"
   ],
   "outputs": [
    {
     "output_type": "execute_result",
     "data": {
      "text/html": [
       "<div>\n",
       "<style scoped>\n",
       "    .dataframe tbody tr th:only-of-type {\n",
       "        vertical-align: middle;\n",
       "    }\n",
       "\n",
       "    .dataframe tbody tr th {\n",
       "        vertical-align: top;\n",
       "    }\n",
       "\n",
       "    .dataframe thead th {\n",
       "        text-align: right;\n",
       "    }\n",
       "</style>\n",
       "<table border=\"1\" class=\"dataframe\">\n",
       "  <thead>\n",
       "    <tr style=\"text-align: right;\">\n",
       "      <th></th>\n",
       "      <th>comment</th>\n",
       "      <th>label</th>\n",
       "      <th>df</th>\n",
       "      <th>cleaned</th>\n",
       "    </tr>\n",
       "  </thead>\n",
       "  <tbody>\n",
       "    <tr>\n",
       "      <th>6340</th>\n",
       "      <td>ෆට්ට ඒත් ඉතින් ඔහේ ඔක්සිජන් ඔනී නැතී සෙට් එකක් ඉන්නවා නේ</td>\n",
       "      <td>0</td>\n",
       "      <td>B</td>\n",
       "      <td>ෆට්ට ඒත් ඉතින් ඔහේ ඔක්සිජ ඔනී නැතී සෙට් එකක් ඉන් නේ</td>\n",
       "    </tr>\n",
       "    <tr>\n",
       "      <th>6341</th>\n",
       "      <td>ෆයිනලි</td>\n",
       "      <td>0</td>\n",
       "      <td>B</td>\n",
       "      <td>ෆයිනලි</td>\n",
       "    </tr>\n",
       "    <tr>\n",
       "      <th>6342</th>\n",
       "      <td>ෆුකෙන් හිනා මේවට...</td>\n",
       "      <td>1</td>\n",
       "      <td>B</td>\n",
       "      <td>ෆු හිනා මේවට</td>\n",
       "    </tr>\n",
       "    <tr>\n",
       "      <th>6343</th>\n",
       "      <td>ෆෝන් එක චාර්ජ් කරගනින්,29%. පට්ට.....</td>\n",
       "      <td>0</td>\n",
       "      <td>B</td>\n",
       "      <td>ෆෝන් එක චාර්ජ කරගන 29 පට්ට</td>\n",
       "    </tr>\n",
       "    <tr>\n",
       "      <th>6344</th>\n",
       "      <td>ෆ්ලෑශ් ටෙලිඩ්‍රාමා එක ඇත්ත තියරියක් වෙන්නත් ඇති.එකම මානයක පුදිගලයින් දෙන්නෙක් විදියට පෙනී සිටීම,නමුත් මෙතන හෝ යන අයගෙන් එක් අයෙකුට එකම මානයක අතීතයට හෝ අනාගතයට යෑමේ හැකියාවත් තියනව..</td>\n",
       "      <td>0</td>\n",
       "      <td>B</td>\n",
       "      <td>ෆ්ලෑශ ටෙලිඩ්‍රාම එක ඇත්ත තියරි වෙන්න ඇති එකම මානයක පුදිගලය දෙන්න විදි පෙනී සිටීම නමුත් මෙතන හෝ යන අ එක් අ එකම මානයක අතීත හෝ අනාගත යෑමේ හැකියා තියනව</td>\n",
       "    </tr>\n",
       "  </tbody>\n",
       "</table>\n",
       "</div>"
      ],
      "text/plain": [
       "                                                                                                                                                                                    comment  \\\n",
       "6340                                                                                                                              ෆට්ට ඒත් ඉතින් ඔහේ ඔක්සිජන් ඔනී නැතී සෙට් එකක් ඉන්නවා නේ    \n",
       "6341                                                                                                                                                                                 ෆයිනලි   \n",
       "6342                                                                                                                                                                    ෆුකෙන් හිනා මේවට...   \n",
       "6343                                                                                                                                                  ෆෝන් එක චාර්ජ් කරගනින්,29%. පට්ට.....   \n",
       "6344  ෆ්ලෑශ් ටෙලිඩ්‍රාමා එක ඇත්ත තියරියක් වෙන්නත් ඇති.එකම මානයක පුදිගලයින් දෙන්නෙක් විදියට පෙනී සිටීම,නමුත් මෙතන හෝ යන අයගෙන් එක් අයෙකුට එකම මානයක අතීතයට හෝ අනාගතයට යෑමේ හැකියාවත් තියනව..   \n",
       "\n",
       "      label df  \\\n",
       "6340      0  B   \n",
       "6341      0  B   \n",
       "6342      1  B   \n",
       "6343      0  B   \n",
       "6344      0  B   \n",
       "\n",
       "                                                                                                                                                  cleaned  \n",
       "6340                                                                                                  ෆට්ට ඒත් ඉතින් ඔහේ ඔක්සිජ ඔනී නැතී සෙට් එකක් ඉන් නේ  \n",
       "6341                                                                                                                                               ෆයිනලි  \n",
       "6342                                                                                                                                         ෆු හිනා මේවට  \n",
       "6343                                                                                                                           ෆෝන් එක චාර්ජ කරගන 29 පට්ට  \n",
       "6344  ෆ්ලෑශ ටෙලිඩ්‍රාම එක ඇත්ත තියරි වෙන්න ඇති එකම මානයක පුදිගලය දෙන්න විදි පෙනී සිටීම නමුත් මෙතන හෝ යන අ එක් අ එකම මානයක අතීත හෝ අනාගත යෑමේ හැකියා තියනව  "
      ]
     },
     "metadata": {},
     "execution_count": 76
    }
   ],
   "metadata": {}
  },
  {
   "cell_type": "markdown",
   "source": [
    "## TODO and optional- Simple Dense deep neural network"
   ],
   "metadata": {}
  },
  {
   "cell_type": "code",
   "execution_count": null,
   "source": [
    "def train_model(model,train_seq,test_seq,Y_train,Y_test):\r\n",
    "  \r\n",
    "  #define callbacks\r\n",
    "  early_stopping = EarlyStopping(monitor='val_loss', min_delta=0.01, patience=5, verbose=1)\r\n",
    "  #callbacks_list = [early_stopping]\r\n",
    "\r\n",
    "  #model training\r\n",
    "  hist = model.fit(train_seq, Y_train, batch_size=batch_size, epochs=num_epochs, callbacks=[early_stopping],validation_split=0.1, shuffle=True, verbose=2)\r\n",
    "  train_loss, train_acc = model.evaluate(train_seq, Y_train,batch_size=batch_size, verbose=1)\r\n",
    "  print(\"train loss - \",train_loss,\" train acc- \",train_acc)\r\n",
    "  test_loss, test_acc = model.evaluate(test_seq,Y_test,batch_size=batch_size, verbose=1)\r\n",
    "  print(\"test loss - \",test_loss,\" test acc- \",test_acc)\r\n",
    "\r\n",
    "  # plot loss during training\r\n",
    "  from matplotlib import pyplot\r\n",
    "  print('Train: %.3f, Test: %.3f' % (train_acc, test_acc))\r\n",
    "  pyplot.subplot(211)\r\n",
    "  pyplot.title('Loss')\r\n",
    "  pyplot.xlabel('Epochs')\r\n",
    "  pyplot.ylabel(\"Cross Entropy Loss\")\r\n",
    "  pyplot.plot(hist.history['loss'],lw=2.0, color='b', label='train')\r\n",
    "  pyplot.plot(hist.history['val_loss'],lw=2.0, color='r', label='validation')\r\n",
    "  pyplot.legend(loc='upper right')\r\n",
    "  # plot accuracy during training\r\n",
    "  pyplot.subplot(212)\r\n",
    "  pyplot.title('Accuracy')\r\n",
    "  pyplot.xlabel('Epochs')\r\n",
    "  pyplot.ylabel('Accuracy')\r\n",
    "  pyplot.plot(hist.history['accuracy'],lw=2.0, color='b', label='train')\r\n",
    "  pyplot.plot(hist.history['val_accuracy'],lw=2.0, color='r', label='validation')\r\n",
    "  pyplot.legend(loc='upper right')\r\n",
    "  pyplot.show()\r\n",
    "  #(model.predict(x) > 0.5).astype(\"int32\")\r\n",
    "  #np.where(y_pred > threshold, 1,0)\r\n",
    "  Y_pred =(model.predict(test_seq) > 0.5).astype(\"int32\")# model.predict_class(test_seq)\r\n",
    "  Y_pred = np.squeeze(Y_pred)\r\n",
    "  print(metrics.classification_report(Y_test,Y_pred))\r\n",
    "  #Y_pred = np.squeeze(Y_pred)\r\n",
    "  utills.confusion_Matrix(Y_test,Y_pred)\r\n",
    "  utills.PlotRocAuc(Y_test,Y_pred,'blue',\"CNN\")\r\n",
    "  return model"
   ],
   "outputs": [],
   "metadata": {}
  },
  {
   "cell_type": "code",
   "execution_count": null,
   "source": [
    "from tensorflow.keras.models import Sequential\r\n",
    "from tensorflow.keras.layers import Dense, Dropout\r\n",
    "from tensorflow.keras.optimizers import RMSprop, Adam\r\n",
    "from tensorflow.keras.callbacks import ModelCheckpoint\r\n",
    "\r\n",
    "batch_size = 32\r\n",
    "epochs = 30\r\n",
    "\r\n",
    "def nn(X_train,y_train):\r\n",
    "    simple_nn = Sequential()\r\n",
    "    simple_nn.add(Dense(150, activation='relu', input_shape=(119,)))\r\n",
    "    simple_nn.add(Dropout(0.2))\r\n",
    "    simple_nn.add(Dense(100, activation='relu'))\r\n",
    "    simple_nn.add(Dropout(0.2))\r\n",
    "    simple_nn.add(Dense(100, activation='relu'))\r\n",
    "    simple_nn.add(Dropout(0.2))\r\n",
    "    simple_nn.add(Dense(1, activation='sigmoid'))\r\n",
    "\r\n",
    "    simple_nn.summary()\r\n",
    "\r\n",
    "    simple_nn.compile(loss='binary_crossentropy',\r\n",
    "                optimizer=Adam(),\r\n",
    "                metrics=['accuracy'])\r\n",
    "\r\n",
    "    # checkpoint = ModelCheckpoint('./saved_models', monitor = 'val_accuracy', verbose = 1, save_best_only=True)\r\n",
    "    # history = simple_nn.fit(train_features.todense(), y_train,\r\n",
    "    #                     batch_size=batch_size,\r\n",
    "    #                     epochs=epochs,\r\n",
    "    #                     verbose=1,\r\n",
    "    #                     callbacks = [checkpoint],\r\n",
    "    #                     validation_data=(test_features.todense(), y_test))\r\n",
    "    return simple_nn"
   ],
   "outputs": [],
   "metadata": {}
  },
  {
   "cell_type": "code",
   "execution_count": null,
   "source": [
    "model_p1 =train_model(simple_nn, train_seq, test_seq, Y_train, Y_test)"
   ],
   "outputs": [],
   "metadata": {}
  },
  {
   "cell_type": "code",
   "execution_count": null,
   "source": [
    "from tensorflow.keras.models import load_model\r\n",
    "\r\n",
    "simple_nn = load_model('./saved_models')\r\n",
    "y_pred_prob = simple_nn.predict(test_features.todense())\r\n",
    "print_model_metrics(y_test, y_pred_prob)"
   ],
   "outputs": [],
   "metadata": {}
  },
  {
   "cell_type": "markdown",
   "source": [
    "### Without any preprocessing"
   ],
   "metadata": {}
  },
  {
   "cell_type": "code",
   "execution_count": null,
   "source": [
    "nn()"
   ],
   "outputs": [],
   "metadata": {}
  },
  {
   "cell_type": "markdown",
   "source": [
    "### With best preprocessing combination"
   ],
   "metadata": {}
  },
  {
   "cell_type": "markdown",
   "source": [
    "nn()"
   ],
   "metadata": {}
  },
  {
   "cell_type": "markdown",
   "source": [
    "## Dataset A and B "
   ],
   "metadata": {}
  },
  {
   "cell_type": "markdown",
   "source": [
    "### Mutual exclusive preproxxessing"
   ],
   "metadata": {}
  },
  {
   "cell_type": "code",
   "execution_count": 77,
   "source": [
    "seperator = url= mention = number = non_sinhala = special_characters= puntuation =  puntuation_special = emoji_remove = stop_word =stem = custom_stem =False\r\n",
    "preprocessing_steps = [seperator, url,mention , number , non_sinhala ,special_characters, puntuation , puntuation_special ,emoji_remove , stop_word, stem,custom_stem ]\r\n",
    "final_result_A_B, df_cleaned_A_B= check_preprocessing(df_A_B)"
   ],
   "outputs": [
    {
     "output_type": "stream",
     "name": "stdout",
     "text": [
      "baseline\n",
      "              precision    recall  f1-score   support\n",
      "\n",
      "           0       0.80      0.88      0.84      2204\n",
      "           1       0.81      0.69      0.75      1640\n",
      "\n",
      "    accuracy                           0.80      3844\n",
      "   macro avg       0.80      0.79      0.79      3844\n",
      "weighted avg       0.80      0.80      0.80      3844\n",
      "\n"
     ]
    },
    {
     "output_type": "display_data",
     "data": {
      "image/png": "[encoded data removed]",
      "text/plain": [
       "<Figure size 432x288 with 1 Axes>"
      ]
     },
     "metadata": {
      "needs_background": "light"
     }
    },
    {
     "output_type": "stream",
     "name": "stdout",
     "text": [
      "seperator\n",
      "seperator\n",
      "              precision    recall  f1-score   support\n",
      "\n",
      "           0       0.81      0.88      0.84      2204\n",
      "           1       0.82      0.71      0.76      1640\n",
      "\n",
      "    accuracy                           0.81      3844\n",
      "   macro avg       0.81      0.80      0.80      3844\n",
      "weighted avg       0.81      0.81      0.81      3844\n",
      "\n"
     ]
    },
    {
     "output_type": "display_data",
     "data": {
      "image/png": "[encoded data removed]",
      "text/plain": [
       "<Figure size 432x288 with 1 Axes>"
      ]
     },
     "metadata": {
      "needs_background": "light"
     }
    },
    {
     "output_type": "stream",
     "name": "stdout",
     "text": [
      "url\n",
      "-url-\n",
      "              precision    recall  f1-score   support\n",
      "\n",
      "           0       0.80      0.88      0.84      2204\n",
      "           1       0.82      0.69      0.75      1640\n",
      "\n",
      "    accuracy                           0.80      3844\n",
      "   macro avg       0.81      0.79      0.79      3844\n",
      "weighted avg       0.80      0.80      0.80      3844\n",
      "\n"
     ]
    },
    {
     "output_type": "display_data",
     "data": {
      "image/png": "[encoded data removed]",
      "text/plain": [
       "<Figure size 432x288 with 1 Axes>"
      ]
     },
     "metadata": {
      "needs_background": "light"
     }
    },
    {
     "output_type": "stream",
     "name": "stdout",
     "text": [
      "mention\n",
      "-mention-\n",
      "              precision    recall  f1-score   support\n",
      "\n",
      "           0       0.80      0.88      0.84      2204\n",
      "           1       0.82      0.70      0.75      1640\n",
      "\n",
      "    accuracy                           0.80      3844\n",
      "   macro avg       0.81      0.79      0.79      3844\n",
      "weighted avg       0.80      0.80      0.80      3844\n",
      "\n"
     ]
    },
    {
     "output_type": "display_data",
     "data": {
      "image/png": "[encoded data removed]",
      "text/plain": [
       "<Figure size 432x288 with 1 Axes>"
      ]
     },
     "metadata": {
      "needs_background": "light"
     }
    },
    {
     "output_type": "stream",
     "name": "stdout",
     "text": [
      "number\n",
      "-number-\n",
      "              precision    recall  f1-score   support\n",
      "\n",
      "           0       0.79      0.88      0.84      2204\n",
      "           1       0.81      0.69      0.75      1640\n",
      "\n",
      "    accuracy                           0.80      3844\n",
      "   macro avg       0.80      0.79      0.79      3844\n",
      "weighted avg       0.80      0.80      0.80      3844\n",
      "\n"
     ]
    },
    {
     "output_type": "display_data",
     "data": {
      "image/png": "[encoded data removed]",
      "text/plain": [
       "<Figure size 432x288 with 1 Axes>"
      ]
     },
     "metadata": {
      "needs_background": "light"
     }
    },
    {
     "output_type": "stream",
     "name": "stdout",
     "text": [
      "non_sinhala\n",
      "-non_sinhala-\n",
      "              precision    recall  f1-score   support\n",
      "\n",
      "           0       0.80      0.88      0.84      2204\n",
      "           1       0.81      0.70      0.75      1640\n",
      "\n",
      "    accuracy                           0.80      3844\n",
      "   macro avg       0.81      0.79      0.79      3844\n",
      "weighted avg       0.80      0.80      0.80      3844\n",
      "\n"
     ]
    },
    {
     "output_type": "display_data",
     "data": {
      "image/png": "[encoded data removed]",
      "text/plain": [
       "<Figure size 432x288 with 1 Axes>"
      ]
     },
     "metadata": {
      "needs_background": "light"
     }
    },
    {
     "output_type": "stream",
     "name": "stdout",
     "text": [
      "special_characters\n",
      "-special charactrer-\n",
      "              precision    recall  f1-score   support\n",
      "\n",
      "           0       0.80      0.88      0.84      2204\n",
      "           1       0.82      0.70      0.75      1640\n",
      "\n",
      "    accuracy                           0.80      3844\n",
      "   macro avg       0.81      0.79      0.79      3844\n",
      "weighted avg       0.80      0.80      0.80      3844\n",
      "\n"
     ]
    },
    {
     "output_type": "display_data",
     "data": {
      "image/png": "[encoded data removed]",
      "text/plain": [
       "<Figure size 432x288 with 1 Axes>"
      ]
     },
     "metadata": {
      "needs_background": "light"
     }
    },
    {
     "output_type": "stream",
     "name": "stdout",
     "text": [
      "puntuation\n",
      "-puntuation-\n",
      "              precision    recall  f1-score   support\n",
      "\n",
      "           0       0.81      0.89      0.85      2204\n",
      "           1       0.83      0.73      0.77      1640\n",
      "\n",
      "    accuracy                           0.82      3844\n",
      "   macro avg       0.82      0.81      0.81      3844\n",
      "weighted avg       0.82      0.82      0.82      3844\n",
      "\n"
     ]
    },
    {
     "output_type": "display_data",
     "data": {
      "image/png": "[encoded data removed]",
      "text/plain": [
       "<Figure size 432x288 with 1 Axes>"
      ]
     },
     "metadata": {
      "needs_background": "light"
     }
    },
    {
     "output_type": "stream",
     "name": "stdout",
     "text": [
      "puntuation_special\n",
      "-puntuation_special-\n",
      "              precision    recall  f1-score   support\n",
      "\n",
      "           0       0.81      0.88      0.85      2204\n",
      "           1       0.82      0.72      0.77      1640\n",
      "\n",
      "    accuracy                           0.82      3844\n",
      "   macro avg       0.82      0.80      0.81      3844\n",
      "weighted avg       0.82      0.82      0.81      3844\n",
      "\n"
     ]
    },
    {
     "output_type": "display_data",
     "data": {
      "image/png": "[encoded data removed]",
      "text/plain": [
       "<Figure size 432x288 with 1 Axes>"
      ]
     },
     "metadata": {
      "needs_background": "light"
     }
    },
    {
     "output_type": "stream",
     "name": "stdout",
     "text": [
      "emoji_remove\n",
      "-emoji remove-\n",
      "              precision    recall  f1-score   support\n",
      "\n",
      "           0       0.79      0.88      0.84      2204\n",
      "           1       0.81      0.69      0.75      1640\n",
      "\n",
      "    accuracy                           0.80      3844\n",
      "   macro avg       0.80      0.79      0.79      3844\n",
      "weighted avg       0.80      0.80      0.80      3844\n",
      "\n"
     ]
    },
    {
     "output_type": "display_data",
     "data": {
      "image/png": "[encoded data removed]",
      "text/plain": [
       "<Figure size 432x288 with 1 Axes>"
      ]
     },
     "metadata": {
      "needs_background": "light"
     }
    },
    {
     "output_type": "stream",
     "name": "stdout",
     "text": [
      "stop_word\n",
      "-stop word-\n",
      "              precision    recall  f1-score   support\n",
      "\n",
      "           0       0.80      0.88      0.84      2204\n",
      "           1       0.82      0.70      0.76      1640\n",
      "\n",
      "    accuracy                           0.81      3844\n",
      "   macro avg       0.81      0.79      0.80      3844\n",
      "weighted avg       0.81      0.81      0.80      3844\n",
      "\n"
     ]
    },
    {
     "output_type": "display_data",
     "data": {
      "image/png": "[encoded data removed]",
      "text/plain": [
       "<Figure size 432x288 with 1 Axes>"
      ]
     },
     "metadata": {
      "needs_background": "light"
     }
    },
    {
     "output_type": "stream",
     "name": "stdout",
     "text": [
      "stem\n",
      "-stem-\n",
      "              precision    recall  f1-score   support\n",
      "\n",
      "           0       0.79      0.87      0.83      2204\n",
      "           1       0.80      0.69      0.74      1640\n",
      "\n",
      "    accuracy                           0.79      3844\n",
      "   macro avg       0.79      0.78      0.78      3844\n",
      "weighted avg       0.79      0.79      0.79      3844\n",
      "\n"
     ]
    },
    {
     "output_type": "display_data",
     "data": {
      "image/png": "[encoded data removed]",
      "text/plain": [
       "<Figure size 432x288 with 1 Axes>"
      ]
     },
     "metadata": {
      "needs_background": "light"
     }
    },
    {
     "output_type": "stream",
     "name": "stdout",
     "text": [
      "custom_stem\n",
      "-custome stemmer-\n",
      "              precision    recall  f1-score   support\n",
      "\n",
      "           0       0.80      0.88      0.84      2204\n",
      "           1       0.82      0.71      0.76      1640\n",
      "\n",
      "    accuracy                           0.81      3844\n",
      "   macro avg       0.81      0.80      0.80      3844\n",
      "weighted avg       0.81      0.81      0.81      3844\n",
      "\n"
     ]
    },
    {
     "output_type": "display_data",
     "data": {
      "image/png": "[encoded data removed]",
      "text/plain": [
       "<Figure size 432x288 with 1 Axes>"
      ]
     },
     "metadata": {
      "needs_background": "light"
     }
    },
    {
     "output_type": "display_data",
     "data": {
      "text/html": [
       "<div>\n",
       "<style scoped>\n",
       "    .dataframe tbody tr th:only-of-type {\n",
       "        vertical-align: middle;\n",
       "    }\n",
       "\n",
       "    .dataframe tbody tr th {\n",
       "        vertical-align: top;\n",
       "    }\n",
       "\n",
       "    .dataframe thead th {\n",
       "        text-align: right;\n",
       "    }\n",
       "</style>\n",
       "<table border=\"1\" class=\"dataframe\">\n",
       "  <thead>\n",
       "    <tr style=\"text-align: right;\">\n",
       "      <th></th>\n",
       "      <th>Accuracy</th>\n",
       "      <th>F1-score</th>\n",
       "      <th>Recall</th>\n",
       "      <th>Precision</th>\n",
       "      <th>AUC</th>\n",
       "    </tr>\n",
       "  </thead>\n",
       "  <tbody>\n",
       "    <tr>\n",
       "      <th>baseline</th>\n",
       "      <td>0.802029</td>\n",
       "      <td>0.749589</td>\n",
       "      <td>0.694512</td>\n",
       "      <td>0.814153</td>\n",
       "      <td>0.788272</td>\n",
       "    </tr>\n",
       "    <tr>\n",
       "      <th>seperator</th>\n",
       "      <td>0.811134</td>\n",
       "      <td>0.763209</td>\n",
       "      <td>0.713415</td>\n",
       "      <td>0.820477</td>\n",
       "      <td>0.798631</td>\n",
       "    </tr>\n",
       "    <tr>\n",
       "      <th>url</th>\n",
       "      <td>0.802549</td>\n",
       "      <td>0.750082</td>\n",
       "      <td>0.694512</td>\n",
       "      <td>0.815319</td>\n",
       "      <td>0.788726</td>\n",
       "    </tr>\n",
       "    <tr>\n",
       "      <th>mention</th>\n",
       "      <td>0.802810</td>\n",
       "      <td>0.750494</td>\n",
       "      <td>0.695122</td>\n",
       "      <td>0.815451</td>\n",
       "      <td>0.789031</td>\n",
       "    </tr>\n",
       "    <tr>\n",
       "      <th>number</th>\n",
       "      <td>0.801249</td>\n",
       "      <td>0.748187</td>\n",
       "      <td>0.692073</td>\n",
       "      <td>0.814204</td>\n",
       "      <td>0.787280</td>\n",
       "    </tr>\n",
       "    <tr>\n",
       "      <th>non_sinhala</th>\n",
       "      <td>0.802549</td>\n",
       "      <td>0.750247</td>\n",
       "      <td>0.695122</td>\n",
       "      <td>0.814868</td>\n",
       "      <td>0.788804</td>\n",
       "    </tr>\n",
       "    <tr>\n",
       "      <th>special_characters</th>\n",
       "      <td>0.802810</td>\n",
       "      <td>0.750494</td>\n",
       "      <td>0.695122</td>\n",
       "      <td>0.815451</td>\n",
       "      <td>0.789031</td>\n",
       "    </tr>\n",
       "    <tr>\n",
       "      <th>puntuation</th>\n",
       "      <td>0.818158</td>\n",
       "      <td>0.773567</td>\n",
       "      <td>0.728049</td>\n",
       "      <td>0.825155</td>\n",
       "      <td>0.806629</td>\n",
       "    </tr>\n",
       "    <tr>\n",
       "      <th>puntuation_special</th>\n",
       "      <td>0.815036</td>\n",
       "      <td>0.769828</td>\n",
       "      <td>0.725000</td>\n",
       "      <td>0.820566</td>\n",
       "      <td>0.803516</td>\n",
       "    </tr>\n",
       "    <tr>\n",
       "      <th>emoji_remove</th>\n",
       "      <td>0.801769</td>\n",
       "      <td>0.748846</td>\n",
       "      <td>0.692683</td>\n",
       "      <td>0.814921</td>\n",
       "      <td>0.787812</td>\n",
       "    </tr>\n",
       "    <tr>\n",
       "      <th>stop_word</th>\n",
       "      <td>0.805931</td>\n",
       "      <td>0.755089</td>\n",
       "      <td>0.701220</td>\n",
       "      <td>0.817923</td>\n",
       "      <td>0.792534</td>\n",
       "    </tr>\n",
       "    <tr>\n",
       "      <th>stem</th>\n",
       "      <td>0.793444</td>\n",
       "      <td>0.740353</td>\n",
       "      <td>0.690244</td>\n",
       "      <td>0.798307</td>\n",
       "      <td>0.780240</td>\n",
       "    </tr>\n",
       "    <tr>\n",
       "      <th>custom_stem</th>\n",
       "      <td>0.808533</td>\n",
       "      <td>0.760417</td>\n",
       "      <td>0.712195</td>\n",
       "      <td>0.815642</td>\n",
       "      <td>0.796206</td>\n",
       "    </tr>\n",
       "  </tbody>\n",
       "</table>\n",
       "</div>"
      ],
      "text/plain": [
       "                    Accuracy  F1-score    Recall  Precision       AUC\n",
       "baseline            0.802029  0.749589  0.694512   0.814153  0.788272\n",
       "seperator           0.811134  0.763209  0.713415   0.820477  0.798631\n",
       "url                 0.802549  0.750082  0.694512   0.815319  0.788726\n",
       "mention             0.802810  0.750494  0.695122   0.815451  0.789031\n",
       "number              0.801249  0.748187  0.692073   0.814204  0.787280\n",
       "non_sinhala         0.802549  0.750247  0.695122   0.814868  0.788804\n",
       "special_characters  0.802810  0.750494  0.695122   0.815451  0.789031\n",
       "puntuation          0.818158  0.773567  0.728049   0.825155  0.806629\n",
       "puntuation_special  0.815036  0.769828  0.725000   0.820566  0.803516\n",
       "emoji_remove        0.801769  0.748846  0.692683   0.814921  0.787812\n",
       "stop_word           0.805931  0.755089  0.701220   0.817923  0.792534\n",
       "stem                0.793444  0.740353  0.690244   0.798307  0.780240\n",
       "custom_stem         0.808533  0.760417  0.712195   0.815642  0.796206"
      ]
     },
     "metadata": {}
    }
   ],
   "metadata": {}
  },
  {
   "cell_type": "markdown",
   "source": [
    "### Best combinations"
   ],
   "metadata": {}
  },
  {
   "cell_type": "code",
   "execution_count": 78,
   "source": [
    "seperator = url= mention = number = non_sinhala = special_characters= puntuation =  puntuation_special = emoji_remove = stop_word =stem = custom_stem =False\r\n",
    "preprocessing_steps = [True, True,True , number , True ,True, puntuation , True ,True, stop_word, stem,True ]\r\n",
    "df_clean_A_B_final = preprocessor(df_A_B,'comment',*preprocessing_steps)\r\n",
    "X_train, X_test, Y_train, Y_test = train_test_split(df_clean_A_B_final['cleaned'], df_clean_A_B_final['label'], test_size=0.3, random_state=0, stratify=df_clean_A_B_final['label'].values)\r\n",
    "X_train_f,X_test_f = bow_word(X_train,X_test)\r\n",
    "Y_pred = lr(X_train_f,X_test_f,Y_train)\r\n",
    "accuracy, f1_score, recall, precision, auc = utills.result(Y_test,Y_pred)\r\n",
    "final_result_A_B.loc[\"Final\"] = [accuracy, f1_score, recall, precision, auc]"
   ],
   "outputs": [
    {
     "output_type": "stream",
     "name": "stdout",
     "text": [
      "seperator\n",
      "-url-\n",
      "-mention-\n",
      "-non_sinhala-\n",
      "-special charactrer-\n",
      "-puntuation_special-\n",
      "-emoji remove-\n",
      "-custome stemmer-\n",
      "              precision    recall  f1-score   support\n",
      "\n",
      "           0       0.82      0.89      0.85      2204\n",
      "           1       0.83      0.74      0.78      1640\n",
      "\n",
      "    accuracy                           0.83      3844\n",
      "   macro avg       0.83      0.82      0.82      3844\n",
      "weighted avg       0.83      0.83      0.82      3844\n",
      "\n"
     ]
    },
    {
     "output_type": "display_data",
     "data": {
      "image/png": "[encoded data removed]",
      "text/plain": [
       "<Figure size 432x288 with 1 Axes>"
      ]
     },
     "metadata": {
      "needs_background": "light"
     }
    }
   ],
   "metadata": {}
  },
  {
   "cell_type": "code",
   "execution_count": 80,
   "source": [
    "final_result_A_B"
   ],
   "outputs": [
    {
     "output_type": "execute_result",
     "data": {
      "text/html": [
       "<div>\n",
       "<style scoped>\n",
       "    .dataframe tbody tr th:only-of-type {\n",
       "        vertical-align: middle;\n",
       "    }\n",
       "\n",
       "    .dataframe tbody tr th {\n",
       "        vertical-align: top;\n",
       "    }\n",
       "\n",
       "    .dataframe thead th {\n",
       "        text-align: right;\n",
       "    }\n",
       "</style>\n",
       "<table border=\"1\" class=\"dataframe\">\n",
       "  <thead>\n",
       "    <tr style=\"text-align: right;\">\n",
       "      <th></th>\n",
       "      <th>Accuracy</th>\n",
       "      <th>F1-score</th>\n",
       "      <th>Recall</th>\n",
       "      <th>Precision</th>\n",
       "      <th>AUC</th>\n",
       "    </tr>\n",
       "  </thead>\n",
       "  <tbody>\n",
       "    <tr>\n",
       "      <th>baseline</th>\n",
       "      <td>0.802029</td>\n",
       "      <td>0.749589</td>\n",
       "      <td>0.694512</td>\n",
       "      <td>0.814153</td>\n",
       "      <td>0.788272</td>\n",
       "    </tr>\n",
       "    <tr>\n",
       "      <th>seperator</th>\n",
       "      <td>0.811134</td>\n",
       "      <td>0.763209</td>\n",
       "      <td>0.713415</td>\n",
       "      <td>0.820477</td>\n",
       "      <td>0.798631</td>\n",
       "    </tr>\n",
       "    <tr>\n",
       "      <th>url</th>\n",
       "      <td>0.802549</td>\n",
       "      <td>0.750082</td>\n",
       "      <td>0.694512</td>\n",
       "      <td>0.815319</td>\n",
       "      <td>0.788726</td>\n",
       "    </tr>\n",
       "    <tr>\n",
       "      <th>mention</th>\n",
       "      <td>0.802810</td>\n",
       "      <td>0.750494</td>\n",
       "      <td>0.695122</td>\n",
       "      <td>0.815451</td>\n",
       "      <td>0.789031</td>\n",
       "    </tr>\n",
       "    <tr>\n",
       "      <th>number</th>\n",
       "      <td>0.801249</td>\n",
       "      <td>0.748187</td>\n",
       "      <td>0.692073</td>\n",
       "      <td>0.814204</td>\n",
       "      <td>0.787280</td>\n",
       "    </tr>\n",
       "    <tr>\n",
       "      <th>non_sinhala</th>\n",
       "      <td>0.802549</td>\n",
       "      <td>0.750247</td>\n",
       "      <td>0.695122</td>\n",
       "      <td>0.814868</td>\n",
       "      <td>0.788804</td>\n",
       "    </tr>\n",
       "    <tr>\n",
       "      <th>special_characters</th>\n",
       "      <td>0.802810</td>\n",
       "      <td>0.750494</td>\n",
       "      <td>0.695122</td>\n",
       "      <td>0.815451</td>\n",
       "      <td>0.789031</td>\n",
       "    </tr>\n",
       "    <tr>\n",
       "      <th>puntuation</th>\n",
       "      <td>0.818158</td>\n",
       "      <td>0.773567</td>\n",
       "      <td>0.728049</td>\n",
       "      <td>0.825155</td>\n",
       "      <td>0.806629</td>\n",
       "    </tr>\n",
       "    <tr>\n",
       "      <th>puntuation_special</th>\n",
       "      <td>0.815036</td>\n",
       "      <td>0.769828</td>\n",
       "      <td>0.725000</td>\n",
       "      <td>0.820566</td>\n",
       "      <td>0.803516</td>\n",
       "    </tr>\n",
       "    <tr>\n",
       "      <th>emoji_remove</th>\n",
       "      <td>0.801769</td>\n",
       "      <td>0.748846</td>\n",
       "      <td>0.692683</td>\n",
       "      <td>0.814921</td>\n",
       "      <td>0.787812</td>\n",
       "    </tr>\n",
       "    <tr>\n",
       "      <th>stop_word</th>\n",
       "      <td>0.805931</td>\n",
       "      <td>0.755089</td>\n",
       "      <td>0.701220</td>\n",
       "      <td>0.817923</td>\n",
       "      <td>0.792534</td>\n",
       "    </tr>\n",
       "    <tr>\n",
       "      <th>stem</th>\n",
       "      <td>0.793444</td>\n",
       "      <td>0.740353</td>\n",
       "      <td>0.690244</td>\n",
       "      <td>0.798307</td>\n",
       "      <td>0.780240</td>\n",
       "    </tr>\n",
       "    <tr>\n",
       "      <th>custom_stem</th>\n",
       "      <td>0.808533</td>\n",
       "      <td>0.760417</td>\n",
       "      <td>0.712195</td>\n",
       "      <td>0.815642</td>\n",
       "      <td>0.796206</td>\n",
       "    </tr>\n",
       "    <tr>\n",
       "      <th>Final</th>\n",
       "      <td>0.826483</td>\n",
       "      <td>0.784908</td>\n",
       "      <td>0.742073</td>\n",
       "      <td>0.832991</td>\n",
       "      <td>0.815683</td>\n",
       "    </tr>\n",
       "  </tbody>\n",
       "</table>\n",
       "</div>"
      ],
      "text/plain": [
       "                    Accuracy  F1-score    Recall  Precision       AUC\n",
       "baseline            0.802029  0.749589  0.694512   0.814153  0.788272\n",
       "seperator           0.811134  0.763209  0.713415   0.820477  0.798631\n",
       "url                 0.802549  0.750082  0.694512   0.815319  0.788726\n",
       "mention             0.802810  0.750494  0.695122   0.815451  0.789031\n",
       "number              0.801249  0.748187  0.692073   0.814204  0.787280\n",
       "non_sinhala         0.802549  0.750247  0.695122   0.814868  0.788804\n",
       "special_characters  0.802810  0.750494  0.695122   0.815451  0.789031\n",
       "puntuation          0.818158  0.773567  0.728049   0.825155  0.806629\n",
       "puntuation_special  0.815036  0.769828  0.725000   0.820566  0.803516\n",
       "emoji_remove        0.801769  0.748846  0.692683   0.814921  0.787812\n",
       "stop_word           0.805931  0.755089  0.701220   0.817923  0.792534\n",
       "stem                0.793444  0.740353  0.690244   0.798307  0.780240\n",
       "custom_stem         0.808533  0.760417  0.712195   0.815642  0.796206\n",
       "Final               0.826483  0.784908  0.742073   0.832991  0.815683"
      ]
     },
     "metadata": {},
     "execution_count": 80
    }
   ],
   "metadata": {}
  },
  {
   "cell_type": "code",
   "execution_count": 82,
   "source": [
    "df_clean_A_B_final.head()"
   ],
   "outputs": [
    {
     "output_type": "execute_result",
     "data": {
      "text/html": [
       "<div>\n",
       "<style scoped>\n",
       "    .dataframe tbody tr th:only-of-type {\n",
       "        vertical-align: middle;\n",
       "    }\n",
       "\n",
       "    .dataframe tbody tr th {\n",
       "        vertical-align: top;\n",
       "    }\n",
       "\n",
       "    .dataframe thead th {\n",
       "        text-align: right;\n",
       "    }\n",
       "</style>\n",
       "<table border=\"1\" class=\"dataframe\">\n",
       "  <thead>\n",
       "    <tr style=\"text-align: right;\">\n",
       "      <th></th>\n",
       "      <th>comment</th>\n",
       "      <th>label</th>\n",
       "      <th>df</th>\n",
       "      <th>cleaned</th>\n",
       "    </tr>\n",
       "  </thead>\n",
       "  <tbody>\n",
       "    <tr>\n",
       "      <th>0</th>\n",
       "      <td>මේ වේසිට නීතිය ක්‍රියාත්මක වෙන්නෙ කවදාද ?</td>\n",
       "      <td>1</td>\n",
       "      <td>A</td>\n",
       "      <td>මේ වේසිට නීතිය ක්‍රියාත් වෙ කවදාද ?</td>\n",
       "    </tr>\n",
       "    <tr>\n",
       "      <th>1</th>\n",
       "      <td>තූ ෙනදකින්</td>\n",
       "      <td>1</td>\n",
       "      <td>A</td>\n",
       "      <td>තූ ෙනද</td>\n",
       "    </tr>\n",
       "    <tr>\n",
       "      <th>2</th>\n",
       "      <td>අම්මා ලුසීඩා කියුවම මට හිතෙන්නම ෆලූඩා කියලා. හිකිස්. ඔව් ඔව් තරුණ වයසේ ගෑණු ළමයි විවිඪ රට වලින් ආශ්‍රය කලාට කමක් නෑ. ලෙඩක් කාරියේ හදා ගත්තම තේරෙයි අප්පගේ ආදර බර පුතාට​.</td>\n",
       "      <td>0</td>\n",
       "      <td>A</td>\n",
       "      <td>අම්මා ලුසීඩ කියුව මට හිතෙන්න ෆලූඩා කියලා හිකිස ඔව් ඔව් තරුණ වයසේ ගෑණු ළමයි විවිඪ රට වලින් ආශ්‍ර කලාට කමක් නෑ ලෙඩක් කාරි හදා ගත්තම තේරෙ අප්ප ආදර බර පුතාට</td>\n",
       "    </tr>\n",
       "    <tr>\n",
       "      <th>3</th>\n",
       "      <td>දින ඒකාබද්ධ විපක්ෂයේ මාධ්‍ය ලේකම් රේණුක පෙරේරා මහතාගේ නිවේදනයට අදාාලව අමිත් වීරසිංහ කල මාධ්‍ය සාකච්ඡාව..…</td>\n",
       "      <td>0</td>\n",
       "      <td>A</td>\n",
       "      <td>දින ඒකාබද්ධ විපක්ෂ මාධ්‍ ලේකම් රේණුක පෙරේර මහත නිවේදන අදාාල අමිත් වීරසිංහ කල මාධ්‍ සාකච්ඡා</td>\n",
       "    </tr>\n",
       "    <tr>\n",
       "      <th>4</th>\n",
       "      <td>පූදින්ෙන නැතුව ඉදිං</td>\n",
       "      <td>1</td>\n",
       "      <td>A</td>\n",
       "      <td>පූදින්ෙ නැතුව ඉදිං</td>\n",
       "    </tr>\n",
       "  </tbody>\n",
       "</table>\n",
       "</div>"
      ],
      "text/plain": [
       "                                                                                                                                                                    comment  \\\n",
       "0                                                                                                                                 මේ වේසිට නීතිය ක්‍රියාත්මක වෙන්නෙ කවදාද ?   \n",
       "1                                                                                                                                                                තූ ෙනදකින්   \n",
       "2  අම්මා ලුසීඩා කියුවම මට හිතෙන්නම ෆලූඩා කියලා. හිකිස්. ඔව් ඔව් තරුණ වයසේ ගෑණු ළමයි විවිඪ රට වලින් ආශ්‍රය කලාට කමක් නෑ. ලෙඩක් කාරියේ හදා ගත්තම තේරෙයි අප්පගේ ආදර බර පුතාට​.   \n",
       "3                                                                 දින ඒකාබද්ධ විපක්ෂයේ මාධ්‍ය ලේකම් රේණුක පෙරේරා මහතාගේ නිවේදනයට අදාාලව අමිත් වීරසිංහ කල මාධ්‍ය සාකච්ඡාව..…   \n",
       "4                                                                                                                                                       පූදින්ෙන නැතුව ඉදිං   \n",
       "\n",
       "   label df  \\\n",
       "0      1  A   \n",
       "1      1  A   \n",
       "2      0  A   \n",
       "3      0  A   \n",
       "4      1  A   \n",
       "\n",
       "                                                                                                                                                    cleaned  \n",
       "0                                                                                                                       මේ වේසිට නීතිය ක්‍රියාත් වෙ කවදාද ?  \n",
       "1                                                                                                                                                    තූ ෙනද  \n",
       "2  අම්මා ලුසීඩ කියුව මට හිතෙන්න ෆලූඩා කියලා හිකිස ඔව් ඔව් තරුණ වයසේ ගෑණු ළමයි විවිඪ රට වලින් ආශ්‍ර කලාට කමක් නෑ ලෙඩක් කාරි හදා ගත්තම තේරෙ අප්ප ආදර බර පුතාට  \n",
       "3                                                                දින ඒකාබද්ධ විපක්ෂ මාධ්‍ ලේකම් රේණුක පෙරේර මහත නිවේදන අදාාල අමිත් වීරසිංහ කල මාධ්‍ සාකච්ඡා  \n",
       "4                                                                                                                                        පූදින්ෙ නැතුව ඉදිං  "
      ]
     },
     "metadata": {},
     "execution_count": 82
    }
   ],
   "metadata": {}
  },
  {
   "cell_type": "markdown",
   "source": [
    "## Save best combination of preprocessed datasets df_A,df_B,df_A_B,df_all"
   ],
   "metadata": {}
  },
  {
   "cell_type": "code",
   "execution_count": 84,
   "source": [
    "# dataset name list\r\n",
    "import os\r\n",
    "folder_path = 'G:\\\\Github\\\\Sinhala-Hate-Speech-Detection\\\\Datasets\\\\processed\\\\preprocessing\\\\'\r\n",
    "df_dict = {'df_A': df_clean_A_final,'df_B': df_clean_B_final,'df_A_B' :df_clean_A_B_final}\r\n",
    "for name,df in df_dict.items():\r\n",
    "    print(os.path.join(folder_path,f'{name}.csv'))\r\n",
    "    df.to_csv(os.path.join(folder_path,f'{name}.csv'), index=False)"
   ],
   "outputs": [
    {
     "output_type": "stream",
     "name": "stdout",
     "text": [
      "G:\\Github\\Sinhala-Hate-Speech-Detection\\Datasets\\processed\\preprocessing\\df_A.csv\n",
      "G:\\Github\\Sinhala-Hate-Speech-Detection\\Datasets\\processed\\preprocessing\\df_B.csv\n",
      "G:\\Github\\Sinhala-Hate-Speech-Detection\\Datasets\\processed\\preprocessing\\df_A_B.csv\n"
     ]
    }
   ],
   "metadata": {}
  }
 ],
 "metadata": {
  "orig_nbformat": 4,
  "language_info": {
   "name": "python",
   "version": "3.7.6",
   "mimetype": "text/x-python",
   "codemirror_mode": {
    "name": "ipython",
    "version": 3
   },
   "pygments_lexer": "ipython3",
   "nbconvert_exporter": "python",
   "file_extension": ".py"
  },
  "kernelspec": {
   "name": "python3",
   "display_name": "Python 3.7.6 64-bit ('base': conda)"
  },
  "interpreter": {
   "hash": "fbbb7d2143a1d68e1cf272edf0974e702b621cb99b4ee39ce84db3bf0ffb588e"
  }
 },
 "nbformat": 4,
 "nbformat_minor": 2
}