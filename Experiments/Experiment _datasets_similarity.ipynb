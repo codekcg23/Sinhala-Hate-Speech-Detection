{
 "cells": [
  {
   "cell_type": "code",
   "execution_count": null,
   "source": [
    "from sklearn.metrics.pairwise import cosine_similarity\r\n",
    "def get_cosine_similarity(feature_vec_1, feature_vec_2):    \r\n",
    "    return cosine_similarity(feature_vec_1.reshape(1, -1), feature_vec_2.reshape(1, -1))[0][0]"
   ],
   "outputs": [],
   "metadata": {}
  },
  {
   "cell_type": "code",
   "execution_count": null,
   "source": [
    "import numpy as np\r\n",
    "from scipy import spatial\r\n",
    "\r\n",
    "index2word_set = set(model.wv.index2word)\r\n",
    "\r\n",
    "def avg_feature_vector(sentence, model, num_features, index2word_set):\r\n",
    "    words = sentence.split()\r\n",
    "    feature_vec = np.zeros((num_features, ), dtype='float32')\r\n",
    "    n_words = 0\r\n",
    "    for word in words:\r\n",
    "        if word in index2word_set:\r\n",
    "            n_words += 1\r\n",
    "            feature_vec = np.add(feature_vec, model[word])\r\n",
    "    if (n_words > 0):\r\n",
    "        feature_vec = np.divide(feature_vec, n_words)\r\n",
    "    return feature_vec"
   ],
   "outputs": [],
   "metadata": {}
  },
  {
   "cell_type": "code",
   "execution_count": null,
   "source": [
    "s1_afv = avg_feature_vector('this is a sentence', model=model, num_features=300, index2word_set=index2word_set)\r\n",
    "s2_afv = avg_feature_vector('this is also sentence', model=model, num_features=300, index2word_set=index2word_set)\r\n",
    "sim = 1 - spatial.distance.cosine(s1_afv, s2_afv)\r\n",
    "print(sim)"
   ],
   "outputs": [],
   "metadata": {}
  },
  {
   "cell_type": "code",
   "execution_count": null,
   "source": [
    "from sklearn.feature_extraction.text import TfidfVectorizer\r\n",
    "\r\n",
    "tv = TfidfVectorizer(min_df=0., max_df=1., use_idf=True)\r\n",
    "tv_matrix = tv.fit_transform(norm_corpus)\r\n",
    "tv_matrix = tv_matrix.toarray()\r\n",
    "\r\n",
    "vocab = tv.get_feature_names()\r\n",
    "pd.DataFrame(np.round(tv_matrix, 2), columns=vocab)"
   ],
   "outputs": [],
   "metadata": {}
  },
  {
   "cell_type": "code",
   "execution_count": null,
   "source": [
    "from sklearn.metrics.pairwise import cosine_similarity\r\n",
    "\r\n",
    "similarity_matrix = cosine_similarity(tv_matrix)\r\n",
    "similarity_df = pd.DataFrame(similarity_matrix)\r\n",
    "similarity_df"
   ],
   "outputs": [],
   "metadata": {}
  },
  {
   "cell_type": "code",
   "execution_count": null,
   "source": [
    "from scipy.cluster.hierarchy import dendrogram, linkage\r\n",
    "\r\n",
    "Z = linkage(similarity_matrix, 'ward')\r\n",
    "pd.DataFrame(Z, columns=['Document\\Cluster 1', 'Document\\Cluster 2', \r\n",
    "                         'Distance', 'Cluster Size'], dtype='object')"
   ],
   "outputs": [],
   "metadata": {}
  },
  {
   "cell_type": "code",
   "execution_count": null,
   "source": [
    "plt.figure(figsize=(8, 3))\r\n",
    "plt.title('Hierarchical Clustering Dendrogram')\r\n",
    "plt.xlabel('Data point')\r\n",
    "plt.ylabel('Distance')\r\n",
    "dendrogram(Z)\r\n",
    "plt.axhline(y=1.0, c='k', ls='--', lw=0.5"
   ],
   "outputs": [],
   "metadata": {}
  },
  {
   "cell_type": "code",
   "execution_count": null,
   "source": [
    "from scipy.cluster.hierarchy import fcluster\r\n",
    "max_dist = 1.0\r\n",
    "\r\n",
    "cluster_labels = fcluster(Z, max_dist, criterion='distance')\r\n",
    "cluster_labels = pd.DataFrame(cluster_labels, columns=['ClusterLabel'])\r\n",
    "pd.concat([corpus_df, cluster_labels], axis=1)"
   ],
   "outputs": [],
   "metadata": {}
  }
 ],
 "metadata": {
  "orig_nbformat": 4,
  "language_info": {
   "name": "python"
  }
 },
 "nbformat": 4,
 "nbformat_minor": 2
}